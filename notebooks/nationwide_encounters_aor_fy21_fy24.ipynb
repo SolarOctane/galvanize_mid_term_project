{
 "cells": [
  {
   "cell_type": "code",
   "execution_count": 2,
   "id": "bf754924",
   "metadata": {},
   "outputs": [],
   "source": [
    "# Libraries\n",
    "\n",
    "import pandas as pd\n",
    "import numpy as np\n",
    "import matplotlib.pyplot as plt\n",
    "import seaborn as sns\n",
    "import matplotlib as mpl\n",
    "import matplotlib.ticker as mticker\n",
    "import matplotlib.dates as mdates\n",
    "import matplotlib\n",
    "\n",
    "\n"
   ]
  },
  {
   "cell_type": "code",
   "execution_count": 3,
   "id": "6e2dc502",
   "metadata": {},
   "outputs": [
    {
     "data": {
      "text/html": [
       "<div>\n",
       "<style scoped>\n",
       "    .dataframe tbody tr th:only-of-type {\n",
       "        vertical-align: middle;\n",
       "    }\n",
       "\n",
       "    .dataframe tbody tr th {\n",
       "        vertical-align: top;\n",
       "    }\n",
       "\n",
       "    .dataframe thead th {\n",
       "        text-align: right;\n",
       "    }\n",
       "</style>\n",
       "<table border=\"1\" class=\"dataframe\">\n",
       "  <thead>\n",
       "    <tr style=\"text-align: right;\">\n",
       "      <th></th>\n",
       "      <th>Fiscal Year</th>\n",
       "      <th>Month Grouping</th>\n",
       "      <th>Month (abbv)</th>\n",
       "      <th>Component</th>\n",
       "      <th>Land Border Region</th>\n",
       "      <th>Area of Responsibility</th>\n",
       "      <th>AOR (Abbv)</th>\n",
       "      <th>Demographic</th>\n",
       "      <th>Citizenship</th>\n",
       "      <th>Title of Authority</th>\n",
       "      <th>Encounter Type</th>\n",
       "      <th>Encounter Count</th>\n",
       "    </tr>\n",
       "  </thead>\n",
       "  <tbody>\n",
       "    <tr>\n",
       "      <th>0</th>\n",
       "      <td>2021</td>\n",
       "      <td>FYTD</td>\n",
       "      <td>APR</td>\n",
       "      <td>Office of Field Operations</td>\n",
       "      <td>Northern Land Border</td>\n",
       "      <td>Boston Field Office</td>\n",
       "      <td>Boston</td>\n",
       "      <td>Accompanied Minors</td>\n",
       "      <td>CANADA</td>\n",
       "      <td>Title 8</td>\n",
       "      <td>Inadmissibles</td>\n",
       "      <td>3</td>\n",
       "    </tr>\n",
       "    <tr>\n",
       "      <th>1</th>\n",
       "      <td>2021</td>\n",
       "      <td>FYTD</td>\n",
       "      <td>APR</td>\n",
       "      <td>Office of Field Operations</td>\n",
       "      <td>Northern Land Border</td>\n",
       "      <td>Boston Field Office</td>\n",
       "      <td>Boston</td>\n",
       "      <td>Accompanied Minors</td>\n",
       "      <td>MEXICO</td>\n",
       "      <td>Title 42</td>\n",
       "      <td>Expulsions</td>\n",
       "      <td>2</td>\n",
       "    </tr>\n",
       "    <tr>\n",
       "      <th>2</th>\n",
       "      <td>2021</td>\n",
       "      <td>FYTD</td>\n",
       "      <td>APR</td>\n",
       "      <td>Office of Field Operations</td>\n",
       "      <td>Northern Land Border</td>\n",
       "      <td>Boston Field Office</td>\n",
       "      <td>Boston</td>\n",
       "      <td>Accompanied Minors</td>\n",
       "      <td>OTHER</td>\n",
       "      <td>Title 42</td>\n",
       "      <td>Expulsions</td>\n",
       "      <td>6</td>\n",
       "    </tr>\n",
       "    <tr>\n",
       "      <th>3</th>\n",
       "      <td>2021</td>\n",
       "      <td>FYTD</td>\n",
       "      <td>APR</td>\n",
       "      <td>Office of Field Operations</td>\n",
       "      <td>Northern Land Border</td>\n",
       "      <td>Boston Field Office</td>\n",
       "      <td>Boston</td>\n",
       "      <td>Single Adults</td>\n",
       "      <td>CANADA</td>\n",
       "      <td>Title 42</td>\n",
       "      <td>Expulsions</td>\n",
       "      <td>11</td>\n",
       "    </tr>\n",
       "    <tr>\n",
       "      <th>4</th>\n",
       "      <td>2021</td>\n",
       "      <td>FYTD</td>\n",
       "      <td>APR</td>\n",
       "      <td>Office of Field Operations</td>\n",
       "      <td>Northern Land Border</td>\n",
       "      <td>Boston Field Office</td>\n",
       "      <td>Boston</td>\n",
       "      <td>Single Adults</td>\n",
       "      <td>CANADA</td>\n",
       "      <td>Title 8</td>\n",
       "      <td>Inadmissibles</td>\n",
       "      <td>40</td>\n",
       "    </tr>\n",
       "    <tr>\n",
       "      <th>...</th>\n",
       "      <td>...</td>\n",
       "      <td>...</td>\n",
       "      <td>...</td>\n",
       "      <td>...</td>\n",
       "      <td>...</td>\n",
       "      <td>...</td>\n",
       "      <td>...</td>\n",
       "      <td>...</td>\n",
       "      <td>...</td>\n",
       "      <td>...</td>\n",
       "      <td>...</td>\n",
       "      <td>...</td>\n",
       "    </tr>\n",
       "    <tr>\n",
       "      <th>58739</th>\n",
       "      <td>2024</td>\n",
       "      <td>FYTD</td>\n",
       "      <td>SEP</td>\n",
       "      <td>U.S. Border Patrol</td>\n",
       "      <td>Southwest Land Border</td>\n",
       "      <td>Yuma Sector</td>\n",
       "      <td>YUM</td>\n",
       "      <td>UC / Single Minors</td>\n",
       "      <td>GUATEMALA</td>\n",
       "      <td>Title 8</td>\n",
       "      <td>Apprehensions</td>\n",
       "      <td>27</td>\n",
       "    </tr>\n",
       "    <tr>\n",
       "      <th>58740</th>\n",
       "      <td>2024</td>\n",
       "      <td>FYTD</td>\n",
       "      <td>SEP</td>\n",
       "      <td>U.S. Border Patrol</td>\n",
       "      <td>Southwest Land Border</td>\n",
       "      <td>Yuma Sector</td>\n",
       "      <td>YUM</td>\n",
       "      <td>UC / Single Minors</td>\n",
       "      <td>MEXICO</td>\n",
       "      <td>Title 8</td>\n",
       "      <td>Apprehensions</td>\n",
       "      <td>76</td>\n",
       "    </tr>\n",
       "    <tr>\n",
       "      <th>58741</th>\n",
       "      <td>2024</td>\n",
       "      <td>FYTD</td>\n",
       "      <td>SEP</td>\n",
       "      <td>U.S. Border Patrol</td>\n",
       "      <td>Southwest Land Border</td>\n",
       "      <td>Yuma Sector</td>\n",
       "      <td>YUM</td>\n",
       "      <td>UC / Single Minors</td>\n",
       "      <td>OTHER</td>\n",
       "      <td>Title 8</td>\n",
       "      <td>Apprehensions</td>\n",
       "      <td>4</td>\n",
       "    </tr>\n",
       "    <tr>\n",
       "      <th>58742</th>\n",
       "      <td>2024</td>\n",
       "      <td>FYTD</td>\n",
       "      <td>SEP</td>\n",
       "      <td>U.S. Border Patrol</td>\n",
       "      <td>Southwest Land Border</td>\n",
       "      <td>Yuma Sector</td>\n",
       "      <td>YUM</td>\n",
       "      <td>UC / Single Minors</td>\n",
       "      <td>RUSSIA</td>\n",
       "      <td>Title 8</td>\n",
       "      <td>Apprehensions</td>\n",
       "      <td>1</td>\n",
       "    </tr>\n",
       "    <tr>\n",
       "      <th>58743</th>\n",
       "      <td>2024</td>\n",
       "      <td>FYTD</td>\n",
       "      <td>SEP</td>\n",
       "      <td>U.S. Border Patrol</td>\n",
       "      <td>Southwest Land Border</td>\n",
       "      <td>Yuma Sector</td>\n",
       "      <td>YUM</td>\n",
       "      <td>UC / Single Minors</td>\n",
       "      <td>VENEZUELA</td>\n",
       "      <td>Title 8</td>\n",
       "      <td>Apprehensions</td>\n",
       "      <td>3</td>\n",
       "    </tr>\n",
       "  </tbody>\n",
       "</table>\n",
       "<p>58744 rows × 12 columns</p>\n",
       "</div>"
      ],
      "text/plain": [
       "       Fiscal Year Month Grouping Month (abbv)                   Component  \\\n",
       "0             2021           FYTD          APR  Office of Field Operations   \n",
       "1             2021           FYTD          APR  Office of Field Operations   \n",
       "2             2021           FYTD          APR  Office of Field Operations   \n",
       "3             2021           FYTD          APR  Office of Field Operations   \n",
       "4             2021           FYTD          APR  Office of Field Operations   \n",
       "...            ...            ...          ...                         ...   \n",
       "58739         2024           FYTD          SEP          U.S. Border Patrol   \n",
       "58740         2024           FYTD          SEP          U.S. Border Patrol   \n",
       "58741         2024           FYTD          SEP          U.S. Border Patrol   \n",
       "58742         2024           FYTD          SEP          U.S. Border Patrol   \n",
       "58743         2024           FYTD          SEP          U.S. Border Patrol   \n",
       "\n",
       "          Land Border Region Area of Responsibility AOR (Abbv)  \\\n",
       "0       Northern Land Border    Boston Field Office     Boston   \n",
       "1       Northern Land Border    Boston Field Office     Boston   \n",
       "2       Northern Land Border    Boston Field Office     Boston   \n",
       "3       Northern Land Border    Boston Field Office     Boston   \n",
       "4       Northern Land Border    Boston Field Office     Boston   \n",
       "...                      ...                    ...        ...   \n",
       "58739  Southwest Land Border            Yuma Sector        YUM   \n",
       "58740  Southwest Land Border            Yuma Sector        YUM   \n",
       "58741  Southwest Land Border            Yuma Sector        YUM   \n",
       "58742  Southwest Land Border            Yuma Sector        YUM   \n",
       "58743  Southwest Land Border            Yuma Sector        YUM   \n",
       "\n",
       "              Demographic Citizenship Title of Authority Encounter Type  \\\n",
       "0      Accompanied Minors      CANADA            Title 8  Inadmissibles   \n",
       "1      Accompanied Minors      MEXICO           Title 42     Expulsions   \n",
       "2      Accompanied Minors       OTHER           Title 42     Expulsions   \n",
       "3           Single Adults      CANADA           Title 42     Expulsions   \n",
       "4           Single Adults      CANADA            Title 8  Inadmissibles   \n",
       "...                   ...         ...                ...            ...   \n",
       "58739  UC / Single Minors   GUATEMALA            Title 8  Apprehensions   \n",
       "58740  UC / Single Minors      MEXICO            Title 8  Apprehensions   \n",
       "58741  UC / Single Minors       OTHER            Title 8  Apprehensions   \n",
       "58742  UC / Single Minors      RUSSIA            Title 8  Apprehensions   \n",
       "58743  UC / Single Minors   VENEZUELA            Title 8  Apprehensions   \n",
       "\n",
       "       Encounter Count  \n",
       "0                    3  \n",
       "1                    2  \n",
       "2                    6  \n",
       "3                   11  \n",
       "4                   40  \n",
       "...                ...  \n",
       "58739               27  \n",
       "58740               76  \n",
       "58741                4  \n",
       "58742                1  \n",
       "58743                3  \n",
       "\n",
       "[58744 rows x 12 columns]"
      ]
     },
     "execution_count": 3,
     "metadata": {},
     "output_type": "execute_result"
    }
   ],
   "source": [
    "# Pandas Dataframe\n",
    "\n",
    "encounters_aor_df = pd.read_csv('.venv/nationwide-encounters-fy21-fy24-aor.csv')\n",
    "encounters_aor_df"
   ]
  },
  {
   "cell_type": "code",
   "execution_count": 4,
   "id": "19b976b9",
   "metadata": {},
   "outputs": [
    {
     "name": "stdout",
     "output_type": "stream",
     "text": [
      "<class 'pandas.core.frame.DataFrame'>\n",
      "RangeIndex: 58744 entries, 0 to 58743\n",
      "Data columns (total 12 columns):\n",
      " #   Column                  Non-Null Count  Dtype \n",
      "---  ------                  --------------  ----- \n",
      " 0   Fiscal Year             58744 non-null  int64 \n",
      " 1   Month Grouping          58744 non-null  object\n",
      " 2   Month (abbv)            58744 non-null  object\n",
      " 3   Component               58744 non-null  object\n",
      " 4   Land Border Region      58744 non-null  object\n",
      " 5   Area of Responsibility  58744 non-null  object\n",
      " 6   AOR (Abbv)              58744 non-null  object\n",
      " 7   Demographic             58744 non-null  object\n",
      " 8   Citizenship             58744 non-null  object\n",
      " 9   Title of Authority      58744 non-null  object\n",
      " 10  Encounter Type          58744 non-null  object\n",
      " 11  Encounter Count         58744 non-null  int64 \n",
      "dtypes: int64(2), object(10)\n",
      "memory usage: 5.4+ MB\n"
     ]
    }
   ],
   "source": [
    "# Dataframe Info\n",
    "\n",
    "encounters_aor_df.info()"
   ]
  },
  {
   "cell_type": "code",
   "execution_count": 5,
   "id": "9f528ae9",
   "metadata": {},
   "outputs": [],
   "source": [
    "# Change 'Fiscal Year' column to string\n",
    "encounters_aor_df['Fiscal Year'] = encounters_aor_df['Fiscal Year'].astype(object)\n"
   ]
  },
  {
   "cell_type": "code",
   "execution_count": 6,
   "id": "08021856",
   "metadata": {},
   "outputs": [
    {
     "name": "stdout",
     "output_type": "stream",
     "text": [
      "<class 'pandas.core.frame.DataFrame'>\n",
      "RangeIndex: 58744 entries, 0 to 58743\n",
      "Data columns (total 12 columns):\n",
      " #   Column                  Non-Null Count  Dtype \n",
      "---  ------                  --------------  ----- \n",
      " 0   Fiscal Year             58744 non-null  object\n",
      " 1   Month Grouping          58744 non-null  object\n",
      " 2   Month (abbv)            58744 non-null  object\n",
      " 3   Component               58744 non-null  object\n",
      " 4   Land Border Region      58744 non-null  object\n",
      " 5   Area of Responsibility  58744 non-null  object\n",
      " 6   AOR (Abbv)              58744 non-null  object\n",
      " 7   Demographic             58744 non-null  object\n",
      " 8   Citizenship             58744 non-null  object\n",
      " 9   Title of Authority      58744 non-null  object\n",
      " 10  Encounter Type          58744 non-null  object\n",
      " 11  Encounter Count         58744 non-null  int64 \n",
      "dtypes: int64(1), object(11)\n",
      "memory usage: 5.4+ MB\n"
     ]
    }
   ],
   "source": [
    "encounters_aor_df.info()"
   ]
  },
  {
   "cell_type": "code",
   "execution_count": 7,
   "id": "c9ad7378",
   "metadata": {},
   "outputs": [
    {
     "data": {
      "text/html": [
       "<div>\n",
       "<style scoped>\n",
       "    .dataframe tbody tr th:only-of-type {\n",
       "        vertical-align: middle;\n",
       "    }\n",
       "\n",
       "    .dataframe tbody tr th {\n",
       "        vertical-align: top;\n",
       "    }\n",
       "\n",
       "    .dataframe thead th {\n",
       "        text-align: right;\n",
       "    }\n",
       "</style>\n",
       "<table border=\"1\" class=\"dataframe\">\n",
       "  <thead>\n",
       "    <tr style=\"text-align: right;\">\n",
       "      <th></th>\n",
       "      <th>Fiscal Year</th>\n",
       "      <th>Month (abbv)</th>\n",
       "      <th>Component</th>\n",
       "      <th>Land Border Region</th>\n",
       "      <th>Area of Responsibility</th>\n",
       "      <th>AOR (Abbv)</th>\n",
       "      <th>Demographic</th>\n",
       "      <th>Citizenship</th>\n",
       "      <th>Title of Authority</th>\n",
       "      <th>Encounter Type</th>\n",
       "      <th>Encounter Count</th>\n",
       "    </tr>\n",
       "  </thead>\n",
       "  <tbody>\n",
       "    <tr>\n",
       "      <th>0</th>\n",
       "      <td>2021</td>\n",
       "      <td>APR</td>\n",
       "      <td>Office of Field Operations</td>\n",
       "      <td>Northern Land Border</td>\n",
       "      <td>Boston Field Office</td>\n",
       "      <td>Boston</td>\n",
       "      <td>Accompanied Minors</td>\n",
       "      <td>CANADA</td>\n",
       "      <td>Title 8</td>\n",
       "      <td>Inadmissibles</td>\n",
       "      <td>3</td>\n",
       "    </tr>\n",
       "    <tr>\n",
       "      <th>1</th>\n",
       "      <td>2021</td>\n",
       "      <td>APR</td>\n",
       "      <td>Office of Field Operations</td>\n",
       "      <td>Northern Land Border</td>\n",
       "      <td>Boston Field Office</td>\n",
       "      <td>Boston</td>\n",
       "      <td>Accompanied Minors</td>\n",
       "      <td>MEXICO</td>\n",
       "      <td>Title 42</td>\n",
       "      <td>Expulsions</td>\n",
       "      <td>2</td>\n",
       "    </tr>\n",
       "    <tr>\n",
       "      <th>2</th>\n",
       "      <td>2021</td>\n",
       "      <td>APR</td>\n",
       "      <td>Office of Field Operations</td>\n",
       "      <td>Northern Land Border</td>\n",
       "      <td>Boston Field Office</td>\n",
       "      <td>Boston</td>\n",
       "      <td>Accompanied Minors</td>\n",
       "      <td>OTHER</td>\n",
       "      <td>Title 42</td>\n",
       "      <td>Expulsions</td>\n",
       "      <td>6</td>\n",
       "    </tr>\n",
       "    <tr>\n",
       "      <th>3</th>\n",
       "      <td>2021</td>\n",
       "      <td>APR</td>\n",
       "      <td>Office of Field Operations</td>\n",
       "      <td>Northern Land Border</td>\n",
       "      <td>Boston Field Office</td>\n",
       "      <td>Boston</td>\n",
       "      <td>Single Adults</td>\n",
       "      <td>CANADA</td>\n",
       "      <td>Title 42</td>\n",
       "      <td>Expulsions</td>\n",
       "      <td>11</td>\n",
       "    </tr>\n",
       "    <tr>\n",
       "      <th>4</th>\n",
       "      <td>2021</td>\n",
       "      <td>APR</td>\n",
       "      <td>Office of Field Operations</td>\n",
       "      <td>Northern Land Border</td>\n",
       "      <td>Boston Field Office</td>\n",
       "      <td>Boston</td>\n",
       "      <td>Single Adults</td>\n",
       "      <td>CANADA</td>\n",
       "      <td>Title 8</td>\n",
       "      <td>Inadmissibles</td>\n",
       "      <td>40</td>\n",
       "    </tr>\n",
       "    <tr>\n",
       "      <th>...</th>\n",
       "      <td>...</td>\n",
       "      <td>...</td>\n",
       "      <td>...</td>\n",
       "      <td>...</td>\n",
       "      <td>...</td>\n",
       "      <td>...</td>\n",
       "      <td>...</td>\n",
       "      <td>...</td>\n",
       "      <td>...</td>\n",
       "      <td>...</td>\n",
       "      <td>...</td>\n",
       "    </tr>\n",
       "    <tr>\n",
       "      <th>58739</th>\n",
       "      <td>2024</td>\n",
       "      <td>SEP</td>\n",
       "      <td>U.S. Border Patrol</td>\n",
       "      <td>Southwest Land Border</td>\n",
       "      <td>Yuma Sector</td>\n",
       "      <td>YUM</td>\n",
       "      <td>UC / Single Minors</td>\n",
       "      <td>GUATEMALA</td>\n",
       "      <td>Title 8</td>\n",
       "      <td>Apprehensions</td>\n",
       "      <td>27</td>\n",
       "    </tr>\n",
       "    <tr>\n",
       "      <th>58740</th>\n",
       "      <td>2024</td>\n",
       "      <td>SEP</td>\n",
       "      <td>U.S. Border Patrol</td>\n",
       "      <td>Southwest Land Border</td>\n",
       "      <td>Yuma Sector</td>\n",
       "      <td>YUM</td>\n",
       "      <td>UC / Single Minors</td>\n",
       "      <td>MEXICO</td>\n",
       "      <td>Title 8</td>\n",
       "      <td>Apprehensions</td>\n",
       "      <td>76</td>\n",
       "    </tr>\n",
       "    <tr>\n",
       "      <th>58741</th>\n",
       "      <td>2024</td>\n",
       "      <td>SEP</td>\n",
       "      <td>U.S. Border Patrol</td>\n",
       "      <td>Southwest Land Border</td>\n",
       "      <td>Yuma Sector</td>\n",
       "      <td>YUM</td>\n",
       "      <td>UC / Single Minors</td>\n",
       "      <td>OTHER</td>\n",
       "      <td>Title 8</td>\n",
       "      <td>Apprehensions</td>\n",
       "      <td>4</td>\n",
       "    </tr>\n",
       "    <tr>\n",
       "      <th>58742</th>\n",
       "      <td>2024</td>\n",
       "      <td>SEP</td>\n",
       "      <td>U.S. Border Patrol</td>\n",
       "      <td>Southwest Land Border</td>\n",
       "      <td>Yuma Sector</td>\n",
       "      <td>YUM</td>\n",
       "      <td>UC / Single Minors</td>\n",
       "      <td>RUSSIA</td>\n",
       "      <td>Title 8</td>\n",
       "      <td>Apprehensions</td>\n",
       "      <td>1</td>\n",
       "    </tr>\n",
       "    <tr>\n",
       "      <th>58743</th>\n",
       "      <td>2024</td>\n",
       "      <td>SEP</td>\n",
       "      <td>U.S. Border Patrol</td>\n",
       "      <td>Southwest Land Border</td>\n",
       "      <td>Yuma Sector</td>\n",
       "      <td>YUM</td>\n",
       "      <td>UC / Single Minors</td>\n",
       "      <td>VENEZUELA</td>\n",
       "      <td>Title 8</td>\n",
       "      <td>Apprehensions</td>\n",
       "      <td>3</td>\n",
       "    </tr>\n",
       "  </tbody>\n",
       "</table>\n",
       "<p>58744 rows × 11 columns</p>\n",
       "</div>"
      ],
      "text/plain": [
       "      Fiscal Year Month (abbv)                   Component  \\\n",
       "0            2021          APR  Office of Field Operations   \n",
       "1            2021          APR  Office of Field Operations   \n",
       "2            2021          APR  Office of Field Operations   \n",
       "3            2021          APR  Office of Field Operations   \n",
       "4            2021          APR  Office of Field Operations   \n",
       "...           ...          ...                         ...   \n",
       "58739        2024          SEP          U.S. Border Patrol   \n",
       "58740        2024          SEP          U.S. Border Patrol   \n",
       "58741        2024          SEP          U.S. Border Patrol   \n",
       "58742        2024          SEP          U.S. Border Patrol   \n",
       "58743        2024          SEP          U.S. Border Patrol   \n",
       "\n",
       "          Land Border Region Area of Responsibility AOR (Abbv)  \\\n",
       "0       Northern Land Border    Boston Field Office     Boston   \n",
       "1       Northern Land Border    Boston Field Office     Boston   \n",
       "2       Northern Land Border    Boston Field Office     Boston   \n",
       "3       Northern Land Border    Boston Field Office     Boston   \n",
       "4       Northern Land Border    Boston Field Office     Boston   \n",
       "...                      ...                    ...        ...   \n",
       "58739  Southwest Land Border            Yuma Sector        YUM   \n",
       "58740  Southwest Land Border            Yuma Sector        YUM   \n",
       "58741  Southwest Land Border            Yuma Sector        YUM   \n",
       "58742  Southwest Land Border            Yuma Sector        YUM   \n",
       "58743  Southwest Land Border            Yuma Sector        YUM   \n",
       "\n",
       "              Demographic Citizenship Title of Authority Encounter Type  \\\n",
       "0      Accompanied Minors      CANADA            Title 8  Inadmissibles   \n",
       "1      Accompanied Minors      MEXICO           Title 42     Expulsions   \n",
       "2      Accompanied Minors       OTHER           Title 42     Expulsions   \n",
       "3           Single Adults      CANADA           Title 42     Expulsions   \n",
       "4           Single Adults      CANADA            Title 8  Inadmissibles   \n",
       "...                   ...         ...                ...            ...   \n",
       "58739  UC / Single Minors   GUATEMALA            Title 8  Apprehensions   \n",
       "58740  UC / Single Minors      MEXICO            Title 8  Apprehensions   \n",
       "58741  UC / Single Minors       OTHER            Title 8  Apprehensions   \n",
       "58742  UC / Single Minors      RUSSIA            Title 8  Apprehensions   \n",
       "58743  UC / Single Minors   VENEZUELA            Title 8  Apprehensions   \n",
       "\n",
       "       Encounter Count  \n",
       "0                    3  \n",
       "1                    2  \n",
       "2                    6  \n",
       "3                   11  \n",
       "4                   40  \n",
       "...                ...  \n",
       "58739               27  \n",
       "58740               76  \n",
       "58741                4  \n",
       "58742                1  \n",
       "58743                3  \n",
       "\n",
       "[58744 rows x 11 columns]"
      ]
     },
     "execution_count": 7,
     "metadata": {},
     "output_type": "execute_result"
    }
   ],
   "source": [
    "# Removed \"Month Grouping column\"\n",
    "\n",
    "encounters_aor_cleaned_df = encounters_aor_df.drop(columns=['Month Grouping'])\n",
    "encounters_aor_cleaned_df"
   ]
  },
  {
   "cell_type": "code",
   "execution_count": 8,
   "id": "86c235e6",
   "metadata": {},
   "outputs": [
    {
     "data": {
      "text/html": [
       "<div>\n",
       "<style scoped>\n",
       "    .dataframe tbody tr th:only-of-type {\n",
       "        vertical-align: middle;\n",
       "    }\n",
       "\n",
       "    .dataframe tbody tr th {\n",
       "        vertical-align: top;\n",
       "    }\n",
       "\n",
       "    .dataframe thead th {\n",
       "        text-align: right;\n",
       "    }\n",
       "</style>\n",
       "<table border=\"1\" class=\"dataframe\">\n",
       "  <thead>\n",
       "    <tr style=\"text-align: right;\">\n",
       "      <th></th>\n",
       "      <th>Fiscal Year</th>\n",
       "      <th>Month</th>\n",
       "      <th>Component</th>\n",
       "      <th>Land Border Region</th>\n",
       "      <th>Area of Responsibility</th>\n",
       "      <th>AOR</th>\n",
       "      <th>Demographic</th>\n",
       "      <th>Citizenship</th>\n",
       "      <th>Title of Authority</th>\n",
       "      <th>Encounter Type</th>\n",
       "      <th>Encounter Count</th>\n",
       "    </tr>\n",
       "  </thead>\n",
       "  <tbody>\n",
       "    <tr>\n",
       "      <th>0</th>\n",
       "      <td>2021</td>\n",
       "      <td>APR</td>\n",
       "      <td>Office of Field Operations</td>\n",
       "      <td>Northern Land Border</td>\n",
       "      <td>Boston Field Office</td>\n",
       "      <td>Boston</td>\n",
       "      <td>Accompanied Minors</td>\n",
       "      <td>CANADA</td>\n",
       "      <td>Title 8</td>\n",
       "      <td>Inadmissibles</td>\n",
       "      <td>3</td>\n",
       "    </tr>\n",
       "    <tr>\n",
       "      <th>1</th>\n",
       "      <td>2021</td>\n",
       "      <td>APR</td>\n",
       "      <td>Office of Field Operations</td>\n",
       "      <td>Northern Land Border</td>\n",
       "      <td>Boston Field Office</td>\n",
       "      <td>Boston</td>\n",
       "      <td>Accompanied Minors</td>\n",
       "      <td>MEXICO</td>\n",
       "      <td>Title 42</td>\n",
       "      <td>Expulsions</td>\n",
       "      <td>2</td>\n",
       "    </tr>\n",
       "    <tr>\n",
       "      <th>2</th>\n",
       "      <td>2021</td>\n",
       "      <td>APR</td>\n",
       "      <td>Office of Field Operations</td>\n",
       "      <td>Northern Land Border</td>\n",
       "      <td>Boston Field Office</td>\n",
       "      <td>Boston</td>\n",
       "      <td>Accompanied Minors</td>\n",
       "      <td>OTHER</td>\n",
       "      <td>Title 42</td>\n",
       "      <td>Expulsions</td>\n",
       "      <td>6</td>\n",
       "    </tr>\n",
       "    <tr>\n",
       "      <th>3</th>\n",
       "      <td>2021</td>\n",
       "      <td>APR</td>\n",
       "      <td>Office of Field Operations</td>\n",
       "      <td>Northern Land Border</td>\n",
       "      <td>Boston Field Office</td>\n",
       "      <td>Boston</td>\n",
       "      <td>Single Adults</td>\n",
       "      <td>CANADA</td>\n",
       "      <td>Title 42</td>\n",
       "      <td>Expulsions</td>\n",
       "      <td>11</td>\n",
       "    </tr>\n",
       "    <tr>\n",
       "      <th>4</th>\n",
       "      <td>2021</td>\n",
       "      <td>APR</td>\n",
       "      <td>Office of Field Operations</td>\n",
       "      <td>Northern Land Border</td>\n",
       "      <td>Boston Field Office</td>\n",
       "      <td>Boston</td>\n",
       "      <td>Single Adults</td>\n",
       "      <td>CANADA</td>\n",
       "      <td>Title 8</td>\n",
       "      <td>Inadmissibles</td>\n",
       "      <td>40</td>\n",
       "    </tr>\n",
       "    <tr>\n",
       "      <th>...</th>\n",
       "      <td>...</td>\n",
       "      <td>...</td>\n",
       "      <td>...</td>\n",
       "      <td>...</td>\n",
       "      <td>...</td>\n",
       "      <td>...</td>\n",
       "      <td>...</td>\n",
       "      <td>...</td>\n",
       "      <td>...</td>\n",
       "      <td>...</td>\n",
       "      <td>...</td>\n",
       "    </tr>\n",
       "    <tr>\n",
       "      <th>58739</th>\n",
       "      <td>2024</td>\n",
       "      <td>SEP</td>\n",
       "      <td>U.S. Border Patrol</td>\n",
       "      <td>Southwest Land Border</td>\n",
       "      <td>Yuma Sector</td>\n",
       "      <td>YUM</td>\n",
       "      <td>UC / Single Minors</td>\n",
       "      <td>GUATEMALA</td>\n",
       "      <td>Title 8</td>\n",
       "      <td>Apprehensions</td>\n",
       "      <td>27</td>\n",
       "    </tr>\n",
       "    <tr>\n",
       "      <th>58740</th>\n",
       "      <td>2024</td>\n",
       "      <td>SEP</td>\n",
       "      <td>U.S. Border Patrol</td>\n",
       "      <td>Southwest Land Border</td>\n",
       "      <td>Yuma Sector</td>\n",
       "      <td>YUM</td>\n",
       "      <td>UC / Single Minors</td>\n",
       "      <td>MEXICO</td>\n",
       "      <td>Title 8</td>\n",
       "      <td>Apprehensions</td>\n",
       "      <td>76</td>\n",
       "    </tr>\n",
       "    <tr>\n",
       "      <th>58741</th>\n",
       "      <td>2024</td>\n",
       "      <td>SEP</td>\n",
       "      <td>U.S. Border Patrol</td>\n",
       "      <td>Southwest Land Border</td>\n",
       "      <td>Yuma Sector</td>\n",
       "      <td>YUM</td>\n",
       "      <td>UC / Single Minors</td>\n",
       "      <td>OTHER</td>\n",
       "      <td>Title 8</td>\n",
       "      <td>Apprehensions</td>\n",
       "      <td>4</td>\n",
       "    </tr>\n",
       "    <tr>\n",
       "      <th>58742</th>\n",
       "      <td>2024</td>\n",
       "      <td>SEP</td>\n",
       "      <td>U.S. Border Patrol</td>\n",
       "      <td>Southwest Land Border</td>\n",
       "      <td>Yuma Sector</td>\n",
       "      <td>YUM</td>\n",
       "      <td>UC / Single Minors</td>\n",
       "      <td>RUSSIA</td>\n",
       "      <td>Title 8</td>\n",
       "      <td>Apprehensions</td>\n",
       "      <td>1</td>\n",
       "    </tr>\n",
       "    <tr>\n",
       "      <th>58743</th>\n",
       "      <td>2024</td>\n",
       "      <td>SEP</td>\n",
       "      <td>U.S. Border Patrol</td>\n",
       "      <td>Southwest Land Border</td>\n",
       "      <td>Yuma Sector</td>\n",
       "      <td>YUM</td>\n",
       "      <td>UC / Single Minors</td>\n",
       "      <td>VENEZUELA</td>\n",
       "      <td>Title 8</td>\n",
       "      <td>Apprehensions</td>\n",
       "      <td>3</td>\n",
       "    </tr>\n",
       "  </tbody>\n",
       "</table>\n",
       "<p>58744 rows × 11 columns</p>\n",
       "</div>"
      ],
      "text/plain": [
       "      Fiscal Year Month                   Component     Land Border Region  \\\n",
       "0            2021   APR  Office of Field Operations   Northern Land Border   \n",
       "1            2021   APR  Office of Field Operations   Northern Land Border   \n",
       "2            2021   APR  Office of Field Operations   Northern Land Border   \n",
       "3            2021   APR  Office of Field Operations   Northern Land Border   \n",
       "4            2021   APR  Office of Field Operations   Northern Land Border   \n",
       "...           ...   ...                         ...                    ...   \n",
       "58739        2024   SEP          U.S. Border Patrol  Southwest Land Border   \n",
       "58740        2024   SEP          U.S. Border Patrol  Southwest Land Border   \n",
       "58741        2024   SEP          U.S. Border Patrol  Southwest Land Border   \n",
       "58742        2024   SEP          U.S. Border Patrol  Southwest Land Border   \n",
       "58743        2024   SEP          U.S. Border Patrol  Southwest Land Border   \n",
       "\n",
       "      Area of Responsibility     AOR         Demographic Citizenship  \\\n",
       "0        Boston Field Office  Boston  Accompanied Minors      CANADA   \n",
       "1        Boston Field Office  Boston  Accompanied Minors      MEXICO   \n",
       "2        Boston Field Office  Boston  Accompanied Minors       OTHER   \n",
       "3        Boston Field Office  Boston       Single Adults      CANADA   \n",
       "4        Boston Field Office  Boston       Single Adults      CANADA   \n",
       "...                      ...     ...                 ...         ...   \n",
       "58739            Yuma Sector     YUM  UC / Single Minors   GUATEMALA   \n",
       "58740            Yuma Sector     YUM  UC / Single Minors      MEXICO   \n",
       "58741            Yuma Sector     YUM  UC / Single Minors       OTHER   \n",
       "58742            Yuma Sector     YUM  UC / Single Minors      RUSSIA   \n",
       "58743            Yuma Sector     YUM  UC / Single Minors   VENEZUELA   \n",
       "\n",
       "      Title of Authority Encounter Type  Encounter Count  \n",
       "0                Title 8  Inadmissibles                3  \n",
       "1               Title 42     Expulsions                2  \n",
       "2               Title 42     Expulsions                6  \n",
       "3               Title 42     Expulsions               11  \n",
       "4                Title 8  Inadmissibles               40  \n",
       "...                  ...            ...              ...  \n",
       "58739            Title 8  Apprehensions               27  \n",
       "58740            Title 8  Apprehensions               76  \n",
       "58741            Title 8  Apprehensions                4  \n",
       "58742            Title 8  Apprehensions                1  \n",
       "58743            Title 8  Apprehensions                3  \n",
       "\n",
       "[58744 rows x 11 columns]"
      ]
     },
     "execution_count": 8,
     "metadata": {},
     "output_type": "execute_result"
    }
   ],
   "source": [
    "# Renamed Month (abbv) column to Month, and AOR (Abbv) to AOR.\n",
    "encounters_aor_cleaned_df.rename(columns={'Month (abbv)': 'Month', 'AOR (Abbv)': 'AOR'}, inplace=True)\n",
    "encounters_aor_cleaned_df"
   ]
  },
  {
   "cell_type": "code",
   "execution_count": 9,
   "id": "f8705fc3",
   "metadata": {},
   "outputs": [
    {
     "data": {
      "text/html": [
       "<div>\n",
       "<style scoped>\n",
       "    .dataframe tbody tr th:only-of-type {\n",
       "        vertical-align: middle;\n",
       "    }\n",
       "\n",
       "    .dataframe tbody tr th {\n",
       "        vertical-align: top;\n",
       "    }\n",
       "\n",
       "    .dataframe thead th {\n",
       "        text-align: right;\n",
       "    }\n",
       "</style>\n",
       "<table border=\"1\" class=\"dataframe\">\n",
       "  <thead>\n",
       "    <tr style=\"text-align: right;\">\n",
       "      <th></th>\n",
       "      <th>Fiscal Year</th>\n",
       "      <th>Month</th>\n",
       "      <th>Component</th>\n",
       "      <th>Land Border Region</th>\n",
       "      <th>Area of Responsibility</th>\n",
       "      <th>AOR</th>\n",
       "      <th>Demographic</th>\n",
       "      <th>Citizenship</th>\n",
       "      <th>Title of Authority</th>\n",
       "      <th>Encounter Type</th>\n",
       "      <th>Encounter Count</th>\n",
       "    </tr>\n",
       "  </thead>\n",
       "  <tbody>\n",
       "    <tr>\n",
       "      <th>0</th>\n",
       "      <td>2021</td>\n",
       "      <td>APR</td>\n",
       "      <td>Office of Field Operations</td>\n",
       "      <td>Northern Land Border</td>\n",
       "      <td>Boston Field Office</td>\n",
       "      <td>Boston</td>\n",
       "      <td>Accompanied Minors</td>\n",
       "      <td>CANADA</td>\n",
       "      <td>Title 8</td>\n",
       "      <td>Inadmissibles</td>\n",
       "      <td>3</td>\n",
       "    </tr>\n",
       "    <tr>\n",
       "      <th>1</th>\n",
       "      <td>2021</td>\n",
       "      <td>APR</td>\n",
       "      <td>Office of Field Operations</td>\n",
       "      <td>Northern Land Border</td>\n",
       "      <td>Boston Field Office</td>\n",
       "      <td>Boston</td>\n",
       "      <td>Accompanied Minors</td>\n",
       "      <td>MEXICO</td>\n",
       "      <td>Title 42</td>\n",
       "      <td>Expulsions</td>\n",
       "      <td>2</td>\n",
       "    </tr>\n",
       "    <tr>\n",
       "      <th>2</th>\n",
       "      <td>2021</td>\n",
       "      <td>APR</td>\n",
       "      <td>Office of Field Operations</td>\n",
       "      <td>Northern Land Border</td>\n",
       "      <td>Boston Field Office</td>\n",
       "      <td>Boston</td>\n",
       "      <td>Accompanied Minors</td>\n",
       "      <td>OTHER</td>\n",
       "      <td>Title 42</td>\n",
       "      <td>Expulsions</td>\n",
       "      <td>6</td>\n",
       "    </tr>\n",
       "    <tr>\n",
       "      <th>3</th>\n",
       "      <td>2021</td>\n",
       "      <td>APR</td>\n",
       "      <td>Office of Field Operations</td>\n",
       "      <td>Northern Land Border</td>\n",
       "      <td>Boston Field Office</td>\n",
       "      <td>Boston</td>\n",
       "      <td>Single Adults</td>\n",
       "      <td>CANADA</td>\n",
       "      <td>Title 42</td>\n",
       "      <td>Expulsions</td>\n",
       "      <td>11</td>\n",
       "    </tr>\n",
       "    <tr>\n",
       "      <th>4</th>\n",
       "      <td>2021</td>\n",
       "      <td>APR</td>\n",
       "      <td>Office of Field Operations</td>\n",
       "      <td>Northern Land Border</td>\n",
       "      <td>Boston Field Office</td>\n",
       "      <td>Boston</td>\n",
       "      <td>Single Adults</td>\n",
       "      <td>CANADA</td>\n",
       "      <td>Title 8</td>\n",
       "      <td>Inadmissibles</td>\n",
       "      <td>40</td>\n",
       "    </tr>\n",
       "    <tr>\n",
       "      <th>...</th>\n",
       "      <td>...</td>\n",
       "      <td>...</td>\n",
       "      <td>...</td>\n",
       "      <td>...</td>\n",
       "      <td>...</td>\n",
       "      <td>...</td>\n",
       "      <td>...</td>\n",
       "      <td>...</td>\n",
       "      <td>...</td>\n",
       "      <td>...</td>\n",
       "      <td>...</td>\n",
       "    </tr>\n",
       "    <tr>\n",
       "      <th>58739</th>\n",
       "      <td>2024</td>\n",
       "      <td>SEP</td>\n",
       "      <td>U.S. Border Patrol</td>\n",
       "      <td>Southwest Land Border</td>\n",
       "      <td>Yuma Sector</td>\n",
       "      <td>YUM</td>\n",
       "      <td>UC / Single Minors</td>\n",
       "      <td>GUATEMALA</td>\n",
       "      <td>Title 8</td>\n",
       "      <td>Apprehensions</td>\n",
       "      <td>27</td>\n",
       "    </tr>\n",
       "    <tr>\n",
       "      <th>58740</th>\n",
       "      <td>2024</td>\n",
       "      <td>SEP</td>\n",
       "      <td>U.S. Border Patrol</td>\n",
       "      <td>Southwest Land Border</td>\n",
       "      <td>Yuma Sector</td>\n",
       "      <td>YUM</td>\n",
       "      <td>UC / Single Minors</td>\n",
       "      <td>MEXICO</td>\n",
       "      <td>Title 8</td>\n",
       "      <td>Apprehensions</td>\n",
       "      <td>76</td>\n",
       "    </tr>\n",
       "    <tr>\n",
       "      <th>58741</th>\n",
       "      <td>2024</td>\n",
       "      <td>SEP</td>\n",
       "      <td>U.S. Border Patrol</td>\n",
       "      <td>Southwest Land Border</td>\n",
       "      <td>Yuma Sector</td>\n",
       "      <td>YUM</td>\n",
       "      <td>UC / Single Minors</td>\n",
       "      <td>OTHER</td>\n",
       "      <td>Title 8</td>\n",
       "      <td>Apprehensions</td>\n",
       "      <td>4</td>\n",
       "    </tr>\n",
       "    <tr>\n",
       "      <th>58742</th>\n",
       "      <td>2024</td>\n",
       "      <td>SEP</td>\n",
       "      <td>U.S. Border Patrol</td>\n",
       "      <td>Southwest Land Border</td>\n",
       "      <td>Yuma Sector</td>\n",
       "      <td>YUM</td>\n",
       "      <td>UC / Single Minors</td>\n",
       "      <td>RUSSIA</td>\n",
       "      <td>Title 8</td>\n",
       "      <td>Apprehensions</td>\n",
       "      <td>1</td>\n",
       "    </tr>\n",
       "    <tr>\n",
       "      <th>58743</th>\n",
       "      <td>2024</td>\n",
       "      <td>SEP</td>\n",
       "      <td>U.S. Border Patrol</td>\n",
       "      <td>Southwest Land Border</td>\n",
       "      <td>Yuma Sector</td>\n",
       "      <td>YUM</td>\n",
       "      <td>UC / Single Minors</td>\n",
       "      <td>VENEZUELA</td>\n",
       "      <td>Title 8</td>\n",
       "      <td>Apprehensions</td>\n",
       "      <td>3</td>\n",
       "    </tr>\n",
       "  </tbody>\n",
       "</table>\n",
       "<p>58744 rows × 11 columns</p>\n",
       "</div>"
      ],
      "text/plain": [
       "      Fiscal Year Month                   Component     Land Border Region  \\\n",
       "0            2021   APR  Office of Field Operations   Northern Land Border   \n",
       "1            2021   APR  Office of Field Operations   Northern Land Border   \n",
       "2            2021   APR  Office of Field Operations   Northern Land Border   \n",
       "3            2021   APR  Office of Field Operations   Northern Land Border   \n",
       "4            2021   APR  Office of Field Operations   Northern Land Border   \n",
       "...           ...   ...                         ...                    ...   \n",
       "58739        2024   SEP          U.S. Border Patrol  Southwest Land Border   \n",
       "58740        2024   SEP          U.S. Border Patrol  Southwest Land Border   \n",
       "58741        2024   SEP          U.S. Border Patrol  Southwest Land Border   \n",
       "58742        2024   SEP          U.S. Border Patrol  Southwest Land Border   \n",
       "58743        2024   SEP          U.S. Border Patrol  Southwest Land Border   \n",
       "\n",
       "      Area of Responsibility     AOR         Demographic Citizenship  \\\n",
       "0        Boston Field Office  Boston  Accompanied Minors      CANADA   \n",
       "1        Boston Field Office  Boston  Accompanied Minors      MEXICO   \n",
       "2        Boston Field Office  Boston  Accompanied Minors       OTHER   \n",
       "3        Boston Field Office  Boston       Single Adults      CANADA   \n",
       "4        Boston Field Office  Boston       Single Adults      CANADA   \n",
       "...                      ...     ...                 ...         ...   \n",
       "58739            Yuma Sector     YUM  UC / Single Minors   GUATEMALA   \n",
       "58740            Yuma Sector     YUM  UC / Single Minors      MEXICO   \n",
       "58741            Yuma Sector     YUM  UC / Single Minors       OTHER   \n",
       "58742            Yuma Sector     YUM  UC / Single Minors      RUSSIA   \n",
       "58743            Yuma Sector     YUM  UC / Single Minors   VENEZUELA   \n",
       "\n",
       "      Title of Authority Encounter Type  Encounter Count  \n",
       "0                Title 8  Inadmissibles                3  \n",
       "1               Title 42     Expulsions                2  \n",
       "2               Title 42     Expulsions                6  \n",
       "3               Title 42     Expulsions               11  \n",
       "4                Title 8  Inadmissibles               40  \n",
       "...                  ...            ...              ...  \n",
       "58739            Title 8  Apprehensions               27  \n",
       "58740            Title 8  Apprehensions               76  \n",
       "58741            Title 8  Apprehensions                4  \n",
       "58742            Title 8  Apprehensions                1  \n",
       "58743            Title 8  Apprehensions                3  \n",
       "\n",
       "[58744 rows x 11 columns]"
      ]
     },
     "execution_count": 9,
     "metadata": {},
     "output_type": "execute_result"
    }
   ],
   "source": [
    "# Replaced China, Peoples Republic of with China in Citizenship column.\n",
    "encounters_aor_cleaned_df['Citizenship'] = encounters_aor_cleaned_df['Citizenship'].replace('CHINA, PEOPLES REPUBLIC OF', 'CHINA')\n",
    "encounters_aor_cleaned_df"
   ]
  },
  {
   "cell_type": "code",
   "execution_count": 10,
   "id": "dec47b99",
   "metadata": {},
   "outputs": [
    {
     "data": {
      "text/html": [
       "<div>\n",
       "<style scoped>\n",
       "    .dataframe tbody tr th:only-of-type {\n",
       "        vertical-align: middle;\n",
       "    }\n",
       "\n",
       "    .dataframe tbody tr th {\n",
       "        vertical-align: top;\n",
       "    }\n",
       "\n",
       "    .dataframe thead th {\n",
       "        text-align: right;\n",
       "    }\n",
       "</style>\n",
       "<table border=\"1\" class=\"dataframe\">\n",
       "  <thead>\n",
       "    <tr style=\"text-align: right;\">\n",
       "      <th></th>\n",
       "      <th>Fiscal Year</th>\n",
       "      <th>Month</th>\n",
       "      <th>Component</th>\n",
       "      <th>Land Border Region</th>\n",
       "      <th>Area of Responsibility</th>\n",
       "      <th>AOR</th>\n",
       "      <th>Demographic</th>\n",
       "      <th>Citizenship</th>\n",
       "      <th>Title of Authority</th>\n",
       "      <th>Encounter Type</th>\n",
       "      <th>Encounter Count</th>\n",
       "      <th>Continent</th>\n",
       "    </tr>\n",
       "  </thead>\n",
       "  <tbody>\n",
       "    <tr>\n",
       "      <th>0</th>\n",
       "      <td>2021</td>\n",
       "      <td>APR</td>\n",
       "      <td>Office of Field Operations</td>\n",
       "      <td>Northern Land Border</td>\n",
       "      <td>Boston Field Office</td>\n",
       "      <td>Boston</td>\n",
       "      <td>Accompanied Minors</td>\n",
       "      <td>CANADA</td>\n",
       "      <td>Title 8</td>\n",
       "      <td>Inadmissibles</td>\n",
       "      <td>3</td>\n",
       "      <td>North America</td>\n",
       "    </tr>\n",
       "    <tr>\n",
       "      <th>1</th>\n",
       "      <td>2021</td>\n",
       "      <td>APR</td>\n",
       "      <td>Office of Field Operations</td>\n",
       "      <td>Northern Land Border</td>\n",
       "      <td>Boston Field Office</td>\n",
       "      <td>Boston</td>\n",
       "      <td>Accompanied Minors</td>\n",
       "      <td>MEXICO</td>\n",
       "      <td>Title 42</td>\n",
       "      <td>Expulsions</td>\n",
       "      <td>2</td>\n",
       "      <td>North America</td>\n",
       "    </tr>\n",
       "    <tr>\n",
       "      <th>2</th>\n",
       "      <td>2021</td>\n",
       "      <td>APR</td>\n",
       "      <td>Office of Field Operations</td>\n",
       "      <td>Northern Land Border</td>\n",
       "      <td>Boston Field Office</td>\n",
       "      <td>Boston</td>\n",
       "      <td>Accompanied Minors</td>\n",
       "      <td>OTHER</td>\n",
       "      <td>Title 42</td>\n",
       "      <td>Expulsions</td>\n",
       "      <td>6</td>\n",
       "      <td>Unknown</td>\n",
       "    </tr>\n",
       "    <tr>\n",
       "      <th>3</th>\n",
       "      <td>2021</td>\n",
       "      <td>APR</td>\n",
       "      <td>Office of Field Operations</td>\n",
       "      <td>Northern Land Border</td>\n",
       "      <td>Boston Field Office</td>\n",
       "      <td>Boston</td>\n",
       "      <td>Single Adults</td>\n",
       "      <td>CANADA</td>\n",
       "      <td>Title 42</td>\n",
       "      <td>Expulsions</td>\n",
       "      <td>11</td>\n",
       "      <td>North America</td>\n",
       "    </tr>\n",
       "    <tr>\n",
       "      <th>4</th>\n",
       "      <td>2021</td>\n",
       "      <td>APR</td>\n",
       "      <td>Office of Field Operations</td>\n",
       "      <td>Northern Land Border</td>\n",
       "      <td>Boston Field Office</td>\n",
       "      <td>Boston</td>\n",
       "      <td>Single Adults</td>\n",
       "      <td>CANADA</td>\n",
       "      <td>Title 8</td>\n",
       "      <td>Inadmissibles</td>\n",
       "      <td>40</td>\n",
       "      <td>North America</td>\n",
       "    </tr>\n",
       "    <tr>\n",
       "      <th>...</th>\n",
       "      <td>...</td>\n",
       "      <td>...</td>\n",
       "      <td>...</td>\n",
       "      <td>...</td>\n",
       "      <td>...</td>\n",
       "      <td>...</td>\n",
       "      <td>...</td>\n",
       "      <td>...</td>\n",
       "      <td>...</td>\n",
       "      <td>...</td>\n",
       "      <td>...</td>\n",
       "      <td>...</td>\n",
       "    </tr>\n",
       "    <tr>\n",
       "      <th>58739</th>\n",
       "      <td>2024</td>\n",
       "      <td>SEP</td>\n",
       "      <td>U.S. Border Patrol</td>\n",
       "      <td>Southwest Land Border</td>\n",
       "      <td>Yuma Sector</td>\n",
       "      <td>YUM</td>\n",
       "      <td>UC / Single Minors</td>\n",
       "      <td>GUATEMALA</td>\n",
       "      <td>Title 8</td>\n",
       "      <td>Apprehensions</td>\n",
       "      <td>27</td>\n",
       "      <td>North America</td>\n",
       "    </tr>\n",
       "    <tr>\n",
       "      <th>58740</th>\n",
       "      <td>2024</td>\n",
       "      <td>SEP</td>\n",
       "      <td>U.S. Border Patrol</td>\n",
       "      <td>Southwest Land Border</td>\n",
       "      <td>Yuma Sector</td>\n",
       "      <td>YUM</td>\n",
       "      <td>UC / Single Minors</td>\n",
       "      <td>MEXICO</td>\n",
       "      <td>Title 8</td>\n",
       "      <td>Apprehensions</td>\n",
       "      <td>76</td>\n",
       "      <td>North America</td>\n",
       "    </tr>\n",
       "    <tr>\n",
       "      <th>58741</th>\n",
       "      <td>2024</td>\n",
       "      <td>SEP</td>\n",
       "      <td>U.S. Border Patrol</td>\n",
       "      <td>Southwest Land Border</td>\n",
       "      <td>Yuma Sector</td>\n",
       "      <td>YUM</td>\n",
       "      <td>UC / Single Minors</td>\n",
       "      <td>OTHER</td>\n",
       "      <td>Title 8</td>\n",
       "      <td>Apprehensions</td>\n",
       "      <td>4</td>\n",
       "      <td>Unknown</td>\n",
       "    </tr>\n",
       "    <tr>\n",
       "      <th>58742</th>\n",
       "      <td>2024</td>\n",
       "      <td>SEP</td>\n",
       "      <td>U.S. Border Patrol</td>\n",
       "      <td>Southwest Land Border</td>\n",
       "      <td>Yuma Sector</td>\n",
       "      <td>YUM</td>\n",
       "      <td>UC / Single Minors</td>\n",
       "      <td>RUSSIA</td>\n",
       "      <td>Title 8</td>\n",
       "      <td>Apprehensions</td>\n",
       "      <td>1</td>\n",
       "      <td>Europe</td>\n",
       "    </tr>\n",
       "    <tr>\n",
       "      <th>58743</th>\n",
       "      <td>2024</td>\n",
       "      <td>SEP</td>\n",
       "      <td>U.S. Border Patrol</td>\n",
       "      <td>Southwest Land Border</td>\n",
       "      <td>Yuma Sector</td>\n",
       "      <td>YUM</td>\n",
       "      <td>UC / Single Minors</td>\n",
       "      <td>VENEZUELA</td>\n",
       "      <td>Title 8</td>\n",
       "      <td>Apprehensions</td>\n",
       "      <td>3</td>\n",
       "      <td>South America</td>\n",
       "    </tr>\n",
       "  </tbody>\n",
       "</table>\n",
       "<p>58744 rows × 12 columns</p>\n",
       "</div>"
      ],
      "text/plain": [
       "      Fiscal Year Month                   Component     Land Border Region  \\\n",
       "0            2021   APR  Office of Field Operations   Northern Land Border   \n",
       "1            2021   APR  Office of Field Operations   Northern Land Border   \n",
       "2            2021   APR  Office of Field Operations   Northern Land Border   \n",
       "3            2021   APR  Office of Field Operations   Northern Land Border   \n",
       "4            2021   APR  Office of Field Operations   Northern Land Border   \n",
       "...           ...   ...                         ...                    ...   \n",
       "58739        2024   SEP          U.S. Border Patrol  Southwest Land Border   \n",
       "58740        2024   SEP          U.S. Border Patrol  Southwest Land Border   \n",
       "58741        2024   SEP          U.S. Border Patrol  Southwest Land Border   \n",
       "58742        2024   SEP          U.S. Border Patrol  Southwest Land Border   \n",
       "58743        2024   SEP          U.S. Border Patrol  Southwest Land Border   \n",
       "\n",
       "      Area of Responsibility     AOR         Demographic Citizenship  \\\n",
       "0        Boston Field Office  Boston  Accompanied Minors      CANADA   \n",
       "1        Boston Field Office  Boston  Accompanied Minors      MEXICO   \n",
       "2        Boston Field Office  Boston  Accompanied Minors       OTHER   \n",
       "3        Boston Field Office  Boston       Single Adults      CANADA   \n",
       "4        Boston Field Office  Boston       Single Adults      CANADA   \n",
       "...                      ...     ...                 ...         ...   \n",
       "58739            Yuma Sector     YUM  UC / Single Minors   GUATEMALA   \n",
       "58740            Yuma Sector     YUM  UC / Single Minors      MEXICO   \n",
       "58741            Yuma Sector     YUM  UC / Single Minors       OTHER   \n",
       "58742            Yuma Sector     YUM  UC / Single Minors      RUSSIA   \n",
       "58743            Yuma Sector     YUM  UC / Single Minors   VENEZUELA   \n",
       "\n",
       "      Title of Authority Encounter Type  Encounter Count      Continent  \n",
       "0                Title 8  Inadmissibles                3  North America  \n",
       "1               Title 42     Expulsions                2  North America  \n",
       "2               Title 42     Expulsions                6        Unknown  \n",
       "3               Title 42     Expulsions               11  North America  \n",
       "4                Title 8  Inadmissibles               40  North America  \n",
       "...                  ...            ...              ...            ...  \n",
       "58739            Title 8  Apprehensions               27  North America  \n",
       "58740            Title 8  Apprehensions               76  North America  \n",
       "58741            Title 8  Apprehensions                4        Unknown  \n",
       "58742            Title 8  Apprehensions                1         Europe  \n",
       "58743            Title 8  Apprehensions                3  South America  \n",
       "\n",
       "[58744 rows x 12 columns]"
      ]
     },
     "execution_count": 10,
     "metadata": {},
     "output_type": "execute_result"
    }
   ],
   "source": [
    "# Created dictionary to add the Continent Column\n",
    "citizenship_to_continent = {\n",
    "    'BRAZIL': 'South America',\n",
    "    'CANADA': 'North America',\n",
    "    'CHINA': 'Asia',\n",
    "    'COLOMBIA': 'South America',\n",
    "    'CUBA': 'North America',\n",
    "    'ECUADOR': 'South America',\n",
    "    'EL SALVADOR': 'North America',\n",
    "    'GUATEMALA': 'North America',\n",
    "    'HAITI': 'North America',\n",
    "    'HONDURAS': 'North America',\n",
    "    'INDIA': 'Asia',\n",
    "    'MEXICO': 'North America',\n",
    "    'MYANMAR (BURMA)': 'Asia',\n",
    "    'NICARAGUA': 'North America',\n",
    "    'OTHER': 'Unknown',\n",
    "    'PERU': 'South America',\n",
    "    'PHILIPPINES': 'Asia',\n",
    "    'ROMANIA': 'Europe',\n",
    "    'RUSSIA': 'Europe',\n",
    "    'TURKEY': 'Asia', \n",
    "    'UKRAINE': 'Europe',\n",
    "    'VENEZUELA': 'South America'\n",
    "}\n",
    "\n",
    "encounters_aor_cleaned_df['Continent'] = encounters_aor_cleaned_df['Citizenship'].map(citizenship_to_continent).fillna('Unknown')\n",
    "encounters_aor_cleaned_df"
   ]
  },
  {
   "cell_type": "code",
   "execution_count": 11,
   "id": "f61162ee",
   "metadata": {},
   "outputs": [
    {
     "data": {
      "text/html": [
       "<div>\n",
       "<style scoped>\n",
       "    .dataframe tbody tr th:only-of-type {\n",
       "        vertical-align: middle;\n",
       "    }\n",
       "\n",
       "    .dataframe tbody tr th {\n",
       "        vertical-align: top;\n",
       "    }\n",
       "\n",
       "    .dataframe thead th {\n",
       "        text-align: right;\n",
       "    }\n",
       "</style>\n",
       "<table border=\"1\" class=\"dataframe\">\n",
       "  <thead>\n",
       "    <tr style=\"text-align: right;\">\n",
       "      <th></th>\n",
       "      <th>Fiscal Year</th>\n",
       "      <th>Month</th>\n",
       "      <th>Component</th>\n",
       "      <th>Land Border Region</th>\n",
       "      <th>Area of Responsibility</th>\n",
       "      <th>AOR</th>\n",
       "      <th>Demographic</th>\n",
       "      <th>Citizenship</th>\n",
       "      <th>Title of Authority</th>\n",
       "      <th>Encounter Type</th>\n",
       "      <th>Encounter Count</th>\n",
       "      <th>Continent</th>\n",
       "    </tr>\n",
       "  </thead>\n",
       "  <tbody>\n",
       "    <tr>\n",
       "      <th>0</th>\n",
       "      <td>2021</td>\n",
       "      <td>APR</td>\n",
       "      <td>Office of Field Operations</td>\n",
       "      <td>Northern Land Border</td>\n",
       "      <td>Boston Field Office</td>\n",
       "      <td>Boston</td>\n",
       "      <td>Accompanied Minors</td>\n",
       "      <td>CANADA</td>\n",
       "      <td>Title 8</td>\n",
       "      <td>Inadmissibles</td>\n",
       "      <td>3</td>\n",
       "      <td>North America</td>\n",
       "    </tr>\n",
       "    <tr>\n",
       "      <th>1</th>\n",
       "      <td>2021</td>\n",
       "      <td>APR</td>\n",
       "      <td>Office of Field Operations</td>\n",
       "      <td>Northern Land Border</td>\n",
       "      <td>Boston Field Office</td>\n",
       "      <td>Boston</td>\n",
       "      <td>Accompanied Minors</td>\n",
       "      <td>MEXICO</td>\n",
       "      <td>Title 42</td>\n",
       "      <td>Expulsions</td>\n",
       "      <td>2</td>\n",
       "      <td>North America</td>\n",
       "    </tr>\n",
       "    <tr>\n",
       "      <th>2</th>\n",
       "      <td>2021</td>\n",
       "      <td>APR</td>\n",
       "      <td>Office of Field Operations</td>\n",
       "      <td>Northern Land Border</td>\n",
       "      <td>Boston Field Office</td>\n",
       "      <td>Boston</td>\n",
       "      <td>Accompanied Minors</td>\n",
       "      <td>OTHER</td>\n",
       "      <td>Title 42</td>\n",
       "      <td>Expulsions</td>\n",
       "      <td>6</td>\n",
       "      <td>Unknown</td>\n",
       "    </tr>\n",
       "    <tr>\n",
       "      <th>3</th>\n",
       "      <td>2021</td>\n",
       "      <td>APR</td>\n",
       "      <td>Office of Field Operations</td>\n",
       "      <td>Northern Land Border</td>\n",
       "      <td>Boston Field Office</td>\n",
       "      <td>Boston</td>\n",
       "      <td>Single Adults</td>\n",
       "      <td>CANADA</td>\n",
       "      <td>Title 42</td>\n",
       "      <td>Expulsions</td>\n",
       "      <td>11</td>\n",
       "      <td>North America</td>\n",
       "    </tr>\n",
       "    <tr>\n",
       "      <th>4</th>\n",
       "      <td>2021</td>\n",
       "      <td>APR</td>\n",
       "      <td>Office of Field Operations</td>\n",
       "      <td>Northern Land Border</td>\n",
       "      <td>Boston Field Office</td>\n",
       "      <td>Boston</td>\n",
       "      <td>Single Adults</td>\n",
       "      <td>CANADA</td>\n",
       "      <td>Title 8</td>\n",
       "      <td>Inadmissibles</td>\n",
       "      <td>40</td>\n",
       "      <td>North America</td>\n",
       "    </tr>\n",
       "    <tr>\n",
       "      <th>...</th>\n",
       "      <td>...</td>\n",
       "      <td>...</td>\n",
       "      <td>...</td>\n",
       "      <td>...</td>\n",
       "      <td>...</td>\n",
       "      <td>...</td>\n",
       "      <td>...</td>\n",
       "      <td>...</td>\n",
       "      <td>...</td>\n",
       "      <td>...</td>\n",
       "      <td>...</td>\n",
       "      <td>...</td>\n",
       "    </tr>\n",
       "    <tr>\n",
       "      <th>58739</th>\n",
       "      <td>2024</td>\n",
       "      <td>SEP</td>\n",
       "      <td>U.S. Border Patrol</td>\n",
       "      <td>Southwest Land Border</td>\n",
       "      <td>Yuma Sector</td>\n",
       "      <td>YUM</td>\n",
       "      <td>UC / Single Minors</td>\n",
       "      <td>GUATEMALA</td>\n",
       "      <td>Title 8</td>\n",
       "      <td>Apprehensions</td>\n",
       "      <td>27</td>\n",
       "      <td>North America</td>\n",
       "    </tr>\n",
       "    <tr>\n",
       "      <th>58740</th>\n",
       "      <td>2024</td>\n",
       "      <td>SEP</td>\n",
       "      <td>U.S. Border Patrol</td>\n",
       "      <td>Southwest Land Border</td>\n",
       "      <td>Yuma Sector</td>\n",
       "      <td>YUM</td>\n",
       "      <td>UC / Single Minors</td>\n",
       "      <td>MEXICO</td>\n",
       "      <td>Title 8</td>\n",
       "      <td>Apprehensions</td>\n",
       "      <td>76</td>\n",
       "      <td>North America</td>\n",
       "    </tr>\n",
       "    <tr>\n",
       "      <th>58741</th>\n",
       "      <td>2024</td>\n",
       "      <td>SEP</td>\n",
       "      <td>U.S. Border Patrol</td>\n",
       "      <td>Southwest Land Border</td>\n",
       "      <td>Yuma Sector</td>\n",
       "      <td>YUM</td>\n",
       "      <td>UC / Single Minors</td>\n",
       "      <td>OTHER</td>\n",
       "      <td>Title 8</td>\n",
       "      <td>Apprehensions</td>\n",
       "      <td>4</td>\n",
       "      <td>Unknown</td>\n",
       "    </tr>\n",
       "    <tr>\n",
       "      <th>58742</th>\n",
       "      <td>2024</td>\n",
       "      <td>SEP</td>\n",
       "      <td>U.S. Border Patrol</td>\n",
       "      <td>Southwest Land Border</td>\n",
       "      <td>Yuma Sector</td>\n",
       "      <td>YUM</td>\n",
       "      <td>UC / Single Minors</td>\n",
       "      <td>RUSSIA</td>\n",
       "      <td>Title 8</td>\n",
       "      <td>Apprehensions</td>\n",
       "      <td>1</td>\n",
       "      <td>Europe</td>\n",
       "    </tr>\n",
       "    <tr>\n",
       "      <th>58743</th>\n",
       "      <td>2024</td>\n",
       "      <td>SEP</td>\n",
       "      <td>U.S. Border Patrol</td>\n",
       "      <td>Southwest Land Border</td>\n",
       "      <td>Yuma Sector</td>\n",
       "      <td>YUM</td>\n",
       "      <td>UC / Single Minors</td>\n",
       "      <td>VENEZUELA</td>\n",
       "      <td>Title 8</td>\n",
       "      <td>Apprehensions</td>\n",
       "      <td>3</td>\n",
       "      <td>South America</td>\n",
       "    </tr>\n",
       "  </tbody>\n",
       "</table>\n",
       "<p>58744 rows × 12 columns</p>\n",
       "</div>"
      ],
      "text/plain": [
       "      Fiscal Year Month                   Component     Land Border Region  \\\n",
       "0            2021   APR  Office of Field Operations   Northern Land Border   \n",
       "1            2021   APR  Office of Field Operations   Northern Land Border   \n",
       "2            2021   APR  Office of Field Operations   Northern Land Border   \n",
       "3            2021   APR  Office of Field Operations   Northern Land Border   \n",
       "4            2021   APR  Office of Field Operations   Northern Land Border   \n",
       "...           ...   ...                         ...                    ...   \n",
       "58739        2024   SEP          U.S. Border Patrol  Southwest Land Border   \n",
       "58740        2024   SEP          U.S. Border Patrol  Southwest Land Border   \n",
       "58741        2024   SEP          U.S. Border Patrol  Southwest Land Border   \n",
       "58742        2024   SEP          U.S. Border Patrol  Southwest Land Border   \n",
       "58743        2024   SEP          U.S. Border Patrol  Southwest Land Border   \n",
       "\n",
       "      Area of Responsibility     AOR         Demographic Citizenship  \\\n",
       "0        Boston Field Office  Boston  Accompanied Minors      CANADA   \n",
       "1        Boston Field Office  Boston  Accompanied Minors      MEXICO   \n",
       "2        Boston Field Office  Boston  Accompanied Minors       OTHER   \n",
       "3        Boston Field Office  Boston       Single Adults      CANADA   \n",
       "4        Boston Field Office  Boston       Single Adults      CANADA   \n",
       "...                      ...     ...                 ...         ...   \n",
       "58739            Yuma Sector     YUM  UC / Single Minors   GUATEMALA   \n",
       "58740            Yuma Sector     YUM  UC / Single Minors      MEXICO   \n",
       "58741            Yuma Sector     YUM  UC / Single Minors       OTHER   \n",
       "58742            Yuma Sector     YUM  UC / Single Minors      RUSSIA   \n",
       "58743            Yuma Sector     YUM  UC / Single Minors   VENEZUELA   \n",
       "\n",
       "      Title of Authority Encounter Type  Encounter Count      Continent  \n",
       "0                Title 8  Inadmissibles                3  North America  \n",
       "1               Title 42     Expulsions                2  North America  \n",
       "2               Title 42     Expulsions                6        Unknown  \n",
       "3               Title 42     Expulsions               11  North America  \n",
       "4                Title 8  Inadmissibles               40  North America  \n",
       "...                  ...            ...              ...            ...  \n",
       "58739            Title 8  Apprehensions               27  North America  \n",
       "58740            Title 8  Apprehensions               76  North America  \n",
       "58741            Title 8  Apprehensions                4        Unknown  \n",
       "58742            Title 8  Apprehensions                1         Europe  \n",
       "58743            Title 8  Apprehensions                3  South America  \n",
       "\n",
       "[58744 rows x 12 columns]"
      ]
     },
     "execution_count": 11,
     "metadata": {},
     "output_type": "execute_result"
    }
   ],
   "source": [
    "# Saved cleaned dataframe as encounters_aor_df\n",
    "\n",
    "encounters_aor_df = encounters_aor_cleaned_df\n",
    "encounters_aor_df"
   ]
  },
  {
   "cell_type": "code",
   "execution_count": 12,
   "id": "10b951f3",
   "metadata": {},
   "outputs": [],
   "source": [
    "# Exported encounters_df to a csv file located in a folder.\n",
    "\n",
    "encounters_aor_df.to_csv('.venv/encounters_aor_df.csv', index=False)"
   ]
  },
  {
   "cell_type": "code",
   "execution_count": 13,
   "id": "2a571e2f",
   "metadata": {},
   "outputs": [
    {
     "name": "stdout",
     "output_type": "stream",
     "text": [
      "['Office of Field Operations' 'U.S. Border Patrol']\n"
     ]
    }
   ],
   "source": [
    "# Unique Component\n",
    "unique_component = encounters_aor_df[\"Component\"].unique()\n",
    "print(unique_component)"
   ]
  },
  {
   "cell_type": "code",
   "execution_count": 14,
   "id": "c6470a72",
   "metadata": {},
   "outputs": [
    {
     "name": "stdout",
     "output_type": "stream",
     "text": [
      "['Northern Land Border' 'Other' 'Southwest Land Border']\n"
     ]
    }
   ],
   "source": [
    "# Unique Land Border Regions\n",
    "unique_landborderregion = encounters_aor_df[\"Land Border Region\"].unique()\n",
    "print(unique_landborderregion)"
   ]
  },
  {
   "cell_type": "code",
   "execution_count": 15,
   "id": "556fb0a7",
   "metadata": {},
   "outputs": [
    {
     "name": "stdout",
     "output_type": "stream",
     "text": [
      "['Boston Field Office' 'Buffalo Field Office' 'Detroit Field Office'\n",
      " 'Seattle Field Office' 'Atlanta Field Office' 'Baltimore Field Office'\n",
      " 'Chicago Field Office' 'Houston Field Office' 'Laredo Field Office'\n",
      " 'Los Angeles Field Office' 'Miami Field Office'\n",
      " 'New Orleans Field Office' 'New York Field Office'\n",
      " 'Portland Field Office' 'Preclearance Field Office'\n",
      " 'San Diego Field Office' 'San Francisco Field Office'\n",
      " 'San Juan Field Office' 'Tampa Field Office' 'Tucson Field Office'\n",
      " 'El Paso Field Office' 'Blaine Sector' 'Buffalo Sector' 'Detroit Sector'\n",
      " 'Grand Forks Sector' 'Havre Sector' 'Houlton Sector' 'Spokane Sector'\n",
      " 'Swanton Sector' 'Miami Sector' 'New Orleans Sector' 'Ramey Sector'\n",
      " 'Big Bend Sector' 'Del Rio Sector' 'El Centro Sector' 'El Paso Sector'\n",
      " 'Laredo Sector' 'Rio Grande Valley Sector' 'San Diego Sector'\n",
      " 'Tucson Sector' 'Yuma Sector']\n"
     ]
    }
   ],
   "source": [
    "# Unique Area of Responsibility\n",
    "unique_areaofresponsibility = encounters_aor_df[\"Area of Responsibility\"].unique()\n",
    "print(unique_areaofresponsibility)"
   ]
  },
  {
   "cell_type": "code",
   "execution_count": 16,
   "id": "a7267041",
   "metadata": {},
   "outputs": [
    {
     "name": "stdout",
     "output_type": "stream",
     "text": [
      "['Boston' 'Buffalo' 'Detroit' 'Seattle' 'Atlanta' 'Baltimore' 'Chicago'\n",
      " 'Houston' 'Laredo' 'Los Angeles' 'Miami' 'New Orleans' 'New York'\n",
      " 'Portland' 'Preclearance' 'San Diego' 'San Francisco' 'San Juan' 'Tampa'\n",
      " 'Tucson' 'El Paso' 'BLW' 'BUN' 'DTM' 'GFN' 'HVM' 'HLT' 'SPW' 'SWB' 'MIP'\n",
      " 'NLL' 'RMY' 'BBT' 'DRT' 'ELC' 'EPT' 'LRT' 'RGV' 'SDC' 'TCA' 'YUM']\n"
     ]
    }
   ],
   "source": [
    "# Unique AOR\n",
    "unique_aor = encounters_aor_df[\"AOR\"].unique()\n",
    "print(unique_aor)"
   ]
  },
  {
   "cell_type": "code",
   "execution_count": 17,
   "id": "1921341e",
   "metadata": {},
   "outputs": [
    {
     "name": "stdout",
     "output_type": "stream",
     "text": [
      "['CANADA' 'MEXICO' 'OTHER' 'CHINA' 'COLOMBIA' 'INDIA' 'RUSSIA' 'VENEZUELA'\n",
      " 'UKRAINE' 'EL SALVADOR' 'CUBA' 'ECUADOR' 'GUATEMALA' 'HAITI'\n",
      " 'PHILIPPINES' 'TURKEY' 'HONDURAS' 'NICARAGUA' 'ROMANIA' 'BRAZIL'\n",
      " 'MYANMAR (BURMA)' 'PERU']\n"
     ]
    }
   ],
   "source": [
    "# Unique Citizenships\n",
    "unique_citizenship = encounters_aor_df[\"Citizenship\"].unique()\n",
    "print(unique_citizenship)"
   ]
  },
  {
   "cell_type": "code",
   "execution_count": 18,
   "id": "94eafa0d",
   "metadata": {},
   "outputs": [
    {
     "name": "stdout",
     "output_type": "stream",
     "text": [
      "['Accompanied Minors' 'Single Adults' 'FMUA' 'UC / Single Minors']\n"
     ]
    }
   ],
   "source": [
    "# Unique Demographic\n",
    "\n",
    "unique_demographic = encounters_aor_df[\"Demographic\"].unique()\n",
    "print(unique_demographic)"
   ]
  },
  {
   "cell_type": "code",
   "execution_count": 19,
   "id": "9c9ac6ab",
   "metadata": {},
   "outputs": [
    {
     "name": "stdout",
     "output_type": "stream",
     "text": [
      "['Title 8' 'Title 42']\n"
     ]
    }
   ],
   "source": [
    "# Unique Title of Authority\n",
    "unique_titleofauthority = encounters_aor_df[\"Title of Authority\"].unique()\n",
    "print(unique_titleofauthority)"
   ]
  },
  {
   "cell_type": "code",
   "execution_count": 20,
   "id": "4708d64e",
   "metadata": {},
   "outputs": [
    {
     "name": "stdout",
     "output_type": "stream",
     "text": [
      "['Inadmissibles' 'Expulsions' 'Apprehensions']\n"
     ]
    }
   ],
   "source": [
    "# Unique Encounter Type\n",
    "unique_encountertype = encounters_aor_df[\"Encounter Type\"].unique()\n",
    "print(unique_encountertype)"
   ]
  },
  {
   "cell_type": "code",
   "execution_count": 21,
   "id": "eacc4a82",
   "metadata": {},
   "outputs": [
    {
     "name": "stdout",
     "output_type": "stream",
     "text": [
      "[2021 2022 2023 2024]\n"
     ]
    }
   ],
   "source": [
    "unique_fiscalyear = encounters_aor_df[\"Fiscal Year\"].unique()\n",
    "print(unique_fiscalyear)"
   ]
  },
  {
   "cell_type": "code",
   "execution_count": 22,
   "id": "efbef0cc",
   "metadata": {},
   "outputs": [
    {
     "name": "stdout",
     "output_type": "stream",
     "text": [
      "['APR' 'AUG' 'DEC' 'FEB' 'JAN' 'JUL' 'JUN' 'MAR' 'MAY' 'NOV' 'OCT' 'SEP']\n"
     ]
    }
   ],
   "source": [
    "unique_month = encounters_aor_df[\"Month\"].unique()\n",
    "print(unique_month)"
   ]
  },
  {
   "cell_type": "code",
   "execution_count": 23,
   "id": "2ddce4a4",
   "metadata": {},
   "outputs": [
    {
     "name": "stdout",
     "output_type": "stream",
     "text": [
      "<class 'pandas.core.frame.DataFrame'>\n",
      "RangeIndex: 58744 entries, 0 to 58743\n",
      "Data columns (total 12 columns):\n",
      " #   Column                  Non-Null Count  Dtype \n",
      "---  ------                  --------------  ----- \n",
      " 0   Fiscal Year             58744 non-null  object\n",
      " 1   Month                   58744 non-null  object\n",
      " 2   Component               58744 non-null  object\n",
      " 3   Land Border Region      58744 non-null  object\n",
      " 4   Area of Responsibility  58744 non-null  object\n",
      " 5   AOR                     58744 non-null  object\n",
      " 6   Demographic             58744 non-null  object\n",
      " 7   Citizenship             58744 non-null  object\n",
      " 8   Title of Authority      58744 non-null  object\n",
      " 9   Encounter Type          58744 non-null  object\n",
      " 10  Encounter Count         58744 non-null  int64 \n",
      " 11  Continent               58744 non-null  object\n",
      "dtypes: int64(1), object(11)\n",
      "memory usage: 5.4+ MB\n"
     ]
    }
   ],
   "source": [
    "encounters_aor_df.info()"
   ]
  },
  {
   "cell_type": "code",
   "execution_count": 24,
   "id": "93df5169",
   "metadata": {},
   "outputs": [
    {
     "data": {
      "text/html": [
       "<div>\n",
       "<style scoped>\n",
       "    .dataframe tbody tr th:only-of-type {\n",
       "        vertical-align: middle;\n",
       "    }\n",
       "\n",
       "    .dataframe tbody tr th {\n",
       "        vertical-align: top;\n",
       "    }\n",
       "\n",
       "    .dataframe thead th {\n",
       "        text-align: right;\n",
       "    }\n",
       "</style>\n",
       "<table border=\"1\" class=\"dataframe\">\n",
       "  <thead>\n",
       "    <tr style=\"text-align: right;\">\n",
       "      <th></th>\n",
       "      <th>Fiscal Year</th>\n",
       "      <th>Month</th>\n",
       "      <th>Component</th>\n",
       "      <th>Land Border Region</th>\n",
       "      <th>Area of Responsibility</th>\n",
       "      <th>AOR</th>\n",
       "      <th>Demographic</th>\n",
       "      <th>Citizenship</th>\n",
       "      <th>Title of Authority</th>\n",
       "      <th>Encounter Type</th>\n",
       "      <th>Encounter Count</th>\n",
       "      <th>Continent</th>\n",
       "    </tr>\n",
       "  </thead>\n",
       "  <tbody>\n",
       "    <tr>\n",
       "      <th>0</th>\n",
       "      <td>2021</td>\n",
       "      <td>APR</td>\n",
       "      <td>Office of Field Operations</td>\n",
       "      <td>Northern Land Border</td>\n",
       "      <td>Boston Field Office</td>\n",
       "      <td>Boston</td>\n",
       "      <td>Accompanied Minors</td>\n",
       "      <td>CANADA</td>\n",
       "      <td>Title 8</td>\n",
       "      <td>Inadmissibles</td>\n",
       "      <td>3</td>\n",
       "      <td>North America</td>\n",
       "    </tr>\n",
       "    <tr>\n",
       "      <th>1</th>\n",
       "      <td>2021</td>\n",
       "      <td>APR</td>\n",
       "      <td>Office of Field Operations</td>\n",
       "      <td>Northern Land Border</td>\n",
       "      <td>Boston Field Office</td>\n",
       "      <td>Boston</td>\n",
       "      <td>Accompanied Minors</td>\n",
       "      <td>MEXICO</td>\n",
       "      <td>Title 42</td>\n",
       "      <td>Expulsions</td>\n",
       "      <td>2</td>\n",
       "      <td>North America</td>\n",
       "    </tr>\n",
       "    <tr>\n",
       "      <th>2</th>\n",
       "      <td>2021</td>\n",
       "      <td>APR</td>\n",
       "      <td>Office of Field Operations</td>\n",
       "      <td>Northern Land Border</td>\n",
       "      <td>Boston Field Office</td>\n",
       "      <td>Boston</td>\n",
       "      <td>Accompanied Minors</td>\n",
       "      <td>OTHER</td>\n",
       "      <td>Title 42</td>\n",
       "      <td>Expulsions</td>\n",
       "      <td>6</td>\n",
       "      <td>Unknown</td>\n",
       "    </tr>\n",
       "    <tr>\n",
       "      <th>3</th>\n",
       "      <td>2021</td>\n",
       "      <td>APR</td>\n",
       "      <td>Office of Field Operations</td>\n",
       "      <td>Northern Land Border</td>\n",
       "      <td>Boston Field Office</td>\n",
       "      <td>Boston</td>\n",
       "      <td>Single Adults</td>\n",
       "      <td>CANADA</td>\n",
       "      <td>Title 42</td>\n",
       "      <td>Expulsions</td>\n",
       "      <td>11</td>\n",
       "      <td>North America</td>\n",
       "    </tr>\n",
       "    <tr>\n",
       "      <th>4</th>\n",
       "      <td>2021</td>\n",
       "      <td>APR</td>\n",
       "      <td>Office of Field Operations</td>\n",
       "      <td>Northern Land Border</td>\n",
       "      <td>Boston Field Office</td>\n",
       "      <td>Boston</td>\n",
       "      <td>Single Adults</td>\n",
       "      <td>CANADA</td>\n",
       "      <td>Title 8</td>\n",
       "      <td>Inadmissibles</td>\n",
       "      <td>40</td>\n",
       "      <td>North America</td>\n",
       "    </tr>\n",
       "    <tr>\n",
       "      <th>...</th>\n",
       "      <td>...</td>\n",
       "      <td>...</td>\n",
       "      <td>...</td>\n",
       "      <td>...</td>\n",
       "      <td>...</td>\n",
       "      <td>...</td>\n",
       "      <td>...</td>\n",
       "      <td>...</td>\n",
       "      <td>...</td>\n",
       "      <td>...</td>\n",
       "      <td>...</td>\n",
       "      <td>...</td>\n",
       "    </tr>\n",
       "    <tr>\n",
       "      <th>58739</th>\n",
       "      <td>2024</td>\n",
       "      <td>SEP</td>\n",
       "      <td>U.S. Border Patrol</td>\n",
       "      <td>Southwest Land Border</td>\n",
       "      <td>Yuma Sector</td>\n",
       "      <td>YUM</td>\n",
       "      <td>UC / Single Minors</td>\n",
       "      <td>GUATEMALA</td>\n",
       "      <td>Title 8</td>\n",
       "      <td>Apprehensions</td>\n",
       "      <td>27</td>\n",
       "      <td>North America</td>\n",
       "    </tr>\n",
       "    <tr>\n",
       "      <th>58740</th>\n",
       "      <td>2024</td>\n",
       "      <td>SEP</td>\n",
       "      <td>U.S. Border Patrol</td>\n",
       "      <td>Southwest Land Border</td>\n",
       "      <td>Yuma Sector</td>\n",
       "      <td>YUM</td>\n",
       "      <td>UC / Single Minors</td>\n",
       "      <td>MEXICO</td>\n",
       "      <td>Title 8</td>\n",
       "      <td>Apprehensions</td>\n",
       "      <td>76</td>\n",
       "      <td>North America</td>\n",
       "    </tr>\n",
       "    <tr>\n",
       "      <th>58741</th>\n",
       "      <td>2024</td>\n",
       "      <td>SEP</td>\n",
       "      <td>U.S. Border Patrol</td>\n",
       "      <td>Southwest Land Border</td>\n",
       "      <td>Yuma Sector</td>\n",
       "      <td>YUM</td>\n",
       "      <td>UC / Single Minors</td>\n",
       "      <td>OTHER</td>\n",
       "      <td>Title 8</td>\n",
       "      <td>Apprehensions</td>\n",
       "      <td>4</td>\n",
       "      <td>Unknown</td>\n",
       "    </tr>\n",
       "    <tr>\n",
       "      <th>58742</th>\n",
       "      <td>2024</td>\n",
       "      <td>SEP</td>\n",
       "      <td>U.S. Border Patrol</td>\n",
       "      <td>Southwest Land Border</td>\n",
       "      <td>Yuma Sector</td>\n",
       "      <td>YUM</td>\n",
       "      <td>UC / Single Minors</td>\n",
       "      <td>RUSSIA</td>\n",
       "      <td>Title 8</td>\n",
       "      <td>Apprehensions</td>\n",
       "      <td>1</td>\n",
       "      <td>Europe</td>\n",
       "    </tr>\n",
       "    <tr>\n",
       "      <th>58743</th>\n",
       "      <td>2024</td>\n",
       "      <td>SEP</td>\n",
       "      <td>U.S. Border Patrol</td>\n",
       "      <td>Southwest Land Border</td>\n",
       "      <td>Yuma Sector</td>\n",
       "      <td>YUM</td>\n",
       "      <td>UC / Single Minors</td>\n",
       "      <td>VENEZUELA</td>\n",
       "      <td>Title 8</td>\n",
       "      <td>Apprehensions</td>\n",
       "      <td>3</td>\n",
       "      <td>South America</td>\n",
       "    </tr>\n",
       "  </tbody>\n",
       "</table>\n",
       "<p>58744 rows × 12 columns</p>\n",
       "</div>"
      ],
      "text/plain": [
       "      Fiscal Year Month                   Component     Land Border Region  \\\n",
       "0            2021   APR  Office of Field Operations   Northern Land Border   \n",
       "1            2021   APR  Office of Field Operations   Northern Land Border   \n",
       "2            2021   APR  Office of Field Operations   Northern Land Border   \n",
       "3            2021   APR  Office of Field Operations   Northern Land Border   \n",
       "4            2021   APR  Office of Field Operations   Northern Land Border   \n",
       "...           ...   ...                         ...                    ...   \n",
       "58739        2024   SEP          U.S. Border Patrol  Southwest Land Border   \n",
       "58740        2024   SEP          U.S. Border Patrol  Southwest Land Border   \n",
       "58741        2024   SEP          U.S. Border Patrol  Southwest Land Border   \n",
       "58742        2024   SEP          U.S. Border Patrol  Southwest Land Border   \n",
       "58743        2024   SEP          U.S. Border Patrol  Southwest Land Border   \n",
       "\n",
       "      Area of Responsibility     AOR         Demographic Citizenship  \\\n",
       "0        Boston Field Office  Boston  Accompanied Minors      CANADA   \n",
       "1        Boston Field Office  Boston  Accompanied Minors      MEXICO   \n",
       "2        Boston Field Office  Boston  Accompanied Minors       OTHER   \n",
       "3        Boston Field Office  Boston       Single Adults      CANADA   \n",
       "4        Boston Field Office  Boston       Single Adults      CANADA   \n",
       "...                      ...     ...                 ...         ...   \n",
       "58739            Yuma Sector     YUM  UC / Single Minors   GUATEMALA   \n",
       "58740            Yuma Sector     YUM  UC / Single Minors      MEXICO   \n",
       "58741            Yuma Sector     YUM  UC / Single Minors       OTHER   \n",
       "58742            Yuma Sector     YUM  UC / Single Minors      RUSSIA   \n",
       "58743            Yuma Sector     YUM  UC / Single Minors   VENEZUELA   \n",
       "\n",
       "      Title of Authority Encounter Type  Encounter Count      Continent  \n",
       "0                Title 8  Inadmissibles                3  North America  \n",
       "1               Title 42     Expulsions                2  North America  \n",
       "2               Title 42     Expulsions                6        Unknown  \n",
       "3               Title 42     Expulsions               11  North America  \n",
       "4                Title 8  Inadmissibles               40  North America  \n",
       "...                  ...            ...              ...            ...  \n",
       "58739            Title 8  Apprehensions               27  North America  \n",
       "58740            Title 8  Apprehensions               76  North America  \n",
       "58741            Title 8  Apprehensions                4        Unknown  \n",
       "58742            Title 8  Apprehensions                1         Europe  \n",
       "58743            Title 8  Apprehensions                3  South America  \n",
       "\n",
       "[58744 rows x 12 columns]"
      ]
     },
     "execution_count": 24,
     "metadata": {},
     "output_type": "execute_result"
    }
   ],
   "source": [
    "encounters_aor_df"
   ]
  },
  {
   "cell_type": "code",
   "execution_count": 25,
   "id": "3ed3deb1",
   "metadata": {},
   "outputs": [
    {
     "data": {
      "image/png": "[encoded data removed]",
      "text/plain": [
       "<Figure size 720x432 with 1 Axes>"
      ]
     },
     "metadata": {
      "needs_background": "light"
     },
     "output_type": "display_data"
    }
   ],
   "source": [
    "# 1. Sum of Encounters by Fiscal Year. Use a bar plot to visualize the data. Add title and labels. Add results to top of each bar.\n",
    "encounters_by_fiscal_year = encounters_aor_df.groupby('Fiscal Year')['Encounter Count'].sum().reset_index()\n",
    "plt.figure(figsize=(10, 6))\n",
    "sns.barplot(data=encounters_by_fiscal_year, x='Fiscal Year', y='Encounter Count', palette='viridis')\n",
    "plt.title('Total Encounters by Fiscal Year')\n",
    "plt.xlabel('Fiscal Year')\n",
    "plt.ylabel('Total Encounters')\n",
    "for index, row in encounters_by_fiscal_year.iterrows():\n",
    "    plt.text(index, row['Encounter Count'], f\"{row['Encounter Count']:,}\", color='black', ha='center', va='bottom')\n",
    "plt.xticks(rotation=45)\n",
    "plt.tight_layout()\n",
    "plt.show()"
   ]
  },
  {
   "cell_type": "code",
   "execution_count": 26,
   "id": "50a408cf",
   "metadata": {},
   "outputs": [
    {
     "data": {
      "image/png": "[encoded data removed]",
      "text/plain": [
       "<Figure size 1008x504 with 1 Axes>"
      ]
     },
     "metadata": {
      "needs_background": "light"
     },
     "output_type": "display_data"
    },
    {
     "name": "stdout",
     "output_type": "stream",
     "text": [
      "Month           APR     AUG     DEC     FEB     JAN     JUL     JUN     MAR  \\\n",
      "Fiscal Year                                                                   \n",
      "2021         196190  231243   92746  115559   95276  233919  207823  192025   \n",
      "2022         262109  251521  205691  190578  186808  238929  247523  250404   \n",
      "2023         276036  304073  302392  213911  209151  245154  211457  259471   \n",
      "2024         247929  158893  370883  256071  242530  170180  204932  246505   \n",
      "\n",
      "Month           MAY     NOV     OCT     SEP  \n",
      "Fiscal Year                                  \n",
      "2021         198459   89072   90585  213622  \n",
      "2022         274992  198553  187136  272338  \n",
      "2023         275166  284624  278317  341392  \n",
      "2024         240924  308605  309024  144666  \n"
     ]
    }
   ],
   "source": [
    "# 2. Group by Fiscal Year and Month, then sum Encounter Count\n",
    "encounters_by_year_month = encounters_aor_df.groupby(['Fiscal Year', 'Month'])['Encounter Count'].sum().unstack(fill_value=0)\n",
    "\n",
    "# Plot as a grouped bar chart\n",
    "encounters_by_year_month.T.plot(kind='bar', figsize=(14, 7))\n",
    "plt.title('Total Encounters by Fiscal Year and Month')\n",
    "plt.xlabel('Month')\n",
    "plt.ylabel('Encounter Count')\n",
    "plt.xticks(rotation=45)\n",
    "plt.legend(title='Fiscal Year')\n",
    "plt.tight_layout()\n",
    "plt.grid(axis='y')\n",
    "plt.show()\n",
    "\n",
    "print(encounters_by_year_month)"
   ]
  },
  {
   "cell_type": "code",
   "execution_count": 27,
   "id": "9d99f9bf",
   "metadata": {},
   "outputs": [
    {
     "name": "stdout",
     "output_type": "stream",
     "text": [
      "Month           APR     AUG     DEC     FEB     JAN     JUL     JUN     MAR  \\\n",
      "Fiscal Year                                                                   \n",
      "2021         196190  231243   92746  115559   95276  233919  207823  192025   \n",
      "2022         262109  251521  205691  190578  186808  238929  247523  250404   \n",
      "2023         276036  304073  302392  213911  209151  245154  211457  259471   \n",
      "2024         247929  158893  370883  256071  242530  170180  204932  246505   \n",
      "\n",
      "Month           MAY     NOV     OCT     SEP  \n",
      "Fiscal Year                                  \n",
      "2021         198459   89072   90585  213622  \n",
      "2022         274992  198553  187136  272338  \n",
      "2023         275166  284624  278317  341392  \n",
      "2024         240924  308605  309024  144666  \n"
     ]
    },
    {
     "data": {
      "image/png": "[encoded data removed]",
      "text/plain": [
       "<Figure size 864x432 with 2 Axes>"
      ]
     },
     "metadata": {
      "needs_background": "light"
     },
     "output_type": "display_data"
    }
   ],
   "source": [
    "print(encounters_by_year_month)\n",
    "# Visualize the data. Add table. No heatmap.\n",
    "plt.figure(figsize=(12, 6))\n",
    "sns.heatmap(encounters_by_year_month, annot=True, fmt='d', cmap='viridis', cbar_kws={'label': 'Encounter Count'})\n",
    "plt.title('Total Encounters by Fiscal Year and Month')\n",
    "plt.xlabel('Fiscal Year')\n",
    "plt.ylabel('Month')\n",
    "plt.xticks(rotation=45)\n",
    "plt.tight_layout()\n",
    "plt.show()  "
   ]
  },
  {
   "cell_type": "code",
   "execution_count": 28,
   "id": "45449912",
   "metadata": {},
   "outputs": [
    {
     "data": {
      "image/png": "[encoded data removed]",
      "text/plain": [
       "<Figure size 720x432 with 1 Axes>"
      ]
     },
     "metadata": {
      "needs_background": "light"
     },
     "output_type": "display_data"
    },
    {
     "name": "stdout",
     "output_type": "stream",
     "text": [
      "Continent\n",
      "North America    6837887\n",
      "South America    2050948\n",
      "Unknown           761835\n",
      "Asia              740167\n",
      "Europe            434550\n",
      "Name: Encounter Count, dtype: int64\n"
     ]
    }
   ],
   "source": [
    "# 3. Sum of Encounters by Continent with a bar chart. Add title and labels. Use seaborn for styling. Print the results. Not horizontal. Display the results on top of the bars.\n",
    "encounters_by_continent = encounters_aor_df.groupby('Continent')['Encounter Count'].sum().sort_values(ascending=False)\n",
    "plt.figure(figsize=(10, 6))\n",
    "sns.barplot(x=encounters_by_continent.index, y=encounters_by_continent.values, palette='viridis')\n",
    "plt.title('Total Encounters by Continent')\n",
    "plt.xlabel('Continent')\n",
    "plt.ylabel('Total Encounters')\n",
    "plt.xticks(rotation=45)\n",
    "for index, value in enumerate(encounters_by_continent.values):\n",
    "    plt.text(index, value + 50, f'{value:,}', ha='center', va='bottom')\n",
    "plt.tight_layout()\n",
    "plt.show()\n",
    "print(encounters_by_continent)"
   ]
  },
  {
   "cell_type": "code",
   "execution_count": 29,
   "id": "aab14e24",
   "metadata": {},
   "outputs": [
    {
     "data": {
      "image/png": "[encoded data removed]",
      "text/plain": [
       "<Figure size 1152x576 with 1 Axes>"
      ]
     },
     "metadata": {
      "needs_background": "light"
     },
     "output_type": "display_data"
    }
   ],
   "source": [
    "# 4. Group by Fiscal Year and Citizenship, then sum Encounter Count\n",
    "grouped_data = encounters_aor_df.groupby(['Fiscal Year', 'Citizenship'])['Encounter Count'].sum().reset_index()\n",
    "\n",
    "# Create a pivot table\n",
    "pivot_table = grouped_data.pivot(index='Citizenship', columns='Fiscal Year', values='Encounter Count').fillna(0)\n",
    "\n",
    "# Sum across fiscal years for annotation\n",
    "total_by_citizenship = pivot_table.sum(axis=1)\n",
    "\n",
    "# Plot as stacked bar chart\n",
    "ax = pivot_table.plot(kind='bar', stacked=True, figsize=(16, 8))\n",
    "\n",
    "# Add total labels on top of each bar\n",
    "for idx, total in enumerate(total_by_citizenship):\n",
    "    ax.text(idx, total + total_by_citizenship.max() * 0.01, f'{int(total)}', ha='center', va='bottom', fontsize=8, rotation=90)\n",
    "\n",
    "plt.title('Sum of Encounter Count by Citizenship and Fiscal Year (with Totals)')\n",
    "plt.xlabel('Citizenship')\n",
    "plt.ylabel('Total Encounter Count')\n",
    "plt.xticks(rotation=90)\n",
    "plt.legend(title='Fiscal Year')\n",
    "plt.tight_layout()\n",
    "plt.grid(axis='y')\n",
    "plt.show()"
   ]
  },
  {
   "cell_type": "code",
   "execution_count": 30,
   "id": "d7453a15",
   "metadata": {},
   "outputs": [
    {
     "data": {
      "application/vnd.plotly.v1+json": {
       "config": {
        "plotlyServerURL": "https://plot.ly"
       },
       "data": [
        {
         "alignmentgroup": "True",
         "hovertemplate": "Fiscal Year=%{x}<br>Total Encounters=%{text}<extra></extra>",
         "legendgroup": "",
         "marker": {
          "color": "#636efa",
          "pattern": {
           "shape": ""
          }
         },
         "name": "",
         "offsetgroup": "",
         "orientation": "v",
         "showlegend": false,
         "text": [
          1956519,
          2766582,
          3201144,
          2901142
         ],
         "textposition": "auto",
         "type": "bar",
         "x": [
          2021,
          2022,
          2023,
          2024
         ],
         "xaxis": "x",
         "y": [
          1956519,
          2766582,
          3201144,
          2901142
         ],
         "yaxis": "y"
        },
        {
         "line": {
          "color": "red",
          "dash": "dash"
         },
         "mode": "lines+markers",
         "name": "Mean",
         "type": "scatter",
         "x": [
          2021,
          2022,
          2023,
          2024
         ],
         "y": [
          2706346.75,
          2706346.75,
          2706346.75,
          2706346.75
         ]
        },
        {
         "line": {
          "color": "blue",
          "dash": "dash"
         },
         "mode": "lines+markers",
         "name": "Median",
         "type": "scatter",
         "x": [
          2021,
          2022,
          2023,
          2024
         ],
         "y": [
          2833862,
          2833862,
          2833862,
          2833862
         ]
        }
       ],
       "layout": {
        "barmode": "relative",
        "legend": {
         "tracegroupgap": 0
        },
        "template": {
         "data": {
          "bar": [
           {
            "error_x": {
             "color": "#2a3f5f"
            },
            "error_y": {
             "color": "#2a3f5f"
            },
            "marker": {
             "line": {
              "color": "#E5ECF6",
              "width": 0.5
             },
             "pattern": {
              "fillmode": "overlay",
              "size": 10,
              "solidity": 0.2
             }
            },
            "type": "bar"
           }
          ],
          "barpolar": [
           {
            "marker": {
             "line": {
              "color": "#E5ECF6",
              "width": 0.5
             },
             "pattern": {
              "fillmode": "overlay",
              "size": 10,
              "solidity": 0.2
             }
            },
            "type": "barpolar"
           }
          ],
          "carpet": [
           {
            "aaxis": {
             "endlinecolor": "#2a3f5f",
             "gridcolor": "white",
             "linecolor": "white",
             "minorgridcolor": "white",
             "startlinecolor": "#2a3f5f"
            },
            "baxis": {
             "endlinecolor": "#2a3f5f",
             "gridcolor": "white",
             "linecolor": "white",
             "minorgridcolor": "white",
             "startlinecolor": "#2a3f5f"
            },
            "type": "carpet"
           }
          ],
          "choropleth": [
           {
            "colorbar": {
             "outlinewidth": 0,
             "ticks": ""
            },
            "type": "choropleth"
           }
          ],
          "contour": [
           {
            "colorbar": {
             "outlinewidth": 0,
             "ticks": ""
            },
            "colorscale": [
             [
              0,
              "#0d0887"
             ],
             [
              0.1111111111111111,
              "#46039f"
             ],
             [
              0.2222222222222222,
              "#7201a8"
             ],
             [
              0.3333333333333333,
              "#9c179e"
             ],
             [
              0.4444444444444444,
              "#bd3786"
             ],
             [
              0.5555555555555556,
              "#d8576b"
             ],
             [
              0.6666666666666666,
              "#ed7953"
             ],
             [
              0.7777777777777778,
              "#fb9f3a"
             ],
             [
              0.8888888888888888,
              "#fdca26"
             ],
             [
              1,
              "#f0f921"
             ]
            ],
            "type": "contour"
           }
          ],
          "contourcarpet": [
           {
            "colorbar": {
             "outlinewidth": 0,
             "ticks": ""
            },
            "type": "contourcarpet"
           }
          ],
          "heatmap": [
           {
            "colorbar": {
             "outlinewidth": 0,
             "ticks": ""
            },
            "colorscale": [
             [
              0,
              "#0d0887"
             ],
             [
              0.1111111111111111,
              "#46039f"
             ],
             [
              0.2222222222222222,
              "#7201a8"
             ],
             [
              0.3333333333333333,
              "#9c179e"
             ],
             [
              0.4444444444444444,
              "#bd3786"
             ],
             [
              0.5555555555555556,
              "#d8576b"
             ],
             [
              0.6666666666666666,
              "#ed7953"
             ],
             [
              0.7777777777777778,
              "#fb9f3a"
             ],
             [
              0.8888888888888888,
              "#fdca26"
             ],
             [
              1,
              "#f0f921"
             ]
            ],
            "type": "heatmap"
           }
          ],
          "heatmapgl": [
           {
            "colorbar": {
             "outlinewidth": 0,
             "ticks": ""
            },
            "colorscale": [
             [
              0,
              "#0d0887"
             ],
             [
              0.1111111111111111,
              "#46039f"
             ],
             [
              0.2222222222222222,
              "#7201a8"
             ],
             [
              0.3333333333333333,
              "#9c179e"
             ],
             [
              0.4444444444444444,
              "#bd3786"
             ],
             [
              0.5555555555555556,
              "#d8576b"
             ],
             [
              0.6666666666666666,
              "#ed7953"
             ],
             [
              0.7777777777777778,
              "#fb9f3a"
             ],
             [
              0.8888888888888888,
              "#fdca26"
             ],
             [
              1,
              "#f0f921"
             ]
            ],
            "type": "heatmapgl"
           }
          ],
          "histogram": [
           {
            "marker": {
             "pattern": {
              "fillmode": "overlay",
              "size": 10,
              "solidity": 0.2
             }
            },
            "type": "histogram"
           }
          ],
          "histogram2d": [
           {
            "colorbar": {
             "outlinewidth": 0,
             "ticks": ""
            },
            "colorscale": [
             [
              0,
              "#0d0887"
             ],
             [
              0.1111111111111111,
              "#46039f"
             ],
             [
              0.2222222222222222,
              "#7201a8"
             ],
             [
              0.3333333333333333,
              "#9c179e"
             ],
             [
              0.4444444444444444,
              "#bd3786"
             ],
             [
              0.5555555555555556,
              "#d8576b"
             ],
             [
              0.6666666666666666,
              "#ed7953"
             ],
             [
              0.7777777777777778,
              "#fb9f3a"
             ],
             [
              0.8888888888888888,
              "#fdca26"
             ],
             [
              1,
              "#f0f921"
             ]
            ],
            "type": "histogram2d"
           }
          ],
          "histogram2dcontour": [
           {
            "colorbar": {
             "outlinewidth": 0,
             "ticks": ""
            },
            "colorscale": [
             [
              0,
              "#0d0887"
             ],
             [
              0.1111111111111111,
              "#46039f"
             ],
             [
              0.2222222222222222,
              "#7201a8"
             ],
             [
              0.3333333333333333,
              "#9c179e"
             ],
             [
              0.4444444444444444,
              "#bd3786"
             ],
             [
              0.5555555555555556,
              "#d8576b"
             ],
             [
              0.6666666666666666,
              "#ed7953"
             ],
             [
              0.7777777777777778,
              "#fb9f3a"
             ],
             [
              0.8888888888888888,
              "#fdca26"
             ],
             [
              1,
              "#f0f921"
             ]
            ],
            "type": "histogram2dcontour"
           }
          ],
          "mesh3d": [
           {
            "colorbar": {
             "outlinewidth": 0,
             "ticks": ""
            },
            "type": "mesh3d"
           }
          ],
          "parcoords": [
           {
            "line": {
             "colorbar": {
              "outlinewidth": 0,
              "ticks": ""
             }
            },
            "type": "parcoords"
           }
          ],
          "pie": [
           {
            "automargin": true,
            "type": "pie"
           }
          ],
          "scatter": [
           {
            "fillpattern": {
             "fillmode": "overlay",
             "size": 10,
             "solidity": 0.2
            },
            "type": "scatter"
           }
          ],
          "scatter3d": [
           {
            "line": {
             "colorbar": {
              "outlinewidth": 0,
              "ticks": ""
             }
            },
            "marker": {
             "colorbar": {
              "outlinewidth": 0,
              "ticks": ""
             }
            },
            "type": "scatter3d"
           }
          ],
          "scattercarpet": [
           {
            "marker": {
             "colorbar": {
              "outlinewidth": 0,
              "ticks": ""
             }
            },
            "type": "scattercarpet"
           }
          ],
          "scattergeo": [
           {
            "marker": {
             "colorbar": {
              "outlinewidth": 0,
              "ticks": ""
             }
            },
            "type": "scattergeo"
           }
          ],
          "scattergl": [
           {
            "marker": {
             "colorbar": {
              "outlinewidth": 0,
              "ticks": ""
             }
            },
            "type": "scattergl"
           }
          ],
          "scattermapbox": [
           {
            "marker": {
             "colorbar": {
              "outlinewidth": 0,
              "ticks": ""
             }
            },
            "type": "scattermapbox"
           }
          ],
          "scatterpolar": [
           {
            "marker": {
             "colorbar": {
              "outlinewidth": 0,
              "ticks": ""
             }
            },
            "type": "scatterpolar"
           }
          ],
          "scatterpolargl": [
           {
            "marker": {
             "colorbar": {
              "outlinewidth": 0,
              "ticks": ""
             }
            },
            "type": "scatterpolargl"
           }
          ],
          "scatterternary": [
           {
            "marker": {
             "colorbar": {
              "outlinewidth": 0,
              "ticks": ""
             }
            },
            "type": "scatterternary"
           }
          ],
          "surface": [
           {
            "colorbar": {
             "outlinewidth": 0,
             "ticks": ""
            },
            "colorscale": [
             [
              0,
              "#0d0887"
             ],
             [
              0.1111111111111111,
              "#46039f"
             ],
             [
              0.2222222222222222,
              "#7201a8"
             ],
             [
              0.3333333333333333,
              "#9c179e"
             ],
             [
              0.4444444444444444,
              "#bd3786"
             ],
             [
              0.5555555555555556,
              "#d8576b"
             ],
             [
              0.6666666666666666,
              "#ed7953"
             ],
             [
              0.7777777777777778,
              "#fb9f3a"
             ],
             [
              0.8888888888888888,
              "#fdca26"
             ],
             [
              1,
              "#f0f921"
             ]
            ],
            "type": "surface"
           }
          ],
          "table": [
           {
            "cells": {
             "fill": {
              "color": "#EBF0F8"
             },
             "line": {
              "color": "white"
             }
            },
            "header": {
             "fill": {
              "color": "#C8D4E3"
             },
             "line": {
              "color": "white"
             }
            },
            "type": "table"
           }
          ]
         },
         "layout": {
          "annotationdefaults": {
           "arrowcolor": "#2a3f5f",
           "arrowhead": 0,
           "arrowwidth": 1
          },
          "autotypenumbers": "strict",
          "coloraxis": {
           "colorbar": {
            "outlinewidth": 0,
            "ticks": ""
           }
          },
          "colorscale": {
           "diverging": [
            [
             0,
             "#8e0152"
            ],
            [
             0.1,
             "#c51b7d"
            ],
            [
             0.2,
             "#de77ae"
            ],
            [
             0.3,
             "#f1b6da"
            ],
            [
             0.4,
             "#fde0ef"
            ],
            [
             0.5,
             "#f7f7f7"
            ],
            [
             0.6,
             "#e6f5d0"
            ],
            [
             0.7,
             "#b8e186"
            ],
            [
             0.8,
             "#7fbc41"
            ],
            [
             0.9,
             "#4d9221"
            ],
            [
             1,
             "#276419"
            ]
           ],
           "sequential": [
            [
             0,
             "#0d0887"
            ],
            [
             0.1111111111111111,
             "#46039f"
            ],
            [
             0.2222222222222222,
             "#7201a8"
            ],
            [
             0.3333333333333333,
             "#9c179e"
            ],
            [
             0.4444444444444444,
             "#bd3786"
            ],
            [
             0.5555555555555556,
             "#d8576b"
            ],
            [
             0.6666666666666666,
             "#ed7953"
            ],
            [
             0.7777777777777778,
             "#fb9f3a"
            ],
            [
             0.8888888888888888,
             "#fdca26"
            ],
            [
             1,
             "#f0f921"
            ]
           ],
           "sequentialminus": [
            [
             0,
             "#0d0887"
            ],
            [
             0.1111111111111111,
             "#46039f"
            ],
            [
             0.2222222222222222,
             "#7201a8"
            ],
            [
             0.3333333333333333,
             "#9c179e"
            ],
            [
             0.4444444444444444,
             "#bd3786"
            ],
            [
             0.5555555555555556,
             "#d8576b"
            ],
            [
             0.6666666666666666,
             "#ed7953"
            ],
            [
             0.7777777777777778,
             "#fb9f3a"
            ],
            [
             0.8888888888888888,
             "#fdca26"
            ],
            [
             1,
             "#f0f921"
            ]
           ]
          },
          "colorway": [
           "#636efa",
           "#EF553B",
           "#00cc96",
           "#ab63fa",
           "#FFA15A",
           "#19d3f3",
           "#FF6692",
           "#B6E880",
           "#FF97FF",
           "#FECB52"
          ],
          "font": {
           "color": "#2a3f5f"
          },
          "geo": {
           "bgcolor": "white",
           "lakecolor": "white",
           "landcolor": "#E5ECF6",
           "showlakes": true,
           "showland": true,
           "subunitcolor": "white"
          },
          "hoverlabel": {
           "align": "left"
          },
          "hovermode": "closest",
          "mapbox": {
           "style": "light"
          },
          "paper_bgcolor": "white",
          "plot_bgcolor": "#E5ECF6",
          "polar": {
           "angularaxis": {
            "gridcolor": "white",
            "linecolor": "white",
            "ticks": ""
           },
           "bgcolor": "#E5ECF6",
           "radialaxis": {
            "gridcolor": "white",
            "linecolor": "white",
            "ticks": ""
           }
          },
          "scene": {
           "xaxis": {
            "backgroundcolor": "#E5ECF6",
            "gridcolor": "white",
            "gridwidth": 2,
            "linecolor": "white",
            "showbackground": true,
            "ticks": "",
            "zerolinecolor": "white"
           },
           "yaxis": {
            "backgroundcolor": "#E5ECF6",
            "gridcolor": "white",
            "gridwidth": 2,
            "linecolor": "white",
            "showbackground": true,
            "ticks": "",
            "zerolinecolor": "white"
           },
           "zaxis": {
            "backgroundcolor": "#E5ECF6",
            "gridcolor": "white",
            "gridwidth": 2,
            "linecolor": "white",
            "showbackground": true,
            "ticks": "",
            "zerolinecolor": "white"
           }
          },
          "shapedefaults": {
           "line": {
            "color": "#2a3f5f"
           }
          },
          "ternary": {
           "aaxis": {
            "gridcolor": "white",
            "linecolor": "white",
            "ticks": ""
           },
           "baxis": {
            "gridcolor": "white",
            "linecolor": "white",
            "ticks": ""
           },
           "bgcolor": "#E5ECF6",
           "caxis": {
            "gridcolor": "white",
            "linecolor": "white",
            "ticks": ""
           }
          },
          "title": {
           "x": 0.05
          },
          "xaxis": {
           "automargin": true,
           "gridcolor": "white",
           "linecolor": "white",
           "ticks": "",
           "title": {
            "standoff": 15
           },
           "zerolinecolor": "white",
           "zerolinewidth": 2
          },
          "yaxis": {
           "automargin": true,
           "gridcolor": "white",
           "linecolor": "white",
           "ticks": "",
           "title": {
            "standoff": 15
           },
           "zerolinecolor": "white",
           "zerolinewidth": 2
          }
         }
        },
        "title": {
         "text": "Total Encounters by Fiscal Year with Mean and Median"
        },
        "xaxis": {
         "anchor": "y",
         "domain": [
          0,
          1
         ],
         "title": {
          "text": "Fiscal Year"
         }
        },
        "yaxis": {
         "anchor": "x",
         "domain": [
          0,
          1
         ],
         "title": {
          "text": "Total Encounters"
         }
        }
       }
      }
     },
     "metadata": {},
     "output_type": "display_data"
    },
    {
     "name": "stdout",
     "output_type": "stream",
     "text": [
      "   Fiscal Year  Encounter Count        Mean     Median\n",
      "0         2021          1956519  2706346.75  2833862.0\n",
      "1         2022          2766582  2706346.75  2833862.0\n",
      "2         2023          3201144  2706346.75  2833862.0\n",
      "3         2024          2901142  2706346.75  2833862.0\n"
     ]
    }
   ],
   "source": [
    "# 5. Calculate the mean and median of the Sum of Encounter Count by Fiscal Year. Add interactive table with plotly. Add meand and median results to the table.\n",
    "encounters_by_fiscal_year_stats = encounters_by_fiscal_year.copy()\n",
    "encounters_by_fiscal_year_stats['Mean'] = encounters_by_fiscal_year_stats['Encounter Count'].mean()\n",
    "encounters_by_fiscal_year_stats['Median'] = encounters_by_fiscal_year_stats['Encounter Count'].median()\n",
    "import plotly.express as px\n",
    "fig = px.bar(encounters_by_fiscal_year_stats, x='Fiscal Year', y='Encounter Count',\n",
    "             title='Total Encounters by Fiscal Year with Mean and Median',\n",
    "             labels={'Encounter Count': 'Total Encounters'},\n",
    "             text='Encounter Count')\n",
    "fig.add_scatter(x=encounters_by_fiscal_year_stats['Fiscal Year'], y=encounters_by_fiscal_year_stats['Mean'],\n",
    "                mode='lines+markers', name='Mean', line=dict(color='red', dash='dash'))\n",
    "fig.add_scatter(x=encounters_by_fiscal_year_stats['Fiscal Year'], y=encounters_by_fiscal_year_stats['Median'],\n",
    "                mode='lines+markers', name='Median', line=dict(color='blue', dash='dash'))\n",
    "fig.update_layout(yaxis_title='Total Encounters', xaxis_title='Fiscal Year')\n",
    "fig.show()\n",
    "\n",
    "print(encounters_by_fiscal_year_stats)\n"
   ]
  },
  {
   "cell_type": "code",
   "execution_count": 31,
   "id": "aa5ca677",
   "metadata": {},
   "outputs": [
    {
     "name": "stdout",
     "output_type": "stream",
     "text": [
      "   Fiscal Year  Encounter Count        Mean     Median  Standard Deviation  \\\n",
      "0         2021          1956519  2706346.75  2833862.0       531864.471472   \n",
      "1         2022          2766582  2706346.75  2833862.0       531864.471472   \n",
      "2         2023          3201144  2706346.75  2833862.0       531864.471472   \n",
      "3         2024          2901142  2706346.75  2833862.0       531864.471472   \n",
      "\n",
      "       Variance  \n",
      "0  2.828798e+11  \n",
      "1  2.828798e+11  \n",
      "2  2.828798e+11  \n",
      "3  2.828798e+11  \n"
     ]
    },
    {
     "data": {
      "image/png": "[encoded data removed]",
      "text/plain": [
       "<Figure size 720x432 with 1 Axes>"
      ]
     },
     "metadata": {
      "needs_background": "light"
     },
     "output_type": "display_data"
    }
   ],
   "source": [
    "# 6. Calculate the standard deviation and variance of the Sum of Encounter Count by Fiscal Year. \n",
    "encounters_by_fiscal_year_stats['Standard Deviation'] = encounters_by_fiscal_year_stats['Encounter Count'].std()\n",
    "encounters_by_fiscal_year_stats['Variance'] = encounters_by_fiscal_year_stats['Encounter Count'].var()\n",
    "# Display the updated DataFrame with standard deviation and variance\n",
    "print(encounters_by_fiscal_year_stats[['Fiscal Year', 'Encounter Count', 'Mean', 'Median', 'Standard Deviation', 'Variance']])\n",
    "# 7. Create a line plot of the Sum of Encounter Count by Fiscal Year with a trend line. Add title and labels. Use seaborn for styling.\n",
    "plt.figure(figsize=(10, 6))\n",
    "sns.lineplot(data=encounters_by_fiscal_year_stats, x='Fiscal Year', y='Encounter Count', marker='o', label='Total Encounters')\n",
    "sns.regplot(data=encounters_by_fiscal_year_stats, x='Fiscal Year', y='Encounter Count', scatter=False, color='red', label='Trend Line')\n",
    "plt.title('Total Encounters by Fiscal Year with Trend Line')\n",
    "plt.xlabel('Fiscal Year')\n",
    "plt.ylabel('Total Encounters')\n",
    "plt.xticks(rotation=45)\n",
    "plt.legend()\n",
    "plt.tight_layout()\n",
    "plt.show()\n"
   ]
  },
  {
   "cell_type": "code",
   "execution_count": 32,
   "id": "52406795",
   "metadata": {},
   "outputs": [
    {
     "data": {
      "application/vnd.plotly.v1+json": {
       "config": {
        "plotlyServerURL": "https://plot.ly"
       },
       "data": [
        {
         "alignmentgroup": "True",
         "hovertemplate": "Fiscal Year=%{x}<br>Total Encounters=%{text}<extra></extra>",
         "legendgroup": "",
         "marker": {
          "color": "#636efa",
          "pattern": {
           "shape": ""
          }
         },
         "name": "",
         "offsetgroup": "",
         "orientation": "v",
         "showlegend": false,
         "text": [
          1956519,
          2766582,
          3201144,
          2901142
         ],
         "textposition": "auto",
         "type": "bar",
         "x": [
          2021,
          2022,
          2023,
          2024
         ],
         "xaxis": "x",
         "y": [
          1956519,
          2766582,
          3201144,
          2901142
         ],
         "yaxis": "y"
        },
        {
         "line": {
          "color": "green",
          "dash": "dash"
         },
         "mode": "lines+markers",
         "name": "Max",
         "type": "scatter",
         "x": [
          2021,
          2022,
          2023,
          2024
         ],
         "y": [
          3201144,
          3201144,
          3201144,
          3201144
         ]
        },
        {
         "line": {
          "color": "brown",
          "dash": "dash"
         },
         "mode": "lines+markers",
         "name": "Min",
         "type": "scatter",
         "x": [
          2021,
          2022,
          2023,
          2024
         ],
         "y": [
          1956519,
          1956519,
          1956519,
          1956519
         ]
        }
       ],
       "layout": {
        "barmode": "relative",
        "legend": {
         "tracegroupgap": 0
        },
        "template": {
         "data": {
          "bar": [
           {
            "error_x": {
             "color": "#2a3f5f"
            },
            "error_y": {
             "color": "#2a3f5f"
            },
            "marker": {
             "line": {
              "color": "#E5ECF6",
              "width": 0.5
             },
             "pattern": {
              "fillmode": "overlay",
              "size": 10,
              "solidity": 0.2
             }
            },
            "type": "bar"
           }
          ],
          "barpolar": [
           {
            "marker": {
             "line": {
              "color": "#E5ECF6",
              "width": 0.5
             },
             "pattern": {
              "fillmode": "overlay",
              "size": 10,
              "solidity": 0.2
             }
            },
            "type": "barpolar"
           }
          ],
          "carpet": [
           {
            "aaxis": {
             "endlinecolor": "#2a3f5f",
             "gridcolor": "white",
             "linecolor": "white",
             "minorgridcolor": "white",
             "startlinecolor": "#2a3f5f"
            },
            "baxis": {
             "endlinecolor": "#2a3f5f",
             "gridcolor": "white",
             "linecolor": "white",
             "minorgridcolor": "white",
             "startlinecolor": "#2a3f5f"
            },
            "type": "carpet"
           }
          ],
          "choropleth": [
           {
            "colorbar": {
             "outlinewidth": 0,
             "ticks": ""
            },
            "type": "choropleth"
           }
          ],
          "contour": [
           {
            "colorbar": {
             "outlinewidth": 0,
             "ticks": ""
            },
            "colorscale": [
             [
              0,
              "#0d0887"
             ],
             [
              0.1111111111111111,
              "#46039f"
             ],
             [
              0.2222222222222222,
              "#7201a8"
             ],
             [
              0.3333333333333333,
              "#9c179e"
             ],
             [
              0.4444444444444444,
              "#bd3786"
             ],
             [
              0.5555555555555556,
              "#d8576b"
             ],
             [
              0.6666666666666666,
              "#ed7953"
             ],
             [
              0.7777777777777778,
              "#fb9f3a"
             ],
             [
              0.8888888888888888,
              "#fdca26"
             ],
             [
              1,
              "#f0f921"
             ]
            ],
            "type": "contour"
           }
          ],
          "contourcarpet": [
           {
            "colorbar": {
             "outlinewidth": 0,
             "ticks": ""
            },
            "type": "contourcarpet"
           }
          ],
          "heatmap": [
           {
            "colorbar": {
             "outlinewidth": 0,
             "ticks": ""
            },
            "colorscale": [
             [
              0,
              "#0d0887"
             ],
             [
              0.1111111111111111,
              "#46039f"
             ],
             [
              0.2222222222222222,
              "#7201a8"
             ],
             [
              0.3333333333333333,
              "#9c179e"
             ],
             [
              0.4444444444444444,
              "#bd3786"
             ],
             [
              0.5555555555555556,
              "#d8576b"
             ],
             [
              0.6666666666666666,
              "#ed7953"
             ],
             [
              0.7777777777777778,
              "#fb9f3a"
             ],
             [
              0.8888888888888888,
              "#fdca26"
             ],
             [
              1,
              "#f0f921"
             ]
            ],
            "type": "heatmap"
           }
          ],
          "heatmapgl": [
           {
            "colorbar": {
             "outlinewidth": 0,
             "ticks": ""
            },
            "colorscale": [
             [
              0,
              "#0d0887"
             ],
             [
              0.1111111111111111,
              "#46039f"
             ],
             [
              0.2222222222222222,
              "#7201a8"
             ],
             [
              0.3333333333333333,
              "#9c179e"
             ],
             [
              0.4444444444444444,
              "#bd3786"
             ],
             [
              0.5555555555555556,
              "#d8576b"
             ],
             [
              0.6666666666666666,
              "#ed7953"
             ],
             [
              0.7777777777777778,
              "#fb9f3a"
             ],
             [
              0.8888888888888888,
              "#fdca26"
             ],
             [
              1,
              "#f0f921"
             ]
            ],
            "type": "heatmapgl"
           }
          ],
          "histogram": [
           {
            "marker": {
             "pattern": {
              "fillmode": "overlay",
              "size": 10,
              "solidity": 0.2
             }
            },
            "type": "histogram"
           }
          ],
          "histogram2d": [
           {
            "colorbar": {
             "outlinewidth": 0,
             "ticks": ""
            },
            "colorscale": [
             [
              0,
              "#0d0887"
             ],
             [
              0.1111111111111111,
              "#46039f"
             ],
             [
              0.2222222222222222,
              "#7201a8"
             ],
             [
              0.3333333333333333,
              "#9c179e"
             ],
             [
              0.4444444444444444,
              "#bd3786"
             ],
             [
              0.5555555555555556,
              "#d8576b"
             ],
             [
              0.6666666666666666,
              "#ed7953"
             ],
             [
              0.7777777777777778,
              "#fb9f3a"
             ],
             [
              0.8888888888888888,
              "#fdca26"
             ],
             [
              1,
              "#f0f921"
             ]
            ],
            "type": "histogram2d"
           }
          ],
          "histogram2dcontour": [
           {
            "colorbar": {
             "outlinewidth": 0,
             "ticks": ""
            },
            "colorscale": [
             [
              0,
              "#0d0887"
             ],
             [
              0.1111111111111111,
              "#46039f"
             ],
             [
              0.2222222222222222,
              "#7201a8"
             ],
             [
              0.3333333333333333,
              "#9c179e"
             ],
             [
              0.4444444444444444,
              "#bd3786"
             ],
             [
              0.5555555555555556,
              "#d8576b"
             ],
             [
              0.6666666666666666,
              "#ed7953"
             ],
             [
              0.7777777777777778,
              "#fb9f3a"
             ],
             [
              0.8888888888888888,
              "#fdca26"
             ],
             [
              1,
              "#f0f921"
             ]
            ],
            "type": "histogram2dcontour"
           }
          ],
          "mesh3d": [
           {
            "colorbar": {
             "outlinewidth": 0,
             "ticks": ""
            },
            "type": "mesh3d"
           }
          ],
          "parcoords": [
           {
            "line": {
             "colorbar": {
              "outlinewidth": 0,
              "ticks": ""
             }
            },
            "type": "parcoords"
           }
          ],
          "pie": [
           {
            "automargin": true,
            "type": "pie"
           }
          ],
          "scatter": [
           {
            "fillpattern": {
             "fillmode": "overlay",
             "size": 10,
             "solidity": 0.2
            },
            "type": "scatter"
           }
          ],
          "scatter3d": [
           {
            "line": {
             "colorbar": {
              "outlinewidth": 0,
              "ticks": ""
             }
            },
            "marker": {
             "colorbar": {
              "outlinewidth": 0,
              "ticks": ""
             }
            },
            "type": "scatter3d"
           }
          ],
          "scattercarpet": [
           {
            "marker": {
             "colorbar": {
              "outlinewidth": 0,
              "ticks": ""
             }
            },
            "type": "scattercarpet"
           }
          ],
          "scattergeo": [
           {
            "marker": {
             "colorbar": {
              "outlinewidth": 0,
              "ticks": ""
             }
            },
            "type": "scattergeo"
           }
          ],
          "scattergl": [
           {
            "marker": {
             "colorbar": {
              "outlinewidth": 0,
              "ticks": ""
             }
            },
            "type": "scattergl"
           }
          ],
          "scattermapbox": [
           {
            "marker": {
             "colorbar": {
              "outlinewidth": 0,
              "ticks": ""
             }
            },
            "type": "scattermapbox"
           }
          ],
          "scatterpolar": [
           {
            "marker": {
             "colorbar": {
              "outlinewidth": 0,
              "ticks": ""
             }
            },
            "type": "scatterpolar"
           }
          ],
          "scatterpolargl": [
           {
            "marker": {
             "colorbar": {
              "outlinewidth": 0,
              "ticks": ""
             }
            },
            "type": "scatterpolargl"
           }
          ],
          "scatterternary": [
           {
            "marker": {
             "colorbar": {
              "outlinewidth": 0,
              "ticks": ""
             }
            },
            "type": "scatterternary"
           }
          ],
          "surface": [
           {
            "colorbar": {
             "outlinewidth": 0,
             "ticks": ""
            },
            "colorscale": [
             [
              0,
              "#0d0887"
             ],
             [
              0.1111111111111111,
              "#46039f"
             ],
             [
              0.2222222222222222,
              "#7201a8"
             ],
             [
              0.3333333333333333,
              "#9c179e"
             ],
             [
              0.4444444444444444,
              "#bd3786"
             ],
             [
              0.5555555555555556,
              "#d8576b"
             ],
             [
              0.6666666666666666,
              "#ed7953"
             ],
             [
              0.7777777777777778,
              "#fb9f3a"
             ],
             [
              0.8888888888888888,
              "#fdca26"
             ],
             [
              1,
              "#f0f921"
             ]
            ],
            "type": "surface"
           }
          ],
          "table": [
           {
            "cells": {
             "fill": {
              "color": "#EBF0F8"
             },
             "line": {
              "color": "white"
             }
            },
            "header": {
             "fill": {
              "color": "#C8D4E3"
             },
             "line": {
              "color": "white"
             }
            },
            "type": "table"
           }
          ]
         },
         "layout": {
          "annotationdefaults": {
           "arrowcolor": "#2a3f5f",
           "arrowhead": 0,
           "arrowwidth": 1
          },
          "autotypenumbers": "strict",
          "coloraxis": {
           "colorbar": {
            "outlinewidth": 0,
            "ticks": ""
           }
          },
          "colorscale": {
           "diverging": [
            [
             0,
             "#8e0152"
            ],
            [
             0.1,
             "#c51b7d"
            ],
            [
             0.2,
             "#de77ae"
            ],
            [
             0.3,
             "#f1b6da"
            ],
            [
             0.4,
             "#fde0ef"
            ],
            [
             0.5,
             "#f7f7f7"
            ],
            [
             0.6,
             "#e6f5d0"
            ],
            [
             0.7,
             "#b8e186"
            ],
            [
             0.8,
             "#7fbc41"
            ],
            [
             0.9,
             "#4d9221"
            ],
            [
             1,
             "#276419"
            ]
           ],
           "sequential": [
            [
             0,
             "#0d0887"
            ],
            [
             0.1111111111111111,
             "#46039f"
            ],
            [
             0.2222222222222222,
             "#7201a8"
            ],
            [
             0.3333333333333333,
             "#9c179e"
            ],
            [
             0.4444444444444444,
             "#bd3786"
            ],
            [
             0.5555555555555556,
             "#d8576b"
            ],
            [
             0.6666666666666666,
             "#ed7953"
            ],
            [
             0.7777777777777778,
             "#fb9f3a"
            ],
            [
             0.8888888888888888,
             "#fdca26"
            ],
            [
             1,
             "#f0f921"
            ]
           ],
           "sequentialminus": [
            [
             0,
             "#0d0887"
            ],
            [
             0.1111111111111111,
             "#46039f"
            ],
            [
             0.2222222222222222,
             "#7201a8"
            ],
            [
             0.3333333333333333,
             "#9c179e"
            ],
            [
             0.4444444444444444,
             "#bd3786"
            ],
            [
             0.5555555555555556,
             "#d8576b"
            ],
            [
             0.6666666666666666,
             "#ed7953"
            ],
            [
             0.7777777777777778,
             "#fb9f3a"
            ],
            [
             0.8888888888888888,
             "#fdca26"
            ],
            [
             1,
             "#f0f921"
            ]
           ]
          },
          "colorway": [
           "#636efa",
           "#EF553B",
           "#00cc96",
           "#ab63fa",
           "#FFA15A",
           "#19d3f3",
           "#FF6692",
           "#B6E880",
           "#FF97FF",
           "#FECB52"
          ],
          "font": {
           "color": "#2a3f5f"
          },
          "geo": {
           "bgcolor": "white",
           "lakecolor": "white",
           "landcolor": "#E5ECF6",
           "showlakes": true,
           "showland": true,
           "subunitcolor": "white"
          },
          "hoverlabel": {
           "align": "left"
          },
          "hovermode": "closest",
          "mapbox": {
           "style": "light"
          },
          "paper_bgcolor": "white",
          "plot_bgcolor": "#E5ECF6",
          "polar": {
           "angularaxis": {
            "gridcolor": "white",
            "linecolor": "white",
            "ticks": ""
           },
           "bgcolor": "#E5ECF6",
           "radialaxis": {
            "gridcolor": "white",
            "linecolor": "white",
            "ticks": ""
           }
          },
          "scene": {
           "xaxis": {
            "backgroundcolor": "#E5ECF6",
            "gridcolor": "white",
            "gridwidth": 2,
            "linecolor": "white",
            "showbackground": true,
            "ticks": "",
            "zerolinecolor": "white"
           },
           "yaxis": {
            "backgroundcolor": "#E5ECF6",
            "gridcolor": "white",
            "gridwidth": 2,
            "linecolor": "white",
            "showbackground": true,
            "ticks": "",
            "zerolinecolor": "white"
           },
           "zaxis": {
            "backgroundcolor": "#E5ECF6",
            "gridcolor": "white",
            "gridwidth": 2,
            "linecolor": "white",
            "showbackground": true,
            "ticks": "",
            "zerolinecolor": "white"
           }
          },
          "shapedefaults": {
           "line": {
            "color": "#2a3f5f"
           }
          },
          "ternary": {
           "aaxis": {
            "gridcolor": "white",
            "linecolor": "white",
            "ticks": ""
           },
           "baxis": {
            "gridcolor": "white",
            "linecolor": "white",
            "ticks": ""
           },
           "bgcolor": "#E5ECF6",
           "caxis": {
            "gridcolor": "white",
            "linecolor": "white",
            "ticks": ""
           }
          },
          "title": {
           "x": 0.05
          },
          "xaxis": {
           "automargin": true,
           "gridcolor": "white",
           "linecolor": "white",
           "ticks": "",
           "title": {
            "standoff": 15
           },
           "zerolinecolor": "white",
           "zerolinewidth": 2
          },
          "yaxis": {
           "automargin": true,
           "gridcolor": "white",
           "linecolor": "white",
           "ticks": "",
           "title": {
            "standoff": 15
           },
           "zerolinecolor": "white",
           "zerolinewidth": 2
          }
         }
        },
        "title": {
         "text": "Total Encounters by Fiscal Year with Max and Min"
        },
        "xaxis": {
         "anchor": "y",
         "domain": [
          0,
          1
         ],
         "title": {
          "text": "Fiscal Year"
         }
        },
        "yaxis": {
         "anchor": "x",
         "domain": [
          0,
          1
         ],
         "title": {
          "text": "Total Encounters"
         }
        }
       }
      }
     },
     "metadata": {},
     "output_type": "display_data"
    }
   ],
   "source": [
    "# 7. Max and Min of the Sum of Encounter Count by Fiscal Year. Add interactive table with plotly. Add max and min results to the table.\n",
    "encounters_by_fiscal_year_stats['Max'] = encounters_by_fiscal_year_stats['Encounter Count'].max()\n",
    "encounters_by_fiscal_year_stats['Min'] = encounters_by_fiscal_year_stats['Encounter Count'].min()\n",
    "fig = px.bar(encounters_by_fiscal_year_stats, x='Fiscal Year', y='Encounter Count',\n",
    "             title='Total Encounters by Fiscal Year with Max and Min',\n",
    "             labels={'Encounter Count': 'Total Encounters'},\n",
    "             text='Encounter Count')\n",
    "fig.add_scatter(x=encounters_by_fiscal_year_stats['Fiscal Year'], y=encounters_by_fiscal_year_stats['Max'],\n",
    "                mode='lines+markers', name='Max', line=dict(color='green', dash='dash'))\n",
    "fig.add_scatter(x=encounters_by_fiscal_year_stats['Fiscal Year'], y=encounters_by_fiscal_year_stats['Min'],\n",
    "                mode='lines+markers', name='Min', line=dict(color='brown', dash='dash'))\n",
    "fig.update_layout(yaxis_title='Total Encounters', xaxis_title='Fiscal Year')\n",
    "fig.show()"
   ]
  },
  {
   "cell_type": "code",
   "execution_count": 33,
   "id": "c158800c",
   "metadata": {},
   "outputs": [
    {
     "data": {
      "application/vnd.plotly.v1+json": {
       "config": {
        "plotlyServerURL": "https://plot.ly"
       },
       "data": [
        {
         "alignmentgroup": "True",
         "hovertemplate": "Fiscal Year=%{x}<br>Total Encounters=%{text}<extra></extra>",
         "legendgroup": "",
         "marker": {
          "color": "#636efa",
          "pattern": {
           "shape": ""
          }
         },
         "name": "",
         "offsetgroup": "",
         "orientation": "v",
         "showlegend": false,
         "text": [
          1956519,
          2766582,
          3201144,
          2901142
         ],
         "textposition": "auto",
         "type": "bar",
         "x": [
          2021,
          2022,
          2023,
          2024
         ],
         "xaxis": "x",
         "y": [
          1956519,
          2766582,
          3201144,
          2901142
         ],
         "yaxis": "y"
        },
        {
         "line": {
          "dash": "dash"
         },
         "mode": "lines+markers",
         "name": "Percentile 25",
         "type": "scatter",
         "x": [
          2021,
          2022,
          2023,
          2024
         ],
         "y": [
          2564066.25,
          2564066.25,
          2564066.25,
          2564066.25
         ]
        },
        {
         "line": {
          "dash": "dash"
         },
         "mode": "lines+markers",
         "name": "Percentile 50",
         "type": "scatter",
         "x": [
          2021,
          2022,
          2023,
          2024
         ],
         "y": [
          2833862,
          2833862,
          2833862,
          2833862
         ]
        },
        {
         "line": {
          "dash": "dash"
         },
         "mode": "lines+markers",
         "name": "Percentile 75",
         "type": "scatter",
         "x": [
          2021,
          2022,
          2023,
          2024
         ],
         "y": [
          2976142.5,
          2976142.5,
          2976142.5,
          2976142.5
         ]
        },
        {
         "line": {
          "dash": "dash"
         },
         "mode": "lines+markers",
         "name": "Percentile 90",
         "type": "scatter",
         "x": [
          2021,
          2022,
          2023,
          2024
         ],
         "y": [
          3111143.4,
          3111143.4,
          3111143.4,
          3111143.4
         ]
        },
        {
         "line": {
          "dash": "dash"
         },
         "mode": "lines+markers",
         "name": "Percentile 95",
         "type": "scatter",
         "x": [
          2021,
          2022,
          2023,
          2024
         ],
         "y": [
          3156143.6999999997,
          3156143.6999999997,
          3156143.6999999997,
          3156143.6999999997
         ]
        }
       ],
       "layout": {
        "barmode": "relative",
        "legend": {
         "tracegroupgap": 0
        },
        "template": {
         "data": {
          "bar": [
           {
            "error_x": {
             "color": "#2a3f5f"
            },
            "error_y": {
             "color": "#2a3f5f"
            },
            "marker": {
             "line": {
              "color": "#E5ECF6",
              "width": 0.5
             },
             "pattern": {
              "fillmode": "overlay",
              "size": 10,
              "solidity": 0.2
             }
            },
            "type": "bar"
           }
          ],
          "barpolar": [
           {
            "marker": {
             "line": {
              "color": "#E5ECF6",
              "width": 0.5
             },
             "pattern": {
              "fillmode": "overlay",
              "size": 10,
              "solidity": 0.2
             }
            },
            "type": "barpolar"
           }
          ],
          "carpet": [
           {
            "aaxis": {
             "endlinecolor": "#2a3f5f",
             "gridcolor": "white",
             "linecolor": "white",
             "minorgridcolor": "white",
             "startlinecolor": "#2a3f5f"
            },
            "baxis": {
             "endlinecolor": "#2a3f5f",
             "gridcolor": "white",
             "linecolor": "white",
             "minorgridcolor": "white",
             "startlinecolor": "#2a3f5f"
            },
            "type": "carpet"
           }
          ],
          "choropleth": [
           {
            "colorbar": {
             "outlinewidth": 0,
             "ticks": ""
            },
            "type": "choropleth"
           }
          ],
          "contour": [
           {
            "colorbar": {
             "outlinewidth": 0,
             "ticks": ""
            },
            "colorscale": [
             [
              0,
              "#0d0887"
             ],
             [
              0.1111111111111111,
              "#46039f"
             ],
             [
              0.2222222222222222,
              "#7201a8"
             ],
             [
              0.3333333333333333,
              "#9c179e"
             ],
             [
              0.4444444444444444,
              "#bd3786"
             ],
             [
              0.5555555555555556,
              "#d8576b"
             ],
             [
              0.6666666666666666,
              "#ed7953"
             ],
             [
              0.7777777777777778,
              "#fb9f3a"
             ],
             [
              0.8888888888888888,
              "#fdca26"
             ],
             [
              1,
              "#f0f921"
             ]
            ],
            "type": "contour"
           }
          ],
          "contourcarpet": [
           {
            "colorbar": {
             "outlinewidth": 0,
             "ticks": ""
            },
            "type": "contourcarpet"
           }
          ],
          "heatmap": [
           {
            "colorbar": {
             "outlinewidth": 0,
             "ticks": ""
            },
            "colorscale": [
             [
              0,
              "#0d0887"
             ],
             [
              0.1111111111111111,
              "#46039f"
             ],
             [
              0.2222222222222222,
              "#7201a8"
             ],
             [
              0.3333333333333333,
              "#9c179e"
             ],
             [
              0.4444444444444444,
              "#bd3786"
             ],
             [
              0.5555555555555556,
              "#d8576b"
             ],
             [
              0.6666666666666666,
              "#ed7953"
             ],
             [
              0.7777777777777778,
              "#fb9f3a"
             ],
             [
              0.8888888888888888,
              "#fdca26"
             ],
             [
              1,
              "#f0f921"
             ]
            ],
            "type": "heatmap"
           }
          ],
          "heatmapgl": [
           {
            "colorbar": {
             "outlinewidth": 0,
             "ticks": ""
            },
            "colorscale": [
             [
              0,
              "#0d0887"
             ],
             [
              0.1111111111111111,
              "#46039f"
             ],
             [
              0.2222222222222222,
              "#7201a8"
             ],
             [
              0.3333333333333333,
              "#9c179e"
             ],
             [
              0.4444444444444444,
              "#bd3786"
             ],
             [
              0.5555555555555556,
              "#d8576b"
             ],
             [
              0.6666666666666666,
              "#ed7953"
             ],
             [
              0.7777777777777778,
              "#fb9f3a"
             ],
             [
              0.8888888888888888,
              "#fdca26"
             ],
             [
              1,
              "#f0f921"
             ]
            ],
            "type": "heatmapgl"
           }
          ],
          "histogram": [
           {
            "marker": {
             "pattern": {
              "fillmode": "overlay",
              "size": 10,
              "solidity": 0.2
             }
            },
            "type": "histogram"
           }
          ],
          "histogram2d": [
           {
            "colorbar": {
             "outlinewidth": 0,
             "ticks": ""
            },
            "colorscale": [
             [
              0,
              "#0d0887"
             ],
             [
              0.1111111111111111,
              "#46039f"
             ],
             [
              0.2222222222222222,
              "#7201a8"
             ],
             [
              0.3333333333333333,
              "#9c179e"
             ],
             [
              0.4444444444444444,
              "#bd3786"
             ],
             [
              0.5555555555555556,
              "#d8576b"
             ],
             [
              0.6666666666666666,
              "#ed7953"
             ],
             [
              0.7777777777777778,
              "#fb9f3a"
             ],
             [
              0.8888888888888888,
              "#fdca26"
             ],
             [
              1,
              "#f0f921"
             ]
            ],
            "type": "histogram2d"
           }
          ],
          "histogram2dcontour": [
           {
            "colorbar": {
             "outlinewidth": 0,
             "ticks": ""
            },
            "colorscale": [
             [
              0,
              "#0d0887"
             ],
             [
              0.1111111111111111,
              "#46039f"
             ],
             [
              0.2222222222222222,
              "#7201a8"
             ],
             [
              0.3333333333333333,
              "#9c179e"
             ],
             [
              0.4444444444444444,
              "#bd3786"
             ],
             [
              0.5555555555555556,
              "#d8576b"
             ],
             [
              0.6666666666666666,
              "#ed7953"
             ],
             [
              0.7777777777777778,
              "#fb9f3a"
             ],
             [
              0.8888888888888888,
              "#fdca26"
             ],
             [
              1,
              "#f0f921"
             ]
            ],
            "type": "histogram2dcontour"
           }
          ],
          "mesh3d": [
           {
            "colorbar": {
             "outlinewidth": 0,
             "ticks": ""
            },
            "type": "mesh3d"
           }
          ],
          "parcoords": [
           {
            "line": {
             "colorbar": {
              "outlinewidth": 0,
              "ticks": ""
             }
            },
            "type": "parcoords"
           }
          ],
          "pie": [
           {
            "automargin": true,
            "type": "pie"
           }
          ],
          "scatter": [
           {
            "fillpattern": {
             "fillmode": "overlay",
             "size": 10,
             "solidity": 0.2
            },
            "type": "scatter"
           }
          ],
          "scatter3d": [
           {
            "line": {
             "colorbar": {
              "outlinewidth": 0,
              "ticks": ""
             }
            },
            "marker": {
             "colorbar": {
              "outlinewidth": 0,
              "ticks": ""
             }
            },
            "type": "scatter3d"
           }
          ],
          "scattercarpet": [
           {
            "marker": {
             "colorbar": {
              "outlinewidth": 0,
              "ticks": ""
             }
            },
            "type": "scattercarpet"
           }
          ],
          "scattergeo": [
           {
            "marker": {
             "colorbar": {
              "outlinewidth": 0,
              "ticks": ""
             }
            },
            "type": "scattergeo"
           }
          ],
          "scattergl": [
           {
            "marker": {
             "colorbar": {
              "outlinewidth": 0,
              "ticks": ""
             }
            },
            "type": "scattergl"
           }
          ],
          "scattermapbox": [
           {
            "marker": {
             "colorbar": {
              "outlinewidth": 0,
              "ticks": ""
             }
            },
            "type": "scattermapbox"
           }
          ],
          "scatterpolar": [
           {
            "marker": {
             "colorbar": {
              "outlinewidth": 0,
              "ticks": ""
             }
            },
            "type": "scatterpolar"
           }
          ],
          "scatterpolargl": [
           {
            "marker": {
             "colorbar": {
              "outlinewidth": 0,
              "ticks": ""
             }
            },
            "type": "scatterpolargl"
           }
          ],
          "scatterternary": [
           {
            "marker": {
             "colorbar": {
              "outlinewidth": 0,
              "ticks": ""
             }
            },
            "type": "scatterternary"
           }
          ],
          "surface": [
           {
            "colorbar": {
             "outlinewidth": 0,
             "ticks": ""
            },
            "colorscale": [
             [
              0,
              "#0d0887"
             ],
             [
              0.1111111111111111,
              "#46039f"
             ],
             [
              0.2222222222222222,
              "#7201a8"
             ],
             [
              0.3333333333333333,
              "#9c179e"
             ],
             [
              0.4444444444444444,
              "#bd3786"
             ],
             [
              0.5555555555555556,
              "#d8576b"
             ],
             [
              0.6666666666666666,
              "#ed7953"
             ],
             [
              0.7777777777777778,
              "#fb9f3a"
             ],
             [
              0.8888888888888888,
              "#fdca26"
             ],
             [
              1,
              "#f0f921"
             ]
            ],
            "type": "surface"
           }
          ],
          "table": [
           {
            "cells": {
             "fill": {
              "color": "#EBF0F8"
             },
             "line": {
              "color": "white"
             }
            },
            "header": {
             "fill": {
              "color": "#C8D4E3"
             },
             "line": {
              "color": "white"
             }
            },
            "type": "table"
           }
          ]
         },
         "layout": {
          "annotationdefaults": {
           "arrowcolor": "#2a3f5f",
           "arrowhead": 0,
           "arrowwidth": 1
          },
          "autotypenumbers": "strict",
          "coloraxis": {
           "colorbar": {
            "outlinewidth": 0,
            "ticks": ""
           }
          },
          "colorscale": {
           "diverging": [
            [
             0,
             "#8e0152"
            ],
            [
             0.1,
             "#c51b7d"
            ],
            [
             0.2,
             "#de77ae"
            ],
            [
             0.3,
             "#f1b6da"
            ],
            [
             0.4,
             "#fde0ef"
            ],
            [
             0.5,
             "#f7f7f7"
            ],
            [
             0.6,
             "#e6f5d0"
            ],
            [
             0.7,
             "#b8e186"
            ],
            [
             0.8,
             "#7fbc41"
            ],
            [
             0.9,
             "#4d9221"
            ],
            [
             1,
             "#276419"
            ]
           ],
           "sequential": [
            [
             0,
             "#0d0887"
            ],
            [
             0.1111111111111111,
             "#46039f"
            ],
            [
             0.2222222222222222,
             "#7201a8"
            ],
            [
             0.3333333333333333,
             "#9c179e"
            ],
            [
             0.4444444444444444,
             "#bd3786"
            ],
            [
             0.5555555555555556,
             "#d8576b"
            ],
            [
             0.6666666666666666,
             "#ed7953"
            ],
            [
             0.7777777777777778,
             "#fb9f3a"
            ],
            [
             0.8888888888888888,
             "#fdca26"
            ],
            [
             1,
             "#f0f921"
            ]
           ],
           "sequentialminus": [
            [
             0,
             "#0d0887"
            ],
            [
             0.1111111111111111,
             "#46039f"
            ],
            [
             0.2222222222222222,
             "#7201a8"
            ],
            [
             0.3333333333333333,
             "#9c179e"
            ],
            [
             0.4444444444444444,
             "#bd3786"
            ],
            [
             0.5555555555555556,
             "#d8576b"
            ],
            [
             0.6666666666666666,
             "#ed7953"
            ],
            [
             0.7777777777777778,
             "#fb9f3a"
            ],
            [
             0.8888888888888888,
             "#fdca26"
            ],
            [
             1,
             "#f0f921"
            ]
           ]
          },
          "colorway": [
           "#636efa",
           "#EF553B",
           "#00cc96",
           "#ab63fa",
           "#FFA15A",
           "#19d3f3",
           "#FF6692",
           "#B6E880",
           "#FF97FF",
           "#FECB52"
          ],
          "font": {
           "color": "#2a3f5f"
          },
          "geo": {
           "bgcolor": "white",
           "lakecolor": "white",
           "landcolor": "#E5ECF6",
           "showlakes": true,
           "showland": true,
           "subunitcolor": "white"
          },
          "hoverlabel": {
           "align": "left"
          },
          "hovermode": "closest",
          "mapbox": {
           "style": "light"
          },
          "paper_bgcolor": "white",
          "plot_bgcolor": "#E5ECF6",
          "polar": {
           "angularaxis": {
            "gridcolor": "white",
            "linecolor": "white",
            "ticks": ""
           },
           "bgcolor": "#E5ECF6",
           "radialaxis": {
            "gridcolor": "white",
            "linecolor": "white",
            "ticks": ""
           }
          },
          "scene": {
           "xaxis": {
            "backgroundcolor": "#E5ECF6",
            "gridcolor": "white",
            "gridwidth": 2,
            "linecolor": "white",
            "showbackground": true,
            "ticks": "",
            "zerolinecolor": "white"
           },
           "yaxis": {
            "backgroundcolor": "#E5ECF6",
            "gridcolor": "white",
            "gridwidth": 2,
            "linecolor": "white",
            "showbackground": true,
            "ticks": "",
            "zerolinecolor": "white"
           },
           "zaxis": {
            "backgroundcolor": "#E5ECF6",
            "gridcolor": "white",
            "gridwidth": 2,
            "linecolor": "white",
            "showbackground": true,
            "ticks": "",
            "zerolinecolor": "white"
           }
          },
          "shapedefaults": {
           "line": {
            "color": "#2a3f5f"
           }
          },
          "ternary": {
           "aaxis": {
            "gridcolor": "white",
            "linecolor": "white",
            "ticks": ""
           },
           "baxis": {
            "gridcolor": "white",
            "linecolor": "white",
            "ticks": ""
           },
           "bgcolor": "#E5ECF6",
           "caxis": {
            "gridcolor": "white",
            "linecolor": "white",
            "ticks": ""
           }
          },
          "title": {
           "x": 0.05
          },
          "xaxis": {
           "automargin": true,
           "gridcolor": "white",
           "linecolor": "white",
           "ticks": "",
           "title": {
            "standoff": 15
           },
           "zerolinecolor": "white",
           "zerolinewidth": 2
          },
          "yaxis": {
           "automargin": true,
           "gridcolor": "white",
           "linecolor": "white",
           "ticks": "",
           "title": {
            "standoff": 15
           },
           "zerolinecolor": "white",
           "zerolinewidth": 2
          }
         }
        },
        "title": {
         "text": "Total Encounters by Fiscal Year with Percentiles"
        },
        "xaxis": {
         "anchor": "y",
         "domain": [
          0,
          1
         ],
         "title": {
          "text": "Fiscal Year"
         }
        },
        "yaxis": {
         "anchor": "x",
         "domain": [
          0,
          1
         ],
         "title": {
          "text": "Total Encounters"
         }
        }
       }
      }
     },
     "metadata": {},
     "output_type": "display_data"
    }
   ],
   "source": [
    "# 8. Display percentiles of the Sum of Encounter Count by Fiscal Year. Add interactive table with plotly. Add percentile results to the table.\n",
    "percentiles = [0.25, 0.5, 0.75, 0.9, 0.95]\n",
    "for p in percentiles:\n",
    "    encounters_by_fiscal_year_stats[f'Percentile {int(p*100)}'] = encounters_by_fiscal_year_stats['Encounter Count'].quantile(p)\n",
    "fig = px.bar(encounters_by_fiscal_year_stats, x='Fiscal Year', y='Encounter Count',\n",
    "             title='Total Encounters by Fiscal Year with Percentiles',\n",
    "             labels={'Encounter Count': 'Total Encounters'},\n",
    "             text='Encounter Count')\n",
    "for p in percentiles:\n",
    "    fig.add_scatter(x=encounters_by_fiscal_year_stats['Fiscal Year'], y=encounters_by_fiscal_year_stats[f'Percentile {int(p*100)}'],\n",
    "                    mode='lines+markers', name=f'Percentile {int(p*100)}', line=dict(dash='dash'))\n",
    "fig.update_layout(yaxis_title='Total Encounters', xaxis_title='Fiscal Year')\n",
    "fig.show()"
   ]
  },
  {
   "cell_type": "code",
   "execution_count": 34,
   "id": "9043fd7f",
   "metadata": {},
   "outputs": [
    {
     "data": {
      "application/vnd.plotly.v1+json": {
       "config": {
        "plotlyServerURL": "https://plot.ly"
       },
       "data": [
        {
         "hovertemplate": "Fiscal Year=%{x}<br>Total Encounters=%{text}<extra></extra>",
         "legendgroup": "",
         "line": {
          "color": "#636efa",
          "dash": "solid"
         },
         "marker": {
          "symbol": "circle"
         },
         "mode": "text+markers+lines",
         "name": "",
         "orientation": "v",
         "showlegend": false,
         "text": [
          1956519,
          2766582,
          3201144,
          2901142
         ],
         "textposition": "top center",
         "type": "scatter",
         "x": [
          2021,
          2022,
          2023,
          2024
         ],
         "xaxis": "x",
         "y": [
          1956519,
          2766582,
          3201144,
          2901142
         ],
         "yaxis": "y"
        }
       ],
       "layout": {
        "legend": {
         "tracegroupgap": 0
        },
        "template": {
         "data": {
          "bar": [
           {
            "error_x": {
             "color": "#2a3f5f"
            },
            "error_y": {
             "color": "#2a3f5f"
            },
            "marker": {
             "line": {
              "color": "#E5ECF6",
              "width": 0.5
             },
             "pattern": {
              "fillmode": "overlay",
              "size": 10,
              "solidity": 0.2
             }
            },
            "type": "bar"
           }
          ],
          "barpolar": [
           {
            "marker": {
             "line": {
              "color": "#E5ECF6",
              "width": 0.5
             },
             "pattern": {
              "fillmode": "overlay",
              "size": 10,
              "solidity": 0.2
             }
            },
            "type": "barpolar"
           }
          ],
          "carpet": [
           {
            "aaxis": {
             "endlinecolor": "#2a3f5f",
             "gridcolor": "white",
             "linecolor": "white",
             "minorgridcolor": "white",
             "startlinecolor": "#2a3f5f"
            },
            "baxis": {
             "endlinecolor": "#2a3f5f",
             "gridcolor": "white",
             "linecolor": "white",
             "minorgridcolor": "white",
             "startlinecolor": "#2a3f5f"
            },
            "type": "carpet"
           }
          ],
          "choropleth": [
           {
            "colorbar": {
             "outlinewidth": 0,
             "ticks": ""
            },
            "type": "choropleth"
           }
          ],
          "contour": [
           {
            "colorbar": {
             "outlinewidth": 0,
             "ticks": ""
            },
            "colorscale": [
             [
              0,
              "#0d0887"
             ],
             [
              0.1111111111111111,
              "#46039f"
             ],
             [
              0.2222222222222222,
              "#7201a8"
             ],
             [
              0.3333333333333333,
              "#9c179e"
             ],
             [
              0.4444444444444444,
              "#bd3786"
             ],
             [
              0.5555555555555556,
              "#d8576b"
             ],
             [
              0.6666666666666666,
              "#ed7953"
             ],
             [
              0.7777777777777778,
              "#fb9f3a"
             ],
             [
              0.8888888888888888,
              "#fdca26"
             ],
             [
              1,
              "#f0f921"
             ]
            ],
            "type": "contour"
           }
          ],
          "contourcarpet": [
           {
            "colorbar": {
             "outlinewidth": 0,
             "ticks": ""
            },
            "type": "contourcarpet"
           }
          ],
          "heatmap": [
           {
            "colorbar": {
             "outlinewidth": 0,
             "ticks": ""
            },
            "colorscale": [
             [
              0,
              "#0d0887"
             ],
             [
              0.1111111111111111,
              "#46039f"
             ],
             [
              0.2222222222222222,
              "#7201a8"
             ],
             [
              0.3333333333333333,
              "#9c179e"
             ],
             [
              0.4444444444444444,
              "#bd3786"
             ],
             [
              0.5555555555555556,
              "#d8576b"
             ],
             [
              0.6666666666666666,
              "#ed7953"
             ],
             [
              0.7777777777777778,
              "#fb9f3a"
             ],
             [
              0.8888888888888888,
              "#fdca26"
             ],
             [
              1,
              "#f0f921"
             ]
            ],
            "type": "heatmap"
           }
          ],
          "heatmapgl": [
           {
            "colorbar": {
             "outlinewidth": 0,
             "ticks": ""
            },
            "colorscale": [
             [
              0,
              "#0d0887"
             ],
             [
              0.1111111111111111,
              "#46039f"
             ],
             [
              0.2222222222222222,
              "#7201a8"
             ],
             [
              0.3333333333333333,
              "#9c179e"
             ],
             [
              0.4444444444444444,
              "#bd3786"
             ],
             [
              0.5555555555555556,
              "#d8576b"
             ],
             [
              0.6666666666666666,
              "#ed7953"
             ],
             [
              0.7777777777777778,
              "#fb9f3a"
             ],
             [
              0.8888888888888888,
              "#fdca26"
             ],
             [
              1,
              "#f0f921"
             ]
            ],
            "type": "heatmapgl"
           }
          ],
          "histogram": [
           {
            "marker": {
             "pattern": {
              "fillmode": "overlay",
              "size": 10,
              "solidity": 0.2
             }
            },
            "type": "histogram"
           }
          ],
          "histogram2d": [
           {
            "colorbar": {
             "outlinewidth": 0,
             "ticks": ""
            },
            "colorscale": [
             [
              0,
              "#0d0887"
             ],
             [
              0.1111111111111111,
              "#46039f"
             ],
             [
              0.2222222222222222,
              "#7201a8"
             ],
             [
              0.3333333333333333,
              "#9c179e"
             ],
             [
              0.4444444444444444,
              "#bd3786"
             ],
             [
              0.5555555555555556,
              "#d8576b"
             ],
             [
              0.6666666666666666,
              "#ed7953"
             ],
             [
              0.7777777777777778,
              "#fb9f3a"
             ],
             [
              0.8888888888888888,
              "#fdca26"
             ],
             [
              1,
              "#f0f921"
             ]
            ],
            "type": "histogram2d"
           }
          ],
          "histogram2dcontour": [
           {
            "colorbar": {
             "outlinewidth": 0,
             "ticks": ""
            },
            "colorscale": [
             [
              0,
              "#0d0887"
             ],
             [
              0.1111111111111111,
              "#46039f"
             ],
             [
              0.2222222222222222,
              "#7201a8"
             ],
             [
              0.3333333333333333,
              "#9c179e"
             ],
             [
              0.4444444444444444,
              "#bd3786"
             ],
             [
              0.5555555555555556,
              "#d8576b"
             ],
             [
              0.6666666666666666,
              "#ed7953"
             ],
             [
              0.7777777777777778,
              "#fb9f3a"
             ],
             [
              0.8888888888888888,
              "#fdca26"
             ],
             [
              1,
              "#f0f921"
             ]
            ],
            "type": "histogram2dcontour"
           }
          ],
          "mesh3d": [
           {
            "colorbar": {
             "outlinewidth": 0,
             "ticks": ""
            },
            "type": "mesh3d"
           }
          ],
          "parcoords": [
           {
            "line": {
             "colorbar": {
              "outlinewidth": 0,
              "ticks": ""
             }
            },
            "type": "parcoords"
           }
          ],
          "pie": [
           {
            "automargin": true,
            "type": "pie"
           }
          ],
          "scatter": [
           {
            "fillpattern": {
             "fillmode": "overlay",
             "size": 10,
             "solidity": 0.2
            },
            "type": "scatter"
           }
          ],
          "scatter3d": [
           {
            "line": {
             "colorbar": {
              "outlinewidth": 0,
              "ticks": ""
             }
            },
            "marker": {
             "colorbar": {
              "outlinewidth": 0,
              "ticks": ""
             }
            },
            "type": "scatter3d"
           }
          ],
          "scattercarpet": [
           {
            "marker": {
             "colorbar": {
              "outlinewidth": 0,
              "ticks": ""
             }
            },
            "type": "scattercarpet"
           }
          ],
          "scattergeo": [
           {
            "marker": {
             "colorbar": {
              "outlinewidth": 0,
              "ticks": ""
             }
            },
            "type": "scattergeo"
           }
          ],
          "scattergl": [
           {
            "marker": {
             "colorbar": {
              "outlinewidth": 0,
              "ticks": ""
             }
            },
            "type": "scattergl"
           }
          ],
          "scattermapbox": [
           {
            "marker": {
             "colorbar": {
              "outlinewidth": 0,
              "ticks": ""
             }
            },
            "type": "scattermapbox"
           }
          ],
          "scatterpolar": [
           {
            "marker": {
             "colorbar": {
              "outlinewidth": 0,
              "ticks": ""
             }
            },
            "type": "scatterpolar"
           }
          ],
          "scatterpolargl": [
           {
            "marker": {
             "colorbar": {
              "outlinewidth": 0,
              "ticks": ""
             }
            },
            "type": "scatterpolargl"
           }
          ],
          "scatterternary": [
           {
            "marker": {
             "colorbar": {
              "outlinewidth": 0,
              "ticks": ""
             }
            },
            "type": "scatterternary"
           }
          ],
          "surface": [
           {
            "colorbar": {
             "outlinewidth": 0,
             "ticks": ""
            },
            "colorscale": [
             [
              0,
              "#0d0887"
             ],
             [
              0.1111111111111111,
              "#46039f"
             ],
             [
              0.2222222222222222,
              "#7201a8"
             ],
             [
              0.3333333333333333,
              "#9c179e"
             ],
             [
              0.4444444444444444,
              "#bd3786"
             ],
             [
              0.5555555555555556,
              "#d8576b"
             ],
             [
              0.6666666666666666,
              "#ed7953"
             ],
             [
              0.7777777777777778,
              "#fb9f3a"
             ],
             [
              0.8888888888888888,
              "#fdca26"
             ],
             [
              1,
              "#f0f921"
             ]
            ],
            "type": "surface"
           }
          ],
          "table": [
           {
            "cells": {
             "fill": {
              "color": "#EBF0F8"
             },
             "line": {
              "color": "white"
             }
            },
            "header": {
             "fill": {
              "color": "#C8D4E3"
             },
             "line": {
              "color": "white"
             }
            },
            "type": "table"
           }
          ]
         },
         "layout": {
          "annotationdefaults": {
           "arrowcolor": "#2a3f5f",
           "arrowhead": 0,
           "arrowwidth": 1
          },
          "autotypenumbers": "strict",
          "coloraxis": {
           "colorbar": {
            "outlinewidth": 0,
            "ticks": ""
           }
          },
          "colorscale": {
           "diverging": [
            [
             0,
             "#8e0152"
            ],
            [
             0.1,
             "#c51b7d"
            ],
            [
             0.2,
             "#de77ae"
            ],
            [
             0.3,
             "#f1b6da"
            ],
            [
             0.4,
             "#fde0ef"
            ],
            [
             0.5,
             "#f7f7f7"
            ],
            [
             0.6,
             "#e6f5d0"
            ],
            [
             0.7,
             "#b8e186"
            ],
            [
             0.8,
             "#7fbc41"
            ],
            [
             0.9,
             "#4d9221"
            ],
            [
             1,
             "#276419"
            ]
           ],
           "sequential": [
            [
             0,
             "#0d0887"
            ],
            [
             0.1111111111111111,
             "#46039f"
            ],
            [
             0.2222222222222222,
             "#7201a8"
            ],
            [
             0.3333333333333333,
             "#9c179e"
            ],
            [
             0.4444444444444444,
             "#bd3786"
            ],
            [
             0.5555555555555556,
             "#d8576b"
            ],
            [
             0.6666666666666666,
             "#ed7953"
            ],
            [
             0.7777777777777778,
             "#fb9f3a"
            ],
            [
             0.8888888888888888,
             "#fdca26"
            ],
            [
             1,
             "#f0f921"
            ]
           ],
           "sequentialminus": [
            [
             0,
             "#0d0887"
            ],
            [
             0.1111111111111111,
             "#46039f"
            ],
            [
             0.2222222222222222,
             "#7201a8"
            ],
            [
             0.3333333333333333,
             "#9c179e"
            ],
            [
             0.4444444444444444,
             "#bd3786"
            ],
            [
             0.5555555555555556,
             "#d8576b"
            ],
            [
             0.6666666666666666,
             "#ed7953"
            ],
            [
             0.7777777777777778,
             "#fb9f3a"
            ],
            [
             0.8888888888888888,
             "#fdca26"
            ],
            [
             1,
             "#f0f921"
            ]
           ]
          },
          "colorway": [
           "#636efa",
           "#EF553B",
           "#00cc96",
           "#ab63fa",
           "#FFA15A",
           "#19d3f3",
           "#FF6692",
           "#B6E880",
           "#FF97FF",
           "#FECB52"
          ],
          "font": {
           "color": "#2a3f5f"
          },
          "geo": {
           "bgcolor": "white",
           "lakecolor": "white",
           "landcolor": "#E5ECF6",
           "showlakes": true,
           "showland": true,
           "subunitcolor": "white"
          },
          "hoverlabel": {
           "align": "left"
          },
          "hovermode": "closest",
          "mapbox": {
           "style": "light"
          },
          "paper_bgcolor": "white",
          "plot_bgcolor": "#E5ECF6",
          "polar": {
           "angularaxis": {
            "gridcolor": "white",
            "linecolor": "white",
            "ticks": ""
           },
           "bgcolor": "#E5ECF6",
           "radialaxis": {
            "gridcolor": "white",
            "linecolor": "white",
            "ticks": ""
           }
          },
          "scene": {
           "xaxis": {
            "backgroundcolor": "#E5ECF6",
            "gridcolor": "white",
            "gridwidth": 2,
            "linecolor": "white",
            "showbackground": true,
            "ticks": "",
            "zerolinecolor": "white"
           },
           "yaxis": {
            "backgroundcolor": "#E5ECF6",
            "gridcolor": "white",
            "gridwidth": 2,
            "linecolor": "white",
            "showbackground": true,
            "ticks": "",
            "zerolinecolor": "white"
           },
           "zaxis": {
            "backgroundcolor": "#E5ECF6",
            "gridcolor": "white",
            "gridwidth": 2,
            "linecolor": "white",
            "showbackground": true,
            "ticks": "",
            "zerolinecolor": "white"
           }
          },
          "shapedefaults": {
           "line": {
            "color": "#2a3f5f"
           }
          },
          "ternary": {
           "aaxis": {
            "gridcolor": "white",
            "linecolor": "white",
            "ticks": ""
           },
           "baxis": {
            "gridcolor": "white",
            "linecolor": "white",
            "ticks": ""
           },
           "bgcolor": "#E5ECF6",
           "caxis": {
            "gridcolor": "white",
            "linecolor": "white",
            "ticks": ""
           }
          },
          "title": {
           "x": 0.05
          },
          "xaxis": {
           "automargin": true,
           "gridcolor": "white",
           "linecolor": "white",
           "ticks": "",
           "title": {
            "standoff": 15
           },
           "zerolinecolor": "white",
           "zerolinewidth": 2
          },
          "yaxis": {
           "automargin": true,
           "gridcolor": "white",
           "linecolor": "white",
           "ticks": "",
           "title": {
            "standoff": 15
           },
           "zerolinecolor": "white",
           "zerolinewidth": 2
          }
         }
        },
        "title": {
         "text": "Yearly Trend of Total Encounters"
        },
        "xaxis": {
         "anchor": "y",
         "domain": [
          0,
          1
         ],
         "title": {
          "text": "Fiscal Year FY21-FY24"
         }
        },
        "yaxis": {
         "anchor": "x",
         "domain": [
          0,
          1
         ],
         "title": {
          "text": "Total Encounters"
         }
        }
       }
      }
     },
     "metadata": {},
     "output_type": "display_data"
    }
   ],
   "source": [
    "# 9. Create a yearly trend line for the Sum of Encounter Count by Fiscal Year. Add interactive table with plotly. Add trend line to the table.\n",
    "fig = px.line(encounters_by_fiscal_year_stats, x='Fiscal Year', y='Encounter Count',\n",
    "              title='Yearly Trend of Total Encounters',\n",
    "              labels={'Encounter Count': 'Total Encounters'},\n",
    "              text='Encounter Count')\n",
    "fig.update_traces(textposition='top center')\n",
    "fig.update_layout(yaxis_title='Total Encounters', xaxis_title='Fiscal Year FY21-FY24')\n",
    "fig.show()\n"
   ]
  },
  {
   "cell_type": "code",
   "execution_count": 35,
   "id": "41c1d647",
   "metadata": {},
   "outputs": [
    {
     "data": {
      "image/png": "[encoded data removed]",
      "text/plain": [
       "<Figure size 864x576 with 2 Axes>"
      ]
     },
     "metadata": {
      "needs_background": "light"
     },
     "output_type": "display_data"
    },
    {
     "name": "stdout",
     "output_type": "stream",
     "text": [
      "Fiscal Year            2021     2022     2023     2024\n",
      "Demographic                                           \n",
      "Accompanied Minors     3024     5985     7482     5906\n",
      "FMUA                 483846   614023   993947   996074\n",
      "Single Adults       1321674  1993694  2061723  1788490\n",
      "UC / Single Minors   147975   152880   137992   110672\n"
     ]
    }
   ],
   "source": [
    "# Visualize the data with a heatmap for the Sum of Encounter Count by Demographic and Fiscal Year.\n",
    "demographic_by_fiscal_year = encounters_aor_df.groupby(['Demographic', 'Fiscal Year'])['Encounter Count'].sum().unstack(fill_value=0)\n",
    "plt.figure(figsize=(12, 8))\n",
    "sns.heatmap(demographic_by_fiscal_year, annot=True, fmt='d', cmap='viridis', cbar_kws={'label': 'Encounter Count'})\n",
    "plt.title('Total Encounters by Demographic and Fiscal Year')\n",
    "plt.xlabel('Fiscal Year')\n",
    "plt.ylabel('Demographic')\n",
    "plt.xticks(rotation=45)\n",
    "plt.tight_layout()\n",
    "plt.show()\n",
    "\n",
    "print(demographic_by_fiscal_year)"
   ]
  },
  {
   "cell_type": "code",
   "execution_count": 36,
   "id": "a5948ba3",
   "metadata": {},
   "outputs": [
    {
     "name": "stdout",
     "output_type": "stream",
     "text": [
      "Fiscal Year            2021     2022     2023     2024  Standard Deviation  \\\n",
      "Demographic                                                                  \n",
      "Accompanied Minors     3024     5985     7482     5906         1863.648639   \n",
      "FMUA                 483846   614023   993947   996074       262969.634182   \n",
      "Single Adults       1321674  1993694  2061723  1788490       333990.204373   \n",
      "UC / Single Minors   147975   152880   137992   110672        18852.018749   \n",
      "\n",
      "Fiscal Year             Variance  \n",
      "Demographic                       \n",
      "Accompanied Minors  3.473186e+06  \n",
      "FMUA                6.915303e+10  \n",
      "Single Adults       1.115495e+11  \n",
      "UC / Single Minors  3.553986e+08  \n"
     ]
    }
   ],
   "source": [
    "# Calculate the standard deviation and variance of the Sum of Encounter Count by Citizenship and Fiscal Year. \n",
    "demographic_by_fiscal_year = encounters_aor_df.groupby(['Demographic', 'Fiscal Year'])['Encounter Count'].sum().unstack(fill_value=0)\n",
    "demographic_by_fiscal_year_stats = demographic_by_fiscal_year.copy()\n",
    "demographic_by_fiscal_year_stats['Standard Deviation'] = demographic_by_fiscal_year.std(axis=1)\n",
    "demographic_by_fiscal_year_stats['Variance'] = demographic_by_fiscal_year.var(axis=1)\n",
    "# Display the updated DataFrame with standard deviation and variance\n",
    "print(demographic_by_fiscal_year_stats)\n"
   ]
  },
  {
   "cell_type": "code",
   "execution_count": 37,
   "id": "0f7509ba",
   "metadata": {},
   "outputs": [
    {
     "data": {
      "application/vnd.plotly.v1+json": {
       "config": {
        "plotlyServerURL": "https://plot.ly"
       },
       "data": [
        {
         "cells": {
          "align": "left",
          "fill": {
           "color": "lavender"
          },
          "values": [
           [
            "Accompanied Minors",
            "FMUA",
            "Single Adults",
            "UC / Single Minors"
           ],
           [
            3024,
            483846,
            1321674,
            147975
           ],
           [
            5985,
            614023,
            1993694,
            152880
           ],
           [
            7482,
            993947,
            2061723,
            137992
           ],
           [
            5906,
            996074,
            1788490,
            110672
           ],
           [
            1863.65,
            262969.63,
            333990.2,
            18852.02
           ],
           [
            3473186.25,
            69153028501.67,
            111549456616.92,
            355398610.92
           ]
          ]
         },
         "header": {
          "align": "left",
          "fill": {
           "color": "paleturquoise"
          },
          "values": [
           "Demographic",
           "2021",
           "2022",
           "2023",
           "2024",
           "Standard Deviation",
           "Variance"
          ]
         },
         "type": "table"
        }
       ],
       "layout": {
        "template": {
         "data": {
          "bar": [
           {
            "error_x": {
             "color": "#2a3f5f"
            },
            "error_y": {
             "color": "#2a3f5f"
            },
            "marker": {
             "line": {
              "color": "#E5ECF6",
              "width": 0.5
             },
             "pattern": {
              "fillmode": "overlay",
              "size": 10,
              "solidity": 0.2
             }
            },
            "type": "bar"
           }
          ],
          "barpolar": [
           {
            "marker": {
             "line": {
              "color": "#E5ECF6",
              "width": 0.5
             },
             "pattern": {
              "fillmode": "overlay",
              "size": 10,
              "solidity": 0.2
             }
            },
            "type": "barpolar"
           }
          ],
          "carpet": [
           {
            "aaxis": {
             "endlinecolor": "#2a3f5f",
             "gridcolor": "white",
             "linecolor": "white",
             "minorgridcolor": "white",
             "startlinecolor": "#2a3f5f"
            },
            "baxis": {
             "endlinecolor": "#2a3f5f",
             "gridcolor": "white",
             "linecolor": "white",
             "minorgridcolor": "white",
             "startlinecolor": "#2a3f5f"
            },
            "type": "carpet"
           }
          ],
          "choropleth": [
           {
            "colorbar": {
             "outlinewidth": 0,
             "ticks": ""
            },
            "type": "choropleth"
           }
          ],
          "contour": [
           {
            "colorbar": {
             "outlinewidth": 0,
             "ticks": ""
            },
            "colorscale": [
             [
              0,
              "#0d0887"
             ],
             [
              0.1111111111111111,
              "#46039f"
             ],
             [
              0.2222222222222222,
              "#7201a8"
             ],
             [
              0.3333333333333333,
              "#9c179e"
             ],
             [
              0.4444444444444444,
              "#bd3786"
             ],
             [
              0.5555555555555556,
              "#d8576b"
             ],
             [
              0.6666666666666666,
              "#ed7953"
             ],
             [
              0.7777777777777778,
              "#fb9f3a"
             ],
             [
              0.8888888888888888,
              "#fdca26"
             ],
             [
              1,
              "#f0f921"
             ]
            ],
            "type": "contour"
           }
          ],
          "contourcarpet": [
           {
            "colorbar": {
             "outlinewidth": 0,
             "ticks": ""
            },
            "type": "contourcarpet"
           }
          ],
          "heatmap": [
           {
            "colorbar": {
             "outlinewidth": 0,
             "ticks": ""
            },
            "colorscale": [
             [
              0,
              "#0d0887"
             ],
             [
              0.1111111111111111,
              "#46039f"
             ],
             [
              0.2222222222222222,
              "#7201a8"
             ],
             [
              0.3333333333333333,
              "#9c179e"
             ],
             [
              0.4444444444444444,
              "#bd3786"
             ],
             [
              0.5555555555555556,
              "#d8576b"
             ],
             [
              0.6666666666666666,
              "#ed7953"
             ],
             [
              0.7777777777777778,
              "#fb9f3a"
             ],
             [
              0.8888888888888888,
              "#fdca26"
             ],
             [
              1,
              "#f0f921"
             ]
            ],
            "type": "heatmap"
           }
          ],
          "heatmapgl": [
           {
            "colorbar": {
             "outlinewidth": 0,
             "ticks": ""
            },
            "colorscale": [
             [
              0,
              "#0d0887"
             ],
             [
              0.1111111111111111,
              "#46039f"
             ],
             [
              0.2222222222222222,
              "#7201a8"
             ],
             [
              0.3333333333333333,
              "#9c179e"
             ],
             [
              0.4444444444444444,
              "#bd3786"
             ],
             [
              0.5555555555555556,
              "#d8576b"
             ],
             [
              0.6666666666666666,
              "#ed7953"
             ],
             [
              0.7777777777777778,
              "#fb9f3a"
             ],
             [
              0.8888888888888888,
              "#fdca26"
             ],
             [
              1,
              "#f0f921"
             ]
            ],
            "type": "heatmapgl"
           }
          ],
          "histogram": [
           {
            "marker": {
             "pattern": {
              "fillmode": "overlay",
              "size": 10,
              "solidity": 0.2
             }
            },
            "type": "histogram"
           }
          ],
          "histogram2d": [
           {
            "colorbar": {
             "outlinewidth": 0,
             "ticks": ""
            },
            "colorscale": [
             [
              0,
              "#0d0887"
             ],
             [
              0.1111111111111111,
              "#46039f"
             ],
             [
              0.2222222222222222,
              "#7201a8"
             ],
             [
              0.3333333333333333,
              "#9c179e"
             ],
             [
              0.4444444444444444,
              "#bd3786"
             ],
             [
              0.5555555555555556,
              "#d8576b"
             ],
             [
              0.6666666666666666,
              "#ed7953"
             ],
             [
              0.7777777777777778,
              "#fb9f3a"
             ],
             [
              0.8888888888888888,
              "#fdca26"
             ],
             [
              1,
              "#f0f921"
             ]
            ],
            "type": "histogram2d"
           }
          ],
          "histogram2dcontour": [
           {
            "colorbar": {
             "outlinewidth": 0,
             "ticks": ""
            },
            "colorscale": [
             [
              0,
              "#0d0887"
             ],
             [
              0.1111111111111111,
              "#46039f"
             ],
             [
              0.2222222222222222,
              "#7201a8"
             ],
             [
              0.3333333333333333,
              "#9c179e"
             ],
             [
              0.4444444444444444,
              "#bd3786"
             ],
             [
              0.5555555555555556,
              "#d8576b"
             ],
             [
              0.6666666666666666,
              "#ed7953"
             ],
             [
              0.7777777777777778,
              "#fb9f3a"
             ],
             [
              0.8888888888888888,
              "#fdca26"
             ],
             [
              1,
              "#f0f921"
             ]
            ],
            "type": "histogram2dcontour"
           }
          ],
          "mesh3d": [
           {
            "colorbar": {
             "outlinewidth": 0,
             "ticks": ""
            },
            "type": "mesh3d"
           }
          ],
          "parcoords": [
           {
            "line": {
             "colorbar": {
              "outlinewidth": 0,
              "ticks": ""
             }
            },
            "type": "parcoords"
           }
          ],
          "pie": [
           {
            "automargin": true,
            "type": "pie"
           }
          ],
          "scatter": [
           {
            "fillpattern": {
             "fillmode": "overlay",
             "size": 10,
             "solidity": 0.2
            },
            "type": "scatter"
           }
          ],
          "scatter3d": [
           {
            "line": {
             "colorbar": {
              "outlinewidth": 0,
              "ticks": ""
             }
            },
            "marker": {
             "colorbar": {
              "outlinewidth": 0,
              "ticks": ""
             }
            },
            "type": "scatter3d"
           }
          ],
          "scattercarpet": [
           {
            "marker": {
             "colorbar": {
              "outlinewidth": 0,
              "ticks": ""
             }
            },
            "type": "scattercarpet"
           }
          ],
          "scattergeo": [
           {
            "marker": {
             "colorbar": {
              "outlinewidth": 0,
              "ticks": ""
             }
            },
            "type": "scattergeo"
           }
          ],
          "scattergl": [
           {
            "marker": {
             "colorbar": {
              "outlinewidth": 0,
              "ticks": ""
             }
            },
            "type": "scattergl"
           }
          ],
          "scattermapbox": [
           {
            "marker": {
             "colorbar": {
              "outlinewidth": 0,
              "ticks": ""
             }
            },
            "type": "scattermapbox"
           }
          ],
          "scatterpolar": [
           {
            "marker": {
             "colorbar": {
              "outlinewidth": 0,
              "ticks": ""
             }
            },
            "type": "scatterpolar"
           }
          ],
          "scatterpolargl": [
           {
            "marker": {
             "colorbar": {
              "outlinewidth": 0,
              "ticks": ""
             }
            },
            "type": "scatterpolargl"
           }
          ],
          "scatterternary": [
           {
            "marker": {
             "colorbar": {
              "outlinewidth": 0,
              "ticks": ""
             }
            },
            "type": "scatterternary"
           }
          ],
          "surface": [
           {
            "colorbar": {
             "outlinewidth": 0,
             "ticks": ""
            },
            "colorscale": [
             [
              0,
              "#0d0887"
             ],
             [
              0.1111111111111111,
              "#46039f"
             ],
             [
              0.2222222222222222,
              "#7201a8"
             ],
             [
              0.3333333333333333,
              "#9c179e"
             ],
             [
              0.4444444444444444,
              "#bd3786"
             ],
             [
              0.5555555555555556,
              "#d8576b"
             ],
             [
              0.6666666666666666,
              "#ed7953"
             ],
             [
              0.7777777777777778,
              "#fb9f3a"
             ],
             [
              0.8888888888888888,
              "#fdca26"
             ],
             [
              1,
              "#f0f921"
             ]
            ],
            "type": "surface"
           }
          ],
          "table": [
           {
            "cells": {
             "fill": {
              "color": "#EBF0F8"
             },
             "line": {
              "color": "white"
             }
            },
            "header": {
             "fill": {
              "color": "#C8D4E3"
             },
             "line": {
              "color": "white"
             }
            },
            "type": "table"
           }
          ]
         },
         "layout": {
          "annotationdefaults": {
           "arrowcolor": "#2a3f5f",
           "arrowhead": 0,
           "arrowwidth": 1
          },
          "autotypenumbers": "strict",
          "coloraxis": {
           "colorbar": {
            "outlinewidth": 0,
            "ticks": ""
           }
          },
          "colorscale": {
           "diverging": [
            [
             0,
             "#8e0152"
            ],
            [
             0.1,
             "#c51b7d"
            ],
            [
             0.2,
             "#de77ae"
            ],
            [
             0.3,
             "#f1b6da"
            ],
            [
             0.4,
             "#fde0ef"
            ],
            [
             0.5,
             "#f7f7f7"
            ],
            [
             0.6,
             "#e6f5d0"
            ],
            [
             0.7,
             "#b8e186"
            ],
            [
             0.8,
             "#7fbc41"
            ],
            [
             0.9,
             "#4d9221"
            ],
            [
             1,
             "#276419"
            ]
           ],
           "sequential": [
            [
             0,
             "#0d0887"
            ],
            [
             0.1111111111111111,
             "#46039f"
            ],
            [
             0.2222222222222222,
             "#7201a8"
            ],
            [
             0.3333333333333333,
             "#9c179e"
            ],
            [
             0.4444444444444444,
             "#bd3786"
            ],
            [
             0.5555555555555556,
             "#d8576b"
            ],
            [
             0.6666666666666666,
             "#ed7953"
            ],
            [
             0.7777777777777778,
             "#fb9f3a"
            ],
            [
             0.8888888888888888,
             "#fdca26"
            ],
            [
             1,
             "#f0f921"
            ]
           ],
           "sequentialminus": [
            [
             0,
             "#0d0887"
            ],
            [
             0.1111111111111111,
             "#46039f"
            ],
            [
             0.2222222222222222,
             "#7201a8"
            ],
            [
             0.3333333333333333,
             "#9c179e"
            ],
            [
             0.4444444444444444,
             "#bd3786"
            ],
            [
             0.5555555555555556,
             "#d8576b"
            ],
            [
             0.6666666666666666,
             "#ed7953"
            ],
            [
             0.7777777777777778,
             "#fb9f3a"
            ],
            [
             0.8888888888888888,
             "#fdca26"
            ],
            [
             1,
             "#f0f921"
            ]
           ]
          },
          "colorway": [
           "#636efa",
           "#EF553B",
           "#00cc96",
           "#ab63fa",
           "#FFA15A",
           "#19d3f3",
           "#FF6692",
           "#B6E880",
           "#FF97FF",
           "#FECB52"
          ],
          "font": {
           "color": "#2a3f5f"
          },
          "geo": {
           "bgcolor": "white",
           "lakecolor": "white",
           "landcolor": "#E5ECF6",
           "showlakes": true,
           "showland": true,
           "subunitcolor": "white"
          },
          "hoverlabel": {
           "align": "left"
          },
          "hovermode": "closest",
          "mapbox": {
           "style": "light"
          },
          "paper_bgcolor": "white",
          "plot_bgcolor": "#E5ECF6",
          "polar": {
           "angularaxis": {
            "gridcolor": "white",
            "linecolor": "white",
            "ticks": ""
           },
           "bgcolor": "#E5ECF6",
           "radialaxis": {
            "gridcolor": "white",
            "linecolor": "white",
            "ticks": ""
           }
          },
          "scene": {
           "xaxis": {
            "backgroundcolor": "#E5ECF6",
            "gridcolor": "white",
            "gridwidth": 2,
            "linecolor": "white",
            "showbackground": true,
            "ticks": "",
            "zerolinecolor": "white"
           },
           "yaxis": {
            "backgroundcolor": "#E5ECF6",
            "gridcolor": "white",
            "gridwidth": 2,
            "linecolor": "white",
            "showbackground": true,
            "ticks": "",
            "zerolinecolor": "white"
           },
           "zaxis": {
            "backgroundcolor": "#E5ECF6",
            "gridcolor": "white",
            "gridwidth": 2,
            "linecolor": "white",
            "showbackground": true,
            "ticks": "",
            "zerolinecolor": "white"
           }
          },
          "shapedefaults": {
           "line": {
            "color": "#2a3f5f"
           }
          },
          "ternary": {
           "aaxis": {
            "gridcolor": "white",
            "linecolor": "white",
            "ticks": ""
           },
           "baxis": {
            "gridcolor": "white",
            "linecolor": "white",
            "ticks": ""
           },
           "bgcolor": "#E5ECF6",
           "caxis": {
            "gridcolor": "white",
            "linecolor": "white",
            "ticks": ""
           }
          },
          "title": {
           "x": 0.05
          },
          "xaxis": {
           "automargin": true,
           "gridcolor": "white",
           "linecolor": "white",
           "ticks": "",
           "title": {
            "standoff": 15
           },
           "zerolinecolor": "white",
           "zerolinewidth": 2
          },
          "yaxis": {
           "automargin": true,
           "gridcolor": "white",
           "linecolor": "white",
           "ticks": "",
           "title": {
            "standoff": 15
           },
           "zerolinecolor": "white",
           "zerolinewidth": 2
          }
         }
        },
        "title": {
         "text": "Encounter Count by Demographic and Fiscal Year (with Statistics)"
        }
       }
      }
     },
     "metadata": {},
     "output_type": "display_data"
    }
   ],
   "source": [
    "import plotly.graph_objects as go\n",
    "\n",
    "# Prepare data for the table\n",
    "table = go.Figure(data=[go.Table(\n",
    "    header=dict(values=[\"Demographic\", \"2021\", \"2022\", \"2023\", \"2024\", \"Standard Deviation\", \"Variance\"],\n",
    "                fill_color='paleturquoise',\n",
    "                align='left'),\n",
    "    cells=dict(values=[\n",
    "        demographic_by_fiscal_year_stats.index,  # Citizenship\n",
    "        demographic_by_fiscal_year_stats[2021],\n",
    "        demographic_by_fiscal_year_stats[2022],\n",
    "        demographic_by_fiscal_year_stats[2023],\n",
    "        demographic_by_fiscal_year_stats[2024],\n",
    "        demographic_by_fiscal_year_stats['Standard Deviation'].round(2),\n",
    "        demographic_by_fiscal_year_stats['Variance'].round(2)\n",
    "    ],\n",
    "    fill_color='lavender',\n",
    "    align='left'))\n",
    "])\n",
    "\n",
    "table.update_layout(title='Encounter Count by Demographic and Fiscal Year (with Statistics)')\n",
    "table.show()"
   ]
  },
  {
   "cell_type": "code",
   "execution_count": 38,
   "id": "f6a6dda9",
   "metadata": {},
   "outputs": [
    {
     "name": "stdout",
     "output_type": "stream",
     "text": [
      "Fiscal Year        2021    2022    2023    2024  Standard Deviation  \\\n",
      "Citizenship                                                           \n",
      "BRAZIL            58059   57021   32492   32130        14572.882179   \n",
      "CANADA            22371   47126   44700   45045        11675.614202   \n",
      "CHINA             23471   27756   52700   78701        25522.370462   \n",
      "COLOMBIA          10495  130971  167388  134676        68896.541183   \n",
      "CUBA              39303  224607  200287  217615        88028.972534   \n",
      "ECUADOR           97074   24936  117487  124023        45436.283849   \n",
      "EL SALVADOR       99463   97797   62846   57207        22416.639287   \n",
      "GUATEMALA        284291  233061  221849  206971        33577.833204   \n",
      "HAITI             48727   56596  163781  220798        83969.058009   \n",
      "HONDURAS         321149  214975  216028  144373        72854.470997   \n",
      "INDIA             30662   63927   96917   90415        30137.098548   \n",
      "MEXICO           674739  823057  735937  668088        71877.460706   \n",
      "MYANMAR (BURMA)    3841    4470    4257    5004          483.890483   \n",
      "NICARAGUA         50722  164600  138729   91049        50573.493143   \n",
      "OTHER             57357  137328  299575  267575       113125.629982   \n",
      "PERU               5177   53188   78202   39200        30465.542857   \n",
      "PHILIPPINES       46353   55117   51399   48421         3808.705598   \n",
      "ROMANIA            5159    7411    3692    2548         2098.201214   \n",
      "RUSSIA            13240   36271   57163   21891        19196.073251   \n",
      "TURKEY             4989   19470   18986   13311         6740.698628   \n",
      "UKRAINE            9378   97377  101815   78605        42809.255645   \n",
      "VENEZUELA         50499  189520  334914  313496       131134.265548   \n",
      "\n",
      "Fiscal Year          Variance  \n",
      "Citizenship                    \n",
      "BRAZIL           2.123689e+08  \n",
      "CANADA           1.363200e+08  \n",
      "CHINA            6.513914e+08  \n",
      "COLOMBIA         4.746733e+09  \n",
      "CUBA             7.749100e+09  \n",
      "ECUADOR          2.064456e+09  \n",
      "EL SALVADOR      5.025057e+08  \n",
      "GUATEMALA        1.127471e+09  \n",
      "HAITI            7.050803e+09  \n",
      "HONDURAS         5.307774e+09  \n",
      "INDIA            9.082447e+08  \n",
      "MEXICO           5.166369e+09  \n",
      "MYANMAR (BURMA)  2.341500e+05  \n",
      "NICARAGUA        2.557678e+09  \n",
      "OTHER            1.279741e+10  \n",
      "PERU             9.281493e+08  \n",
      "PHILIPPINES      1.450624e+07  \n",
      "ROMANIA          4.402448e+06  \n",
      "RUSSIA           3.684892e+08  \n",
      "TURKEY           4.543702e+07  \n",
      "UKRAINE          1.832632e+09  \n",
      "VENEZUELA        1.719620e+10  \n"
     ]
    }
   ],
   "source": [
    "# Calculate the standard deviation and variance of the Sum of Encounter Count by Citizenship and Fiscal Year. \n",
    "citizenship_by_fiscal_year = encounters_aor_df.groupby(['Citizenship', 'Fiscal Year'])['Encounter Count'].sum().unstack(fill_value=0)\n",
    "citizenship_by_fiscal_year_stats = citizenship_by_fiscal_year.copy()\n",
    "citizenship_by_fiscal_year_stats['Standard Deviation'] = citizenship_by_fiscal_year.std(axis=1)\n",
    "citizenship_by_fiscal_year_stats['Variance'] = citizenship_by_fiscal_year.var(axis=1)\n",
    "# Display the updated DataFrame with standard deviation and variance\n",
    "print(citizenship_by_fiscal_year_stats)\n",
    "\n"
   ]
  },
  {
   "cell_type": "code",
   "execution_count": 39,
   "id": "fe9c54f4",
   "metadata": {},
   "outputs": [
    {
     "data": {
      "application/vnd.plotly.v1+json": {
       "config": {
        "plotlyServerURL": "https://plot.ly"
       },
       "data": [
        {
         "cells": {
          "align": "left",
          "fill": {
           "color": "lavender"
          },
          "values": [
           [
            "BRAZIL",
            "CANADA",
            "CHINA",
            "COLOMBIA",
            "CUBA",
            "ECUADOR",
            "EL SALVADOR",
            "GUATEMALA",
            "HAITI",
            "HONDURAS",
            "INDIA",
            "MEXICO",
            "MYANMAR (BURMA)",
            "NICARAGUA",
            "OTHER",
            "PERU",
            "PHILIPPINES",
            "ROMANIA",
            "RUSSIA",
            "TURKEY",
            "UKRAINE",
            "VENEZUELA"
           ],
           [
            58059,
            22371,
            23471,
            10495,
            39303,
            97074,
            99463,
            284291,
            48727,
            321149,
            30662,
            674739,
            3841,
            50722,
            57357,
            5177,
            46353,
            5159,
            13240,
            4989,
            9378,
            50499
           ],
           [
            57021,
            47126,
            27756,
            130971,
            224607,
            24936,
            97797,
            233061,
            56596,
            214975,
            63927,
            823057,
            4470,
            164600,
            137328,
            53188,
            55117,
            7411,
            36271,
            19470,
            97377,
            189520
           ],
           [
            32492,
            44700,
            52700,
            167388,
            200287,
            117487,
            62846,
            221849,
            163781,
            216028,
            96917,
            735937,
            4257,
            138729,
            299575,
            78202,
            51399,
            3692,
            57163,
            18986,
            101815,
            334914
           ],
           [
            32130,
            45045,
            78701,
            134676,
            217615,
            124023,
            57207,
            206971,
            220798,
            144373,
            90415,
            668088,
            5004,
            91049,
            267575,
            39200,
            48421,
            2548,
            21891,
            13311,
            78605,
            313496
           ],
           [
            14572.88,
            11675.61,
            25522.37,
            68896.54,
            88028.97,
            45436.28,
            22416.64,
            33577.83,
            83969.06,
            72854.47,
            30137.1,
            71877.46,
            483.89,
            50573.49,
            113125.63,
            30465.54,
            3808.71,
            2098.2,
            19196.07,
            6740.7,
            42809.26,
            131134.27
           ],
           [
            212368895,
            136319967,
            651391394,
            4746733387,
            7749100005.33,
            2064455890,
            502505716.92,
            1127470882.67,
            7050802703,
            5307773944.25,
            908244708.92,
            5166369357.58,
            234150,
            2557678208.67,
            12797408158.92,
            928149301.58,
            14506238.33,
            4402448.33,
            368489228.25,
            45437018,
            1832632368.92,
            17196195600.92
           ]
          ]
         },
         "header": {
          "align": "left",
          "fill": {
           "color": "paleturquoise"
          },
          "values": [
           "Citizenship",
           "2021",
           "2022",
           "2023",
           "2024",
           "Standard Deviation",
           "Variance"
          ]
         },
         "type": "table"
        }
       ],
       "layout": {
        "template": {
         "data": {
          "bar": [
           {
            "error_x": {
             "color": "#2a3f5f"
            },
            "error_y": {
             "color": "#2a3f5f"
            },
            "marker": {
             "line": {
              "color": "#E5ECF6",
              "width": 0.5
             },
             "pattern": {
              "fillmode": "overlay",
              "size": 10,
              "solidity": 0.2
             }
            },
            "type": "bar"
           }
          ],
          "barpolar": [
           {
            "marker": {
             "line": {
              "color": "#E5ECF6",
              "width": 0.5
             },
             "pattern": {
              "fillmode": "overlay",
              "size": 10,
              "solidity": 0.2
             }
            },
            "type": "barpolar"
           }
          ],
          "carpet": [
           {
            "aaxis": {
             "endlinecolor": "#2a3f5f",
             "gridcolor": "white",
             "linecolor": "white",
             "minorgridcolor": "white",
             "startlinecolor": "#2a3f5f"
            },
            "baxis": {
             "endlinecolor": "#2a3f5f",
             "gridcolor": "white",
             "linecolor": "white",
             "minorgridcolor": "white",
             "startlinecolor": "#2a3f5f"
            },
            "type": "carpet"
           }
          ],
          "choropleth": [
           {
            "colorbar": {
             "outlinewidth": 0,
             "ticks": ""
            },
            "type": "choropleth"
           }
          ],
          "contour": [
           {
            "colorbar": {
             "outlinewidth": 0,
             "ticks": ""
            },
            "colorscale": [
             [
              0,
              "#0d0887"
             ],
             [
              0.1111111111111111,
              "#46039f"
             ],
             [
              0.2222222222222222,
              "#7201a8"
             ],
             [
              0.3333333333333333,
              "#9c179e"
             ],
             [
              0.4444444444444444,
              "#bd3786"
             ],
             [
              0.5555555555555556,
              "#d8576b"
             ],
             [
              0.6666666666666666,
              "#ed7953"
             ],
             [
              0.7777777777777778,
              "#fb9f3a"
             ],
             [
              0.8888888888888888,
              "#fdca26"
             ],
             [
              1,
              "#f0f921"
             ]
            ],
            "type": "contour"
           }
          ],
          "contourcarpet": [
           {
            "colorbar": {
             "outlinewidth": 0,
             "ticks": ""
            },
            "type": "contourcarpet"
           }
          ],
          "heatmap": [
           {
            "colorbar": {
             "outlinewidth": 0,
             "ticks": ""
            },
            "colorscale": [
             [
              0,
              "#0d0887"
             ],
             [
              0.1111111111111111,
              "#46039f"
             ],
             [
              0.2222222222222222,
              "#7201a8"
             ],
             [
              0.3333333333333333,
              "#9c179e"
             ],
             [
              0.4444444444444444,
              "#bd3786"
             ],
             [
              0.5555555555555556,
              "#d8576b"
             ],
             [
              0.6666666666666666,
              "#ed7953"
             ],
             [
              0.7777777777777778,
              "#fb9f3a"
             ],
             [
              0.8888888888888888,
              "#fdca26"
             ],
             [
              1,
              "#f0f921"
             ]
            ],
            "type": "heatmap"
           }
          ],
          "heatmapgl": [
           {
            "colorbar": {
             "outlinewidth": 0,
             "ticks": ""
            },
            "colorscale": [
             [
              0,
              "#0d0887"
             ],
             [
              0.1111111111111111,
              "#46039f"
             ],
             [
              0.2222222222222222,
              "#7201a8"
             ],
             [
              0.3333333333333333,
              "#9c179e"
             ],
             [
              0.4444444444444444,
              "#bd3786"
             ],
             [
              0.5555555555555556,
              "#d8576b"
             ],
             [
              0.6666666666666666,
              "#ed7953"
             ],
             [
              0.7777777777777778,
              "#fb9f3a"
             ],
             [
              0.8888888888888888,
              "#fdca26"
             ],
             [
              1,
              "#f0f921"
             ]
            ],
            "type": "heatmapgl"
           }
          ],
          "histogram": [
           {
            "marker": {
             "pattern": {
              "fillmode": "overlay",
              "size": 10,
              "solidity": 0.2
             }
            },
            "type": "histogram"
           }
          ],
          "histogram2d": [
           {
            "colorbar": {
             "outlinewidth": 0,
             "ticks": ""
            },
            "colorscale": [
             [
              0,
              "#0d0887"
             ],
             [
              0.1111111111111111,
              "#46039f"
             ],
             [
              0.2222222222222222,
              "#7201a8"
             ],
             [
              0.3333333333333333,
              "#9c179e"
             ],
             [
              0.4444444444444444,
              "#bd3786"
             ],
             [
              0.5555555555555556,
              "#d8576b"
             ],
             [
              0.6666666666666666,
              "#ed7953"
             ],
             [
              0.7777777777777778,
              "#fb9f3a"
             ],
             [
              0.8888888888888888,
              "#fdca26"
             ],
             [
              1,
              "#f0f921"
             ]
            ],
            "type": "histogram2d"
           }
          ],
          "histogram2dcontour": [
           {
            "colorbar": {
             "outlinewidth": 0,
             "ticks": ""
            },
            "colorscale": [
             [
              0,
              "#0d0887"
             ],
             [
              0.1111111111111111,
              "#46039f"
             ],
             [
              0.2222222222222222,
              "#7201a8"
             ],
             [
              0.3333333333333333,
              "#9c179e"
             ],
             [
              0.4444444444444444,
              "#bd3786"
             ],
             [
              0.5555555555555556,
              "#d8576b"
             ],
             [
              0.6666666666666666,
              "#ed7953"
             ],
             [
              0.7777777777777778,
              "#fb9f3a"
             ],
             [
              0.8888888888888888,
              "#fdca26"
             ],
             [
              1,
              "#f0f921"
             ]
            ],
            "type": "histogram2dcontour"
           }
          ],
          "mesh3d": [
           {
            "colorbar": {
             "outlinewidth": 0,
             "ticks": ""
            },
            "type": "mesh3d"
           }
          ],
          "parcoords": [
           {
            "line": {
             "colorbar": {
              "outlinewidth": 0,
              "ticks": ""
             }
            },
            "type": "parcoords"
           }
          ],
          "pie": [
           {
            "automargin": true,
            "type": "pie"
           }
          ],
          "scatter": [
           {
            "fillpattern": {
             "fillmode": "overlay",
             "size": 10,
             "solidity": 0.2
            },
            "type": "scatter"
           }
          ],
          "scatter3d": [
           {
            "line": {
             "colorbar": {
              "outlinewidth": 0,
              "ticks": ""
             }
            },
            "marker": {
             "colorbar": {
              "outlinewidth": 0,
              "ticks": ""
             }
            },
            "type": "scatter3d"
           }
          ],
          "scattercarpet": [
           {
            "marker": {
             "colorbar": {
              "outlinewidth": 0,
              "ticks": ""
             }
            },
            "type": "scattercarpet"
           }
          ],
          "scattergeo": [
           {
            "marker": {
             "colorbar": {
              "outlinewidth": 0,
              "ticks": ""
             }
            },
            "type": "scattergeo"
           }
          ],
          "scattergl": [
           {
            "marker": {
             "colorbar": {
              "outlinewidth": 0,
              "ticks": ""
             }
            },
            "type": "scattergl"
           }
          ],
          "scattermapbox": [
           {
            "marker": {
             "colorbar": {
              "outlinewidth": 0,
              "ticks": ""
             }
            },
            "type": "scattermapbox"
           }
          ],
          "scatterpolar": [
           {
            "marker": {
             "colorbar": {
              "outlinewidth": 0,
              "ticks": ""
             }
            },
            "type": "scatterpolar"
           }
          ],
          "scatterpolargl": [
           {
            "marker": {
             "colorbar": {
              "outlinewidth": 0,
              "ticks": ""
             }
            },
            "type": "scatterpolargl"
           }
          ],
          "scatterternary": [
           {
            "marker": {
             "colorbar": {
              "outlinewidth": 0,
              "ticks": ""
             }
            },
            "type": "scatterternary"
           }
          ],
          "surface": [
           {
            "colorbar": {
             "outlinewidth": 0,
             "ticks": ""
            },
            "colorscale": [
             [
              0,
              "#0d0887"
             ],
             [
              0.1111111111111111,
              "#46039f"
             ],
             [
              0.2222222222222222,
              "#7201a8"
             ],
             [
              0.3333333333333333,
              "#9c179e"
             ],
             [
              0.4444444444444444,
              "#bd3786"
             ],
             [
              0.5555555555555556,
              "#d8576b"
             ],
             [
              0.6666666666666666,
              "#ed7953"
             ],
             [
              0.7777777777777778,
              "#fb9f3a"
             ],
             [
              0.8888888888888888,
              "#fdca26"
             ],
             [
              1,
              "#f0f921"
             ]
            ],
            "type": "surface"
           }
          ],
          "table": [
           {
            "cells": {
             "fill": {
              "color": "#EBF0F8"
             },
             "line": {
              "color": "white"
             }
            },
            "header": {
             "fill": {
              "color": "#C8D4E3"
             },
             "line": {
              "color": "white"
             }
            },
            "type": "table"
           }
          ]
         },
         "layout": {
          "annotationdefaults": {
           "arrowcolor": "#2a3f5f",
           "arrowhead": 0,
           "arrowwidth": 1
          },
          "autotypenumbers": "strict",
          "coloraxis": {
           "colorbar": {
            "outlinewidth": 0,
            "ticks": ""
           }
          },
          "colorscale": {
           "diverging": [
            [
             0,
             "#8e0152"
            ],
            [
             0.1,
             "#c51b7d"
            ],
            [
             0.2,
             "#de77ae"
            ],
            [
             0.3,
             "#f1b6da"
            ],
            [
             0.4,
             "#fde0ef"
            ],
            [
             0.5,
             "#f7f7f7"
            ],
            [
             0.6,
             "#e6f5d0"
            ],
            [
             0.7,
             "#b8e186"
            ],
            [
             0.8,
             "#7fbc41"
            ],
            [
             0.9,
             "#4d9221"
            ],
            [
             1,
             "#276419"
            ]
           ],
           "sequential": [
            [
             0,
             "#0d0887"
            ],
            [
             0.1111111111111111,
             "#46039f"
            ],
            [
             0.2222222222222222,
             "#7201a8"
            ],
            [
             0.3333333333333333,
             "#9c179e"
            ],
            [
             0.4444444444444444,
             "#bd3786"
            ],
            [
             0.5555555555555556,
             "#d8576b"
            ],
            [
             0.6666666666666666,
             "#ed7953"
            ],
            [
             0.7777777777777778,
             "#fb9f3a"
            ],
            [
             0.8888888888888888,
             "#fdca26"
            ],
            [
             1,
             "#f0f921"
            ]
           ],
           "sequentialminus": [
            [
             0,
             "#0d0887"
            ],
            [
             0.1111111111111111,
             "#46039f"
            ],
            [
             0.2222222222222222,
             "#7201a8"
            ],
            [
             0.3333333333333333,
             "#9c179e"
            ],
            [
             0.4444444444444444,
             "#bd3786"
            ],
            [
             0.5555555555555556,
             "#d8576b"
            ],
            [
             0.6666666666666666,
             "#ed7953"
            ],
            [
             0.7777777777777778,
             "#fb9f3a"
            ],
            [
             0.8888888888888888,
             "#fdca26"
            ],
            [
             1,
             "#f0f921"
            ]
           ]
          },
          "colorway": [
           "#636efa",
           "#EF553B",
           "#00cc96",
           "#ab63fa",
           "#FFA15A",
           "#19d3f3",
           "#FF6692",
           "#B6E880",
           "#FF97FF",
           "#FECB52"
          ],
          "font": {
           "color": "#2a3f5f"
          },
          "geo": {
           "bgcolor": "white",
           "lakecolor": "white",
           "landcolor": "#E5ECF6",
           "showlakes": true,
           "showland": true,
           "subunitcolor": "white"
          },
          "hoverlabel": {
           "align": "left"
          },
          "hovermode": "closest",
          "mapbox": {
           "style": "light"
          },
          "paper_bgcolor": "white",
          "plot_bgcolor": "#E5ECF6",
          "polar": {
           "angularaxis": {
            "gridcolor": "white",
            "linecolor": "white",
            "ticks": ""
           },
           "bgcolor": "#E5ECF6",
           "radialaxis": {
            "gridcolor": "white",
            "linecolor": "white",
            "ticks": ""
           }
          },
          "scene": {
           "xaxis": {
            "backgroundcolor": "#E5ECF6",
            "gridcolor": "white",
            "gridwidth": 2,
            "linecolor": "white",
            "showbackground": true,
            "ticks": "",
            "zerolinecolor": "white"
           },
           "yaxis": {
            "backgroundcolor": "#E5ECF6",
            "gridcolor": "white",
            "gridwidth": 2,
            "linecolor": "white",
            "showbackground": true,
            "ticks": "",
            "zerolinecolor": "white"
           },
           "zaxis": {
            "backgroundcolor": "#E5ECF6",
            "gridcolor": "white",
            "gridwidth": 2,
            "linecolor": "white",
            "showbackground": true,
            "ticks": "",
            "zerolinecolor": "white"
           }
          },
          "shapedefaults": {
           "line": {
            "color": "#2a3f5f"
           }
          },
          "ternary": {
           "aaxis": {
            "gridcolor": "white",
            "linecolor": "white",
            "ticks": ""
           },
           "baxis": {
            "gridcolor": "white",
            "linecolor": "white",
            "ticks": ""
           },
           "bgcolor": "#E5ECF6",
           "caxis": {
            "gridcolor": "white",
            "linecolor": "white",
            "ticks": ""
           }
          },
          "title": {
           "x": 0.05
          },
          "xaxis": {
           "automargin": true,
           "gridcolor": "white",
           "linecolor": "white",
           "ticks": "",
           "title": {
            "standoff": 15
           },
           "zerolinecolor": "white",
           "zerolinewidth": 2
          },
          "yaxis": {
           "automargin": true,
           "gridcolor": "white",
           "linecolor": "white",
           "ticks": "",
           "title": {
            "standoff": 15
           },
           "zerolinecolor": "white",
           "zerolinewidth": 2
          }
         }
        },
        "title": {
         "text": "Encounter Count by Citizenship and Fiscal Year (with Statistics)"
        }
       }
      }
     },
     "metadata": {},
     "output_type": "display_data"
    }
   ],
   "source": [
    "import plotly.graph_objects as go\n",
    "\n",
    "# Prepare data for the table\n",
    "table = go.Figure(data=[go.Table(\n",
    "    header=dict(values=[\"Citizenship\", \"2021\", \"2022\", \"2023\", \"2024\", \"Standard Deviation\", \"Variance\"],\n",
    "                fill_color='paleturquoise',\n",
    "                align='left'),\n",
    "    cells=dict(values=[\n",
    "        citizenship_by_fiscal_year_stats.index,  # Citizenship\n",
    "        citizenship_by_fiscal_year_stats[2021],\n",
    "        citizenship_by_fiscal_year_stats[2022],\n",
    "        citizenship_by_fiscal_year_stats[2023],\n",
    "        citizenship_by_fiscal_year_stats[2024],\n",
    "        citizenship_by_fiscal_year_stats['Standard Deviation'].round(2),\n",
    "        citizenship_by_fiscal_year_stats['Variance'].round(2)\n",
    "    ],\n",
    "    fill_color='lavender',\n",
    "    align='left'))\n",
    "])\n",
    "\n",
    "table.update_layout(title='Encounter Count by Citizenship and Fiscal Year (with Statistics)')\n",
    "table.show()"
   ]
  },
  {
   "cell_type": "code",
   "execution_count": 40,
   "id": "d0a9c9a8",
   "metadata": {},
   "outputs": [
    {
     "data": {
      "application/vnd.plotly.v1+json": {
       "config": {
        "plotlyServerURL": "https://plot.ly"
       },
       "data": [
        {
         "hovertemplate": "Citizenship=BRAZIL<br>Fiscal Year=%{x}<br>Total Encounters=%{y}<extra></extra>",
         "legendgroup": "BRAZIL",
         "line": {
          "color": "#636efa",
          "dash": "solid"
         },
         "marker": {
          "symbol": "circle"
         },
         "mode": "lines+markers",
         "name": "BRAZIL",
         "orientation": "v",
         "showlegend": true,
         "type": "scatter",
         "x": [
          2021,
          2022,
          2023,
          2024
         ],
         "xaxis": "x",
         "y": [
          58059,
          57021,
          32492,
          32130
         ],
         "yaxis": "y"
        },
        {
         "hovertemplate": "Citizenship=CANADA<br>Fiscal Year=%{x}<br>Total Encounters=%{y}<extra></extra>",
         "legendgroup": "CANADA",
         "line": {
          "color": "#EF553B",
          "dash": "solid"
         },
         "marker": {
          "symbol": "circle"
         },
         "mode": "lines+markers",
         "name": "CANADA",
         "orientation": "v",
         "showlegend": true,
         "type": "scatter",
         "x": [
          2021,
          2022,
          2023,
          2024
         ],
         "xaxis": "x",
         "y": [
          22371,
          47126,
          44700,
          45045
         ],
         "yaxis": "y"
        },
        {
         "hovertemplate": "Citizenship=CHINA<br>Fiscal Year=%{x}<br>Total Encounters=%{y}<extra></extra>",
         "legendgroup": "CHINA",
         "line": {
          "color": "#00cc96",
          "dash": "solid"
         },
         "marker": {
          "symbol": "circle"
         },
         "mode": "lines+markers",
         "name": "CHINA",
         "orientation": "v",
         "showlegend": true,
         "type": "scatter",
         "x": [
          2021,
          2022,
          2023,
          2024
         ],
         "xaxis": "x",
         "y": [
          23471,
          27756,
          52700,
          78701
         ],
         "yaxis": "y"
        },
        {
         "hovertemplate": "Citizenship=COLOMBIA<br>Fiscal Year=%{x}<br>Total Encounters=%{y}<extra></extra>",
         "legendgroup": "COLOMBIA",
         "line": {
          "color": "#ab63fa",
          "dash": "solid"
         },
         "marker": {
          "symbol": "circle"
         },
         "mode": "lines+markers",
         "name": "COLOMBIA",
         "orientation": "v",
         "showlegend": true,
         "type": "scatter",
         "x": [
          2021,
          2022,
          2023,
          2024
         ],
         "xaxis": "x",
         "y": [
          10495,
          130971,
          167388,
          134676
         ],
         "yaxis": "y"
        },
        {
         "hovertemplate": "Citizenship=CUBA<br>Fiscal Year=%{x}<br>Total Encounters=%{y}<extra></extra>",
         "legendgroup": "CUBA",
         "line": {
          "color": "#FFA15A",
          "dash": "solid"
         },
         "marker": {
          "symbol": "circle"
         },
         "mode": "lines+markers",
         "name": "CUBA",
         "orientation": "v",
         "showlegend": true,
         "type": "scatter",
         "x": [
          2021,
          2022,
          2023,
          2024
         ],
         "xaxis": "x",
         "y": [
          39303,
          224607,
          200287,
          217615
         ],
         "yaxis": "y"
        },
        {
         "hovertemplate": "Citizenship=ECUADOR<br>Fiscal Year=%{x}<br>Total Encounters=%{y}<extra></extra>",
         "legendgroup": "ECUADOR",
         "line": {
          "color": "#19d3f3",
          "dash": "solid"
         },
         "marker": {
          "symbol": "circle"
         },
         "mode": "lines+markers",
         "name": "ECUADOR",
         "orientation": "v",
         "showlegend": true,
         "type": "scatter",
         "x": [
          2021,
          2022,
          2023,
          2024
         ],
         "xaxis": "x",
         "y": [
          97074,
          24936,
          117487,
          124023
         ],
         "yaxis": "y"
        },
        {
         "hovertemplate": "Citizenship=EL SALVADOR<br>Fiscal Year=%{x}<br>Total Encounters=%{y}<extra></extra>",
         "legendgroup": "EL SALVADOR",
         "line": {
          "color": "#FF6692",
          "dash": "solid"
         },
         "marker": {
          "symbol": "circle"
         },
         "mode": "lines+markers",
         "name": "EL SALVADOR",
         "orientation": "v",
         "showlegend": true,
         "type": "scatter",
         "x": [
          2021,
          2022,
          2023,
          2024
         ],
         "xaxis": "x",
         "y": [
          99463,
          97797,
          62846,
          57207
         ],
         "yaxis": "y"
        },
        {
         "hovertemplate": "Citizenship=GUATEMALA<br>Fiscal Year=%{x}<br>Total Encounters=%{y}<extra></extra>",
         "legendgroup": "GUATEMALA",
         "line": {
          "color": "#B6E880",
          "dash": "solid"
         },
         "marker": {
          "symbol": "circle"
         },
         "mode": "lines+markers",
         "name": "GUATEMALA",
         "orientation": "v",
         "showlegend": true,
         "type": "scatter",
         "x": [
          2021,
          2022,
          2023,
          2024
         ],
         "xaxis": "x",
         "y": [
          284291,
          233061,
          221849,
          206971
         ],
         "yaxis": "y"
        },
        {
         "hovertemplate": "Citizenship=HAITI<br>Fiscal Year=%{x}<br>Total Encounters=%{y}<extra></extra>",
         "legendgroup": "HAITI",
         "line": {
          "color": "#FF97FF",
          "dash": "solid"
         },
         "marker": {
          "symbol": "circle"
         },
         "mode": "lines+markers",
         "name": "HAITI",
         "orientation": "v",
         "showlegend": true,
         "type": "scatter",
         "x": [
          2021,
          2022,
          2023,
          2024
         ],
         "xaxis": "x",
         "y": [
          48727,
          56596,
          163781,
          220798
         ],
         "yaxis": "y"
        },
        {
         "hovertemplate": "Citizenship=HONDURAS<br>Fiscal Year=%{x}<br>Total Encounters=%{y}<extra></extra>",
         "legendgroup": "HONDURAS",
         "line": {
          "color": "#FECB52",
          "dash": "solid"
         },
         "marker": {
          "symbol": "circle"
         },
         "mode": "lines+markers",
         "name": "HONDURAS",
         "orientation": "v",
         "showlegend": true,
         "type": "scatter",
         "x": [
          2021,
          2022,
          2023,
          2024
         ],
         "xaxis": "x",
         "y": [
          321149,
          214975,
          216028,
          144373
         ],
         "yaxis": "y"
        },
        {
         "hovertemplate": "Citizenship=INDIA<br>Fiscal Year=%{x}<br>Total Encounters=%{y}<extra></extra>",
         "legendgroup": "INDIA",
         "line": {
          "color": "#636efa",
          "dash": "solid"
         },
         "marker": {
          "symbol": "circle"
         },
         "mode": "lines+markers",
         "name": "INDIA",
         "orientation": "v",
         "showlegend": true,
         "type": "scatter",
         "x": [
          2021,
          2022,
          2023,
          2024
         ],
         "xaxis": "x",
         "y": [
          30662,
          63927,
          96917,
          90415
         ],
         "yaxis": "y"
        },
        {
         "hovertemplate": "Citizenship=MEXICO<br>Fiscal Year=%{x}<br>Total Encounters=%{y}<extra></extra>",
         "legendgroup": "MEXICO",
         "line": {
          "color": "#EF553B",
          "dash": "solid"
         },
         "marker": {
          "symbol": "circle"
         },
         "mode": "lines+markers",
         "name": "MEXICO",
         "orientation": "v",
         "showlegend": true,
         "type": "scatter",
         "x": [
          2021,
          2022,
          2023,
          2024
         ],
         "xaxis": "x",
         "y": [
          674739,
          823057,
          735937,
          668088
         ],
         "yaxis": "y"
        },
        {
         "hovertemplate": "Citizenship=MYANMAR (BURMA)<br>Fiscal Year=%{x}<br>Total Encounters=%{y}<extra></extra>",
         "legendgroup": "MYANMAR (BURMA)",
         "line": {
          "color": "#00cc96",
          "dash": "solid"
         },
         "marker": {
          "symbol": "circle"
         },
         "mode": "lines+markers",
         "name": "MYANMAR (BURMA)",
         "orientation": "v",
         "showlegend": true,
         "type": "scatter",
         "x": [
          2021,
          2022,
          2023,
          2024
         ],
         "xaxis": "x",
         "y": [
          3841,
          4470,
          4257,
          5004
         ],
         "yaxis": "y"
        },
        {
         "hovertemplate": "Citizenship=NICARAGUA<br>Fiscal Year=%{x}<br>Total Encounters=%{y}<extra></extra>",
         "legendgroup": "NICARAGUA",
         "line": {
          "color": "#ab63fa",
          "dash": "solid"
         },
         "marker": {
          "symbol": "circle"
         },
         "mode": "lines+markers",
         "name": "NICARAGUA",
         "orientation": "v",
         "showlegend": true,
         "type": "scatter",
         "x": [
          2021,
          2022,
          2023,
          2024
         ],
         "xaxis": "x",
         "y": [
          50722,
          164600,
          138729,
          91049
         ],
         "yaxis": "y"
        },
        {
         "hovertemplate": "Citizenship=OTHER<br>Fiscal Year=%{x}<br>Total Encounters=%{y}<extra></extra>",
         "legendgroup": "OTHER",
         "line": {
          "color": "#FFA15A",
          "dash": "solid"
         },
         "marker": {
          "symbol": "circle"
         },
         "mode": "lines+markers",
         "name": "OTHER",
         "orientation": "v",
         "showlegend": true,
         "type": "scatter",
         "x": [
          2021,
          2022,
          2023,
          2024
         ],
         "xaxis": "x",
         "y": [
          57357,
          137328,
          299575,
          267575
         ],
         "yaxis": "y"
        },
        {
         "hovertemplate": "Citizenship=PERU<br>Fiscal Year=%{x}<br>Total Encounters=%{y}<extra></extra>",
         "legendgroup": "PERU",
         "line": {
          "color": "#19d3f3",
          "dash": "solid"
         },
         "marker": {
          "symbol": "circle"
         },
         "mode": "lines+markers",
         "name": "PERU",
         "orientation": "v",
         "showlegend": true,
         "type": "scatter",
         "x": [
          2021,
          2022,
          2023,
          2024
         ],
         "xaxis": "x",
         "y": [
          5177,
          53188,
          78202,
          39200
         ],
         "yaxis": "y"
        },
        {
         "hovertemplate": "Citizenship=PHILIPPINES<br>Fiscal Year=%{x}<br>Total Encounters=%{y}<extra></extra>",
         "legendgroup": "PHILIPPINES",
         "line": {
          "color": "#FF6692",
          "dash": "solid"
         },
         "marker": {
          "symbol": "circle"
         },
         "mode": "lines+markers",
         "name": "PHILIPPINES",
         "orientation": "v",
         "showlegend": true,
         "type": "scatter",
         "x": [
          2021,
          2022,
          2023,
          2024
         ],
         "xaxis": "x",
         "y": [
          46353,
          55117,
          51399,
          48421
         ],
         "yaxis": "y"
        },
        {
         "hovertemplate": "Citizenship=ROMANIA<br>Fiscal Year=%{x}<br>Total Encounters=%{y}<extra></extra>",
         "legendgroup": "ROMANIA",
         "line": {
          "color": "#B6E880",
          "dash": "solid"
         },
         "marker": {
          "symbol": "circle"
         },
         "mode": "lines+markers",
         "name": "ROMANIA",
         "orientation": "v",
         "showlegend": true,
         "type": "scatter",
         "x": [
          2021,
          2022,
          2023,
          2024
         ],
         "xaxis": "x",
         "y": [
          5159,
          7411,
          3692,
          2548
         ],
         "yaxis": "y"
        },
        {
         "hovertemplate": "Citizenship=RUSSIA<br>Fiscal Year=%{x}<br>Total Encounters=%{y}<extra></extra>",
         "legendgroup": "RUSSIA",
         "line": {
          "color": "#FF97FF",
          "dash": "solid"
         },
         "marker": {
          "symbol": "circle"
         },
         "mode": "lines+markers",
         "name": "RUSSIA",
         "orientation": "v",
         "showlegend": true,
         "type": "scatter",
         "x": [
          2021,
          2022,
          2023,
          2024
         ],
         "xaxis": "x",
         "y": [
          13240,
          36271,
          57163,
          21891
         ],
         "yaxis": "y"
        },
        {
         "hovertemplate": "Citizenship=TURKEY<br>Fiscal Year=%{x}<br>Total Encounters=%{y}<extra></extra>",
         "legendgroup": "TURKEY",
         "line": {
          "color": "#FECB52",
          "dash": "solid"
         },
         "marker": {
          "symbol": "circle"
         },
         "mode": "lines+markers",
         "name": "TURKEY",
         "orientation": "v",
         "showlegend": true,
         "type": "scatter",
         "x": [
          2021,
          2022,
          2023,
          2024
         ],
         "xaxis": "x",
         "y": [
          4989,
          19470,
          18986,
          13311
         ],
         "yaxis": "y"
        },
        {
         "hovertemplate": "Citizenship=UKRAINE<br>Fiscal Year=%{x}<br>Total Encounters=%{y}<extra></extra>",
         "legendgroup": "UKRAINE",
         "line": {
          "color": "#636efa",
          "dash": "solid"
         },
         "marker": {
          "symbol": "circle"
         },
         "mode": "lines+markers",
         "name": "UKRAINE",
         "orientation": "v",
         "showlegend": true,
         "type": "scatter",
         "x": [
          2021,
          2022,
          2023,
          2024
         ],
         "xaxis": "x",
         "y": [
          9378,
          97377,
          101815,
          78605
         ],
         "yaxis": "y"
        },
        {
         "hovertemplate": "Citizenship=VENEZUELA<br>Fiscal Year=%{x}<br>Total Encounters=%{y}<extra></extra>",
         "legendgroup": "VENEZUELA",
         "line": {
          "color": "#EF553B",
          "dash": "solid"
         },
         "marker": {
          "symbol": "circle"
         },
         "mode": "lines+markers",
         "name": "VENEZUELA",
         "orientation": "v",
         "showlegend": true,
         "type": "scatter",
         "x": [
          2021,
          2022,
          2023,
          2024
         ],
         "xaxis": "x",
         "y": [
          50499,
          189520,
          334914,
          313496
         ],
         "yaxis": "y"
        }
       ],
       "layout": {
        "legend": {
         "title": {
          "text": "Citizenship"
         },
         "tracegroupgap": 0
        },
        "template": {
         "data": {
          "bar": [
           {
            "error_x": {
             "color": "#2a3f5f"
            },
            "error_y": {
             "color": "#2a3f5f"
            },
            "marker": {
             "line": {
              "color": "#E5ECF6",
              "width": 0.5
             },
             "pattern": {
              "fillmode": "overlay",
              "size": 10,
              "solidity": 0.2
             }
            },
            "type": "bar"
           }
          ],
          "barpolar": [
           {
            "marker": {
             "line": {
              "color": "#E5ECF6",
              "width": 0.5
             },
             "pattern": {
              "fillmode": "overlay",
              "size": 10,
              "solidity": 0.2
             }
            },
            "type": "barpolar"
           }
          ],
          "carpet": [
           {
            "aaxis": {
             "endlinecolor": "#2a3f5f",
             "gridcolor": "white",
             "linecolor": "white",
             "minorgridcolor": "white",
             "startlinecolor": "#2a3f5f"
            },
            "baxis": {
             "endlinecolor": "#2a3f5f",
             "gridcolor": "white",
             "linecolor": "white",
             "minorgridcolor": "white",
             "startlinecolor": "#2a3f5f"
            },
            "type": "carpet"
           }
          ],
          "choropleth": [
           {
            "colorbar": {
             "outlinewidth": 0,
             "ticks": ""
            },
            "type": "choropleth"
           }
          ],
          "contour": [
           {
            "colorbar": {
             "outlinewidth": 0,
             "ticks": ""
            },
            "colorscale": [
             [
              0,
              "#0d0887"
             ],
             [
              0.1111111111111111,
              "#46039f"
             ],
             [
              0.2222222222222222,
              "#7201a8"
             ],
             [
              0.3333333333333333,
              "#9c179e"
             ],
             [
              0.4444444444444444,
              "#bd3786"
             ],
             [
              0.5555555555555556,
              "#d8576b"
             ],
             [
              0.6666666666666666,
              "#ed7953"
             ],
             [
              0.7777777777777778,
              "#fb9f3a"
             ],
             [
              0.8888888888888888,
              "#fdca26"
             ],
             [
              1,
              "#f0f921"
             ]
            ],
            "type": "contour"
           }
          ],
          "contourcarpet": [
           {
            "colorbar": {
             "outlinewidth": 0,
             "ticks": ""
            },
            "type": "contourcarpet"
           }
          ],
          "heatmap": [
           {
            "colorbar": {
             "outlinewidth": 0,
             "ticks": ""
            },
            "colorscale": [
             [
              0,
              "#0d0887"
             ],
             [
              0.1111111111111111,
              "#46039f"
             ],
             [
              0.2222222222222222,
              "#7201a8"
             ],
             [
              0.3333333333333333,
              "#9c179e"
             ],
             [
              0.4444444444444444,
              "#bd3786"
             ],
             [
              0.5555555555555556,
              "#d8576b"
             ],
             [
              0.6666666666666666,
              "#ed7953"
             ],
             [
              0.7777777777777778,
              "#fb9f3a"
             ],
             [
              0.8888888888888888,
              "#fdca26"
             ],
             [
              1,
              "#f0f921"
             ]
            ],
            "type": "heatmap"
           }
          ],
          "heatmapgl": [
           {
            "colorbar": {
             "outlinewidth": 0,
             "ticks": ""
            },
            "colorscale": [
             [
              0,
              "#0d0887"
             ],
             [
              0.1111111111111111,
              "#46039f"
             ],
             [
              0.2222222222222222,
              "#7201a8"
             ],
             [
              0.3333333333333333,
              "#9c179e"
             ],
             [
              0.4444444444444444,
              "#bd3786"
             ],
             [
              0.5555555555555556,
              "#d8576b"
             ],
             [
              0.6666666666666666,
              "#ed7953"
             ],
             [
              0.7777777777777778,
              "#fb9f3a"
             ],
             [
              0.8888888888888888,
              "#fdca26"
             ],
             [
              1,
              "#f0f921"
             ]
            ],
            "type": "heatmapgl"
           }
          ],
          "histogram": [
           {
            "marker": {
             "pattern": {
              "fillmode": "overlay",
              "size": 10,
              "solidity": 0.2
             }
            },
            "type": "histogram"
           }
          ],
          "histogram2d": [
           {
            "colorbar": {
             "outlinewidth": 0,
             "ticks": ""
            },
            "colorscale": [
             [
              0,
              "#0d0887"
             ],
             [
              0.1111111111111111,
              "#46039f"
             ],
             [
              0.2222222222222222,
              "#7201a8"
             ],
             [
              0.3333333333333333,
              "#9c179e"
             ],
             [
              0.4444444444444444,
              "#bd3786"
             ],
             [
              0.5555555555555556,
              "#d8576b"
             ],
             [
              0.6666666666666666,
              "#ed7953"
             ],
             [
              0.7777777777777778,
              "#fb9f3a"
             ],
             [
              0.8888888888888888,
              "#fdca26"
             ],
             [
              1,
              "#f0f921"
             ]
            ],
            "type": "histogram2d"
           }
          ],
          "histogram2dcontour": [
           {
            "colorbar": {
             "outlinewidth": 0,
             "ticks": ""
            },
            "colorscale": [
             [
              0,
              "#0d0887"
             ],
             [
              0.1111111111111111,
              "#46039f"
             ],
             [
              0.2222222222222222,
              "#7201a8"
             ],
             [
              0.3333333333333333,
              "#9c179e"
             ],
             [
              0.4444444444444444,
              "#bd3786"
             ],
             [
              0.5555555555555556,
              "#d8576b"
             ],
             [
              0.6666666666666666,
              "#ed7953"
             ],
             [
              0.7777777777777778,
              "#fb9f3a"
             ],
             [
              0.8888888888888888,
              "#fdca26"
             ],
             [
              1,
              "#f0f921"
             ]
            ],
            "type": "histogram2dcontour"
           }
          ],
          "mesh3d": [
           {
            "colorbar": {
             "outlinewidth": 0,
             "ticks": ""
            },
            "type": "mesh3d"
           }
          ],
          "parcoords": [
           {
            "line": {
             "colorbar": {
              "outlinewidth": 0,
              "ticks": ""
             }
            },
            "type": "parcoords"
           }
          ],
          "pie": [
           {
            "automargin": true,
            "type": "pie"
           }
          ],
          "scatter": [
           {
            "fillpattern": {
             "fillmode": "overlay",
             "size": 10,
             "solidity": 0.2
            },
            "type": "scatter"
           }
          ],
          "scatter3d": [
           {
            "line": {
             "colorbar": {
              "outlinewidth": 0,
              "ticks": ""
             }
            },
            "marker": {
             "colorbar": {
              "outlinewidth": 0,
              "ticks": ""
             }
            },
            "type": "scatter3d"
           }
          ],
          "scattercarpet": [
           {
            "marker": {
             "colorbar": {
              "outlinewidth": 0,
              "ticks": ""
             }
            },
            "type": "scattercarpet"
           }
          ],
          "scattergeo": [
           {
            "marker": {
             "colorbar": {
              "outlinewidth": 0,
              "ticks": ""
             }
            },
            "type": "scattergeo"
           }
          ],
          "scattergl": [
           {
            "marker": {
             "colorbar": {
              "outlinewidth": 0,
              "ticks": ""
             }
            },
            "type": "scattergl"
           }
          ],
          "scattermapbox": [
           {
            "marker": {
             "colorbar": {
              "outlinewidth": 0,
              "ticks": ""
             }
            },
            "type": "scattermapbox"
           }
          ],
          "scatterpolar": [
           {
            "marker": {
             "colorbar": {
              "outlinewidth": 0,
              "ticks": ""
             }
            },
            "type": "scatterpolar"
           }
          ],
          "scatterpolargl": [
           {
            "marker": {
             "colorbar": {
              "outlinewidth": 0,
              "ticks": ""
             }
            },
            "type": "scatterpolargl"
           }
          ],
          "scatterternary": [
           {
            "marker": {
             "colorbar": {
              "outlinewidth": 0,
              "ticks": ""
             }
            },
            "type": "scatterternary"
           }
          ],
          "surface": [
           {
            "colorbar": {
             "outlinewidth": 0,
             "ticks": ""
            },
            "colorscale": [
             [
              0,
              "#0d0887"
             ],
             [
              0.1111111111111111,
              "#46039f"
             ],
             [
              0.2222222222222222,
              "#7201a8"
             ],
             [
              0.3333333333333333,
              "#9c179e"
             ],
             [
              0.4444444444444444,
              "#bd3786"
             ],
             [
              0.5555555555555556,
              "#d8576b"
             ],
             [
              0.6666666666666666,
              "#ed7953"
             ],
             [
              0.7777777777777778,
              "#fb9f3a"
             ],
             [
              0.8888888888888888,
              "#fdca26"
             ],
             [
              1,
              "#f0f921"
             ]
            ],
            "type": "surface"
           }
          ],
          "table": [
           {
            "cells": {
             "fill": {
              "color": "#EBF0F8"
             },
             "line": {
              "color": "white"
             }
            },
            "header": {
             "fill": {
              "color": "#C8D4E3"
             },
             "line": {
              "color": "white"
             }
            },
            "type": "table"
           }
          ]
         },
         "layout": {
          "annotationdefaults": {
           "arrowcolor": "#2a3f5f",
           "arrowhead": 0,
           "arrowwidth": 1
          },
          "autotypenumbers": "strict",
          "coloraxis": {
           "colorbar": {
            "outlinewidth": 0,
            "ticks": ""
           }
          },
          "colorscale": {
           "diverging": [
            [
             0,
             "#8e0152"
            ],
            [
             0.1,
             "#c51b7d"
            ],
            [
             0.2,
             "#de77ae"
            ],
            [
             0.3,
             "#f1b6da"
            ],
            [
             0.4,
             "#fde0ef"
            ],
            [
             0.5,
             "#f7f7f7"
            ],
            [
             0.6,
             "#e6f5d0"
            ],
            [
             0.7,
             "#b8e186"
            ],
            [
             0.8,
             "#7fbc41"
            ],
            [
             0.9,
             "#4d9221"
            ],
            [
             1,
             "#276419"
            ]
           ],
           "sequential": [
            [
             0,
             "#0d0887"
            ],
            [
             0.1111111111111111,
             "#46039f"
            ],
            [
             0.2222222222222222,
             "#7201a8"
            ],
            [
             0.3333333333333333,
             "#9c179e"
            ],
            [
             0.4444444444444444,
             "#bd3786"
            ],
            [
             0.5555555555555556,
             "#d8576b"
            ],
            [
             0.6666666666666666,
             "#ed7953"
            ],
            [
             0.7777777777777778,
             "#fb9f3a"
            ],
            [
             0.8888888888888888,
             "#fdca26"
            ],
            [
             1,
             "#f0f921"
            ]
           ],
           "sequentialminus": [
            [
             0,
             "#0d0887"
            ],
            [
             0.1111111111111111,
             "#46039f"
            ],
            [
             0.2222222222222222,
             "#7201a8"
            ],
            [
             0.3333333333333333,
             "#9c179e"
            ],
            [
             0.4444444444444444,
             "#bd3786"
            ],
            [
             0.5555555555555556,
             "#d8576b"
            ],
            [
             0.6666666666666666,
             "#ed7953"
            ],
            [
             0.7777777777777778,
             "#fb9f3a"
            ],
            [
             0.8888888888888888,
             "#fdca26"
            ],
            [
             1,
             "#f0f921"
            ]
           ]
          },
          "colorway": [
           "#636efa",
           "#EF553B",
           "#00cc96",
           "#ab63fa",
           "#FFA15A",
           "#19d3f3",
           "#FF6692",
           "#B6E880",
           "#FF97FF",
           "#FECB52"
          ],
          "font": {
           "color": "#2a3f5f"
          },
          "geo": {
           "bgcolor": "white",
           "lakecolor": "white",
           "landcolor": "#E5ECF6",
           "showlakes": true,
           "showland": true,
           "subunitcolor": "white"
          },
          "hoverlabel": {
           "align": "left"
          },
          "hovermode": "closest",
          "mapbox": {
           "style": "light"
          },
          "paper_bgcolor": "white",
          "plot_bgcolor": "#E5ECF6",
          "polar": {
           "angularaxis": {
            "gridcolor": "white",
            "linecolor": "white",
            "ticks": ""
           },
           "bgcolor": "#E5ECF6",
           "radialaxis": {
            "gridcolor": "white",
            "linecolor": "white",
            "ticks": ""
           }
          },
          "scene": {
           "xaxis": {
            "backgroundcolor": "#E5ECF6",
            "gridcolor": "white",
            "gridwidth": 2,
            "linecolor": "white",
            "showbackground": true,
            "ticks": "",
            "zerolinecolor": "white"
           },
           "yaxis": {
            "backgroundcolor": "#E5ECF6",
            "gridcolor": "white",
            "gridwidth": 2,
            "linecolor": "white",
            "showbackground": true,
            "ticks": "",
            "zerolinecolor": "white"
           },
           "zaxis": {
            "backgroundcolor": "#E5ECF6",
            "gridcolor": "white",
            "gridwidth": 2,
            "linecolor": "white",
            "showbackground": true,
            "ticks": "",
            "zerolinecolor": "white"
           }
          },
          "shapedefaults": {
           "line": {
            "color": "#2a3f5f"
           }
          },
          "ternary": {
           "aaxis": {
            "gridcolor": "white",
            "linecolor": "white",
            "ticks": ""
           },
           "baxis": {
            "gridcolor": "white",
            "linecolor": "white",
            "ticks": ""
           },
           "bgcolor": "#E5ECF6",
           "caxis": {
            "gridcolor": "white",
            "linecolor": "white",
            "ticks": ""
           }
          },
          "title": {
           "x": 0.05
          },
          "xaxis": {
           "automargin": true,
           "gridcolor": "white",
           "linecolor": "white",
           "ticks": "",
           "title": {
            "standoff": 15
           },
           "zerolinecolor": "white",
           "zerolinewidth": 2
          },
          "yaxis": {
           "automargin": true,
           "gridcolor": "white",
           "linecolor": "white",
           "ticks": "",
           "title": {
            "standoff": 15
           },
           "zerolinecolor": "white",
           "zerolinewidth": 2
          }
         }
        },
        "title": {
         "text": "Trend Line of Total Encounters by Citizenship and Fiscal Year"
        },
        "xaxis": {
         "anchor": "y",
         "domain": [
          0,
          1
         ],
         "title": {
          "text": "Fiscal Year FY21-FY24"
         }
        },
        "yaxis": {
         "anchor": "x",
         "domain": [
          0,
          1
         ],
         "title": {
          "text": "Total Encounters"
         }
        }
       }
      }
     },
     "metadata": {},
     "output_type": "display_data"
    }
   ],
   "source": [
    "# Create visualization of data over time for the Sum of Encounter Count by Citizenship and Fiscal Year. Add interactive table with plotly. Add trend line to the table.\n",
    "fig = px.line(citizenship_by_fiscal_year.reset_index().melt(id_vars='Citizenship', var_name='Fiscal Year', value_name='Encounter Count'),\n",
    "              x='Fiscal Year', y='Encounter Count', color='Citizenship',\n",
    "              title='Trend Line of Total Encounters by Citizenship and Fiscal Year',\n",
    "              labels={'Encounter Count': 'Total Encounters', 'Citizenship': 'Citizenship'})\n",
    "fig.update_traces(mode='lines+markers')\n",
    "fig.update_layout(yaxis_title='Total Encounters', xaxis_title='Fiscal Year FY21-FY24')\n",
    "fig.show()"
   ]
  },
  {
   "cell_type": "code",
   "execution_count": 41,
   "id": "77de29a0",
   "metadata": {},
   "outputs": [
    {
     "data": {
      "application/vnd.plotly.v1+json": {
       "config": {
        "plotlyServerURL": "https://plot.ly"
       },
       "data": [
        {
         "hovertemplate": "Fiscal Year=2021<br>Month=%{x}<br>Total Encounters=%{y}<extra></extra>",
         "legendgroup": "2021",
         "line": {
          "color": "#636efa",
          "dash": "solid"
         },
         "marker": {
          "symbol": "circle"
         },
         "mode": "lines+markers",
         "name": "2021",
         "orientation": "v",
         "showlegend": true,
         "type": "scatter",
         "x": [
          "APR",
          "AUG",
          "DEC",
          "FEB",
          "JAN",
          "JUL",
          "JUN",
          "MAR",
          "MAY",
          "NOV",
          "OCT",
          "SEP"
         ],
         "xaxis": "x",
         "y": [
          1801,
          1827,
          1882,
          1450,
          2183,
          2004,
          1868,
          1881,
          1903,
          2433,
          2275,
          1964
         ],
         "yaxis": "y"
        },
        {
         "hovertemplate": "Fiscal Year=2022<br>Month=%{x}<br>Total Encounters=%{y}<extra></extra>",
         "legendgroup": "2022",
         "line": {
          "color": "#EF553B",
          "dash": "solid"
         },
         "marker": {
          "symbol": "circle"
         },
         "mode": "lines+markers",
         "name": "2022",
         "orientation": "v",
         "showlegend": true,
         "type": "scatter",
         "x": [
          "APR",
          "AUG",
          "DEC",
          "FEB",
          "JAN",
          "JUL",
          "JUN",
          "MAR",
          "MAY",
          "NOV",
          "OCT",
          "SEP"
         ],
         "xaxis": "x",
         "y": [
          2096,
          2465,
          2634,
          2289,
          2699,
          2191,
          2472,
          1990,
          2036,
          2186,
          2188,
          2510
         ],
         "yaxis": "y"
        },
        {
         "hovertemplate": "Fiscal Year=2023<br>Month=%{x}<br>Total Encounters=%{y}<extra></extra>",
         "legendgroup": "2023",
         "line": {
          "color": "#00cc96",
          "dash": "solid"
         },
         "marker": {
          "symbol": "circle"
         },
         "mode": "lines+markers",
         "name": "2023",
         "orientation": "v",
         "showlegend": true,
         "type": "scatter",
         "x": [
          "APR",
          "AUG",
          "DEC",
          "FEB",
          "JAN",
          "JUL",
          "JUN",
          "MAR",
          "MAY",
          "NOV",
          "OCT",
          "SEP"
         ],
         "xaxis": "x",
         "y": [
          5434,
          5864,
          2818,
          3150,
          3147,
          6157,
          4601,
          4437,
          5172,
          2368,
          2281,
          7271
         ],
         "yaxis": "y"
        },
        {
         "hovertemplate": "Fiscal Year=2024<br>Month=%{x}<br>Total Encounters=%{y}<extra></extra>",
         "legendgroup": "2024",
         "line": {
          "color": "#ab63fa",
          "dash": "solid"
         },
         "marker": {
          "symbol": "circle"
         },
         "mode": "lines+markers",
         "name": "2024",
         "orientation": "v",
         "showlegend": true,
         "type": "scatter",
         "x": [
          "APR",
          "AUG",
          "DEC",
          "FEB",
          "JAN",
          "JUL",
          "JUN",
          "MAR",
          "MAY",
          "NOV",
          "OCT",
          "SEP"
         ],
         "xaxis": "x",
         "y": [
          6527,
          6040,
          8615,
          7112,
          6772,
          5569,
          6171,
          5069,
          7421,
          7238,
          7160,
          5007
         ],
         "yaxis": "y"
        }
       ],
       "layout": {
        "legend": {
         "title": {
          "text": "Fiscal Year"
         },
         "tracegroupgap": 0
        },
        "template": {
         "data": {
          "bar": [
           {
            "error_x": {
             "color": "#2a3f5f"
            },
            "error_y": {
             "color": "#2a3f5f"
            },
            "marker": {
             "line": {
              "color": "#E5ECF6",
              "width": 0.5
             },
             "pattern": {
              "fillmode": "overlay",
              "size": 10,
              "solidity": 0.2
             }
            },
            "type": "bar"
           }
          ],
          "barpolar": [
           {
            "marker": {
             "line": {
              "color": "#E5ECF6",
              "width": 0.5
             },
             "pattern": {
              "fillmode": "overlay",
              "size": 10,
              "solidity": 0.2
             }
            },
            "type": "barpolar"
           }
          ],
          "carpet": [
           {
            "aaxis": {
             "endlinecolor": "#2a3f5f",
             "gridcolor": "white",
             "linecolor": "white",
             "minorgridcolor": "white",
             "startlinecolor": "#2a3f5f"
            },
            "baxis": {
             "endlinecolor": "#2a3f5f",
             "gridcolor": "white",
             "linecolor": "white",
             "minorgridcolor": "white",
             "startlinecolor": "#2a3f5f"
            },
            "type": "carpet"
           }
          ],
          "choropleth": [
           {
            "colorbar": {
             "outlinewidth": 0,
             "ticks": ""
            },
            "type": "choropleth"
           }
          ],
          "contour": [
           {
            "colorbar": {
             "outlinewidth": 0,
             "ticks": ""
            },
            "colorscale": [
             [
              0,
              "#0d0887"
             ],
             [
              0.1111111111111111,
              "#46039f"
             ],
             [
              0.2222222222222222,
              "#7201a8"
             ],
             [
              0.3333333333333333,
              "#9c179e"
             ],
             [
              0.4444444444444444,
              "#bd3786"
             ],
             [
              0.5555555555555556,
              "#d8576b"
             ],
             [
              0.6666666666666666,
              "#ed7953"
             ],
             [
              0.7777777777777778,
              "#fb9f3a"
             ],
             [
              0.8888888888888888,
              "#fdca26"
             ],
             [
              1,
              "#f0f921"
             ]
            ],
            "type": "contour"
           }
          ],
          "contourcarpet": [
           {
            "colorbar": {
             "outlinewidth": 0,
             "ticks": ""
            },
            "type": "contourcarpet"
           }
          ],
          "heatmap": [
           {
            "colorbar": {
             "outlinewidth": 0,
             "ticks": ""
            },
            "colorscale": [
             [
              0,
              "#0d0887"
             ],
             [
              0.1111111111111111,
              "#46039f"
             ],
             [
              0.2222222222222222,
              "#7201a8"
             ],
             [
              0.3333333333333333,
              "#9c179e"
             ],
             [
              0.4444444444444444,
              "#bd3786"
             ],
             [
              0.5555555555555556,
              "#d8576b"
             ],
             [
              0.6666666666666666,
              "#ed7953"
             ],
             [
              0.7777777777777778,
              "#fb9f3a"
             ],
             [
              0.8888888888888888,
              "#fdca26"
             ],
             [
              1,
              "#f0f921"
             ]
            ],
            "type": "heatmap"
           }
          ],
          "heatmapgl": [
           {
            "colorbar": {
             "outlinewidth": 0,
             "ticks": ""
            },
            "colorscale": [
             [
              0,
              "#0d0887"
             ],
             [
              0.1111111111111111,
              "#46039f"
             ],
             [
              0.2222222222222222,
              "#7201a8"
             ],
             [
              0.3333333333333333,
              "#9c179e"
             ],
             [
              0.4444444444444444,
              "#bd3786"
             ],
             [
              0.5555555555555556,
              "#d8576b"
             ],
             [
              0.6666666666666666,
              "#ed7953"
             ],
             [
              0.7777777777777778,
              "#fb9f3a"
             ],
             [
              0.8888888888888888,
              "#fdca26"
             ],
             [
              1,
              "#f0f921"
             ]
            ],
            "type": "heatmapgl"
           }
          ],
          "histogram": [
           {
            "marker": {
             "pattern": {
              "fillmode": "overlay",
              "size": 10,
              "solidity": 0.2
             }
            },
            "type": "histogram"
           }
          ],
          "histogram2d": [
           {
            "colorbar": {
             "outlinewidth": 0,
             "ticks": ""
            },
            "colorscale": [
             [
              0,
              "#0d0887"
             ],
             [
              0.1111111111111111,
              "#46039f"
             ],
             [
              0.2222222222222222,
              "#7201a8"
             ],
             [
              0.3333333333333333,
              "#9c179e"
             ],
             [
              0.4444444444444444,
              "#bd3786"
             ],
             [
              0.5555555555555556,
              "#d8576b"
             ],
             [
              0.6666666666666666,
              "#ed7953"
             ],
             [
              0.7777777777777778,
              "#fb9f3a"
             ],
             [
              0.8888888888888888,
              "#fdca26"
             ],
             [
              1,
              "#f0f921"
             ]
            ],
            "type": "histogram2d"
           }
          ],
          "histogram2dcontour": [
           {
            "colorbar": {
             "outlinewidth": 0,
             "ticks": ""
            },
            "colorscale": [
             [
              0,
              "#0d0887"
             ],
             [
              0.1111111111111111,
              "#46039f"
             ],
             [
              0.2222222222222222,
              "#7201a8"
             ],
             [
              0.3333333333333333,
              "#9c179e"
             ],
             [
              0.4444444444444444,
              "#bd3786"
             ],
             [
              0.5555555555555556,
              "#d8576b"
             ],
             [
              0.6666666666666666,
              "#ed7953"
             ],
             [
              0.7777777777777778,
              "#fb9f3a"
             ],
             [
              0.8888888888888888,
              "#fdca26"
             ],
             [
              1,
              "#f0f921"
             ]
            ],
            "type": "histogram2dcontour"
           }
          ],
          "mesh3d": [
           {
            "colorbar": {
             "outlinewidth": 0,
             "ticks": ""
            },
            "type": "mesh3d"
           }
          ],
          "parcoords": [
           {
            "line": {
             "colorbar": {
              "outlinewidth": 0,
              "ticks": ""
             }
            },
            "type": "parcoords"
           }
          ],
          "pie": [
           {
            "automargin": true,
            "type": "pie"
           }
          ],
          "scatter": [
           {
            "fillpattern": {
             "fillmode": "overlay",
             "size": 10,
             "solidity": 0.2
            },
            "type": "scatter"
           }
          ],
          "scatter3d": [
           {
            "line": {
             "colorbar": {
              "outlinewidth": 0,
              "ticks": ""
             }
            },
            "marker": {
             "colorbar": {
              "outlinewidth": 0,
              "ticks": ""
             }
            },
            "type": "scatter3d"
           }
          ],
          "scattercarpet": [
           {
            "marker": {
             "colorbar": {
              "outlinewidth": 0,
              "ticks": ""
             }
            },
            "type": "scattercarpet"
           }
          ],
          "scattergeo": [
           {
            "marker": {
             "colorbar": {
              "outlinewidth": 0,
              "ticks": ""
             }
            },
            "type": "scattergeo"
           }
          ],
          "scattergl": [
           {
            "marker": {
             "colorbar": {
              "outlinewidth": 0,
              "ticks": ""
             }
            },
            "type": "scattergl"
           }
          ],
          "scattermapbox": [
           {
            "marker": {
             "colorbar": {
              "outlinewidth": 0,
              "ticks": ""
             }
            },
            "type": "scattermapbox"
           }
          ],
          "scatterpolar": [
           {
            "marker": {
             "colorbar": {
              "outlinewidth": 0,
              "ticks": ""
             }
            },
            "type": "scatterpolar"
           }
          ],
          "scatterpolargl": [
           {
            "marker": {
             "colorbar": {
              "outlinewidth": 0,
              "ticks": ""
             }
            },
            "type": "scatterpolargl"
           }
          ],
          "scatterternary": [
           {
            "marker": {
             "colorbar": {
              "outlinewidth": 0,
              "ticks": ""
             }
            },
            "type": "scatterternary"
           }
          ],
          "surface": [
           {
            "colorbar": {
             "outlinewidth": 0,
             "ticks": ""
            },
            "colorscale": [
             [
              0,
              "#0d0887"
             ],
             [
              0.1111111111111111,
              "#46039f"
             ],
             [
              0.2222222222222222,
              "#7201a8"
             ],
             [
              0.3333333333333333,
              "#9c179e"
             ],
             [
              0.4444444444444444,
              "#bd3786"
             ],
             [
              0.5555555555555556,
              "#d8576b"
             ],
             [
              0.6666666666666666,
              "#ed7953"
             ],
             [
              0.7777777777777778,
              "#fb9f3a"
             ],
             [
              0.8888888888888888,
              "#fdca26"
             ],
             [
              1,
              "#f0f921"
             ]
            ],
            "type": "surface"
           }
          ],
          "table": [
           {
            "cells": {
             "fill": {
              "color": "#EBF0F8"
             },
             "line": {
              "color": "white"
             }
            },
            "header": {
             "fill": {
              "color": "#C8D4E3"
             },
             "line": {
              "color": "white"
             }
            },
            "type": "table"
           }
          ]
         },
         "layout": {
          "annotationdefaults": {
           "arrowcolor": "#2a3f5f",
           "arrowhead": 0,
           "arrowwidth": 1
          },
          "autotypenumbers": "strict",
          "coloraxis": {
           "colorbar": {
            "outlinewidth": 0,
            "ticks": ""
           }
          },
          "colorscale": {
           "diverging": [
            [
             0,
             "#8e0152"
            ],
            [
             0.1,
             "#c51b7d"
            ],
            [
             0.2,
             "#de77ae"
            ],
            [
             0.3,
             "#f1b6da"
            ],
            [
             0.4,
             "#fde0ef"
            ],
            [
             0.5,
             "#f7f7f7"
            ],
            [
             0.6,
             "#e6f5d0"
            ],
            [
             0.7,
             "#b8e186"
            ],
            [
             0.8,
             "#7fbc41"
            ],
            [
             0.9,
             "#4d9221"
            ],
            [
             1,
             "#276419"
            ]
           ],
           "sequential": [
            [
             0,
             "#0d0887"
            ],
            [
             0.1111111111111111,
             "#46039f"
            ],
            [
             0.2222222222222222,
             "#7201a8"
            ],
            [
             0.3333333333333333,
             "#9c179e"
            ],
            [
             0.4444444444444444,
             "#bd3786"
            ],
            [
             0.5555555555555556,
             "#d8576b"
            ],
            [
             0.6666666666666666,
             "#ed7953"
            ],
            [
             0.7777777777777778,
             "#fb9f3a"
            ],
            [
             0.8888888888888888,
             "#fdca26"
            ],
            [
             1,
             "#f0f921"
            ]
           ],
           "sequentialminus": [
            [
             0,
             "#0d0887"
            ],
            [
             0.1111111111111111,
             "#46039f"
            ],
            [
             0.2222222222222222,
             "#7201a8"
            ],
            [
             0.3333333333333333,
             "#9c179e"
            ],
            [
             0.4444444444444444,
             "#bd3786"
            ],
            [
             0.5555555555555556,
             "#d8576b"
            ],
            [
             0.6666666666666666,
             "#ed7953"
            ],
            [
             0.7777777777777778,
             "#fb9f3a"
            ],
            [
             0.8888888888888888,
             "#fdca26"
            ],
            [
             1,
             "#f0f921"
            ]
           ]
          },
          "colorway": [
           "#636efa",
           "#EF553B",
           "#00cc96",
           "#ab63fa",
           "#FFA15A",
           "#19d3f3",
           "#FF6692",
           "#B6E880",
           "#FF97FF",
           "#FECB52"
          ],
          "font": {
           "color": "#2a3f5f"
          },
          "geo": {
           "bgcolor": "white",
           "lakecolor": "white",
           "landcolor": "#E5ECF6",
           "showlakes": true,
           "showland": true,
           "subunitcolor": "white"
          },
          "hoverlabel": {
           "align": "left"
          },
          "hovermode": "closest",
          "mapbox": {
           "style": "light"
          },
          "paper_bgcolor": "white",
          "plot_bgcolor": "#E5ECF6",
          "polar": {
           "angularaxis": {
            "gridcolor": "white",
            "linecolor": "white",
            "ticks": ""
           },
           "bgcolor": "#E5ECF6",
           "radialaxis": {
            "gridcolor": "white",
            "linecolor": "white",
            "ticks": ""
           }
          },
          "scene": {
           "xaxis": {
            "backgroundcolor": "#E5ECF6",
            "gridcolor": "white",
            "gridwidth": 2,
            "linecolor": "white",
            "showbackground": true,
            "ticks": "",
            "zerolinecolor": "white"
           },
           "yaxis": {
            "backgroundcolor": "#E5ECF6",
            "gridcolor": "white",
            "gridwidth": 2,
            "linecolor": "white",
            "showbackground": true,
            "ticks": "",
            "zerolinecolor": "white"
           },
           "zaxis": {
            "backgroundcolor": "#E5ECF6",
            "gridcolor": "white",
            "gridwidth": 2,
            "linecolor": "white",
            "showbackground": true,
            "ticks": "",
            "zerolinecolor": "white"
           }
          },
          "shapedefaults": {
           "line": {
            "color": "#2a3f5f"
           }
          },
          "ternary": {
           "aaxis": {
            "gridcolor": "white",
            "linecolor": "white",
            "ticks": ""
           },
           "baxis": {
            "gridcolor": "white",
            "linecolor": "white",
            "ticks": ""
           },
           "bgcolor": "#E5ECF6",
           "caxis": {
            "gridcolor": "white",
            "linecolor": "white",
            "ticks": ""
           }
          },
          "title": {
           "x": 0.05
          },
          "xaxis": {
           "automargin": true,
           "gridcolor": "white",
           "linecolor": "white",
           "ticks": "",
           "title": {
            "standoff": 15
           },
           "zerolinecolor": "white",
           "zerolinewidth": 2
          },
          "yaxis": {
           "automargin": true,
           "gridcolor": "white",
           "linecolor": "white",
           "ticks": "",
           "title": {
            "standoff": 15
           },
           "zerolinecolor": "white",
           "zerolinewidth": 2
          }
         }
        },
        "title": {
         "text": "Trend Line of Total Encounters by Fiscal Year and Month for Citizenship: CHINA"
        },
        "xaxis": {
         "anchor": "y",
         "domain": [
          0,
          1
         ],
         "title": {
          "text": "Month"
         }
        },
        "yaxis": {
         "anchor": "x",
         "domain": [
          0,
          1
         ],
         "title": {
          "text": "Total Encounters"
         }
        }
       }
      }
     },
     "metadata": {},
     "output_type": "display_data"
    }
   ],
   "source": [
    "# Create a trend line graph for the Sum of Encounter by Fiscal Year and Month for Citizenship == 'CHINA'. Add sum of Encounter Count to the table.\n",
    "china_encounters = encounters_aor_df[encounters_aor_df['Citizenship'] == 'CHINA']\n",
    "china_encounters_by_year_month = china_encounters.groupby(['Fiscal Year', 'Month'])['Encounter Count'].sum().unstack(fill_value=0)  \n",
    "fig = px.line(china_encounters_by_year_month.reset_index().melt(id_vars='Fiscal Year', var_name='Month', value_name='Encounter Count'),\n",
    "              x='Month', y='Encounter Count', color='Fiscal Year',\n",
    "              title='Trend Line of Total Encounters by Fiscal Year and Month for Citizenship: CHINA',\n",
    "              labels={'Encounter Count': 'Total Encounters', 'Month': 'Month'})\n",
    "fig.update_traces(mode='lines+markers')\n",
    "fig.update_layout(yaxis_title='Total Encounters', xaxis_title='Month')\n",
    "fig.show()  \n",
    "\n",
    "\n"
   ]
  },
  {
   "cell_type": "code",
   "execution_count": 42,
   "id": "5ae7555b",
   "metadata": {},
   "outputs": [
    {
     "data": {
      "application/vnd.plotly.v1+json": {
       "config": {
        "plotlyServerURL": "https://plot.ly"
       },
       "data": [
        {
         "cells": {
          "align": "left",
          "fill": {
           "color": "lavender"
          },
          "values": [
           [
            2021,
            2021,
            2021,
            2021,
            2021,
            2021,
            2021,
            2021,
            2021,
            2021,
            2021,
            2021,
            2022,
            2022,
            2022,
            2022,
            2022,
            2022,
            2022,
            2022,
            2022,
            2022,
            2022,
            2022,
            2023,
            2023,
            2023,
            2023,
            2023,
            2023,
            2023,
            2023,
            2023,
            2023,
            2023,
            2023,
            2024,
            2024,
            2024,
            2024,
            2024,
            2024,
            2024,
            2024,
            2024,
            2024,
            2024,
            2024
           ],
           [
            "APR",
            "AUG",
            "DEC",
            "FEB",
            "JAN",
            "JUL",
            "JUN",
            "MAR",
            "MAY",
            "NOV",
            "OCT",
            "SEP",
            "APR",
            "AUG",
            "DEC",
            "FEB",
            "JAN",
            "JUL",
            "JUN",
            "MAR",
            "MAY",
            "NOV",
            "OCT",
            "SEP",
            "APR",
            "AUG",
            "DEC",
            "FEB",
            "JAN",
            "JUL",
            "JUN",
            "MAR",
            "MAY",
            "NOV",
            "OCT",
            "SEP",
            "APR",
            "AUG",
            "DEC",
            "FEB",
            "JAN",
            "JUL",
            "JUN",
            "MAR",
            "MAY",
            "NOV",
            "OCT",
            "SEP"
           ],
           [
            1801,
            1827,
            1882,
            1450,
            2183,
            2004,
            1868,
            1881,
            1903,
            2433,
            2275,
            1964,
            2096,
            2465,
            2634,
            2289,
            2699,
            2191,
            2472,
            1990,
            2036,
            2186,
            2188,
            2510,
            5434,
            5864,
            2818,
            3150,
            3147,
            6157,
            4601,
            4437,
            5172,
            2368,
            2281,
            7271,
            6527,
            6040,
            8615,
            7112,
            6772,
            5569,
            6171,
            5069,
            7421,
            7238,
            7160,
            5007
           ],
           [
            52.97,
            46.85,
            57.03,
            51.79,
            80.85,
            48.88,
            54.94,
            64.86,
            61.39,
            86.89,
            66.91,
            41.79,
            45.57,
            45.65,
            50.65,
            54.5,
            71.03,
            45.65,
            57.49,
            52.37,
            49.66,
            52.05,
            60.78,
            55.78,
            83.6,
            96.13,
            53.17,
            53.39,
            56.2,
            100.93,
            85.2,
            72.74,
            83.42,
            49.33,
            48.53,
            123.24,
            123.15,
            97.42,
            156.64,
            139.45,
            144.09,
            103.13,
            114.28,
            97.48,
            137.43,
            157.35,
            146.12,
            108.85
           ],
           [
            4.5,
            8,
            5,
            17.5,
            10,
            6,
            15.5,
            11,
            7,
            5,
            3.5,
            6,
            10,
            10.5,
            5,
            6.5,
            14,
            9,
            20,
            15,
            23,
            6,
            12.5,
            9,
            9,
            8,
            10,
            11,
            10,
            9,
            10.5,
            13,
            4.5,
            10,
            12,
            7,
            9,
            9,
            11,
            11,
            18,
            9.5,
            11,
            8.5,
            10,
            12.5,
            13,
            10.5
           ],
           [
            100.55,
            92.29,
            139.91,
            85.5,
            153.7,
            108.25,
            95.65,
            113.74,
            124.81,
            198.88,
            174.87,
            89.71,
            80.09,
            77.83,
            102.98,
            102.56,
            127.08,
            75.08,
            84.92,
            90.7,
            75.74,
            100.33,
            113.21,
            100.95,
            277.52,
            276.89,
            92.43,
            104.34,
            112.07,
            285.9,
            169.73,
            185.48,
            223.59,
            87.62,
            82.93,
            464.14,
            411.37,
            227.99,
            700.63,
            415.59,
            473.26,
            241.49,
            324.02,
            253.69,
            445.05,
            632.84,
            540.66,
            250.96
           ],
           [
            10110.64,
            8517.55,
            19574.53,
            7309.95,
            23625.13,
            11718.16,
            9149.33,
            12937.27,
            15578.58,
            39551.73,
            30579.9,
            8048.56,
            6413.94,
            6057.74,
            10605.41,
            10519.48,
            16148.62,
            5637.21,
            7211.35,
            8226.35,
            5736.68,
            10065.51,
            12815.61,
            10191.36,
            77015.15,
            76665.32,
            8543.87,
            10886.86,
            12559.36,
            81740,
            28807.83,
            34402.9,
            49991.17,
            7677.25,
            6877.12,
            215427.18,
            169223.78,
            51977.23,
            490875.79,
            172716.13,
            223973.56,
            58316.34,
            104990.2,
            64359.39,
            198072.59,
            400484.19,
            292313.73,
            62979.95
           ],
           [
            393,
            408,
            730,
            341,
            620,
            481,
            376,
            439,
            522,
            914,
            957,
            482,
            390,
            313,
            441,
            488,
            535,
            318,
            370,
            472,
            292,
            387,
            439,
            538,
            2136,
            1963,
            415,
            583,
            600,
            2015,
            952,
            1324,
            1530,
            415,
            358,
            3429,
            2731,
            1057,
            5170,
            2773,
            3177,
            1270,
            1772,
            1490,
            2848,
            4282,
            3672,
            1336
           ],
           [
            1,
            1,
            1,
            1,
            1,
            1,
            1,
            1,
            1,
            1,
            1,
            1,
            1,
            1,
            1,
            1,
            1,
            1,
            1,
            1,
            1,
            1,
            1,
            1,
            1,
            1,
            1,
            1,
            1,
            1,
            1,
            1,
            1,
            1,
            1,
            1,
            1,
            1,
            1,
            1,
            1,
            1,
            1,
            1,
            1,
            1,
            1,
            1
           ]
          ]
         },
         "header": {
          "align": "left",
          "fill": {
           "color": "paleturquoise"
          },
          "values": [
           "Fiscal Year",
           "Month",
           "Sum",
           "Mean",
           "Median",
           "Standard Deviation",
           "Variance",
           "Max",
           "Min"
          ]
         },
         "type": "table"
        }
       ],
       "layout": {
        "template": {
         "data": {
          "bar": [
           {
            "error_x": {
             "color": "#2a3f5f"
            },
            "error_y": {
             "color": "#2a3f5f"
            },
            "marker": {
             "line": {
              "color": "#E5ECF6",
              "width": 0.5
             },
             "pattern": {
              "fillmode": "overlay",
              "size": 10,
              "solidity": 0.2
             }
            },
            "type": "bar"
           }
          ],
          "barpolar": [
           {
            "marker": {
             "line": {
              "color": "#E5ECF6",
              "width": 0.5
             },
             "pattern": {
              "fillmode": "overlay",
              "size": 10,
              "solidity": 0.2
             }
            },
            "type": "barpolar"
           }
          ],
          "carpet": [
           {
            "aaxis": {
             "endlinecolor": "#2a3f5f",
             "gridcolor": "white",
             "linecolor": "white",
             "minorgridcolor": "white",
             "startlinecolor": "#2a3f5f"
            },
            "baxis": {
             "endlinecolor": "#2a3f5f",
             "gridcolor": "white",
             "linecolor": "white",
             "minorgridcolor": "white",
             "startlinecolor": "#2a3f5f"
            },
            "type": "carpet"
           }
          ],
          "choropleth": [
           {
            "colorbar": {
             "outlinewidth": 0,
             "ticks": ""
            },
            "type": "choropleth"
           }
          ],
          "contour": [
           {
            "colorbar": {
             "outlinewidth": 0,
             "ticks": ""
            },
            "colorscale": [
             [
              0,
              "#0d0887"
             ],
             [
              0.1111111111111111,
              "#46039f"
             ],
             [
              0.2222222222222222,
              "#7201a8"
             ],
             [
              0.3333333333333333,
              "#9c179e"
             ],
             [
              0.4444444444444444,
              "#bd3786"
             ],
             [
              0.5555555555555556,
              "#d8576b"
             ],
             [
              0.6666666666666666,
              "#ed7953"
             ],
             [
              0.7777777777777778,
              "#fb9f3a"
             ],
             [
              0.8888888888888888,
              "#fdca26"
             ],
             [
              1,
              "#f0f921"
             ]
            ],
            "type": "contour"
           }
          ],
          "contourcarpet": [
           {
            "colorbar": {
             "outlinewidth": 0,
             "ticks": ""
            },
            "type": "contourcarpet"
           }
          ],
          "heatmap": [
           {
            "colorbar": {
             "outlinewidth": 0,
             "ticks": ""
            },
            "colorscale": [
             [
              0,
              "#0d0887"
             ],
             [
              0.1111111111111111,
              "#46039f"
             ],
             [
              0.2222222222222222,
              "#7201a8"
             ],
             [
              0.3333333333333333,
              "#9c179e"
             ],
             [
              0.4444444444444444,
              "#bd3786"
             ],
             [
              0.5555555555555556,
              "#d8576b"
             ],
             [
              0.6666666666666666,
              "#ed7953"
             ],
             [
              0.7777777777777778,
              "#fb9f3a"
             ],
             [
              0.8888888888888888,
              "#fdca26"
             ],
             [
              1,
              "#f0f921"
             ]
            ],
            "type": "heatmap"
           }
          ],
          "heatmapgl": [
           {
            "colorbar": {
             "outlinewidth": 0,
             "ticks": ""
            },
            "colorscale": [
             [
              0,
              "#0d0887"
             ],
             [
              0.1111111111111111,
              "#46039f"
             ],
             [
              0.2222222222222222,
              "#7201a8"
             ],
             [
              0.3333333333333333,
              "#9c179e"
             ],
             [
              0.4444444444444444,
              "#bd3786"
             ],
             [
              0.5555555555555556,
              "#d8576b"
             ],
             [
              0.6666666666666666,
              "#ed7953"
             ],
             [
              0.7777777777777778,
              "#fb9f3a"
             ],
             [
              0.8888888888888888,
              "#fdca26"
             ],
             [
              1,
              "#f0f921"
             ]
            ],
            "type": "heatmapgl"
           }
          ],
          "histogram": [
           {
            "marker": {
             "pattern": {
              "fillmode": "overlay",
              "size": 10,
              "solidity": 0.2
             }
            },
            "type": "histogram"
           }
          ],
          "histogram2d": [
           {
            "colorbar": {
             "outlinewidth": 0,
             "ticks": ""
            },
            "colorscale": [
             [
              0,
              "#0d0887"
             ],
             [
              0.1111111111111111,
              "#46039f"
             ],
             [
              0.2222222222222222,
              "#7201a8"
             ],
             [
              0.3333333333333333,
              "#9c179e"
             ],
             [
              0.4444444444444444,
              "#bd3786"
             ],
             [
              0.5555555555555556,
              "#d8576b"
             ],
             [
              0.6666666666666666,
              "#ed7953"
             ],
             [
              0.7777777777777778,
              "#fb9f3a"
             ],
             [
              0.8888888888888888,
              "#fdca26"
             ],
             [
              1,
              "#f0f921"
             ]
            ],
            "type": "histogram2d"
           }
          ],
          "histogram2dcontour": [
           {
            "colorbar": {
             "outlinewidth": 0,
             "ticks": ""
            },
            "colorscale": [
             [
              0,
              "#0d0887"
             ],
             [
              0.1111111111111111,
              "#46039f"
             ],
             [
              0.2222222222222222,
              "#7201a8"
             ],
             [
              0.3333333333333333,
              "#9c179e"
             ],
             [
              0.4444444444444444,
              "#bd3786"
             ],
             [
              0.5555555555555556,
              "#d8576b"
             ],
             [
              0.6666666666666666,
              "#ed7953"
             ],
             [
              0.7777777777777778,
              "#fb9f3a"
             ],
             [
              0.8888888888888888,
              "#fdca26"
             ],
             [
              1,
              "#f0f921"
             ]
            ],
            "type": "histogram2dcontour"
           }
          ],
          "mesh3d": [
           {
            "colorbar": {
             "outlinewidth": 0,
             "ticks": ""
            },
            "type": "mesh3d"
           }
          ],
          "parcoords": [
           {
            "line": {
             "colorbar": {
              "outlinewidth": 0,
              "ticks": ""
             }
            },
            "type": "parcoords"
           }
          ],
          "pie": [
           {
            "automargin": true,
            "type": "pie"
           }
          ],
          "scatter": [
           {
            "fillpattern": {
             "fillmode": "overlay",
             "size": 10,
             "solidity": 0.2
            },
            "type": "scatter"
           }
          ],
          "scatter3d": [
           {
            "line": {
             "colorbar": {
              "outlinewidth": 0,
              "ticks": ""
             }
            },
            "marker": {
             "colorbar": {
              "outlinewidth": 0,
              "ticks": ""
             }
            },
            "type": "scatter3d"
           }
          ],
          "scattercarpet": [
           {
            "marker": {
             "colorbar": {
              "outlinewidth": 0,
              "ticks": ""
             }
            },
            "type": "scattercarpet"
           }
          ],
          "scattergeo": [
           {
            "marker": {
             "colorbar": {
              "outlinewidth": 0,
              "ticks": ""
             }
            },
            "type": "scattergeo"
           }
          ],
          "scattergl": [
           {
            "marker": {
             "colorbar": {
              "outlinewidth": 0,
              "ticks": ""
             }
            },
            "type": "scattergl"
           }
          ],
          "scattermapbox": [
           {
            "marker": {
             "colorbar": {
              "outlinewidth": 0,
              "ticks": ""
             }
            },
            "type": "scattermapbox"
           }
          ],
          "scatterpolar": [
           {
            "marker": {
             "colorbar": {
              "outlinewidth": 0,
              "ticks": ""
             }
            },
            "type": "scatterpolar"
           }
          ],
          "scatterpolargl": [
           {
            "marker": {
             "colorbar": {
              "outlinewidth": 0,
              "ticks": ""
             }
            },
            "type": "scatterpolargl"
           }
          ],
          "scatterternary": [
           {
            "marker": {
             "colorbar": {
              "outlinewidth": 0,
              "ticks": ""
             }
            },
            "type": "scatterternary"
           }
          ],
          "surface": [
           {
            "colorbar": {
             "outlinewidth": 0,
             "ticks": ""
            },
            "colorscale": [
             [
              0,
              "#0d0887"
             ],
             [
              0.1111111111111111,
              "#46039f"
             ],
             [
              0.2222222222222222,
              "#7201a8"
             ],
             [
              0.3333333333333333,
              "#9c179e"
             ],
             [
              0.4444444444444444,
              "#bd3786"
             ],
             [
              0.5555555555555556,
              "#d8576b"
             ],
             [
              0.6666666666666666,
              "#ed7953"
             ],
             [
              0.7777777777777778,
              "#fb9f3a"
             ],
             [
              0.8888888888888888,
              "#fdca26"
             ],
             [
              1,
              "#f0f921"
             ]
            ],
            "type": "surface"
           }
          ],
          "table": [
           {
            "cells": {
             "fill": {
              "color": "#EBF0F8"
             },
             "line": {
              "color": "white"
             }
            },
            "header": {
             "fill": {
              "color": "#C8D4E3"
             },
             "line": {
              "color": "white"
             }
            },
            "type": "table"
           }
          ]
         },
         "layout": {
          "annotationdefaults": {
           "arrowcolor": "#2a3f5f",
           "arrowhead": 0,
           "arrowwidth": 1
          },
          "autotypenumbers": "strict",
          "coloraxis": {
           "colorbar": {
            "outlinewidth": 0,
            "ticks": ""
           }
          },
          "colorscale": {
           "diverging": [
            [
             0,
             "#8e0152"
            ],
            [
             0.1,
             "#c51b7d"
            ],
            [
             0.2,
             "#de77ae"
            ],
            [
             0.3,
             "#f1b6da"
            ],
            [
             0.4,
             "#fde0ef"
            ],
            [
             0.5,
             "#f7f7f7"
            ],
            [
             0.6,
             "#e6f5d0"
            ],
            [
             0.7,
             "#b8e186"
            ],
            [
             0.8,
             "#7fbc41"
            ],
            [
             0.9,
             "#4d9221"
            ],
            [
             1,
             "#276419"
            ]
           ],
           "sequential": [
            [
             0,
             "#0d0887"
            ],
            [
             0.1111111111111111,
             "#46039f"
            ],
            [
             0.2222222222222222,
             "#7201a8"
            ],
            [
             0.3333333333333333,
             "#9c179e"
            ],
            [
             0.4444444444444444,
             "#bd3786"
            ],
            [
             0.5555555555555556,
             "#d8576b"
            ],
            [
             0.6666666666666666,
             "#ed7953"
            ],
            [
             0.7777777777777778,
             "#fb9f3a"
            ],
            [
             0.8888888888888888,
             "#fdca26"
            ],
            [
             1,
             "#f0f921"
            ]
           ],
           "sequentialminus": [
            [
             0,
             "#0d0887"
            ],
            [
             0.1111111111111111,
             "#46039f"
            ],
            [
             0.2222222222222222,
             "#7201a8"
            ],
            [
             0.3333333333333333,
             "#9c179e"
            ],
            [
             0.4444444444444444,
             "#bd3786"
            ],
            [
             0.5555555555555556,
             "#d8576b"
            ],
            [
             0.6666666666666666,
             "#ed7953"
            ],
            [
             0.7777777777777778,
             "#fb9f3a"
            ],
            [
             0.8888888888888888,
             "#fdca26"
            ],
            [
             1,
             "#f0f921"
            ]
           ]
          },
          "colorway": [
           "#636efa",
           "#EF553B",
           "#00cc96",
           "#ab63fa",
           "#FFA15A",
           "#19d3f3",
           "#FF6692",
           "#B6E880",
           "#FF97FF",
           "#FECB52"
          ],
          "font": {
           "color": "#2a3f5f"
          },
          "geo": {
           "bgcolor": "white",
           "lakecolor": "white",
           "landcolor": "#E5ECF6",
           "showlakes": true,
           "showland": true,
           "subunitcolor": "white"
          },
          "hoverlabel": {
           "align": "left"
          },
          "hovermode": "closest",
          "mapbox": {
           "style": "light"
          },
          "paper_bgcolor": "white",
          "plot_bgcolor": "#E5ECF6",
          "polar": {
           "angularaxis": {
            "gridcolor": "white",
            "linecolor": "white",
            "ticks": ""
           },
           "bgcolor": "#E5ECF6",
           "radialaxis": {
            "gridcolor": "white",
            "linecolor": "white",
            "ticks": ""
           }
          },
          "scene": {
           "xaxis": {
            "backgroundcolor": "#E5ECF6",
            "gridcolor": "white",
            "gridwidth": 2,
            "linecolor": "white",
            "showbackground": true,
            "ticks": "",
            "zerolinecolor": "white"
           },
           "yaxis": {
            "backgroundcolor": "#E5ECF6",
            "gridcolor": "white",
            "gridwidth": 2,
            "linecolor": "white",
            "showbackground": true,
            "ticks": "",
            "zerolinecolor": "white"
           },
           "zaxis": {
            "backgroundcolor": "#E5ECF6",
            "gridcolor": "white",
            "gridwidth": 2,
            "linecolor": "white",
            "showbackground": true,
            "ticks": "",
            "zerolinecolor": "white"
           }
          },
          "shapedefaults": {
           "line": {
            "color": "#2a3f5f"
           }
          },
          "ternary": {
           "aaxis": {
            "gridcolor": "white",
            "linecolor": "white",
            "ticks": ""
           },
           "baxis": {
            "gridcolor": "white",
            "linecolor": "white",
            "ticks": ""
           },
           "bgcolor": "#E5ECF6",
           "caxis": {
            "gridcolor": "white",
            "linecolor": "white",
            "ticks": ""
           }
          },
          "title": {
           "x": 0.05
          },
          "xaxis": {
           "automargin": true,
           "gridcolor": "white",
           "linecolor": "white",
           "ticks": "",
           "title": {
            "standoff": 15
           },
           "zerolinecolor": "white",
           "zerolinewidth": 2
          },
          "yaxis": {
           "automargin": true,
           "gridcolor": "white",
           "linecolor": "white",
           "ticks": "",
           "title": {
            "standoff": 15
           },
           "zerolinecolor": "white",
           "zerolinewidth": 2
          }
         }
        },
        "title": {
         "text": "Encounter Count Statistics for Citizenship: CHINA by Fiscal Year and Month"
        }
       }
      }
     },
     "metadata": {},
     "output_type": "display_data"
    }
   ],
   "source": [
    "#Create a statistics table for the Sum of Encounter Count by Fiscal Year and Month for Citizenship == 'CHINA'. Add mean, median, standard deviation, variance, max, min to the table.\n",
    "china_encounters_stats = china_encounters.groupby(['Fiscal Year', 'Month'])['Encounter Count'].agg(['sum', 'mean', 'median', 'std', 'var', 'max', 'min']).reset_index()\n",
    "china_encounters_stats.columns = ['Fiscal Year', 'Month', 'Sum', 'Mean', 'Median', 'Standard Deviation', 'Variance', 'Max', 'Min']\n",
    "import plotly.graph_objects as go\n",
    "# Prepare data for the table\n",
    "table = go.Figure(data=[go.Table(\n",
    "    header=dict(values=[\"Fiscal Year\", \"Month\", \"Sum\", \"Mean\", \"Median\", \"Standard Deviation\", \"Variance\", \"Max\", \"Min\"],\n",
    "                fill_color='paleturquoise',\n",
    "                align='left'),\n",
    "    cells=dict(values=[\n",
    "        china_encounters_stats['Fiscal Year'],  # Fiscal Year\n",
    "        china_encounters_stats['Month'],  # Month\n",
    "        china_encounters_stats['Sum'],  # Sum\n",
    "        china_encounters_stats['Mean'].round(2),  # Mean\n",
    "        china_encounters_stats['Median'].round(2),  # Median\n",
    "        china_encounters_stats['Standard Deviation'].round(2),  # Standard Deviation\n",
    "        china_encounters_stats['Variance'].round(2),  # Variance\n",
    "        china_encounters_stats['Max'],  # Max\n",
    "        china_encounters_stats['Min']  # Min\n",
    "    ],\n",
    "    fill_color='lavender',\n",
    "    align='left'))\n",
    "])\n",
    "table.update_layout(title='Encounter Count Statistics for Citizenship: CHINA by Fiscal Year and Month')\n",
    "table.show()\n",
    "  "
   ]
  },
  {
   "cell_type": "code",
   "execution_count": 43,
   "id": "ad5ee375",
   "metadata": {},
   "outputs": [
    {
     "name": "stdout",
     "output_type": "stream",
     "text": [
      "Demographic\n",
      "Accompanied Minors       624\n",
      "FMUA                   21126\n",
      "Single Adults         160597\n",
      "UC / Single Minors       281\n",
      "Name: Encounter Count, dtype: int64\n"
     ]
    },
    {
     "data": {
      "application/vnd.plotly.v1+json": {
       "config": {
        "plotlyServerURL": "https://plot.ly"
       },
       "data": [
        {
         "cells": {
          "align": "left",
          "fill": {
           "color": "lavender"
          },
          "values": [
           [
            "Accompanied Minors",
            "FMUA",
            "Single Adults",
            "UC / Single Minors"
           ],
           [
            624,
            21126,
            160597,
            281
           ]
          ]
         },
         "header": {
          "align": "left",
          "fill": {
           "color": "paleturquoise"
          },
          "values": [
           "Demographic",
           "Total Encounters"
          ]
         },
         "type": "table"
        }
       ],
       "layout": {
        "template": {
         "data": {
          "bar": [
           {
            "error_x": {
             "color": "#2a3f5f"
            },
            "error_y": {
             "color": "#2a3f5f"
            },
            "marker": {
             "line": {
              "color": "#E5ECF6",
              "width": 0.5
             },
             "pattern": {
              "fillmode": "overlay",
              "size": 10,
              "solidity": 0.2
             }
            },
            "type": "bar"
           }
          ],
          "barpolar": [
           {
            "marker": {
             "line": {
              "color": "#E5ECF6",
              "width": 0.5
             },
             "pattern": {
              "fillmode": "overlay",
              "size": 10,
              "solidity": 0.2
             }
            },
            "type": "barpolar"
           }
          ],
          "carpet": [
           {
            "aaxis": {
             "endlinecolor": "#2a3f5f",
             "gridcolor": "white",
             "linecolor": "white",
             "minorgridcolor": "white",
             "startlinecolor": "#2a3f5f"
            },
            "baxis": {
             "endlinecolor": "#2a3f5f",
             "gridcolor": "white",
             "linecolor": "white",
             "minorgridcolor": "white",
             "startlinecolor": "#2a3f5f"
            },
            "type": "carpet"
           }
          ],
          "choropleth": [
           {
            "colorbar": {
             "outlinewidth": 0,
             "ticks": ""
            },
            "type": "choropleth"
           }
          ],
          "contour": [
           {
            "colorbar": {
             "outlinewidth": 0,
             "ticks": ""
            },
            "colorscale": [
             [
              0,
              "#0d0887"
             ],
             [
              0.1111111111111111,
              "#46039f"
             ],
             [
              0.2222222222222222,
              "#7201a8"
             ],
             [
              0.3333333333333333,
              "#9c179e"
             ],
             [
              0.4444444444444444,
              "#bd3786"
             ],
             [
              0.5555555555555556,
              "#d8576b"
             ],
             [
              0.6666666666666666,
              "#ed7953"
             ],
             [
              0.7777777777777778,
              "#fb9f3a"
             ],
             [
              0.8888888888888888,
              "#fdca26"
             ],
             [
              1,
              "#f0f921"
             ]
            ],
            "type": "contour"
           }
          ],
          "contourcarpet": [
           {
            "colorbar": {
             "outlinewidth": 0,
             "ticks": ""
            },
            "type": "contourcarpet"
           }
          ],
          "heatmap": [
           {
            "colorbar": {
             "outlinewidth": 0,
             "ticks": ""
            },
            "colorscale": [
             [
              0,
              "#0d0887"
             ],
             [
              0.1111111111111111,
              "#46039f"
             ],
             [
              0.2222222222222222,
              "#7201a8"
             ],
             [
              0.3333333333333333,
              "#9c179e"
             ],
             [
              0.4444444444444444,
              "#bd3786"
             ],
             [
              0.5555555555555556,
              "#d8576b"
             ],
             [
              0.6666666666666666,
              "#ed7953"
             ],
             [
              0.7777777777777778,
              "#fb9f3a"
             ],
             [
              0.8888888888888888,
              "#fdca26"
             ],
             [
              1,
              "#f0f921"
             ]
            ],
            "type": "heatmap"
           }
          ],
          "heatmapgl": [
           {
            "colorbar": {
             "outlinewidth": 0,
             "ticks": ""
            },
            "colorscale": [
             [
              0,
              "#0d0887"
             ],
             [
              0.1111111111111111,
              "#46039f"
             ],
             [
              0.2222222222222222,
              "#7201a8"
             ],
             [
              0.3333333333333333,
              "#9c179e"
             ],
             [
              0.4444444444444444,
              "#bd3786"
             ],
             [
              0.5555555555555556,
              "#d8576b"
             ],
             [
              0.6666666666666666,
              "#ed7953"
             ],
             [
              0.7777777777777778,
              "#fb9f3a"
             ],
             [
              0.8888888888888888,
              "#fdca26"
             ],
             [
              1,
              "#f0f921"
             ]
            ],
            "type": "heatmapgl"
           }
          ],
          "histogram": [
           {
            "marker": {
             "pattern": {
              "fillmode": "overlay",
              "size": 10,
              "solidity": 0.2
             }
            },
            "type": "histogram"
           }
          ],
          "histogram2d": [
           {
            "colorbar": {
             "outlinewidth": 0,
             "ticks": ""
            },
            "colorscale": [
             [
              0,
              "#0d0887"
             ],
             [
              0.1111111111111111,
              "#46039f"
             ],
             [
              0.2222222222222222,
              "#7201a8"
             ],
             [
              0.3333333333333333,
              "#9c179e"
             ],
             [
              0.4444444444444444,
              "#bd3786"
             ],
             [
              0.5555555555555556,
              "#d8576b"
             ],
             [
              0.6666666666666666,
              "#ed7953"
             ],
             [
              0.7777777777777778,
              "#fb9f3a"
             ],
             [
              0.8888888888888888,
              "#fdca26"
             ],
             [
              1,
              "#f0f921"
             ]
            ],
            "type": "histogram2d"
           }
          ],
          "histogram2dcontour": [
           {
            "colorbar": {
             "outlinewidth": 0,
             "ticks": ""
            },
            "colorscale": [
             [
              0,
              "#0d0887"
             ],
             [
              0.1111111111111111,
              "#46039f"
             ],
             [
              0.2222222222222222,
              "#7201a8"
             ],
             [
              0.3333333333333333,
              "#9c179e"
             ],
             [
              0.4444444444444444,
              "#bd3786"
             ],
             [
              0.5555555555555556,
              "#d8576b"
             ],
             [
              0.6666666666666666,
              "#ed7953"
             ],
             [
              0.7777777777777778,
              "#fb9f3a"
             ],
             [
              0.8888888888888888,
              "#fdca26"
             ],
             [
              1,
              "#f0f921"
             ]
            ],
            "type": "histogram2dcontour"
           }
          ],
          "mesh3d": [
           {
            "colorbar": {
             "outlinewidth": 0,
             "ticks": ""
            },
            "type": "mesh3d"
           }
          ],
          "parcoords": [
           {
            "line": {
             "colorbar": {
              "outlinewidth": 0,
              "ticks": ""
             }
            },
            "type": "parcoords"
           }
          ],
          "pie": [
           {
            "automargin": true,
            "type": "pie"
           }
          ],
          "scatter": [
           {
            "fillpattern": {
             "fillmode": "overlay",
             "size": 10,
             "solidity": 0.2
            },
            "type": "scatter"
           }
          ],
          "scatter3d": [
           {
            "line": {
             "colorbar": {
              "outlinewidth": 0,
              "ticks": ""
             }
            },
            "marker": {
             "colorbar": {
              "outlinewidth": 0,
              "ticks": ""
             }
            },
            "type": "scatter3d"
           }
          ],
          "scattercarpet": [
           {
            "marker": {
             "colorbar": {
              "outlinewidth": 0,
              "ticks": ""
             }
            },
            "type": "scattercarpet"
           }
          ],
          "scattergeo": [
           {
            "marker": {
             "colorbar": {
              "outlinewidth": 0,
              "ticks": ""
             }
            },
            "type": "scattergeo"
           }
          ],
          "scattergl": [
           {
            "marker": {
             "colorbar": {
              "outlinewidth": 0,
              "ticks": ""
             }
            },
            "type": "scattergl"
           }
          ],
          "scattermapbox": [
           {
            "marker": {
             "colorbar": {
              "outlinewidth": 0,
              "ticks": ""
             }
            },
            "type": "scattermapbox"
           }
          ],
          "scatterpolar": [
           {
            "marker": {
             "colorbar": {
              "outlinewidth": 0,
              "ticks": ""
             }
            },
            "type": "scatterpolar"
           }
          ],
          "scatterpolargl": [
           {
            "marker": {
             "colorbar": {
              "outlinewidth": 0,
              "ticks": ""
             }
            },
            "type": "scatterpolargl"
           }
          ],
          "scatterternary": [
           {
            "marker": {
             "colorbar": {
              "outlinewidth": 0,
              "ticks": ""
             }
            },
            "type": "scatterternary"
           }
          ],
          "surface": [
           {
            "colorbar": {
             "outlinewidth": 0,
             "ticks": ""
            },
            "colorscale": [
             [
              0,
              "#0d0887"
             ],
             [
              0.1111111111111111,
              "#46039f"
             ],
             [
              0.2222222222222222,
              "#7201a8"
             ],
             [
              0.3333333333333333,
              "#9c179e"
             ],
             [
              0.4444444444444444,
              "#bd3786"
             ],
             [
              0.5555555555555556,
              "#d8576b"
             ],
             [
              0.6666666666666666,
              "#ed7953"
             ],
             [
              0.7777777777777778,
              "#fb9f3a"
             ],
             [
              0.8888888888888888,
              "#fdca26"
             ],
             [
              1,
              "#f0f921"
             ]
            ],
            "type": "surface"
           }
          ],
          "table": [
           {
            "cells": {
             "fill": {
              "color": "#EBF0F8"
             },
             "line": {
              "color": "white"
             }
            },
            "header": {
             "fill": {
              "color": "#C8D4E3"
             },
             "line": {
              "color": "white"
             }
            },
            "type": "table"
           }
          ]
         },
         "layout": {
          "annotationdefaults": {
           "arrowcolor": "#2a3f5f",
           "arrowhead": 0,
           "arrowwidth": 1
          },
          "autotypenumbers": "strict",
          "coloraxis": {
           "colorbar": {
            "outlinewidth": 0,
            "ticks": ""
           }
          },
          "colorscale": {
           "diverging": [
            [
             0,
             "#8e0152"
            ],
            [
             0.1,
             "#c51b7d"
            ],
            [
             0.2,
             "#de77ae"
            ],
            [
             0.3,
             "#f1b6da"
            ],
            [
             0.4,
             "#fde0ef"
            ],
            [
             0.5,
             "#f7f7f7"
            ],
            [
             0.6,
             "#e6f5d0"
            ],
            [
             0.7,
             "#b8e186"
            ],
            [
             0.8,
             "#7fbc41"
            ],
            [
             0.9,
             "#4d9221"
            ],
            [
             1,
             "#276419"
            ]
           ],
           "sequential": [
            [
             0,
             "#0d0887"
            ],
            [
             0.1111111111111111,
             "#46039f"
            ],
            [
             0.2222222222222222,
             "#7201a8"
            ],
            [
             0.3333333333333333,
             "#9c179e"
            ],
            [
             0.4444444444444444,
             "#bd3786"
            ],
            [
             0.5555555555555556,
             "#d8576b"
            ],
            [
             0.6666666666666666,
             "#ed7953"
            ],
            [
             0.7777777777777778,
             "#fb9f3a"
            ],
            [
             0.8888888888888888,
             "#fdca26"
            ],
            [
             1,
             "#f0f921"
            ]
           ],
           "sequentialminus": [
            [
             0,
             "#0d0887"
            ],
            [
             0.1111111111111111,
             "#46039f"
            ],
            [
             0.2222222222222222,
             "#7201a8"
            ],
            [
             0.3333333333333333,
             "#9c179e"
            ],
            [
             0.4444444444444444,
             "#bd3786"
            ],
            [
             0.5555555555555556,
             "#d8576b"
            ],
            [
             0.6666666666666666,
             "#ed7953"
            ],
            [
             0.7777777777777778,
             "#fb9f3a"
            ],
            [
             0.8888888888888888,
             "#fdca26"
            ],
            [
             1,
             "#f0f921"
            ]
           ]
          },
          "colorway": [
           "#636efa",
           "#EF553B",
           "#00cc96",
           "#ab63fa",
           "#FFA15A",
           "#19d3f3",
           "#FF6692",
           "#B6E880",
           "#FF97FF",
           "#FECB52"
          ],
          "font": {
           "color": "#2a3f5f"
          },
          "geo": {
           "bgcolor": "white",
           "lakecolor": "white",
           "landcolor": "#E5ECF6",
           "showlakes": true,
           "showland": true,
           "subunitcolor": "white"
          },
          "hoverlabel": {
           "align": "left"
          },
          "hovermode": "closest",
          "mapbox": {
           "style": "light"
          },
          "paper_bgcolor": "white",
          "plot_bgcolor": "#E5ECF6",
          "polar": {
           "angularaxis": {
            "gridcolor": "white",
            "linecolor": "white",
            "ticks": ""
           },
           "bgcolor": "#E5ECF6",
           "radialaxis": {
            "gridcolor": "white",
            "linecolor": "white",
            "ticks": ""
           }
          },
          "scene": {
           "xaxis": {
            "backgroundcolor": "#E5ECF6",
            "gridcolor": "white",
            "gridwidth": 2,
            "linecolor": "white",
            "showbackground": true,
            "ticks": "",
            "zerolinecolor": "white"
           },
           "yaxis": {
            "backgroundcolor": "#E5ECF6",
            "gridcolor": "white",
            "gridwidth": 2,
            "linecolor": "white",
            "showbackground": true,
            "ticks": "",
            "zerolinecolor": "white"
           },
           "zaxis": {
            "backgroundcolor": "#E5ECF6",
            "gridcolor": "white",
            "gridwidth": 2,
            "linecolor": "white",
            "showbackground": true,
            "ticks": "",
            "zerolinecolor": "white"
           }
          },
          "shapedefaults": {
           "line": {
            "color": "#2a3f5f"
           }
          },
          "ternary": {
           "aaxis": {
            "gridcolor": "white",
            "linecolor": "white",
            "ticks": ""
           },
           "baxis": {
            "gridcolor": "white",
            "linecolor": "white",
            "ticks": ""
           },
           "bgcolor": "#E5ECF6",
           "caxis": {
            "gridcolor": "white",
            "linecolor": "white",
            "ticks": ""
           }
          },
          "title": {
           "x": 0.05
          },
          "xaxis": {
           "automargin": true,
           "gridcolor": "white",
           "linecolor": "white",
           "ticks": "",
           "title": {
            "standoff": 15
           },
           "zerolinecolor": "white",
           "zerolinewidth": 2
          },
          "yaxis": {
           "automargin": true,
           "gridcolor": "white",
           "linecolor": "white",
           "ticks": "",
           "title": {
            "standoff": 15
           },
           "zerolinecolor": "white",
           "zerolinewidth": 2
          }
         }
        },
        "title": {
         "text": "Total Encounters by Demographic for Citizenship: CHINA"
        }
       }
      }
     },
     "metadata": {},
     "output_type": "display_data"
    }
   ],
   "source": [
    "china_encounters_by_demographic = encounters_aor_df[encounters_aor_df['Citizenship'] == 'CHINA'].groupby('Demographic')['Encounter Count'].sum()\n",
    "print(china_encounters_by_demographic)\n",
    "\n",
    "# Table with results.\n",
    "import plotly.graph_objects as go\n",
    "# Prepare data for the table\n",
    "table = go.Figure(data=[go.Table(\n",
    "    header=dict(values=[\"Demographic\", \"Total Encounters\"],     \n",
    "                fill_color='paleturquoise',\n",
    "                align='left'),\n",
    "    cells=dict(values=[\n",
    "        china_encounters_by_demographic.index,  # Demographic   \n",
    "        china_encounters_by_demographic.values  # Total Encounters\n",
    "    ],\n",
    "    fill_color='lavender',\n",
    "    align='left'))\n",
    "])\n",
    "table.update_layout(title='Total Encounters by Demographic for Citizenship: CHINA')\n",
    "table.show()"
   ]
  },
  {
   "cell_type": "code",
   "execution_count": 59,
   "id": "0fb342cd",
   "metadata": {},
   "outputs": [
    {
     "data": {
      "application/vnd.plotly.v1+json": {
       "config": {
        "plotlyServerURL": "https://plot.ly"
       },
       "data": [
        {
         "hovertemplate": "Fiscal Year=2021<br>Month=%{x}<br>Total Encounters=%{y}<extra></extra>",
         "legendgroup": "2021",
         "line": {
          "color": "#636efa",
          "dash": "solid"
         },
         "marker": {
          "symbol": "circle"
         },
         "mode": "lines+markers",
         "name": "2021",
         "orientation": "v",
         "showlegend": true,
         "type": "scatter",
         "x": [
          "APR",
          "AUG",
          "DEC",
          "FEB",
          "JAN",
          "JUL",
          "JUN",
          "MAR",
          "MAY",
          "NOV",
          "OCT",
          "SEP"
         ],
         "xaxis": "x",
         "y": [
          889,
          1727,
          722,
          720,
          790,
          1559,
          1245,
          897,
          1069,
          691,
          469,
          2462
         ],
         "yaxis": "y"
        },
        {
         "hovertemplate": "Fiscal Year=2022<br>Month=%{x}<br>Total Encounters=%{y}<extra></extra>",
         "legendgroup": "2022",
         "line": {
          "color": "#EF553B",
          "dash": "solid"
         },
         "marker": {
          "symbol": "circle"
         },
         "mode": "lines+markers",
         "name": "2022",
         "orientation": "v",
         "showlegend": true,
         "type": "scatter",
         "x": [
          "APR",
          "AUG",
          "DEC",
          "FEB",
          "JAN",
          "JUL",
          "JUN",
          "MAR",
          "MAY",
          "NOV",
          "OCT",
          "SEP"
         ],
         "xaxis": "x",
         "y": [
          2867,
          2891,
          3406,
          2024,
          2620,
          2899,
          3122,
          2623,
          4354,
          3032,
          2725,
          3708
         ],
         "yaxis": "y"
        },
        {
         "hovertemplate": "Fiscal Year=2023<br>Month=%{x}<br>Total Encounters=%{y}<extra></extra>",
         "legendgroup": "2023",
         "line": {
          "color": "#00cc96",
          "dash": "solid"
         },
         "marker": {
          "symbol": "circle"
         },
         "mode": "lines+markers",
         "name": "2023",
         "orientation": "v",
         "showlegend": true,
         "type": "scatter",
         "x": [
          "APR",
          "AUG",
          "DEC",
          "FEB",
          "JAN",
          "JUL",
          "JUN",
          "MAR",
          "MAY",
          "NOV",
          "OCT",
          "SEP"
         ],
         "xaxis": "x",
         "y": [
          3633,
          2874,
          9227,
          5886,
          5805,
          2972,
          2349,
          5273,
          4133,
          6931,
          5174,
          2906
         ],
         "yaxis": "y"
        },
        {
         "hovertemplate": "Fiscal Year=2024<br>Month=%{x}<br>Total Encounters=%{y}<extra></extra>",
         "legendgroup": "2024",
         "line": {
          "color": "#ab63fa",
          "dash": "solid"
         },
         "marker": {
          "symbol": "circle"
         },
         "mode": "lines+markers",
         "name": "2024",
         "orientation": "v",
         "showlegend": true,
         "type": "scatter",
         "x": [
          "APR",
          "AUG",
          "DEC",
          "FEB",
          "JAN",
          "JUL",
          "JUN",
          "MAR",
          "MAY",
          "NOV",
          "OCT",
          "SEP"
         ],
         "xaxis": "x",
         "y": [
          1587,
          1129,
          3015,
          1877,
          2295,
          1344,
          1087,
          1569,
          1395,
          2506,
          2935,
          1152
         ],
         "yaxis": "y"
        }
       ],
       "layout": {
        "legend": {
         "title": {
          "text": "Fiscal Year"
         },
         "tracegroupgap": 0
        },
        "template": {
         "data": {
          "bar": [
           {
            "error_x": {
             "color": "#2a3f5f"
            },
            "error_y": {
             "color": "#2a3f5f"
            },
            "marker": {
             "line": {
              "color": "#E5ECF6",
              "width": 0.5
             },
             "pattern": {
              "fillmode": "overlay",
              "size": 10,
              "solidity": 0.2
             }
            },
            "type": "bar"
           }
          ],
          "barpolar": [
           {
            "marker": {
             "line": {
              "color": "#E5ECF6",
              "width": 0.5
             },
             "pattern": {
              "fillmode": "overlay",
              "size": 10,
              "solidity": 0.2
             }
            },
            "type": "barpolar"
           }
          ],
          "carpet": [
           {
            "aaxis": {
             "endlinecolor": "#2a3f5f",
             "gridcolor": "white",
             "linecolor": "white",
             "minorgridcolor": "white",
             "startlinecolor": "#2a3f5f"
            },
            "baxis": {
             "endlinecolor": "#2a3f5f",
             "gridcolor": "white",
             "linecolor": "white",
             "minorgridcolor": "white",
             "startlinecolor": "#2a3f5f"
            },
            "type": "carpet"
           }
          ],
          "choropleth": [
           {
            "colorbar": {
             "outlinewidth": 0,
             "ticks": ""
            },
            "type": "choropleth"
           }
          ],
          "contour": [
           {
            "colorbar": {
             "outlinewidth": 0,
             "ticks": ""
            },
            "colorscale": [
             [
              0,
              "#0d0887"
             ],
             [
              0.1111111111111111,
              "#46039f"
             ],
             [
              0.2222222222222222,
              "#7201a8"
             ],
             [
              0.3333333333333333,
              "#9c179e"
             ],
             [
              0.4444444444444444,
              "#bd3786"
             ],
             [
              0.5555555555555556,
              "#d8576b"
             ],
             [
              0.6666666666666666,
              "#ed7953"
             ],
             [
              0.7777777777777778,
              "#fb9f3a"
             ],
             [
              0.8888888888888888,
              "#fdca26"
             ],
             [
              1,
              "#f0f921"
             ]
            ],
            "type": "contour"
           }
          ],
          "contourcarpet": [
           {
            "colorbar": {
             "outlinewidth": 0,
             "ticks": ""
            },
            "type": "contourcarpet"
           }
          ],
          "heatmap": [
           {
            "colorbar": {
             "outlinewidth": 0,
             "ticks": ""
            },
            "colorscale": [
             [
              0,
              "#0d0887"
             ],
             [
              0.1111111111111111,
              "#46039f"
             ],
             [
              0.2222222222222222,
              "#7201a8"
             ],
             [
              0.3333333333333333,
              "#9c179e"
             ],
             [
              0.4444444444444444,
              "#bd3786"
             ],
             [
              0.5555555555555556,
              "#d8576b"
             ],
             [
              0.6666666666666666,
              "#ed7953"
             ],
             [
              0.7777777777777778,
              "#fb9f3a"
             ],
             [
              0.8888888888888888,
              "#fdca26"
             ],
             [
              1,
              "#f0f921"
             ]
            ],
            "type": "heatmap"
           }
          ],
          "heatmapgl": [
           {
            "colorbar": {
             "outlinewidth": 0,
             "ticks": ""
            },
            "colorscale": [
             [
              0,
              "#0d0887"
             ],
             [
              0.1111111111111111,
              "#46039f"
             ],
             [
              0.2222222222222222,
              "#7201a8"
             ],
             [
              0.3333333333333333,
              "#9c179e"
             ],
             [
              0.4444444444444444,
              "#bd3786"
             ],
             [
              0.5555555555555556,
              "#d8576b"
             ],
             [
              0.6666666666666666,
              "#ed7953"
             ],
             [
              0.7777777777777778,
              "#fb9f3a"
             ],
             [
              0.8888888888888888,
              "#fdca26"
             ],
             [
              1,
              "#f0f921"
             ]
            ],
            "type": "heatmapgl"
           }
          ],
          "histogram": [
           {
            "marker": {
             "pattern": {
              "fillmode": "overlay",
              "size": 10,
              "solidity": 0.2
             }
            },
            "type": "histogram"
           }
          ],
          "histogram2d": [
           {
            "colorbar": {
             "outlinewidth": 0,
             "ticks": ""
            },
            "colorscale": [
             [
              0,
              "#0d0887"
             ],
             [
              0.1111111111111111,
              "#46039f"
             ],
             [
              0.2222222222222222,
              "#7201a8"
             ],
             [
              0.3333333333333333,
              "#9c179e"
             ],
             [
              0.4444444444444444,
              "#bd3786"
             ],
             [
              0.5555555555555556,
              "#d8576b"
             ],
             [
              0.6666666666666666,
              "#ed7953"
             ],
             [
              0.7777777777777778,
              "#fb9f3a"
             ],
             [
              0.8888888888888888,
              "#fdca26"
             ],
             [
              1,
              "#f0f921"
             ]
            ],
            "type": "histogram2d"
           }
          ],
          "histogram2dcontour": [
           {
            "colorbar": {
             "outlinewidth": 0,
             "ticks": ""
            },
            "colorscale": [
             [
              0,
              "#0d0887"
             ],
             [
              0.1111111111111111,
              "#46039f"
             ],
             [
              0.2222222222222222,
              "#7201a8"
             ],
             [
              0.3333333333333333,
              "#9c179e"
             ],
             [
              0.4444444444444444,
              "#bd3786"
             ],
             [
              0.5555555555555556,
              "#d8576b"
             ],
             [
              0.6666666666666666,
              "#ed7953"
             ],
             [
              0.7777777777777778,
              "#fb9f3a"
             ],
             [
              0.8888888888888888,
              "#fdca26"
             ],
             [
              1,
              "#f0f921"
             ]
            ],
            "type": "histogram2dcontour"
           }
          ],
          "mesh3d": [
           {
            "colorbar": {
             "outlinewidth": 0,
             "ticks": ""
            },
            "type": "mesh3d"
           }
          ],
          "parcoords": [
           {
            "line": {
             "colorbar": {
              "outlinewidth": 0,
              "ticks": ""
             }
            },
            "type": "parcoords"
           }
          ],
          "pie": [
           {
            "automargin": true,
            "type": "pie"
           }
          ],
          "scatter": [
           {
            "fillpattern": {
             "fillmode": "overlay",
             "size": 10,
             "solidity": 0.2
            },
            "type": "scatter"
           }
          ],
          "scatter3d": [
           {
            "line": {
             "colorbar": {
              "outlinewidth": 0,
              "ticks": ""
             }
            },
            "marker": {
             "colorbar": {
              "outlinewidth": 0,
              "ticks": ""
             }
            },
            "type": "scatter3d"
           }
          ],
          "scattercarpet": [
           {
            "marker": {
             "colorbar": {
              "outlinewidth": 0,
              "ticks": ""
             }
            },
            "type": "scattercarpet"
           }
          ],
          "scattergeo": [
           {
            "marker": {
             "colorbar": {
              "outlinewidth": 0,
              "ticks": ""
             }
            },
            "type": "scattergeo"
           }
          ],
          "scattergl": [
           {
            "marker": {
             "colorbar": {
              "outlinewidth": 0,
              "ticks": ""
             }
            },
            "type": "scattergl"
           }
          ],
          "scattermapbox": [
           {
            "marker": {
             "colorbar": {
              "outlinewidth": 0,
              "ticks": ""
             }
            },
            "type": "scattermapbox"
           }
          ],
          "scatterpolar": [
           {
            "marker": {
             "colorbar": {
              "outlinewidth": 0,
              "ticks": ""
             }
            },
            "type": "scatterpolar"
           }
          ],
          "scatterpolargl": [
           {
            "marker": {
             "colorbar": {
              "outlinewidth": 0,
              "ticks": ""
             }
            },
            "type": "scatterpolargl"
           }
          ],
          "scatterternary": [
           {
            "marker": {
             "colorbar": {
              "outlinewidth": 0,
              "ticks": ""
             }
            },
            "type": "scatterternary"
           }
          ],
          "surface": [
           {
            "colorbar": {
             "outlinewidth": 0,
             "ticks": ""
            },
            "colorscale": [
             [
              0,
              "#0d0887"
             ],
             [
              0.1111111111111111,
              "#46039f"
             ],
             [
              0.2222222222222222,
              "#7201a8"
             ],
             [
              0.3333333333333333,
              "#9c179e"
             ],
             [
              0.4444444444444444,
              "#bd3786"
             ],
             [
              0.5555555555555556,
              "#d8576b"
             ],
             [
              0.6666666666666666,
              "#ed7953"
             ],
             [
              0.7777777777777778,
              "#fb9f3a"
             ],
             [
              0.8888888888888888,
              "#fdca26"
             ],
             [
              1,
              "#f0f921"
             ]
            ],
            "type": "surface"
           }
          ],
          "table": [
           {
            "cells": {
             "fill": {
              "color": "#EBF0F8"
             },
             "line": {
              "color": "white"
             }
            },
            "header": {
             "fill": {
              "color": "#C8D4E3"
             },
             "line": {
              "color": "white"
             }
            },
            "type": "table"
           }
          ]
         },
         "layout": {
          "annotationdefaults": {
           "arrowcolor": "#2a3f5f",
           "arrowhead": 0,
           "arrowwidth": 1
          },
          "autotypenumbers": "strict",
          "coloraxis": {
           "colorbar": {
            "outlinewidth": 0,
            "ticks": ""
           }
          },
          "colorscale": {
           "diverging": [
            [
             0,
             "#8e0152"
            ],
            [
             0.1,
             "#c51b7d"
            ],
            [
             0.2,
             "#de77ae"
            ],
            [
             0.3,
             "#f1b6da"
            ],
            [
             0.4,
             "#fde0ef"
            ],
            [
             0.5,
             "#f7f7f7"
            ],
            [
             0.6,
             "#e6f5d0"
            ],
            [
             0.7,
             "#b8e186"
            ],
            [
             0.8,
             "#7fbc41"
            ],
            [
             0.9,
             "#4d9221"
            ],
            [
             1,
             "#276419"
            ]
           ],
           "sequential": [
            [
             0,
             "#0d0887"
            ],
            [
             0.1111111111111111,
             "#46039f"
            ],
            [
             0.2222222222222222,
             "#7201a8"
            ],
            [
             0.3333333333333333,
             "#9c179e"
            ],
            [
             0.4444444444444444,
             "#bd3786"
            ],
            [
             0.5555555555555556,
             "#d8576b"
            ],
            [
             0.6666666666666666,
             "#ed7953"
            ],
            [
             0.7777777777777778,
             "#fb9f3a"
            ],
            [
             0.8888888888888888,
             "#fdca26"
            ],
            [
             1,
             "#f0f921"
            ]
           ],
           "sequentialminus": [
            [
             0,
             "#0d0887"
            ],
            [
             0.1111111111111111,
             "#46039f"
            ],
            [
             0.2222222222222222,
             "#7201a8"
            ],
            [
             0.3333333333333333,
             "#9c179e"
            ],
            [
             0.4444444444444444,
             "#bd3786"
            ],
            [
             0.5555555555555556,
             "#d8576b"
            ],
            [
             0.6666666666666666,
             "#ed7953"
            ],
            [
             0.7777777777777778,
             "#fb9f3a"
            ],
            [
             0.8888888888888888,
             "#fdca26"
            ],
            [
             1,
             "#f0f921"
            ]
           ]
          },
          "colorway": [
           "#636efa",
           "#EF553B",
           "#00cc96",
           "#ab63fa",
           "#FFA15A",
           "#19d3f3",
           "#FF6692",
           "#B6E880",
           "#FF97FF",
           "#FECB52"
          ],
          "font": {
           "color": "#2a3f5f"
          },
          "geo": {
           "bgcolor": "white",
           "lakecolor": "white",
           "landcolor": "#E5ECF6",
           "showlakes": true,
           "showland": true,
           "subunitcolor": "white"
          },
          "hoverlabel": {
           "align": "left"
          },
          "hovermode": "closest",
          "mapbox": {
           "style": "light"
          },
          "paper_bgcolor": "white",
          "plot_bgcolor": "#E5ECF6",
          "polar": {
           "angularaxis": {
            "gridcolor": "white",
            "linecolor": "white",
            "ticks": ""
           },
           "bgcolor": "#E5ECF6",
           "radialaxis": {
            "gridcolor": "white",
            "linecolor": "white",
            "ticks": ""
           }
          },
          "scene": {
           "xaxis": {
            "backgroundcolor": "#E5ECF6",
            "gridcolor": "white",
            "gridwidth": 2,
            "linecolor": "white",
            "showbackground": true,
            "ticks": "",
            "zerolinecolor": "white"
           },
           "yaxis": {
            "backgroundcolor": "#E5ECF6",
            "gridcolor": "white",
            "gridwidth": 2,
            "linecolor": "white",
            "showbackground": true,
            "ticks": "",
            "zerolinecolor": "white"
           },
           "zaxis": {
            "backgroundcolor": "#E5ECF6",
            "gridcolor": "white",
            "gridwidth": 2,
            "linecolor": "white",
            "showbackground": true,
            "ticks": "",
            "zerolinecolor": "white"
           }
          },
          "shapedefaults": {
           "line": {
            "color": "#2a3f5f"
           }
          },
          "ternary": {
           "aaxis": {
            "gridcolor": "white",
            "linecolor": "white",
            "ticks": ""
           },
           "baxis": {
            "gridcolor": "white",
            "linecolor": "white",
            "ticks": ""
           },
           "bgcolor": "#E5ECF6",
           "caxis": {
            "gridcolor": "white",
            "linecolor": "white",
            "ticks": ""
           }
          },
          "title": {
           "x": 0.05
          },
          "xaxis": {
           "automargin": true,
           "gridcolor": "white",
           "linecolor": "white",
           "ticks": "",
           "title": {
            "standoff": 15
           },
           "zerolinecolor": "white",
           "zerolinewidth": 2
          },
          "yaxis": {
           "automargin": true,
           "gridcolor": "white",
           "linecolor": "white",
           "ticks": "",
           "title": {
            "standoff": 15
           },
           "zerolinecolor": "white",
           "zerolinewidth": 2
          }
         }
        },
        "title": {
         "text": "Trend Line of Total Encounters by Month for Citizenship: RUSSIA"
        },
        "xaxis": {
         "anchor": "y",
         "domain": [
          0,
          1
         ],
         "title": {
          "text": "Month"
         }
        },
        "yaxis": {
         "anchor": "x",
         "domain": [
          0,
          1
         ],
         "title": {
          "text": "Total Encounters"
         }
        }
       }
      }
     },
     "metadata": {},
     "output_type": "display_data"
    }
   ],
   "source": [
    "# Create a trend line graph for the Sum of Encounter by Fiscal Year and Month for Citizenship == 'Russia'. Add sum of Encounter Count to the table.\n",
    "russia_encounters = encounters_aor_df[encounters_aor_df['Citizenship'] == 'RUSSIA']\n",
    "russia_encounters_by_year_month = russia_encounters.groupby(['Fiscal Year', 'Month'])['Encounter Count'].sum().unstack(fill_value=0)\n",
    "fig = px.line(russia_encounters_by_year_month.reset_index().melt(id_vars='Fiscal Year', var_name='Month', value_name='Encounter Count'),\n",
    "              x='Month', y='Encounter Count', color='Fiscal Year',\n",
    "              title='Trend Line of Total Encounters by Month for Citizenship: RUSSIA',\n",
    "              labels={'Encounter Count': 'Total Encounters', 'Month': 'Month'})\n",
    "fig.update_traces(mode='lines+markers')\n",
    "fig.update_layout(yaxis_title='Total Encounters', xaxis_title='Month')\n",
    "fig.show()"
   ]
  },
  {
   "cell_type": "code",
   "execution_count": 63,
   "id": "25beddd2",
   "metadata": {},
   "outputs": [
    {
     "data": {
      "application/vnd.plotly.v1+json": {
       "config": {
        "plotlyServerURL": "https://plot.ly"
       },
       "data": [
        {
         "cells": {
          "align": "left",
          "fill": {
           "color": "lavender"
          },
          "values": [
           [
            2021,
            2021,
            2021,
            2021,
            2021,
            2021,
            2021,
            2021,
            2021,
            2021,
            2021,
            2021,
            2022,
            2022,
            2022,
            2022,
            2022,
            2022,
            2022,
            2022,
            2022,
            2022,
            2022,
            2022,
            2023,
            2023,
            2023,
            2023,
            2023,
            2023,
            2023,
            2023,
            2023,
            2023,
            2023,
            2023,
            2024,
            2024,
            2024,
            2024,
            2024,
            2024,
            2024,
            2024,
            2024,
            2024,
            2024,
            2024
           ],
           [
            "APR",
            "AUG",
            "DEC",
            "FEB",
            "JAN",
            "JUL",
            "JUN",
            "MAR",
            "MAY",
            "NOV",
            "OCT",
            "SEP",
            "APR",
            "AUG",
            "DEC",
            "FEB",
            "JAN",
            "JUL",
            "JUN",
            "MAR",
            "MAY",
            "NOV",
            "OCT",
            "SEP",
            "APR",
            "AUG",
            "DEC",
            "FEB",
            "JAN",
            "JUL",
            "JUN",
            "MAR",
            "MAY",
            "NOV",
            "OCT",
            "SEP",
            "APR",
            "AUG",
            "DEC",
            "FEB",
            "JAN",
            "JUL",
            "JUN",
            "MAR",
            "MAY",
            "NOV",
            "OCT",
            "SEP"
           ],
           [
            889,
            1727,
            722,
            720,
            790,
            1559,
            1245,
            897,
            1069,
            691,
            469,
            2462,
            2867,
            2891,
            3406,
            2024,
            2620,
            2899,
            3122,
            2623,
            4354,
            3032,
            2725,
            3708,
            3633,
            2874,
            9227,
            5886,
            5805,
            2972,
            2349,
            5273,
            4133,
            6931,
            5174,
            2906,
            1587,
            1129,
            3015,
            1877,
            2295,
            1344,
            1087,
            1569,
            1395,
            2506,
            2935,
            1152
           ],
           [
            31.75,
            46.68,
            30.08,
            31.3,
            34.35,
            47.24,
            34.58,
            34.5,
            39.59,
            27.64,
            22.33,
            70.34,
            56.22,
            59,
            94.61,
            56.22,
            77.06,
            53.69,
            58.91,
            63.98,
            85.37,
            89.18,
            71.71,
            67.42,
            68.55,
            63.87,
            141.95,
            105.11,
            107.5,
            69.12,
            53.39,
            101.4,
            81.04,
            117.47,
            94.07,
            66.05,
            38.71,
            32.26,
            77.31,
            48.13,
            63.75,
            28.6,
            25.88,
            38.27,
            36.71,
            75.94,
            58.7,
            28.8
           ],
           [
            11,
            14,
            10.5,
            12,
            11,
            11,
            10,
            10.5,
            12,
            8,
            16,
            11,
            7,
            12,
            16,
            12,
            18.5,
            6,
            8,
            7,
            10,
            11,
            6,
            8,
            5,
            8,
            8,
            8.5,
            9.5,
            7,
            11,
            10,
            13,
            9,
            11,
            10,
            10,
            9,
            12,
            11,
            14,
            5,
            5,
            9,
            11,
            19,
            4.5,
            6.5
           ],
           [
            52.7,
            88.53,
            54.14,
            41.02,
            58.46,
            88.36,
            53.16,
            48.76,
            57.76,
            50.96,
            34.9,
            158.84,
            156.79,
            135.1,
            221.27,
            98.57,
            133.17,
            121.49,
            141.57,
            129.07,
            241.55,
            201.05,
            177.23,
            186.36,
            177.31,
            187.76,
            362.49,
            295.52,
            240.29,
            169.33,
            119.64,
            261.61,
            192.64,
            362.79,
            280.7,
            158.74,
            79.42,
            57.61,
            168.82,
            93.83,
            109.95,
            63.82,
            57.76,
            67.11,
            76.83,
            136.14,
            152.42,
            61.85
           ],
           [
            2777.53,
            7837.61,
            2931.04,
            1682.49,
            3417.78,
            7808.31,
            2825.68,
            2377.46,
            3336.17,
            2596.49,
            1217.93,
            25229.23,
            24582.17,
            18253,
            48961.56,
            9716.41,
            17734.42,
            14761.01,
            20042.28,
            16659.32,
            58344.92,
            40422.57,
            31410,
            34730.36,
            31437.21,
            35253.85,
            131400.95,
            87330.13,
            57739.58,
            28671.49,
            14312.85,
            68441.19,
            37111.88,
            131615.32,
            78794.33,
            25198.37,
            6307.31,
            3319.26,
            28501.17,
            8804.11,
            12090.02,
            4073.03,
            3336.55,
            4503.65,
            5903.35,
            18534.75,
            23233.03,
            3825.96
           ],
           [
            232,
            333,
            236,
            155,
            263,
            373,
            193,
            166,
            207,
            197,
            154,
            654,
            803,
            658,
            1004,
            399,
            533,
            684,
            803,
            526,
            1387,
            822,
            752,
            1060,
            974,
            1031,
            1949,
            1496,
            1133,
            819,
            591,
            1370,
            827,
            2022,
            1512,
            747,
            415,
            299,
            852,
            402,
            435,
            327,
            294,
            323,
            353,
            589,
            839,
            344
           ],
           [
            1,
            1,
            1,
            1,
            1,
            1,
            1,
            1,
            1,
            1,
            1,
            1,
            1,
            1,
            1,
            1,
            1,
            1,
            1,
            1,
            1,
            1,
            1,
            1,
            1,
            1,
            1,
            1,
            1,
            1,
            1,
            1,
            1,
            1,
            1,
            1,
            1,
            1,
            1,
            1,
            1,
            1,
            1,
            1,
            1,
            1,
            1,
            1
           ]
          ]
         },
         "header": {
          "align": "left",
          "fill": {
           "color": "paleturquoise"
          },
          "values": [
           "Fiscal Year",
           "Month",
           "Sum",
           "Mean",
           "Median",
           "Standard Deviation",
           "Variance",
           "Max",
           "Min"
          ]
         },
         "type": "table"
        }
       ],
       "layout": {
        "template": {
         "data": {
          "bar": [
           {
            "error_x": {
             "color": "#2a3f5f"
            },
            "error_y": {
             "color": "#2a3f5f"
            },
            "marker": {
             "line": {
              "color": "#E5ECF6",
              "width": 0.5
             },
             "pattern": {
              "fillmode": "overlay",
              "size": 10,
              "solidity": 0.2
             }
            },
            "type": "bar"
           }
          ],
          "barpolar": [
           {
            "marker": {
             "line": {
              "color": "#E5ECF6",
              "width": 0.5
             },
             "pattern": {
              "fillmode": "overlay",
              "size": 10,
              "solidity": 0.2
             }
            },
            "type": "barpolar"
           }
          ],
          "carpet": [
           {
            "aaxis": {
             "endlinecolor": "#2a3f5f",
             "gridcolor": "white",
             "linecolor": "white",
             "minorgridcolor": "white",
             "startlinecolor": "#2a3f5f"
            },
            "baxis": {
             "endlinecolor": "#2a3f5f",
             "gridcolor": "white",
             "linecolor": "white",
             "minorgridcolor": "white",
             "startlinecolor": "#2a3f5f"
            },
            "type": "carpet"
           }
          ],
          "choropleth": [
           {
            "colorbar": {
             "outlinewidth": 0,
             "ticks": ""
            },
            "type": "choropleth"
           }
          ],
          "contour": [
           {
            "colorbar": {
             "outlinewidth": 0,
             "ticks": ""
            },
            "colorscale": [
             [
              0,
              "#0d0887"
             ],
             [
              0.1111111111111111,
              "#46039f"
             ],
             [
              0.2222222222222222,
              "#7201a8"
             ],
             [
              0.3333333333333333,
              "#9c179e"
             ],
             [
              0.4444444444444444,
              "#bd3786"
             ],
             [
              0.5555555555555556,
              "#d8576b"
             ],
             [
              0.6666666666666666,
              "#ed7953"
             ],
             [
              0.7777777777777778,
              "#fb9f3a"
             ],
             [
              0.8888888888888888,
              "#fdca26"
             ],
             [
              1,
              "#f0f921"
             ]
            ],
            "type": "contour"
           }
          ],
          "contourcarpet": [
           {
            "colorbar": {
             "outlinewidth": 0,
             "ticks": ""
            },
            "type": "contourcarpet"
           }
          ],
          "heatmap": [
           {
            "colorbar": {
             "outlinewidth": 0,
             "ticks": ""
            },
            "colorscale": [
             [
              0,
              "#0d0887"
             ],
             [
              0.1111111111111111,
              "#46039f"
             ],
             [
              0.2222222222222222,
              "#7201a8"
             ],
             [
              0.3333333333333333,
              "#9c179e"
             ],
             [
              0.4444444444444444,
              "#bd3786"
             ],
             [
              0.5555555555555556,
              "#d8576b"
             ],
             [
              0.6666666666666666,
              "#ed7953"
             ],
             [
              0.7777777777777778,
              "#fb9f3a"
             ],
             [
              0.8888888888888888,
              "#fdca26"
             ],
             [
              1,
              "#f0f921"
             ]
            ],
            "type": "heatmap"
           }
          ],
          "heatmapgl": [
           {
            "colorbar": {
             "outlinewidth": 0,
             "ticks": ""
            },
            "colorscale": [
             [
              0,
              "#0d0887"
             ],
             [
              0.1111111111111111,
              "#46039f"
             ],
             [
              0.2222222222222222,
              "#7201a8"
             ],
             [
              0.3333333333333333,
              "#9c179e"
             ],
             [
              0.4444444444444444,
              "#bd3786"
             ],
             [
              0.5555555555555556,
              "#d8576b"
             ],
             [
              0.6666666666666666,
              "#ed7953"
             ],
             [
              0.7777777777777778,
              "#fb9f3a"
             ],
             [
              0.8888888888888888,
              "#fdca26"
             ],
             [
              1,
              "#f0f921"
             ]
            ],
            "type": "heatmapgl"
           }
          ],
          "histogram": [
           {
            "marker": {
             "pattern": {
              "fillmode": "overlay",
              "size": 10,
              "solidity": 0.2
             }
            },
            "type": "histogram"
           }
          ],
          "histogram2d": [
           {
            "colorbar": {
             "outlinewidth": 0,
             "ticks": ""
            },
            "colorscale": [
             [
              0,
              "#0d0887"
             ],
             [
              0.1111111111111111,
              "#46039f"
             ],
             [
              0.2222222222222222,
              "#7201a8"
             ],
             [
              0.3333333333333333,
              "#9c179e"
             ],
             [
              0.4444444444444444,
              "#bd3786"
             ],
             [
              0.5555555555555556,
              "#d8576b"
             ],
             [
              0.6666666666666666,
              "#ed7953"
             ],
             [
              0.7777777777777778,
              "#fb9f3a"
             ],
             [
              0.8888888888888888,
              "#fdca26"
             ],
             [
              1,
              "#f0f921"
             ]
            ],
            "type": "histogram2d"
           }
          ],
          "histogram2dcontour": [
           {
            "colorbar": {
             "outlinewidth": 0,
             "ticks": ""
            },
            "colorscale": [
             [
              0,
              "#0d0887"
             ],
             [
              0.1111111111111111,
              "#46039f"
             ],
             [
              0.2222222222222222,
              "#7201a8"
             ],
             [
              0.3333333333333333,
              "#9c179e"
             ],
             [
              0.4444444444444444,
              "#bd3786"
             ],
             [
              0.5555555555555556,
              "#d8576b"
             ],
             [
              0.6666666666666666,
              "#ed7953"
             ],
             [
              0.7777777777777778,
              "#fb9f3a"
             ],
             [
              0.8888888888888888,
              "#fdca26"
             ],
             [
              1,
              "#f0f921"
             ]
            ],
            "type": "histogram2dcontour"
           }
          ],
          "mesh3d": [
           {
            "colorbar": {
             "outlinewidth": 0,
             "ticks": ""
            },
            "type": "mesh3d"
           }
          ],
          "parcoords": [
           {
            "line": {
             "colorbar": {
              "outlinewidth": 0,
              "ticks": ""
             }
            },
            "type": "parcoords"
           }
          ],
          "pie": [
           {
            "automargin": true,
            "type": "pie"
           }
          ],
          "scatter": [
           {
            "fillpattern": {
             "fillmode": "overlay",
             "size": 10,
             "solidity": 0.2
            },
            "type": "scatter"
           }
          ],
          "scatter3d": [
           {
            "line": {
             "colorbar": {
              "outlinewidth": 0,
              "ticks": ""
             }
            },
            "marker": {
             "colorbar": {
              "outlinewidth": 0,
              "ticks": ""
             }
            },
            "type": "scatter3d"
           }
          ],
          "scattercarpet": [
           {
            "marker": {
             "colorbar": {
              "outlinewidth": 0,
              "ticks": ""
             }
            },
            "type": "scattercarpet"
           }
          ],
          "scattergeo": [
           {
            "marker": {
             "colorbar": {
              "outlinewidth": 0,
              "ticks": ""
             }
            },
            "type": "scattergeo"
           }
          ],
          "scattergl": [
           {
            "marker": {
             "colorbar": {
              "outlinewidth": 0,
              "ticks": ""
             }
            },
            "type": "scattergl"
           }
          ],
          "scattermapbox": [
           {
            "marker": {
             "colorbar": {
              "outlinewidth": 0,
              "ticks": ""
             }
            },
            "type": "scattermapbox"
           }
          ],
          "scatterpolar": [
           {
            "marker": {
             "colorbar": {
              "outlinewidth": 0,
              "ticks": ""
             }
            },
            "type": "scatterpolar"
           }
          ],
          "scatterpolargl": [
           {
            "marker": {
             "colorbar": {
              "outlinewidth": 0,
              "ticks": ""
             }
            },
            "type": "scatterpolargl"
           }
          ],
          "scatterternary": [
           {
            "marker": {
             "colorbar": {
              "outlinewidth": 0,
              "ticks": ""
             }
            },
            "type": "scatterternary"
           }
          ],
          "surface": [
           {
            "colorbar": {
             "outlinewidth": 0,
             "ticks": ""
            },
            "colorscale": [
             [
              0,
              "#0d0887"
             ],
             [
              0.1111111111111111,
              "#46039f"
             ],
             [
              0.2222222222222222,
              "#7201a8"
             ],
             [
              0.3333333333333333,
              "#9c179e"
             ],
             [
              0.4444444444444444,
              "#bd3786"
             ],
             [
              0.5555555555555556,
              "#d8576b"
             ],
             [
              0.6666666666666666,
              "#ed7953"
             ],
             [
              0.7777777777777778,
              "#fb9f3a"
             ],
             [
              0.8888888888888888,
              "#fdca26"
             ],
             [
              1,
              "#f0f921"
             ]
            ],
            "type": "surface"
           }
          ],
          "table": [
           {
            "cells": {
             "fill": {
              "color": "#EBF0F8"
             },
             "line": {
              "color": "white"
             }
            },
            "header": {
             "fill": {
              "color": "#C8D4E3"
             },
             "line": {
              "color": "white"
             }
            },
            "type": "table"
           }
          ]
         },
         "layout": {
          "annotationdefaults": {
           "arrowcolor": "#2a3f5f",
           "arrowhead": 0,
           "arrowwidth": 1
          },
          "autotypenumbers": "strict",
          "coloraxis": {
           "colorbar": {
            "outlinewidth": 0,
            "ticks": ""
           }
          },
          "colorscale": {
           "diverging": [
            [
             0,
             "#8e0152"
            ],
            [
             0.1,
             "#c51b7d"
            ],
            [
             0.2,
             "#de77ae"
            ],
            [
             0.3,
             "#f1b6da"
            ],
            [
             0.4,
             "#fde0ef"
            ],
            [
             0.5,
             "#f7f7f7"
            ],
            [
             0.6,
             "#e6f5d0"
            ],
            [
             0.7,
             "#b8e186"
            ],
            [
             0.8,
             "#7fbc41"
            ],
            [
             0.9,
             "#4d9221"
            ],
            [
             1,
             "#276419"
            ]
           ],
           "sequential": [
            [
             0,
             "#0d0887"
            ],
            [
             0.1111111111111111,
             "#46039f"
            ],
            [
             0.2222222222222222,
             "#7201a8"
            ],
            [
             0.3333333333333333,
             "#9c179e"
            ],
            [
             0.4444444444444444,
             "#bd3786"
            ],
            [
             0.5555555555555556,
             "#d8576b"
            ],
            [
             0.6666666666666666,
             "#ed7953"
            ],
            [
             0.7777777777777778,
             "#fb9f3a"
            ],
            [
             0.8888888888888888,
             "#fdca26"
            ],
            [
             1,
             "#f0f921"
            ]
           ],
           "sequentialminus": [
            [
             0,
             "#0d0887"
            ],
            [
             0.1111111111111111,
             "#46039f"
            ],
            [
             0.2222222222222222,
             "#7201a8"
            ],
            [
             0.3333333333333333,
             "#9c179e"
            ],
            [
             0.4444444444444444,
             "#bd3786"
            ],
            [
             0.5555555555555556,
             "#d8576b"
            ],
            [
             0.6666666666666666,
             "#ed7953"
            ],
            [
             0.7777777777777778,
             "#fb9f3a"
            ],
            [
             0.8888888888888888,
             "#fdca26"
            ],
            [
             1,
             "#f0f921"
            ]
           ]
          },
          "colorway": [
           "#636efa",
           "#EF553B",
           "#00cc96",
           "#ab63fa",
           "#FFA15A",
           "#19d3f3",
           "#FF6692",
           "#B6E880",
           "#FF97FF",
           "#FECB52"
          ],
          "font": {
           "color": "#2a3f5f"
          },
          "geo": {
           "bgcolor": "white",
           "lakecolor": "white",
           "landcolor": "#E5ECF6",
           "showlakes": true,
           "showland": true,
           "subunitcolor": "white"
          },
          "hoverlabel": {
           "align": "left"
          },
          "hovermode": "closest",
          "mapbox": {
           "style": "light"
          },
          "paper_bgcolor": "white",
          "plot_bgcolor": "#E5ECF6",
          "polar": {
           "angularaxis": {
            "gridcolor": "white",
            "linecolor": "white",
            "ticks": ""
           },
           "bgcolor": "#E5ECF6",
           "radialaxis": {
            "gridcolor": "white",
            "linecolor": "white",
            "ticks": ""
           }
          },
          "scene": {
           "xaxis": {
            "backgroundcolor": "#E5ECF6",
            "gridcolor": "white",
            "gridwidth": 2,
            "linecolor": "white",
            "showbackground": true,
            "ticks": "",
            "zerolinecolor": "white"
           },
           "yaxis": {
            "backgroundcolor": "#E5ECF6",
            "gridcolor": "white",
            "gridwidth": 2,
            "linecolor": "white",
            "showbackground": true,
            "ticks": "",
            "zerolinecolor": "white"
           },
           "zaxis": {
            "backgroundcolor": "#E5ECF6",
            "gridcolor": "white",
            "gridwidth": 2,
            "linecolor": "white",
            "showbackground": true,
            "ticks": "",
            "zerolinecolor": "white"
           }
          },
          "shapedefaults": {
           "line": {
            "color": "#2a3f5f"
           }
          },
          "ternary": {
           "aaxis": {
            "gridcolor": "white",
            "linecolor": "white",
            "ticks": ""
           },
           "baxis": {
            "gridcolor": "white",
            "linecolor": "white",
            "ticks": ""
           },
           "bgcolor": "#E5ECF6",
           "caxis": {
            "gridcolor": "white",
            "linecolor": "white",
            "ticks": ""
           }
          },
          "title": {
           "x": 0.05
          },
          "xaxis": {
           "automargin": true,
           "gridcolor": "white",
           "linecolor": "white",
           "ticks": "",
           "title": {
            "standoff": 15
           },
           "zerolinecolor": "white",
           "zerolinewidth": 2
          },
          "yaxis": {
           "automargin": true,
           "gridcolor": "white",
           "linecolor": "white",
           "ticks": "",
           "title": {
            "standoff": 15
           },
           "zerolinecolor": "white",
           "zerolinewidth": 2
          }
         }
        },
        "title": {
         "text": "Encounter Count Statistics for Citizenship: RUSSIA by Fiscal Year"
        }
       }
      }
     },
     "metadata": {},
     "output_type": "display_data"
    }
   ],
   "source": [
    "#Create a statistics table for the Sum of Encounter Count by Fiscal Year for Citizenship == 'RUSSIA'. Add mean, median, standard deviation, variance, max, min to the table. Do not add month.\n",
    "russia_encounters_stats = russia_encounters.groupby(['Fiscal Year', 'Month'])['Encounter Count'].agg(['sum', 'mean', 'median', 'std', 'var', 'max', 'min']).reset_index()\n",
    "russia_encounters_stats.columns = ['Fiscal Year', 'Month', 'Sum', 'Mean', 'Median', 'Standard Deviation', 'Variance', 'Max', 'Min']\n",
    "import plotly.graph_objects as go\n",
    "# Prepare data for the table\n",
    "table = go.Figure(data=[go.Table(\n",
    "    header=dict(values=[\"Fiscal Year\", \"Month\", \"Sum\", \"Mean\", \"Median\", \"Standard Deviation\", \"Variance\", \"Max\", \"Min\"],\n",
    "                fill_color='paleturquoise',\n",
    "                align='left'),\n",
    "    cells=dict(values=[\n",
    "        russia_encounters_stats['Fiscal Year'],  # Fiscal Year\n",
    "        russia_encounters_stats['Month'],  # Month\n",
    "        russia_encounters_stats['Sum'],  # Sum\n",
    "        russia_encounters_stats['Mean'].round(2),  # Mean\n",
    "        russia_encounters_stats['Median'].round(2),  # Median\n",
    "        russia_encounters_stats['Standard Deviation'].round(2),  # Standard Deviation\n",
    "        russia_encounters_stats['Variance'].round(2),  # Variance\n",
    "        russia_encounters_stats['Max'],  # Max\n",
    "        russia_encounters_stats['Min']  # Min\n",
    "    ],\n",
    "    fill_color='lavender',\n",
    "    align='left'))\n",
    "])\n",
    "table.update_layout(title='Encounter Count Statistics for Citizenship: RUSSIA by Fiscal Year')\n",
    "table.show()"
   ]
  },
  {
   "cell_type": "code",
   "execution_count": 46,
   "id": "6a64175f",
   "metadata": {},
   "outputs": [
    {
     "name": "stdout",
     "output_type": "stream",
     "text": [
      "Demographic\n",
      "Accompanied Minors      144\n",
      "FMUA                  47615\n",
      "Single Adults         80619\n",
      "UC / Single Minors      187\n",
      "Name: Encounter Count, dtype: int64\n"
     ]
    },
    {
     "data": {
      "application/vnd.plotly.v1+json": {
       "config": {
        "plotlyServerURL": "https://plot.ly"
       },
       "data": [
        {
         "cells": {
          "align": "left",
          "fill": {
           "color": "lavender"
          },
          "values": [
           [
            "Accompanied Minors",
            "FMUA",
            "Single Adults",
            "UC / Single Minors"
           ],
           [
            144,
            47615,
            80619,
            187
           ]
          ]
         },
         "header": {
          "align": "left",
          "fill": {
           "color": "paleturquoise"
          },
          "values": [
           "Demographic",
           "Total Encounters"
          ]
         },
         "type": "table"
        }
       ],
       "layout": {
        "template": {
         "data": {
          "bar": [
           {
            "error_x": {
             "color": "#2a3f5f"
            },
            "error_y": {
             "color": "#2a3f5f"
            },
            "marker": {
             "line": {
              "color": "#E5ECF6",
              "width": 0.5
             },
             "pattern": {
              "fillmode": "overlay",
              "size": 10,
              "solidity": 0.2
             }
            },
            "type": "bar"
           }
          ],
          "barpolar": [
           {
            "marker": {
             "line": {
              "color": "#E5ECF6",
              "width": 0.5
             },
             "pattern": {
              "fillmode": "overlay",
              "size": 10,
              "solidity": 0.2
             }
            },
            "type": "barpolar"
           }
          ],
          "carpet": [
           {
            "aaxis": {
             "endlinecolor": "#2a3f5f",
             "gridcolor": "white",
             "linecolor": "white",
             "minorgridcolor": "white",
             "startlinecolor": "#2a3f5f"
            },
            "baxis": {
             "endlinecolor": "#2a3f5f",
             "gridcolor": "white",
             "linecolor": "white",
             "minorgridcolor": "white",
             "startlinecolor": "#2a3f5f"
            },
            "type": "carpet"
           }
          ],
          "choropleth": [
           {
            "colorbar": {
             "outlinewidth": 0,
             "ticks": ""
            },
            "type": "choropleth"
           }
          ],
          "contour": [
           {
            "colorbar": {
             "outlinewidth": 0,
             "ticks": ""
            },
            "colorscale": [
             [
              0,
              "#0d0887"
             ],
             [
              0.1111111111111111,
              "#46039f"
             ],
             [
              0.2222222222222222,
              "#7201a8"
             ],
             [
              0.3333333333333333,
              "#9c179e"
             ],
             [
              0.4444444444444444,
              "#bd3786"
             ],
             [
              0.5555555555555556,
              "#d8576b"
             ],
             [
              0.6666666666666666,
              "#ed7953"
             ],
             [
              0.7777777777777778,
              "#fb9f3a"
             ],
             [
              0.8888888888888888,
              "#fdca26"
             ],
             [
              1,
              "#f0f921"
             ]
            ],
            "type": "contour"
           }
          ],
          "contourcarpet": [
           {
            "colorbar": {
             "outlinewidth": 0,
             "ticks": ""
            },
            "type": "contourcarpet"
           }
          ],
          "heatmap": [
           {
            "colorbar": {
             "outlinewidth": 0,
             "ticks": ""
            },
            "colorscale": [
             [
              0,
              "#0d0887"
             ],
             [
              0.1111111111111111,
              "#46039f"
             ],
             [
              0.2222222222222222,
              "#7201a8"
             ],
             [
              0.3333333333333333,
              "#9c179e"
             ],
             [
              0.4444444444444444,
              "#bd3786"
             ],
             [
              0.5555555555555556,
              "#d8576b"
             ],
             [
              0.6666666666666666,
              "#ed7953"
             ],
             [
              0.7777777777777778,
              "#fb9f3a"
             ],
             [
              0.8888888888888888,
              "#fdca26"
             ],
             [
              1,
              "#f0f921"
             ]
            ],
            "type": "heatmap"
           }
          ],
          "heatmapgl": [
           {
            "colorbar": {
             "outlinewidth": 0,
             "ticks": ""
            },
            "colorscale": [
             [
              0,
              "#0d0887"
             ],
             [
              0.1111111111111111,
              "#46039f"
             ],
             [
              0.2222222222222222,
              "#7201a8"
             ],
             [
              0.3333333333333333,
              "#9c179e"
             ],
             [
              0.4444444444444444,
              "#bd3786"
             ],
             [
              0.5555555555555556,
              "#d8576b"
             ],
             [
              0.6666666666666666,
              "#ed7953"
             ],
             [
              0.7777777777777778,
              "#fb9f3a"
             ],
             [
              0.8888888888888888,
              "#fdca26"
             ],
             [
              1,
              "#f0f921"
             ]
            ],
            "type": "heatmapgl"
           }
          ],
          "histogram": [
           {
            "marker": {
             "pattern": {
              "fillmode": "overlay",
              "size": 10,
              "solidity": 0.2
             }
            },
            "type": "histogram"
           }
          ],
          "histogram2d": [
           {
            "colorbar": {
             "outlinewidth": 0,
             "ticks": ""
            },
            "colorscale": [
             [
              0,
              "#0d0887"
             ],
             [
              0.1111111111111111,
              "#46039f"
             ],
             [
              0.2222222222222222,
              "#7201a8"
             ],
             [
              0.3333333333333333,
              "#9c179e"
             ],
             [
              0.4444444444444444,
              "#bd3786"
             ],
             [
              0.5555555555555556,
              "#d8576b"
             ],
             [
              0.6666666666666666,
              "#ed7953"
             ],
             [
              0.7777777777777778,
              "#fb9f3a"
             ],
             [
              0.8888888888888888,
              "#fdca26"
             ],
             [
              1,
              "#f0f921"
             ]
            ],
            "type": "histogram2d"
           }
          ],
          "histogram2dcontour": [
           {
            "colorbar": {
             "outlinewidth": 0,
             "ticks": ""
            },
            "colorscale": [
             [
              0,
              "#0d0887"
             ],
             [
              0.1111111111111111,
              "#46039f"
             ],
             [
              0.2222222222222222,
              "#7201a8"
             ],
             [
              0.3333333333333333,
              "#9c179e"
             ],
             [
              0.4444444444444444,
              "#bd3786"
             ],
             [
              0.5555555555555556,
              "#d8576b"
             ],
             [
              0.6666666666666666,
              "#ed7953"
             ],
             [
              0.7777777777777778,
              "#fb9f3a"
             ],
             [
              0.8888888888888888,
              "#fdca26"
             ],
             [
              1,
              "#f0f921"
             ]
            ],
            "type": "histogram2dcontour"
           }
          ],
          "mesh3d": [
           {
            "colorbar": {
             "outlinewidth": 0,
             "ticks": ""
            },
            "type": "mesh3d"
           }
          ],
          "parcoords": [
           {
            "line": {
             "colorbar": {
              "outlinewidth": 0,
              "ticks": ""
             }
            },
            "type": "parcoords"
           }
          ],
          "pie": [
           {
            "automargin": true,
            "type": "pie"
           }
          ],
          "scatter": [
           {
            "fillpattern": {
             "fillmode": "overlay",
             "size": 10,
             "solidity": 0.2
            },
            "type": "scatter"
           }
          ],
          "scatter3d": [
           {
            "line": {
             "colorbar": {
              "outlinewidth": 0,
              "ticks": ""
             }
            },
            "marker": {
             "colorbar": {
              "outlinewidth": 0,
              "ticks": ""
             }
            },
            "type": "scatter3d"
           }
          ],
          "scattercarpet": [
           {
            "marker": {
             "colorbar": {
              "outlinewidth": 0,
              "ticks": ""
             }
            },
            "type": "scattercarpet"
           }
          ],
          "scattergeo": [
           {
            "marker": {
             "colorbar": {
              "outlinewidth": 0,
              "ticks": ""
             }
            },
            "type": "scattergeo"
           }
          ],
          "scattergl": [
           {
            "marker": {
             "colorbar": {
              "outlinewidth": 0,
              "ticks": ""
             }
            },
            "type": "scattergl"
           }
          ],
          "scattermapbox": [
           {
            "marker": {
             "colorbar": {
              "outlinewidth": 0,
              "ticks": ""
             }
            },
            "type": "scattermapbox"
           }
          ],
          "scatterpolar": [
           {
            "marker": {
             "colorbar": {
              "outlinewidth": 0,
              "ticks": ""
             }
            },
            "type": "scatterpolar"
           }
          ],
          "scatterpolargl": [
           {
            "marker": {
             "colorbar": {
              "outlinewidth": 0,
              "ticks": ""
             }
            },
            "type": "scatterpolargl"
           }
          ],
          "scatterternary": [
           {
            "marker": {
             "colorbar": {
              "outlinewidth": 0,
              "ticks": ""
             }
            },
            "type": "scatterternary"
           }
          ],
          "surface": [
           {
            "colorbar": {
             "outlinewidth": 0,
             "ticks": ""
            },
            "colorscale": [
             [
              0,
              "#0d0887"
             ],
             [
              0.1111111111111111,
              "#46039f"
             ],
             [
              0.2222222222222222,
              "#7201a8"
             ],
             [
              0.3333333333333333,
              "#9c179e"
             ],
             [
              0.4444444444444444,
              "#bd3786"
             ],
             [
              0.5555555555555556,
              "#d8576b"
             ],
             [
              0.6666666666666666,
              "#ed7953"
             ],
             [
              0.7777777777777778,
              "#fb9f3a"
             ],
             [
              0.8888888888888888,
              "#fdca26"
             ],
             [
              1,
              "#f0f921"
             ]
            ],
            "type": "surface"
           }
          ],
          "table": [
           {
            "cells": {
             "fill": {
              "color": "#EBF0F8"
             },
             "line": {
              "color": "white"
             }
            },
            "header": {
             "fill": {
              "color": "#C8D4E3"
             },
             "line": {
              "color": "white"
             }
            },
            "type": "table"
           }
          ]
         },
         "layout": {
          "annotationdefaults": {
           "arrowcolor": "#2a3f5f",
           "arrowhead": 0,
           "arrowwidth": 1
          },
          "autotypenumbers": "strict",
          "coloraxis": {
           "colorbar": {
            "outlinewidth": 0,
            "ticks": ""
           }
          },
          "colorscale": {
           "diverging": [
            [
             0,
             "#8e0152"
            ],
            [
             0.1,
             "#c51b7d"
            ],
            [
             0.2,
             "#de77ae"
            ],
            [
             0.3,
             "#f1b6da"
            ],
            [
             0.4,
             "#fde0ef"
            ],
            [
             0.5,
             "#f7f7f7"
            ],
            [
             0.6,
             "#e6f5d0"
            ],
            [
             0.7,
             "#b8e186"
            ],
            [
             0.8,
             "#7fbc41"
            ],
            [
             0.9,
             "#4d9221"
            ],
            [
             1,
             "#276419"
            ]
           ],
           "sequential": [
            [
             0,
             "#0d0887"
            ],
            [
             0.1111111111111111,
             "#46039f"
            ],
            [
             0.2222222222222222,
             "#7201a8"
            ],
            [
             0.3333333333333333,
             "#9c179e"
            ],
            [
             0.4444444444444444,
             "#bd3786"
            ],
            [
             0.5555555555555556,
             "#d8576b"
            ],
            [
             0.6666666666666666,
             "#ed7953"
            ],
            [
             0.7777777777777778,
             "#fb9f3a"
            ],
            [
             0.8888888888888888,
             "#fdca26"
            ],
            [
             1,
             "#f0f921"
            ]
           ],
           "sequentialminus": [
            [
             0,
             "#0d0887"
            ],
            [
             0.1111111111111111,
             "#46039f"
            ],
            [
             0.2222222222222222,
             "#7201a8"
            ],
            [
             0.3333333333333333,
             "#9c179e"
            ],
            [
             0.4444444444444444,
             "#bd3786"
            ],
            [
             0.5555555555555556,
             "#d8576b"
            ],
            [
             0.6666666666666666,
             "#ed7953"
            ],
            [
             0.7777777777777778,
             "#fb9f3a"
            ],
            [
             0.8888888888888888,
             "#fdca26"
            ],
            [
             1,
             "#f0f921"
            ]
           ]
          },
          "colorway": [
           "#636efa",
           "#EF553B",
           "#00cc96",
           "#ab63fa",
           "#FFA15A",
           "#19d3f3",
           "#FF6692",
           "#B6E880",
           "#FF97FF",
           "#FECB52"
          ],
          "font": {
           "color": "#2a3f5f"
          },
          "geo": {
           "bgcolor": "white",
           "lakecolor": "white",
           "landcolor": "#E5ECF6",
           "showlakes": true,
           "showland": true,
           "subunitcolor": "white"
          },
          "hoverlabel": {
           "align": "left"
          },
          "hovermode": "closest",
          "mapbox": {
           "style": "light"
          },
          "paper_bgcolor": "white",
          "plot_bgcolor": "#E5ECF6",
          "polar": {
           "angularaxis": {
            "gridcolor": "white",
            "linecolor": "white",
            "ticks": ""
           },
           "bgcolor": "#E5ECF6",
           "radialaxis": {
            "gridcolor": "white",
            "linecolor": "white",
            "ticks": ""
           }
          },
          "scene": {
           "xaxis": {
            "backgroundcolor": "#E5ECF6",
            "gridcolor": "white",
            "gridwidth": 2,
            "linecolor": "white",
            "showbackground": true,
            "ticks": "",
            "zerolinecolor": "white"
           },
           "yaxis": {
            "backgroundcolor": "#E5ECF6",
            "gridcolor": "white",
            "gridwidth": 2,
            "linecolor": "white",
            "showbackground": true,
            "ticks": "",
            "zerolinecolor": "white"
           },
           "zaxis": {
            "backgroundcolor": "#E5ECF6",
            "gridcolor": "white",
            "gridwidth": 2,
            "linecolor": "white",
            "showbackground": true,
            "ticks": "",
            "zerolinecolor": "white"
           }
          },
          "shapedefaults": {
           "line": {
            "color": "#2a3f5f"
           }
          },
          "ternary": {
           "aaxis": {
            "gridcolor": "white",
            "linecolor": "white",
            "ticks": ""
           },
           "baxis": {
            "gridcolor": "white",
            "linecolor": "white",
            "ticks": ""
           },
           "bgcolor": "#E5ECF6",
           "caxis": {
            "gridcolor": "white",
            "linecolor": "white",
            "ticks": ""
           }
          },
          "title": {
           "x": 0.05
          },
          "xaxis": {
           "automargin": true,
           "gridcolor": "white",
           "linecolor": "white",
           "ticks": "",
           "title": {
            "standoff": 15
           },
           "zerolinecolor": "white",
           "zerolinewidth": 2
          },
          "yaxis": {
           "automargin": true,
           "gridcolor": "white",
           "linecolor": "white",
           "ticks": "",
           "title": {
            "standoff": 15
           },
           "zerolinecolor": "white",
           "zerolinewidth": 2
          }
         }
        },
        "title": {
         "text": "Total Encounters by Demographic for Citizenship: RUSSIA"
        }
       }
      }
     },
     "metadata": {},
     "output_type": "display_data"
    }
   ],
   "source": [
    "russia_encounters_by_demographic = encounters_aor_df[encounters_aor_df['Citizenship'] == 'RUSSIA'].groupby('Demographic')['Encounter Count'].sum()\n",
    "print(russia_encounters_by_demographic)\n",
    "\n",
    "# Table with results.\n",
    "import plotly.graph_objects as go\n",
    "# Prepare data for the table\n",
    "table = go.Figure(data=[go.Table(\n",
    "    header=dict(values=[\"Demographic\", \"Total Encounters\"],     \n",
    "                fill_color='paleturquoise',\n",
    "                align='left'),\n",
    "    cells=dict(values=[\n",
    "        russia_encounters_by_demographic.index,  # Demographic   \n",
    "        russia_encounters_by_demographic.values  # Total Encounters\n",
    "    ],\n",
    "    fill_color='lavender',\n",
    "    align='left'))\n",
    "])\n",
    "table.update_layout(title='Total Encounters by Demographic for Citizenship: RUSSIA')\n",
    "table.show()"
   ]
  },
  {
   "cell_type": "code",
   "execution_count": 47,
   "id": "9aad86d9",
   "metadata": {},
   "outputs": [
    {
     "data": {
      "application/vnd.plotly.v1+json": {
       "config": {
        "plotlyServerURL": "https://plot.ly"
       },
       "data": [
        {
         "hovertemplate": "Fiscal Year=2021<br>Month=%{x}<br>Total Encounters=%{y}<extra></extra>",
         "legendgroup": "2021",
         "line": {
          "color": "#636efa",
          "dash": "solid"
         },
         "marker": {
          "symbol": "circle"
         },
         "mode": "lines+markers",
         "name": "2021",
         "orientation": "v",
         "showlegend": true,
         "type": "scatter",
         "x": [
          "APR",
          "AUG",
          "DEC",
          "FEB",
          "JAN",
          "JUL",
          "JUN",
          "MAR",
          "MAY",
          "NOV",
          "OCT",
          "SEP"
         ],
         "xaxis": "x",
         "y": [
          6172,
          6436,
          371,
          1085,
          459,
          6256,
          7728,
          2740,
          7662,
          386,
          265,
          10939
         ],
         "yaxis": "y"
        },
        {
         "hovertemplate": "Fiscal Year=2022<br>Month=%{x}<br>Total Encounters=%{y}<extra></extra>",
         "legendgroup": "2022",
         "line": {
          "color": "#EF553B",
          "dash": "solid"
         },
         "marker": {
          "symbol": "circle"
         },
         "mode": "lines+markers",
         "name": "2022",
         "orientation": "v",
         "showlegend": true,
         "type": "scatter",
         "x": [
          "APR",
          "AUG",
          "DEC",
          "FEB",
          "JAN",
          "JUL",
          "JUN",
          "MAR",
          "MAY",
          "NOV",
          "OCT",
          "SEP"
         ],
         "xaxis": "x",
         "y": [
          4281,
          25532,
          24946,
          3225,
          22884,
          17811,
          13355,
          4183,
          5279,
          20549,
          13514,
          33961
         ],
         "yaxis": "y"
        },
        {
         "hovertemplate": "Fiscal Year=2023<br>Month=%{x}<br>Total Encounters=%{y}<extra></extra>",
         "legendgroup": "2023",
         "line": {
          "color": "#00cc96",
          "dash": "solid"
         },
         "marker": {
          "symbol": "circle"
         },
         "mode": "lines+markers",
         "name": "2023",
         "orientation": "v",
         "showlegend": true,
         "type": "scatter",
         "x": [
          "APR",
          "AUG",
          "DEC",
          "FEB",
          "JAN",
          "JUL",
          "JUN",
          "MAR",
          "MAY",
          "NOV",
          "OCT",
          "SEP"
         ],
         "xaxis": "x",
         "y": [
          40765,
          37908,
          13676,
          13779,
          14946,
          24002,
          26795,
          15992,
          38396,
          13644,
          22686,
          72325
         ],
         "yaxis": "y"
        },
        {
         "hovertemplate": "Fiscal Year=2024<br>Month=%{x}<br>Total Encounters=%{y}<extra></extra>",
         "legendgroup": "2024",
         "line": {
          "color": "#ab63fa",
          "dash": "solid"
         },
         "marker": {
          "symbol": "circle"
         },
         "mode": "lines+markers",
         "name": "2024",
         "orientation": "v",
         "showlegend": true,
         "type": "scatter",
         "x": [
          "APR",
          "AUG",
          "DEC",
          "FEB",
          "JAN",
          "JUL",
          "JUN",
          "MAR",
          "MAY",
          "NOV",
          "OCT",
          "SEP"
         ],
         "xaxis": "x",
         "y": [
          23182,
          16800,
          62852,
          14411,
          16505,
          18018,
          17089,
          21383,
          22116,
          39254,
          45939,
          15947
         ],
         "yaxis": "y"
        }
       ],
       "layout": {
        "legend": {
         "title": {
          "text": "Fiscal Year"
         },
         "tracegroupgap": 0
        },
        "template": {
         "data": {
          "bar": [
           {
            "error_x": {
             "color": "#2a3f5f"
            },
            "error_y": {
             "color": "#2a3f5f"
            },
            "marker": {
             "line": {
              "color": "#E5ECF6",
              "width": 0.5
             },
             "pattern": {
              "fillmode": "overlay",
              "size": 10,
              "solidity": 0.2
             }
            },
            "type": "bar"
           }
          ],
          "barpolar": [
           {
            "marker": {
             "line": {
              "color": "#E5ECF6",
              "width": 0.5
             },
             "pattern": {
              "fillmode": "overlay",
              "size": 10,
              "solidity": 0.2
             }
            },
            "type": "barpolar"
           }
          ],
          "carpet": [
           {
            "aaxis": {
             "endlinecolor": "#2a3f5f",
             "gridcolor": "white",
             "linecolor": "white",
             "minorgridcolor": "white",
             "startlinecolor": "#2a3f5f"
            },
            "baxis": {
             "endlinecolor": "#2a3f5f",
             "gridcolor": "white",
             "linecolor": "white",
             "minorgridcolor": "white",
             "startlinecolor": "#2a3f5f"
            },
            "type": "carpet"
           }
          ],
          "choropleth": [
           {
            "colorbar": {
             "outlinewidth": 0,
             "ticks": ""
            },
            "type": "choropleth"
           }
          ],
          "contour": [
           {
            "colorbar": {
             "outlinewidth": 0,
             "ticks": ""
            },
            "colorscale": [
             [
              0,
              "#0d0887"
             ],
             [
              0.1111111111111111,
              "#46039f"
             ],
             [
              0.2222222222222222,
              "#7201a8"
             ],
             [
              0.3333333333333333,
              "#9c179e"
             ],
             [
              0.4444444444444444,
              "#bd3786"
             ],
             [
              0.5555555555555556,
              "#d8576b"
             ],
             [
              0.6666666666666666,
              "#ed7953"
             ],
             [
              0.7777777777777778,
              "#fb9f3a"
             ],
             [
              0.8888888888888888,
              "#fdca26"
             ],
             [
              1,
              "#f0f921"
             ]
            ],
            "type": "contour"
           }
          ],
          "contourcarpet": [
           {
            "colorbar": {
             "outlinewidth": 0,
             "ticks": ""
            },
            "type": "contourcarpet"
           }
          ],
          "heatmap": [
           {
            "colorbar": {
             "outlinewidth": 0,
             "ticks": ""
            },
            "colorscale": [
             [
              0,
              "#0d0887"
             ],
             [
              0.1111111111111111,
              "#46039f"
             ],
             [
              0.2222222222222222,
              "#7201a8"
             ],
             [
              0.3333333333333333,
              "#9c179e"
             ],
             [
              0.4444444444444444,
              "#bd3786"
             ],
             [
              0.5555555555555556,
              "#d8576b"
             ],
             [
              0.6666666666666666,
              "#ed7953"
             ],
             [
              0.7777777777777778,
              "#fb9f3a"
             ],
             [
              0.8888888888888888,
              "#fdca26"
             ],
             [
              1,
              "#f0f921"
             ]
            ],
            "type": "heatmap"
           }
          ],
          "heatmapgl": [
           {
            "colorbar": {
             "outlinewidth": 0,
             "ticks": ""
            },
            "colorscale": [
             [
              0,
              "#0d0887"
             ],
             [
              0.1111111111111111,
              "#46039f"
             ],
             [
              0.2222222222222222,
              "#7201a8"
             ],
             [
              0.3333333333333333,
              "#9c179e"
             ],
             [
              0.4444444444444444,
              "#bd3786"
             ],
             [
              0.5555555555555556,
              "#d8576b"
             ],
             [
              0.6666666666666666,
              "#ed7953"
             ],
             [
              0.7777777777777778,
              "#fb9f3a"
             ],
             [
              0.8888888888888888,
              "#fdca26"
             ],
             [
              1,
              "#f0f921"
             ]
            ],
            "type": "heatmapgl"
           }
          ],
          "histogram": [
           {
            "marker": {
             "pattern": {
              "fillmode": "overlay",
              "size": 10,
              "solidity": 0.2
             }
            },
            "type": "histogram"
           }
          ],
          "histogram2d": [
           {
            "colorbar": {
             "outlinewidth": 0,
             "ticks": ""
            },
            "colorscale": [
             [
              0,
              "#0d0887"
             ],
             [
              0.1111111111111111,
              "#46039f"
             ],
             [
              0.2222222222222222,
              "#7201a8"
             ],
             [
              0.3333333333333333,
              "#9c179e"
             ],
             [
              0.4444444444444444,
              "#bd3786"
             ],
             [
              0.5555555555555556,
              "#d8576b"
             ],
             [
              0.6666666666666666,
              "#ed7953"
             ],
             [
              0.7777777777777778,
              "#fb9f3a"
             ],
             [
              0.8888888888888888,
              "#fdca26"
             ],
             [
              1,
              "#f0f921"
             ]
            ],
            "type": "histogram2d"
           }
          ],
          "histogram2dcontour": [
           {
            "colorbar": {
             "outlinewidth": 0,
             "ticks": ""
            },
            "colorscale": [
             [
              0,
              "#0d0887"
             ],
             [
              0.1111111111111111,
              "#46039f"
             ],
             [
              0.2222222222222222,
              "#7201a8"
             ],
             [
              0.3333333333333333,
              "#9c179e"
             ],
             [
              0.4444444444444444,
              "#bd3786"
             ],
             [
              0.5555555555555556,
              "#d8576b"
             ],
             [
              0.6666666666666666,
              "#ed7953"
             ],
             [
              0.7777777777777778,
              "#fb9f3a"
             ],
             [
              0.8888888888888888,
              "#fdca26"
             ],
             [
              1,
              "#f0f921"
             ]
            ],
            "type": "histogram2dcontour"
           }
          ],
          "mesh3d": [
           {
            "colorbar": {
             "outlinewidth": 0,
             "ticks": ""
            },
            "type": "mesh3d"
           }
          ],
          "parcoords": [
           {
            "line": {
             "colorbar": {
              "outlinewidth": 0,
              "ticks": ""
             }
            },
            "type": "parcoords"
           }
          ],
          "pie": [
           {
            "automargin": true,
            "type": "pie"
           }
          ],
          "scatter": [
           {
            "fillpattern": {
             "fillmode": "overlay",
             "size": 10,
             "solidity": 0.2
            },
            "type": "scatter"
           }
          ],
          "scatter3d": [
           {
            "line": {
             "colorbar": {
              "outlinewidth": 0,
              "ticks": ""
             }
            },
            "marker": {
             "colorbar": {
              "outlinewidth": 0,
              "ticks": ""
             }
            },
            "type": "scatter3d"
           }
          ],
          "scattercarpet": [
           {
            "marker": {
             "colorbar": {
              "outlinewidth": 0,
              "ticks": ""
             }
            },
            "type": "scattercarpet"
           }
          ],
          "scattergeo": [
           {
            "marker": {
             "colorbar": {
              "outlinewidth": 0,
              "ticks": ""
             }
            },
            "type": "scattergeo"
           }
          ],
          "scattergl": [
           {
            "marker": {
             "colorbar": {
              "outlinewidth": 0,
              "ticks": ""
             }
            },
            "type": "scattergl"
           }
          ],
          "scattermapbox": [
           {
            "marker": {
             "colorbar": {
              "outlinewidth": 0,
              "ticks": ""
             }
            },
            "type": "scattermapbox"
           }
          ],
          "scatterpolar": [
           {
            "marker": {
             "colorbar": {
              "outlinewidth": 0,
              "ticks": ""
             }
            },
            "type": "scatterpolar"
           }
          ],
          "scatterpolargl": [
           {
            "marker": {
             "colorbar": {
              "outlinewidth": 0,
              "ticks": ""
             }
            },
            "type": "scatterpolargl"
           }
          ],
          "scatterternary": [
           {
            "marker": {
             "colorbar": {
              "outlinewidth": 0,
              "ticks": ""
             }
            },
            "type": "scatterternary"
           }
          ],
          "surface": [
           {
            "colorbar": {
             "outlinewidth": 0,
             "ticks": ""
            },
            "colorscale": [
             [
              0,
              "#0d0887"
             ],
             [
              0.1111111111111111,
              "#46039f"
             ],
             [
              0.2222222222222222,
              "#7201a8"
             ],
             [
              0.3333333333333333,
              "#9c179e"
             ],
             [
              0.4444444444444444,
              "#bd3786"
             ],
             [
              0.5555555555555556,
              "#d8576b"
             ],
             [
              0.6666666666666666,
              "#ed7953"
             ],
             [
              0.7777777777777778,
              "#fb9f3a"
             ],
             [
              0.8888888888888888,
              "#fdca26"
             ],
             [
              1,
              "#f0f921"
             ]
            ],
            "type": "surface"
           }
          ],
          "table": [
           {
            "cells": {
             "fill": {
              "color": "#EBF0F8"
             },
             "line": {
              "color": "white"
             }
            },
            "header": {
             "fill": {
              "color": "#C8D4E3"
             },
             "line": {
              "color": "white"
             }
            },
            "type": "table"
           }
          ]
         },
         "layout": {
          "annotationdefaults": {
           "arrowcolor": "#2a3f5f",
           "arrowhead": 0,
           "arrowwidth": 1
          },
          "autotypenumbers": "strict",
          "coloraxis": {
           "colorbar": {
            "outlinewidth": 0,
            "ticks": ""
           }
          },
          "colorscale": {
           "diverging": [
            [
             0,
             "#8e0152"
            ],
            [
             0.1,
             "#c51b7d"
            ],
            [
             0.2,
             "#de77ae"
            ],
            [
             0.3,
             "#f1b6da"
            ],
            [
             0.4,
             "#fde0ef"
            ],
            [
             0.5,
             "#f7f7f7"
            ],
            [
             0.6,
             "#e6f5d0"
            ],
            [
             0.7,
             "#b8e186"
            ],
            [
             0.8,
             "#7fbc41"
            ],
            [
             0.9,
             "#4d9221"
            ],
            [
             1,
             "#276419"
            ]
           ],
           "sequential": [
            [
             0,
             "#0d0887"
            ],
            [
             0.1111111111111111,
             "#46039f"
            ],
            [
             0.2222222222222222,
             "#7201a8"
            ],
            [
             0.3333333333333333,
             "#9c179e"
            ],
            [
             0.4444444444444444,
             "#bd3786"
            ],
            [
             0.5555555555555556,
             "#d8576b"
            ],
            [
             0.6666666666666666,
             "#ed7953"
            ],
            [
             0.7777777777777778,
             "#fb9f3a"
            ],
            [
             0.8888888888888888,
             "#fdca26"
            ],
            [
             1,
             "#f0f921"
            ]
           ],
           "sequentialminus": [
            [
             0,
             "#0d0887"
            ],
            [
             0.1111111111111111,
             "#46039f"
            ],
            [
             0.2222222222222222,
             "#7201a8"
            ],
            [
             0.3333333333333333,
             "#9c179e"
            ],
            [
             0.4444444444444444,
             "#bd3786"
            ],
            [
             0.5555555555555556,
             "#d8576b"
            ],
            [
             0.6666666666666666,
             "#ed7953"
            ],
            [
             0.7777777777777778,
             "#fb9f3a"
            ],
            [
             0.8888888888888888,
             "#fdca26"
            ],
            [
             1,
             "#f0f921"
            ]
           ]
          },
          "colorway": [
           "#636efa",
           "#EF553B",
           "#00cc96",
           "#ab63fa",
           "#FFA15A",
           "#19d3f3",
           "#FF6692",
           "#B6E880",
           "#FF97FF",
           "#FECB52"
          ],
          "font": {
           "color": "#2a3f5f"
          },
          "geo": {
           "bgcolor": "white",
           "lakecolor": "white",
           "landcolor": "#E5ECF6",
           "showlakes": true,
           "showland": true,
           "subunitcolor": "white"
          },
          "hoverlabel": {
           "align": "left"
          },
          "hovermode": "closest",
          "mapbox": {
           "style": "light"
          },
          "paper_bgcolor": "white",
          "plot_bgcolor": "#E5ECF6",
          "polar": {
           "angularaxis": {
            "gridcolor": "white",
            "linecolor": "white",
            "ticks": ""
           },
           "bgcolor": "#E5ECF6",
           "radialaxis": {
            "gridcolor": "white",
            "linecolor": "white",
            "ticks": ""
           }
          },
          "scene": {
           "xaxis": {
            "backgroundcolor": "#E5ECF6",
            "gridcolor": "white",
            "gridwidth": 2,
            "linecolor": "white",
            "showbackground": true,
            "ticks": "",
            "zerolinecolor": "white"
           },
           "yaxis": {
            "backgroundcolor": "#E5ECF6",
            "gridcolor": "white",
            "gridwidth": 2,
            "linecolor": "white",
            "showbackground": true,
            "ticks": "",
            "zerolinecolor": "white"
           },
           "zaxis": {
            "backgroundcolor": "#E5ECF6",
            "gridcolor": "white",
            "gridwidth": 2,
            "linecolor": "white",
            "showbackground": true,
            "ticks": "",
            "zerolinecolor": "white"
           }
          },
          "shapedefaults": {
           "line": {
            "color": "#2a3f5f"
           }
          },
          "ternary": {
           "aaxis": {
            "gridcolor": "white",
            "linecolor": "white",
            "ticks": ""
           },
           "baxis": {
            "gridcolor": "white",
            "linecolor": "white",
            "ticks": ""
           },
           "bgcolor": "#E5ECF6",
           "caxis": {
            "gridcolor": "white",
            "linecolor": "white",
            "ticks": ""
           }
          },
          "title": {
           "x": 0.05
          },
          "xaxis": {
           "automargin": true,
           "gridcolor": "white",
           "linecolor": "white",
           "ticks": "",
           "title": {
            "standoff": 15
           },
           "zerolinecolor": "white",
           "zerolinewidth": 2
          },
          "yaxis": {
           "automargin": true,
           "gridcolor": "white",
           "linecolor": "white",
           "ticks": "",
           "title": {
            "standoff": 15
           },
           "zerolinecolor": "white",
           "zerolinewidth": 2
          }
         }
        },
        "title": {
         "text": "Trend Line of Total Encounters by Month for Citizenship: Venezuela"
        },
        "xaxis": {
         "anchor": "y",
         "domain": [
          0,
          1
         ],
         "title": {
          "text": "Month"
         }
        },
        "yaxis": {
         "anchor": "x",
         "domain": [
          0,
          1
         ],
         "title": {
          "text": "Total Encounters"
         }
        }
       }
      }
     },
     "metadata": {},
     "output_type": "display_data"
    }
   ],
   "source": [
    "# Create a trend line graph for the Sum of Encounter by Fiscal Year and Month for Citizenship == 'VENEZUELA'. Add sum of Encounter Count to the table.\n",
    "venezuela_encounters = encounters_aor_df[encounters_aor_df['Citizenship'] == 'VENEZUELA']\n",
    "venezuela_encounters_by_year_month = venezuela_encounters.groupby(['Fiscal Year', 'Month'])['Encounter Count'].sum().unstack(fill_value=0)\n",
    "fig = px.line(venezuela_encounters_by_year_month.reset_index().melt(id_vars='Fiscal Year', var_name='Month', value_name='Encounter Count'),\n",
    "              x='Month', y='Encounter Count', color='Fiscal Year',\n",
    "              title='Trend Line of Total Encounters by Month for Citizenship: Venezuela',\n",
    "              labels={'Encounter Count': 'Total Encounters', 'Month': 'Month'})\n",
    "fig.update_traces(mode='lines+markers')\n",
    "fig.update_layout(yaxis_title='Total Encounters', xaxis_title='Month')\n",
    "fig.show()"
   ]
  },
  {
   "cell_type": "code",
   "execution_count": 64,
   "id": "87fe725f",
   "metadata": {},
   "outputs": [
    {
     "data": {
      "application/vnd.plotly.v1+json": {
       "config": {
        "plotlyServerURL": "https://plot.ly"
       },
       "data": [
        {
         "cells": {
          "align": "left",
          "fill": {
           "color": "lavender"
          },
          "values": [
           [
            2021,
            2021,
            2021,
            2021,
            2021,
            2021,
            2021,
            2021,
            2021,
            2021,
            2021,
            2021,
            2022,
            2022,
            2022,
            2022,
            2022,
            2022,
            2022,
            2022,
            2022,
            2022,
            2022,
            2022,
            2023,
            2023,
            2023,
            2023,
            2023,
            2023,
            2023,
            2023,
            2023,
            2023,
            2023,
            2023,
            2024,
            2024,
            2024,
            2024,
            2024,
            2024,
            2024,
            2024,
            2024,
            2024,
            2024,
            2024
           ],
           [
            "APR",
            "AUG",
            "DEC",
            "FEB",
            "JAN",
            "JUL",
            "JUN",
            "MAR",
            "MAY",
            "NOV",
            "OCT",
            "SEP",
            "APR",
            "AUG",
            "DEC",
            "FEB",
            "JAN",
            "JUL",
            "JUN",
            "MAR",
            "MAY",
            "NOV",
            "OCT",
            "SEP",
            "APR",
            "AUG",
            "DEC",
            "FEB",
            "JAN",
            "JUL",
            "JUN",
            "MAR",
            "MAY",
            "NOV",
            "OCT",
            "SEP",
            "APR",
            "AUG",
            "DEC",
            "FEB",
            "JAN",
            "JUL",
            "JUN",
            "MAR",
            "MAY",
            "NOV",
            "OCT",
            "SEP"
           ],
           [
            6172,
            6436,
            371,
            1085,
            459,
            6256,
            7728,
            2740,
            7662,
            386,
            265,
            10939,
            4281,
            25532,
            24946,
            3225,
            22884,
            17811,
            13355,
            4183,
            5279,
            20549,
            13514,
            33961,
            40765,
            37908,
            13676,
            13779,
            14946,
            24002,
            26795,
            15992,
            38396,
            13644,
            22686,
            72325,
            23182,
            16800,
            62852,
            14411,
            16505,
            18018,
            17089,
            21383,
            22116,
            39254,
            45939,
            15947
           ],
           [
            108.28,
            121.43,
            8.43,
            20.87,
            10.2,
            115.85,
            145.81,
            54.8,
            134.42,
            9.41,
            8.28,
            223.24,
            89.19,
            418.56,
            422.81,
            70.11,
            408.64,
            274.02,
            234.3,
            82.02,
            99.6,
            373.62,
            270.28,
            556.74,
            399.66,
            486,
            150.29,
            154.82,
            171.79,
            307.72,
            362.09,
            158.34,
            380.16,
            133.76,
            280.07,
            964.33,
            293.44,
            240,
            775.95,
            194.74,
            206.31,
            240.24,
            221.94,
            267.29,
            283.54,
            503.26,
            546.89,
            224.61
           ],
           [
            6,
            4,
            3,
            3.5,
            4,
            6.5,
            9,
            5,
            6,
            3,
            4.5,
            4,
            5,
            7,
            7,
            5,
            4.5,
            6,
            6,
            3,
            4,
            6,
            3.5,
            7,
            15.5,
            29.5,
            17,
            9,
            15,
            24.5,
            22.5,
            10,
            21,
            15,
            13,
            33,
            14,
            14.5,
            21,
            18.5,
            12.5,
            15,
            14,
            17,
            22.5,
            17.5,
            17.5,
            8
           ],
           [
            335.71,
            405.27,
            13.27,
            43.54,
            14.44,
            386.68,
            484.32,
            130.91,
            507.7,
            15.83,
            12.04,
            680.36,
            314.31,
            1815.89,
            1330.32,
            210.83,
            1330.64,
            1318.47,
            1102.66,
            304.93,
            381.01,
            1186.42,
            852.36,
            2243.22,
            1191.94,
            1158.42,
            361.95,
            475.81,
            484.71,
            772.43,
            1001.1,
            445.88,
            1268.63,
            366.66,
            1095.51,
            2723.71,
            741.58,
            674.08,
            2457.35,
            428.02,
            459.23,
            597.4,
            517.67,
            665.48,
            631.64,
            1244.86,
            1457.13,
            675.88
           ],
           [
            112703.49,
            164246.52,
            176.11,
            1896.12,
            208.57,
            149518.17,
            234570.54,
            17137.1,
            257757.68,
            250.6,
            145.05,
            462895.06,
            98791.35,
            3297451.65,
            1769740.15,
            44448.85,
            1770608.96,
            1738352.89,
            1215867.75,
            92984.14,
            145171.67,
            1407597.65,
            726513.92,
            5032047.13,
            1420710.33,
            1341942.34,
            131005.43,
            226392.01,
            234947.58,
            596640.72,
            1002192.25,
            198809.37,
            1609429.23,
            134436.97,
            1200138.49,
            7418597.33,
            549946.22,
            454385.25,
            6038561.62,
            183198.88,
            210895.61,
            356890.08,
            267978.43,
            442857.5,
            398968.95,
            1549684.71,
            2123218.19,
            456813.47
           ],
           [
            1967,
            2069,
            66,
            212,
            62,
            2012,
            2740,
            609,
            3104,
            86,
            57,
            2853,
            1939,
            13168,
            5919,
            1145,
            6120,
            9824,
            7903,
            1933,
            2479,
            5699,
            3730,
            14644,
            7103,
            6686,
            2094,
            3488,
            2674,
            4838,
            5885,
            2929,
            9821,
            2132,
            7913,
            14419,
            4430,
            3629,
            17287,
            2233,
            2046,
            2897,
            2494,
            3641,
            2857,
            6956,
            7837,
            3569
           ],
           [
            1,
            1,
            1,
            1,
            1,
            1,
            1,
            1,
            1,
            1,
            1,
            1,
            1,
            1,
            1,
            1,
            1,
            1,
            1,
            1,
            1,
            1,
            1,
            1,
            1,
            1,
            1,
            1,
            1,
            1,
            1,
            1,
            1,
            1,
            1,
            1,
            1,
            1,
            1,
            1,
            1,
            1,
            1,
            1,
            1,
            1,
            1,
            1
           ]
          ]
         },
         "header": {
          "align": "left",
          "fill": {
           "color": "paleturquoise"
          },
          "values": [
           "Fiscal Year",
           "Month",
           "Sum",
           "Mean",
           "Median",
           "Standard Deviation",
           "Variance",
           "Max",
           "Min"
          ]
         },
         "type": "table"
        }
       ],
       "layout": {
        "template": {
         "data": {
          "bar": [
           {
            "error_x": {
             "color": "#2a3f5f"
            },
            "error_y": {
             "color": "#2a3f5f"
            },
            "marker": {
             "line": {
              "color": "#E5ECF6",
              "width": 0.5
             },
             "pattern": {
              "fillmode": "overlay",
              "size": 10,
              "solidity": 0.2
             }
            },
            "type": "bar"
           }
          ],
          "barpolar": [
           {
            "marker": {
             "line": {
              "color": "#E5ECF6",
              "width": 0.5
             },
             "pattern": {
              "fillmode": "overlay",
              "size": 10,
              "solidity": 0.2
             }
            },
            "type": "barpolar"
           }
          ],
          "carpet": [
           {
            "aaxis": {
             "endlinecolor": "#2a3f5f",
             "gridcolor": "white",
             "linecolor": "white",
             "minorgridcolor": "white",
             "startlinecolor": "#2a3f5f"
            },
            "baxis": {
             "endlinecolor": "#2a3f5f",
             "gridcolor": "white",
             "linecolor": "white",
             "minorgridcolor": "white",
             "startlinecolor": "#2a3f5f"
            },
            "type": "carpet"
           }
          ],
          "choropleth": [
           {
            "colorbar": {
             "outlinewidth": 0,
             "ticks": ""
            },
            "type": "choropleth"
           }
          ],
          "contour": [
           {
            "colorbar": {
             "outlinewidth": 0,
             "ticks": ""
            },
            "colorscale": [
             [
              0,
              "#0d0887"
             ],
             [
              0.1111111111111111,
              "#46039f"
             ],
             [
              0.2222222222222222,
              "#7201a8"
             ],
             [
              0.3333333333333333,
              "#9c179e"
             ],
             [
              0.4444444444444444,
              "#bd3786"
             ],
             [
              0.5555555555555556,
              "#d8576b"
             ],
             [
              0.6666666666666666,
              "#ed7953"
             ],
             [
              0.7777777777777778,
              "#fb9f3a"
             ],
             [
              0.8888888888888888,
              "#fdca26"
             ],
             [
              1,
              "#f0f921"
             ]
            ],
            "type": "contour"
           }
          ],
          "contourcarpet": [
           {
            "colorbar": {
             "outlinewidth": 0,
             "ticks": ""
            },
            "type": "contourcarpet"
           }
          ],
          "heatmap": [
           {
            "colorbar": {
             "outlinewidth": 0,
             "ticks": ""
            },
            "colorscale": [
             [
              0,
              "#0d0887"
             ],
             [
              0.1111111111111111,
              "#46039f"
             ],
             [
              0.2222222222222222,
              "#7201a8"
             ],
             [
              0.3333333333333333,
              "#9c179e"
             ],
             [
              0.4444444444444444,
              "#bd3786"
             ],
             [
              0.5555555555555556,
              "#d8576b"
             ],
             [
              0.6666666666666666,
              "#ed7953"
             ],
             [
              0.7777777777777778,
              "#fb9f3a"
             ],
             [
              0.8888888888888888,
              "#fdca26"
             ],
             [
              1,
              "#f0f921"
             ]
            ],
            "type": "heatmap"
           }
          ],
          "heatmapgl": [
           {
            "colorbar": {
             "outlinewidth": 0,
             "ticks": ""
            },
            "colorscale": [
             [
              0,
              "#0d0887"
             ],
             [
              0.1111111111111111,
              "#46039f"
             ],
             [
              0.2222222222222222,
              "#7201a8"
             ],
             [
              0.3333333333333333,
              "#9c179e"
             ],
             [
              0.4444444444444444,
              "#bd3786"
             ],
             [
              0.5555555555555556,
              "#d8576b"
             ],
             [
              0.6666666666666666,
              "#ed7953"
             ],
             [
              0.7777777777777778,
              "#fb9f3a"
             ],
             [
              0.8888888888888888,
              "#fdca26"
             ],
             [
              1,
              "#f0f921"
             ]
            ],
            "type": "heatmapgl"
           }
          ],
          "histogram": [
           {
            "marker": {
             "pattern": {
              "fillmode": "overlay",
              "size": 10,
              "solidity": 0.2
             }
            },
            "type": "histogram"
           }
          ],
          "histogram2d": [
           {
            "colorbar": {
             "outlinewidth": 0,
             "ticks": ""
            },
            "colorscale": [
             [
              0,
              "#0d0887"
             ],
             [
              0.1111111111111111,
              "#46039f"
             ],
             [
              0.2222222222222222,
              "#7201a8"
             ],
             [
              0.3333333333333333,
              "#9c179e"
             ],
             [
              0.4444444444444444,
              "#bd3786"
             ],
             [
              0.5555555555555556,
              "#d8576b"
             ],
             [
              0.6666666666666666,
              "#ed7953"
             ],
             [
              0.7777777777777778,
              "#fb9f3a"
             ],
             [
              0.8888888888888888,
              "#fdca26"
             ],
             [
              1,
              "#f0f921"
             ]
            ],
            "type": "histogram2d"
           }
          ],
          "histogram2dcontour": [
           {
            "colorbar": {
             "outlinewidth": 0,
             "ticks": ""
            },
            "colorscale": [
             [
              0,
              "#0d0887"
             ],
             [
              0.1111111111111111,
              "#46039f"
             ],
             [
              0.2222222222222222,
              "#7201a8"
             ],
             [
              0.3333333333333333,
              "#9c179e"
             ],
             [
              0.4444444444444444,
              "#bd3786"
             ],
             [
              0.5555555555555556,
              "#d8576b"
             ],
             [
              0.6666666666666666,
              "#ed7953"
             ],
             [
              0.7777777777777778,
              "#fb9f3a"
             ],
             [
              0.8888888888888888,
              "#fdca26"
             ],
             [
              1,
              "#f0f921"
             ]
            ],
            "type": "histogram2dcontour"
           }
          ],
          "mesh3d": [
           {
            "colorbar": {
             "outlinewidth": 0,
             "ticks": ""
            },
            "type": "mesh3d"
           }
          ],
          "parcoords": [
           {
            "line": {
             "colorbar": {
              "outlinewidth": 0,
              "ticks": ""
             }
            },
            "type": "parcoords"
           }
          ],
          "pie": [
           {
            "automargin": true,
            "type": "pie"
           }
          ],
          "scatter": [
           {
            "fillpattern": {
             "fillmode": "overlay",
             "size": 10,
             "solidity": 0.2
            },
            "type": "scatter"
           }
          ],
          "scatter3d": [
           {
            "line": {
             "colorbar": {
              "outlinewidth": 0,
              "ticks": ""
             }
            },
            "marker": {
             "colorbar": {
              "outlinewidth": 0,
              "ticks": ""
             }
            },
            "type": "scatter3d"
           }
          ],
          "scattercarpet": [
           {
            "marker": {
             "colorbar": {
              "outlinewidth": 0,
              "ticks": ""
             }
            },
            "type": "scattercarpet"
           }
          ],
          "scattergeo": [
           {
            "marker": {
             "colorbar": {
              "outlinewidth": 0,
              "ticks": ""
             }
            },
            "type": "scattergeo"
           }
          ],
          "scattergl": [
           {
            "marker": {
             "colorbar": {
              "outlinewidth": 0,
              "ticks": ""
             }
            },
            "type": "scattergl"
           }
          ],
          "scattermapbox": [
           {
            "marker": {
             "colorbar": {
              "outlinewidth": 0,
              "ticks": ""
             }
            },
            "type": "scattermapbox"
           }
          ],
          "scatterpolar": [
           {
            "marker": {
             "colorbar": {
              "outlinewidth": 0,
              "ticks": ""
             }
            },
            "type": "scatterpolar"
           }
          ],
          "scatterpolargl": [
           {
            "marker": {
             "colorbar": {
              "outlinewidth": 0,
              "ticks": ""
             }
            },
            "type": "scatterpolargl"
           }
          ],
          "scatterternary": [
           {
            "marker": {
             "colorbar": {
              "outlinewidth": 0,
              "ticks": ""
             }
            },
            "type": "scatterternary"
           }
          ],
          "surface": [
           {
            "colorbar": {
             "outlinewidth": 0,
             "ticks": ""
            },
            "colorscale": [
             [
              0,
              "#0d0887"
             ],
             [
              0.1111111111111111,
              "#46039f"
             ],
             [
              0.2222222222222222,
              "#7201a8"
             ],
             [
              0.3333333333333333,
              "#9c179e"
             ],
             [
              0.4444444444444444,
              "#bd3786"
             ],
             [
              0.5555555555555556,
              "#d8576b"
             ],
             [
              0.6666666666666666,
              "#ed7953"
             ],
             [
              0.7777777777777778,
              "#fb9f3a"
             ],
             [
              0.8888888888888888,
              "#fdca26"
             ],
             [
              1,
              "#f0f921"
             ]
            ],
            "type": "surface"
           }
          ],
          "table": [
           {
            "cells": {
             "fill": {
              "color": "#EBF0F8"
             },
             "line": {
              "color": "white"
             }
            },
            "header": {
             "fill": {
              "color": "#C8D4E3"
             },
             "line": {
              "color": "white"
             }
            },
            "type": "table"
           }
          ]
         },
         "layout": {
          "annotationdefaults": {
           "arrowcolor": "#2a3f5f",
           "arrowhead": 0,
           "arrowwidth": 1
          },
          "autotypenumbers": "strict",
          "coloraxis": {
           "colorbar": {
            "outlinewidth": 0,
            "ticks": ""
           }
          },
          "colorscale": {
           "diverging": [
            [
             0,
             "#8e0152"
            ],
            [
             0.1,
             "#c51b7d"
            ],
            [
             0.2,
             "#de77ae"
            ],
            [
             0.3,
             "#f1b6da"
            ],
            [
             0.4,
             "#fde0ef"
            ],
            [
             0.5,
             "#f7f7f7"
            ],
            [
             0.6,
             "#e6f5d0"
            ],
            [
             0.7,
             "#b8e186"
            ],
            [
             0.8,
             "#7fbc41"
            ],
            [
             0.9,
             "#4d9221"
            ],
            [
             1,
             "#276419"
            ]
           ],
           "sequential": [
            [
             0,
             "#0d0887"
            ],
            [
             0.1111111111111111,
             "#46039f"
            ],
            [
             0.2222222222222222,
             "#7201a8"
            ],
            [
             0.3333333333333333,
             "#9c179e"
            ],
            [
             0.4444444444444444,
             "#bd3786"
            ],
            [
             0.5555555555555556,
             "#d8576b"
            ],
            [
             0.6666666666666666,
             "#ed7953"
            ],
            [
             0.7777777777777778,
             "#fb9f3a"
            ],
            [
             0.8888888888888888,
             "#fdca26"
            ],
            [
             1,
             "#f0f921"
            ]
           ],
           "sequentialminus": [
            [
             0,
             "#0d0887"
            ],
            [
             0.1111111111111111,
             "#46039f"
            ],
            [
             0.2222222222222222,
             "#7201a8"
            ],
            [
             0.3333333333333333,
             "#9c179e"
            ],
            [
             0.4444444444444444,
             "#bd3786"
            ],
            [
             0.5555555555555556,
             "#d8576b"
            ],
            [
             0.6666666666666666,
             "#ed7953"
            ],
            [
             0.7777777777777778,
             "#fb9f3a"
            ],
            [
             0.8888888888888888,
             "#fdca26"
            ],
            [
             1,
             "#f0f921"
            ]
           ]
          },
          "colorway": [
           "#636efa",
           "#EF553B",
           "#00cc96",
           "#ab63fa",
           "#FFA15A",
           "#19d3f3",
           "#FF6692",
           "#B6E880",
           "#FF97FF",
           "#FECB52"
          ],
          "font": {
           "color": "#2a3f5f"
          },
          "geo": {
           "bgcolor": "white",
           "lakecolor": "white",
           "landcolor": "#E5ECF6",
           "showlakes": true,
           "showland": true,
           "subunitcolor": "white"
          },
          "hoverlabel": {
           "align": "left"
          },
          "hovermode": "closest",
          "mapbox": {
           "style": "light"
          },
          "paper_bgcolor": "white",
          "plot_bgcolor": "#E5ECF6",
          "polar": {
           "angularaxis": {
            "gridcolor": "white",
            "linecolor": "white",
            "ticks": ""
           },
           "bgcolor": "#E5ECF6",
           "radialaxis": {
            "gridcolor": "white",
            "linecolor": "white",
            "ticks": ""
           }
          },
          "scene": {
           "xaxis": {
            "backgroundcolor": "#E5ECF6",
            "gridcolor": "white",
            "gridwidth": 2,
            "linecolor": "white",
            "showbackground": true,
            "ticks": "",
            "zerolinecolor": "white"
           },
           "yaxis": {
            "backgroundcolor": "#E5ECF6",
            "gridcolor": "white",
            "gridwidth": 2,
            "linecolor": "white",
            "showbackground": true,
            "ticks": "",
            "zerolinecolor": "white"
           },
           "zaxis": {
            "backgroundcolor": "#E5ECF6",
            "gridcolor": "white",
            "gridwidth": 2,
            "linecolor": "white",
            "showbackground": true,
            "ticks": "",
            "zerolinecolor": "white"
           }
          },
          "shapedefaults": {
           "line": {
            "color": "#2a3f5f"
           }
          },
          "ternary": {
           "aaxis": {
            "gridcolor": "white",
            "linecolor": "white",
            "ticks": ""
           },
           "baxis": {
            "gridcolor": "white",
            "linecolor": "white",
            "ticks": ""
           },
           "bgcolor": "#E5ECF6",
           "caxis": {
            "gridcolor": "white",
            "linecolor": "white",
            "ticks": ""
           }
          },
          "title": {
           "x": 0.05
          },
          "xaxis": {
           "automargin": true,
           "gridcolor": "white",
           "linecolor": "white",
           "ticks": "",
           "title": {
            "standoff": 15
           },
           "zerolinecolor": "white",
           "zerolinewidth": 2
          },
          "yaxis": {
           "automargin": true,
           "gridcolor": "white",
           "linecolor": "white",
           "ticks": "",
           "title": {
            "standoff": 15
           },
           "zerolinecolor": "white",
           "zerolinewidth": 2
          }
         }
        },
        "title": {
         "text": "Encounter Count Statistics for Citizenship: VENEZUELA by Fiscal Year"
        }
       }
      }
     },
     "metadata": {},
     "output_type": "display_data"
    }
   ],
   "source": [
    "#Create a statistics table for the Sum of Encounter Count by Fiscal Year for Citizenship == 'VENEZUELA'. Add mean, median, standard deviation, variance, max, min to the table. Do not add month.\n",
    "venezuela_encounters_stats = venezuela_encounters.groupby(['Fiscal Year', 'Month'])['Encounter Count'].agg(['sum', 'mean', 'median', 'std', 'var', 'max', 'min']).reset_index()\n",
    "venezuela_encounters_stats.columns = ['Fiscal Year', 'Month', 'Sum', 'Mean', 'Median', 'Standard Deviation', 'Variance', 'Max', 'Min']\n",
    "import plotly.graph_objects as go\n",
    "# Prepare data for the table\n",
    "table = go.Figure(data=[go.Table(\n",
    "    header=dict(values=[\"Fiscal Year\", \"Month\", \"Sum\", \"Mean\", \"Median\", \"Standard Deviation\", \"Variance\", \"Max\", \"Min\"],\n",
    "                fill_color='paleturquoise',\n",
    "                align='left'),\n",
    "    cells=dict(values=[\n",
    "        venezuela_encounters_stats['Fiscal Year'],  # Fiscal Year\n",
    "        venezuela_encounters_stats['Month'],  # Month\n",
    "        venezuela_encounters_stats['Sum'],  # Sum\n",
    "        venezuela_encounters_stats['Mean'].round(2),  # Mean\n",
    "        venezuela_encounters_stats['Median'].round(2),  # Median\n",
    "        venezuela_encounters_stats['Standard Deviation'].round(2),  # Standard Deviation\n",
    "        venezuela_encounters_stats['Variance'].round(2),  # Variance\n",
    "        venezuela_encounters_stats['Max'],  # Max\n",
    "        venezuela_encounters_stats['Min']  # Min\n",
    "    ],\n",
    "    fill_color='lavender',\n",
    "    align='left'))\n",
    "])\n",
    "table.update_layout(title='Encounter Count Statistics for Citizenship: VENEZUELA by Fiscal Year')\n",
    "table.show()"
   ]
  },
  {
   "cell_type": "code",
   "execution_count": 49,
   "id": "a22e42c1",
   "metadata": {},
   "outputs": [
    {
     "name": "stdout",
     "output_type": "stream",
     "text": [
      "Demographic\n",
      "Accompanied Minors       681\n",
      "FMUA                  352367\n",
      "Single Adults         527671\n",
      "UC / Single Minors      7710\n",
      "Name: Encounter Count, dtype: int64\n"
     ]
    },
    {
     "data": {
      "application/vnd.plotly.v1+json": {
       "config": {
        "plotlyServerURL": "https://plot.ly"
       },
       "data": [
        {
         "cells": {
          "align": "left",
          "fill": {
           "color": "lavender"
          },
          "values": [
           [
            "Accompanied Minors",
            "FMUA",
            "Single Adults",
            "UC / Single Minors"
           ],
           [
            681,
            352367,
            527671,
            7710
           ]
          ]
         },
         "header": {
          "align": "left",
          "fill": {
           "color": "paleturquoise"
          },
          "values": [
           "Demographic",
           "Total Encounters"
          ]
         },
         "type": "table"
        }
       ],
       "layout": {
        "template": {
         "data": {
          "bar": [
           {
            "error_x": {
             "color": "#2a3f5f"
            },
            "error_y": {
             "color": "#2a3f5f"
            },
            "marker": {
             "line": {
              "color": "#E5ECF6",
              "width": 0.5
             },
             "pattern": {
              "fillmode": "overlay",
              "size": 10,
              "solidity": 0.2
             }
            },
            "type": "bar"
           }
          ],
          "barpolar": [
           {
            "marker": {
             "line": {
              "color": "#E5ECF6",
              "width": 0.5
             },
             "pattern": {
              "fillmode": "overlay",
              "size": 10,
              "solidity": 0.2
             }
            },
            "type": "barpolar"
           }
          ],
          "carpet": [
           {
            "aaxis": {
             "endlinecolor": "#2a3f5f",
             "gridcolor": "white",
             "linecolor": "white",
             "minorgridcolor": "white",
             "startlinecolor": "#2a3f5f"
            },
            "baxis": {
             "endlinecolor": "#2a3f5f",
             "gridcolor": "white",
             "linecolor": "white",
             "minorgridcolor": "white",
             "startlinecolor": "#2a3f5f"
            },
            "type": "carpet"
           }
          ],
          "choropleth": [
           {
            "colorbar": {
             "outlinewidth": 0,
             "ticks": ""
            },
            "type": "choropleth"
           }
          ],
          "contour": [
           {
            "colorbar": {
             "outlinewidth": 0,
             "ticks": ""
            },
            "colorscale": [
             [
              0,
              "#0d0887"
             ],
             [
              0.1111111111111111,
              "#46039f"
             ],
             [
              0.2222222222222222,
              "#7201a8"
             ],
             [
              0.3333333333333333,
              "#9c179e"
             ],
             [
              0.4444444444444444,
              "#bd3786"
             ],
             [
              0.5555555555555556,
              "#d8576b"
             ],
             [
              0.6666666666666666,
              "#ed7953"
             ],
             [
              0.7777777777777778,
              "#fb9f3a"
             ],
             [
              0.8888888888888888,
              "#fdca26"
             ],
             [
              1,
              "#f0f921"
             ]
            ],
            "type": "contour"
           }
          ],
          "contourcarpet": [
           {
            "colorbar": {
             "outlinewidth": 0,
             "ticks": ""
            },
            "type": "contourcarpet"
           }
          ],
          "heatmap": [
           {
            "colorbar": {
             "outlinewidth": 0,
             "ticks": ""
            },
            "colorscale": [
             [
              0,
              "#0d0887"
             ],
             [
              0.1111111111111111,
              "#46039f"
             ],
             [
              0.2222222222222222,
              "#7201a8"
             ],
             [
              0.3333333333333333,
              "#9c179e"
             ],
             [
              0.4444444444444444,
              "#bd3786"
             ],
             [
              0.5555555555555556,
              "#d8576b"
             ],
             [
              0.6666666666666666,
              "#ed7953"
             ],
             [
              0.7777777777777778,
              "#fb9f3a"
             ],
             [
              0.8888888888888888,
              "#fdca26"
             ],
             [
              1,
              "#f0f921"
             ]
            ],
            "type": "heatmap"
           }
          ],
          "heatmapgl": [
           {
            "colorbar": {
             "outlinewidth": 0,
             "ticks": ""
            },
            "colorscale": [
             [
              0,
              "#0d0887"
             ],
             [
              0.1111111111111111,
              "#46039f"
             ],
             [
              0.2222222222222222,
              "#7201a8"
             ],
             [
              0.3333333333333333,
              "#9c179e"
             ],
             [
              0.4444444444444444,
              "#bd3786"
             ],
             [
              0.5555555555555556,
              "#d8576b"
             ],
             [
              0.6666666666666666,
              "#ed7953"
             ],
             [
              0.7777777777777778,
              "#fb9f3a"
             ],
             [
              0.8888888888888888,
              "#fdca26"
             ],
             [
              1,
              "#f0f921"
             ]
            ],
            "type": "heatmapgl"
           }
          ],
          "histogram": [
           {
            "marker": {
             "pattern": {
              "fillmode": "overlay",
              "size": 10,
              "solidity": 0.2
             }
            },
            "type": "histogram"
           }
          ],
          "histogram2d": [
           {
            "colorbar": {
             "outlinewidth": 0,
             "ticks": ""
            },
            "colorscale": [
             [
              0,
              "#0d0887"
             ],
             [
              0.1111111111111111,
              "#46039f"
             ],
             [
              0.2222222222222222,
              "#7201a8"
             ],
             [
              0.3333333333333333,
              "#9c179e"
             ],
             [
              0.4444444444444444,
              "#bd3786"
             ],
             [
              0.5555555555555556,
              "#d8576b"
             ],
             [
              0.6666666666666666,
              "#ed7953"
             ],
             [
              0.7777777777777778,
              "#fb9f3a"
             ],
             [
              0.8888888888888888,
              "#fdca26"
             ],
             [
              1,
              "#f0f921"
             ]
            ],
            "type": "histogram2d"
           }
          ],
          "histogram2dcontour": [
           {
            "colorbar": {
             "outlinewidth": 0,
             "ticks": ""
            },
            "colorscale": [
             [
              0,
              "#0d0887"
             ],
             [
              0.1111111111111111,
              "#46039f"
             ],
             [
              0.2222222222222222,
              "#7201a8"
             ],
             [
              0.3333333333333333,
              "#9c179e"
             ],
             [
              0.4444444444444444,
              "#bd3786"
             ],
             [
              0.5555555555555556,
              "#d8576b"
             ],
             [
              0.6666666666666666,
              "#ed7953"
             ],
             [
              0.7777777777777778,
              "#fb9f3a"
             ],
             [
              0.8888888888888888,
              "#fdca26"
             ],
             [
              1,
              "#f0f921"
             ]
            ],
            "type": "histogram2dcontour"
           }
          ],
          "mesh3d": [
           {
            "colorbar": {
             "outlinewidth": 0,
             "ticks": ""
            },
            "type": "mesh3d"
           }
          ],
          "parcoords": [
           {
            "line": {
             "colorbar": {
              "outlinewidth": 0,
              "ticks": ""
             }
            },
            "type": "parcoords"
           }
          ],
          "pie": [
           {
            "automargin": true,
            "type": "pie"
           }
          ],
          "scatter": [
           {
            "fillpattern": {
             "fillmode": "overlay",
             "size": 10,
             "solidity": 0.2
            },
            "type": "scatter"
           }
          ],
          "scatter3d": [
           {
            "line": {
             "colorbar": {
              "outlinewidth": 0,
              "ticks": ""
             }
            },
            "marker": {
             "colorbar": {
              "outlinewidth": 0,
              "ticks": ""
             }
            },
            "type": "scatter3d"
           }
          ],
          "scattercarpet": [
           {
            "marker": {
             "colorbar": {
              "outlinewidth": 0,
              "ticks": ""
             }
            },
            "type": "scattercarpet"
           }
          ],
          "scattergeo": [
           {
            "marker": {
             "colorbar": {
              "outlinewidth": 0,
              "ticks": ""
             }
            },
            "type": "scattergeo"
           }
          ],
          "scattergl": [
           {
            "marker": {
             "colorbar": {
              "outlinewidth": 0,
              "ticks": ""
             }
            },
            "type": "scattergl"
           }
          ],
          "scattermapbox": [
           {
            "marker": {
             "colorbar": {
              "outlinewidth": 0,
              "ticks": ""
             }
            },
            "type": "scattermapbox"
           }
          ],
          "scatterpolar": [
           {
            "marker": {
             "colorbar": {
              "outlinewidth": 0,
              "ticks": ""
             }
            },
            "type": "scatterpolar"
           }
          ],
          "scatterpolargl": [
           {
            "marker": {
             "colorbar": {
              "outlinewidth": 0,
              "ticks": ""
             }
            },
            "type": "scatterpolargl"
           }
          ],
          "scatterternary": [
           {
            "marker": {
             "colorbar": {
              "outlinewidth": 0,
              "ticks": ""
             }
            },
            "type": "scatterternary"
           }
          ],
          "surface": [
           {
            "colorbar": {
             "outlinewidth": 0,
             "ticks": ""
            },
            "colorscale": [
             [
              0,
              "#0d0887"
             ],
             [
              0.1111111111111111,
              "#46039f"
             ],
             [
              0.2222222222222222,
              "#7201a8"
             ],
             [
              0.3333333333333333,
              "#9c179e"
             ],
             [
              0.4444444444444444,
              "#bd3786"
             ],
             [
              0.5555555555555556,
              "#d8576b"
             ],
             [
              0.6666666666666666,
              "#ed7953"
             ],
             [
              0.7777777777777778,
              "#fb9f3a"
             ],
             [
              0.8888888888888888,
              "#fdca26"
             ],
             [
              1,
              "#f0f921"
             ]
            ],
            "type": "surface"
           }
          ],
          "table": [
           {
            "cells": {
             "fill": {
              "color": "#EBF0F8"
             },
             "line": {
              "color": "white"
             }
            },
            "header": {
             "fill": {
              "color": "#C8D4E3"
             },
             "line": {
              "color": "white"
             }
            },
            "type": "table"
           }
          ]
         },
         "layout": {
          "annotationdefaults": {
           "arrowcolor": "#2a3f5f",
           "arrowhead": 0,
           "arrowwidth": 1
          },
          "autotypenumbers": "strict",
          "coloraxis": {
           "colorbar": {
            "outlinewidth": 0,
            "ticks": ""
           }
          },
          "colorscale": {
           "diverging": [
            [
             0,
             "#8e0152"
            ],
            [
             0.1,
             "#c51b7d"
            ],
            [
             0.2,
             "#de77ae"
            ],
            [
             0.3,
             "#f1b6da"
            ],
            [
             0.4,
             "#fde0ef"
            ],
            [
             0.5,
             "#f7f7f7"
            ],
            [
             0.6,
             "#e6f5d0"
            ],
            [
             0.7,
             "#b8e186"
            ],
            [
             0.8,
             "#7fbc41"
            ],
            [
             0.9,
             "#4d9221"
            ],
            [
             1,
             "#276419"
            ]
           ],
           "sequential": [
            [
             0,
             "#0d0887"
            ],
            [
             0.1111111111111111,
             "#46039f"
            ],
            [
             0.2222222222222222,
             "#7201a8"
            ],
            [
             0.3333333333333333,
             "#9c179e"
            ],
            [
             0.4444444444444444,
             "#bd3786"
            ],
            [
             0.5555555555555556,
             "#d8576b"
            ],
            [
             0.6666666666666666,
             "#ed7953"
            ],
            [
             0.7777777777777778,
             "#fb9f3a"
            ],
            [
             0.8888888888888888,
             "#fdca26"
            ],
            [
             1,
             "#f0f921"
            ]
           ],
           "sequentialminus": [
            [
             0,
             "#0d0887"
            ],
            [
             0.1111111111111111,
             "#46039f"
            ],
            [
             0.2222222222222222,
             "#7201a8"
            ],
            [
             0.3333333333333333,
             "#9c179e"
            ],
            [
             0.4444444444444444,
             "#bd3786"
            ],
            [
             0.5555555555555556,
             "#d8576b"
            ],
            [
             0.6666666666666666,
             "#ed7953"
            ],
            [
             0.7777777777777778,
             "#fb9f3a"
            ],
            [
             0.8888888888888888,
             "#fdca26"
            ],
            [
             1,
             "#f0f921"
            ]
           ]
          },
          "colorway": [
           "#636efa",
           "#EF553B",
           "#00cc96",
           "#ab63fa",
           "#FFA15A",
           "#19d3f3",
           "#FF6692",
           "#B6E880",
           "#FF97FF",
           "#FECB52"
          ],
          "font": {
           "color": "#2a3f5f"
          },
          "geo": {
           "bgcolor": "white",
           "lakecolor": "white",
           "landcolor": "#E5ECF6",
           "showlakes": true,
           "showland": true,
           "subunitcolor": "white"
          },
          "hoverlabel": {
           "align": "left"
          },
          "hovermode": "closest",
          "mapbox": {
           "style": "light"
          },
          "paper_bgcolor": "white",
          "plot_bgcolor": "#E5ECF6",
          "polar": {
           "angularaxis": {
            "gridcolor": "white",
            "linecolor": "white",
            "ticks": ""
           },
           "bgcolor": "#E5ECF6",
           "radialaxis": {
            "gridcolor": "white",
            "linecolor": "white",
            "ticks": ""
           }
          },
          "scene": {
           "xaxis": {
            "backgroundcolor": "#E5ECF6",
            "gridcolor": "white",
            "gridwidth": 2,
            "linecolor": "white",
            "showbackground": true,
            "ticks": "",
            "zerolinecolor": "white"
           },
           "yaxis": {
            "backgroundcolor": "#E5ECF6",
            "gridcolor": "white",
            "gridwidth": 2,
            "linecolor": "white",
            "showbackground": true,
            "ticks": "",
            "zerolinecolor": "white"
           },
           "zaxis": {
            "backgroundcolor": "#E5ECF6",
            "gridcolor": "white",
            "gridwidth": 2,
            "linecolor": "white",
            "showbackground": true,
            "ticks": "",
            "zerolinecolor": "white"
           }
          },
          "shapedefaults": {
           "line": {
            "color": "#2a3f5f"
           }
          },
          "ternary": {
           "aaxis": {
            "gridcolor": "white",
            "linecolor": "white",
            "ticks": ""
           },
           "baxis": {
            "gridcolor": "white",
            "linecolor": "white",
            "ticks": ""
           },
           "bgcolor": "#E5ECF6",
           "caxis": {
            "gridcolor": "white",
            "linecolor": "white",
            "ticks": ""
           }
          },
          "title": {
           "x": 0.05
          },
          "xaxis": {
           "automargin": true,
           "gridcolor": "white",
           "linecolor": "white",
           "ticks": "",
           "title": {
            "standoff": 15
           },
           "zerolinecolor": "white",
           "zerolinewidth": 2
          },
          "yaxis": {
           "automargin": true,
           "gridcolor": "white",
           "linecolor": "white",
           "ticks": "",
           "title": {
            "standoff": 15
           },
           "zerolinecolor": "white",
           "zerolinewidth": 2
          }
         }
        },
        "title": {
         "text": "Total Encounters by Demographic for Citizenship: VENEZUELA"
        }
       }
      }
     },
     "metadata": {},
     "output_type": "display_data"
    }
   ],
   "source": [
    "venezuela_encounters_by_demographic = encounters_aor_df[encounters_aor_df['Citizenship'] == 'VENEZUELA'].groupby('Demographic')['Encounter Count'].sum()\n",
    "print(venezuela_encounters_by_demographic)\n",
    "\n",
    "# Table with results.\n",
    "import plotly.graph_objects as go\n",
    "# Prepare data for the table\n",
    "table = go.Figure(data=[go.Table(\n",
    "    header=dict(values=[\"Demographic\", \"Total Encounters\"],     \n",
    "                fill_color='paleturquoise',\n",
    "                align='left'),\n",
    "    cells=dict(values=[\n",
    "        venezuela_encounters_by_demographic.index,  # Demographic   \n",
    "        venezuela_encounters_by_demographic.values  # Total Encounters\n",
    "    ],\n",
    "    fill_color='lavender',\n",
    "    align='left'))\n",
    "])\n",
    "table.update_layout(title='Total Encounters by Demographic for Citizenship: VENEZUELA')\n",
    "table.show()"
   ]
  },
  {
   "cell_type": "code",
   "execution_count": 50,
   "id": "dc43f02c",
   "metadata": {},
   "outputs": [
    {
     "name": "stdout",
     "output_type": "stream",
     "text": [
      "Month           APR     AUG     DEC     FEB     JAN     JUL     JUN     MAR  \\\n",
      "Fiscal Year                                                                   \n",
      "2021         196190  231243   92746  115559   95276  233919  207823  192025   \n",
      "2022         262109  251521  205691  190578  186808  238929  247523  250404   \n",
      "2023         276036  304073  302392  213911  209151  245154  211457  259471   \n",
      "2024         247929  158893  370883  256071  242530  170180  204932  246505   \n",
      "\n",
      "Month           MAY     NOV     OCT     SEP  \n",
      "Fiscal Year                                  \n",
      "2021         198459   89072   90585  213622  \n",
      "2022         274992  198553  187136  272338  \n",
      "2023         275166  284624  278317  341392  \n",
      "2024         240924  308605  309024  144666  \n"
     ]
    }
   ],
   "source": [
    "print(encounters_by_year_month)\n"
   ]
  },
  {
   "cell_type": "code",
   "execution_count": 51,
   "id": "9eed9c3f",
   "metadata": {},
   "outputs": [
    {
     "name": "stdout",
     "output_type": "stream",
     "text": [
      "Mean: 163043.25\n",
      "Median: 194107.50\n",
      "Standard Deviation: 60258.34\n",
      "Variance: 3631067214.93\n"
     ]
    }
   ],
   "source": [
    "monthly_counts_2021 = [196190, 231243, 92746, 115559, 95276, 233919, \n",
    "                       207823, 192025, 198459, 89072, 90585, 213622]\n",
    "\n",
    "mean_val = np.mean(monthly_counts_2021)\n",
    "median_val = np.median(monthly_counts_2021)\n",
    "std_dev_val = np.std(monthly_counts_2021, ddof=1)\n",
    "variance_val = np.var(monthly_counts_2021, ddof=1)\n",
    "print(f\"Mean: {mean_val:.2f}\")\n",
    "print(f\"Median: {median_val:.2f}\")\n",
    "print(f\"Standard Deviation: {std_dev_val:.2f}\")\n",
    "print(f\"Variance: {variance_val:.2f}\")"
   ]
  },
  {
   "cell_type": "code",
   "execution_count": 52,
   "id": "368e0092",
   "metadata": {},
   "outputs": [
    {
     "name": "stdout",
     "output_type": "stream",
     "text": [
      "Mean: 230548.5, Median: 243226.0, Standard Deviation: 32847.1585820854, Variance: 1078935826.9166667\n"
     ]
    }
   ],
   "source": [
    "monthly_counts_2022 = [262109, 251521, 205691, 190578, 186808, 238929,\n",
    "                       247523, 250404, 274992, 198553, 187136, 272338]\n",
    "mean_val = np.mean(monthly_counts_2022)\n",
    "median_val = np.median(monthly_counts_2022)\n",
    "std_dev_val = np.std(monthly_counts_2022)\n",
    "variance_val = np.var(monthly_counts_2022)\n",
    "print(f\"Mean: {mean_val}, Median: {median_val}, Standard Deviation: {std_dev_val}, Variance: {variance_val}\")"
   ]
  },
  {
   "cell_type": "code",
   "execution_count": 53,
   "id": "04338aab",
   "metadata": {},
   "outputs": [
    {
     "name": "stdout",
     "output_type": "stream",
     "text": [
      "Mean: 266762.0, Median: 275601.0, Standard Deviation: 39297.381988710986, Variance: 1544284231.1666667\n"
     ]
    }
   ],
   "source": [
    "monthly_counts_2023 = [276036, 304073, 302392, 213911, 209151, 245154, 211457, \n",
    "                       259471, 275166, 284624, 278317, 341392]\n",
    "mean_val = np.mean(monthly_counts_2023)\n",
    "median_val = np.median(monthly_counts_2023)\n",
    "std_dev_val = np.std(monthly_counts_2023)\n",
    "variance_val = np.var(monthly_counts_2023)\n",
    "print(f\"Mean: {mean_val}, Median: {median_val}, Standard Deviation: {std_dev_val}, Variance: {variance_val}\")"
   ]
  },
  {
   "cell_type": "code",
   "execution_count": 54,
   "id": "2b109af9",
   "metadata": {},
   "outputs": [
    {
     "name": "stdout",
     "output_type": "stream",
     "text": [
      "Mean: 241761.83333333334, Median: 244517.5, Standard Deviation: 63709.16955304699, Variance: 4058858285.1388893\n"
     ]
    }
   ],
   "source": [
    "monthly_counts_2024 = [247929, 158893, 370883, 256071, 242530, 170180,\n",
    "                       204932, 246505, 240924, 308605, 309024, 144666]\n",
    "mean_val = np.mean(monthly_counts_2024)\n",
    "median_val = np.median(monthly_counts_2024)\n",
    "std_dev_val = np.std(monthly_counts_2024)\n",
    "variance_val = np.var(monthly_counts_2024)\n",
    "print(f\"Mean: {mean_val}, Median: {median_val}, Standard Deviation: {std_dev_val}, Variance: {variance_val}\")"
   ]
  },
  {
   "cell_type": "code",
   "execution_count": 57,
   "id": "fa4f5baa",
   "metadata": {},
   "outputs": [
    {
     "data": {
      "application/vnd.plotly.v1+json": {
       "config": {
        "plotlyServerURL": "https://plot.ly"
       },
       "data": [
        {
         "hovertemplate": "Demographic=Accompanied Minors<br>Fiscal Year=%{x}<br>Total Encounters=%{y}<extra></extra>",
         "legendgroup": "Accompanied Minors",
         "line": {
          "color": "#636efa",
          "dash": "solid"
         },
         "marker": {
          "symbol": "circle"
         },
         "mode": "lines+markers",
         "name": "Accompanied Minors",
         "orientation": "v",
         "showlegend": true,
         "type": "scatter",
         "x": [
          2021,
          2022,
          2023,
          2024
         ],
         "xaxis": "x",
         "y": [
          3024,
          5985,
          7482,
          5906
         ],
         "yaxis": "y"
        },
        {
         "hovertemplate": "Demographic=FMUA<br>Fiscal Year=%{x}<br>Total Encounters=%{y}<extra></extra>",
         "legendgroup": "FMUA",
         "line": {
          "color": "#EF553B",
          "dash": "solid"
         },
         "marker": {
          "symbol": "circle"
         },
         "mode": "lines+markers",
         "name": "FMUA",
         "orientation": "v",
         "showlegend": true,
         "type": "scatter",
         "x": [
          2021,
          2022,
          2023,
          2024
         ],
         "xaxis": "x",
         "y": [
          483846,
          614023,
          993947,
          996074
         ],
         "yaxis": "y"
        },
        {
         "hovertemplate": "Demographic=Single Adults<br>Fiscal Year=%{x}<br>Total Encounters=%{y}<extra></extra>",
         "legendgroup": "Single Adults",
         "line": {
          "color": "#00cc96",
          "dash": "solid"
         },
         "marker": {
          "symbol": "circle"
         },
         "mode": "lines+markers",
         "name": "Single Adults",
         "orientation": "v",
         "showlegend": true,
         "type": "scatter",
         "x": [
          2021,
          2022,
          2023,
          2024
         ],
         "xaxis": "x",
         "y": [
          1321674,
          1993694,
          2061723,
          1788490
         ],
         "yaxis": "y"
        },
        {
         "hovertemplate": "Demographic=UC / Single Minors<br>Fiscal Year=%{x}<br>Total Encounters=%{y}<extra></extra>",
         "legendgroup": "UC / Single Minors",
         "line": {
          "color": "#ab63fa",
          "dash": "solid"
         },
         "marker": {
          "symbol": "circle"
         },
         "mode": "lines+markers",
         "name": "UC / Single Minors",
         "orientation": "v",
         "showlegend": true,
         "type": "scatter",
         "x": [
          2021,
          2022,
          2023,
          2024
         ],
         "xaxis": "x",
         "y": [
          147975,
          152880,
          137992,
          110672
         ],
         "yaxis": "y"
        }
       ],
       "layout": {
        "legend": {
         "title": {
          "text": "Demographic"
         },
         "tracegroupgap": 0
        },
        "template": {
         "data": {
          "bar": [
           {
            "error_x": {
             "color": "#2a3f5f"
            },
            "error_y": {
             "color": "#2a3f5f"
            },
            "marker": {
             "line": {
              "color": "#E5ECF6",
              "width": 0.5
             },
             "pattern": {
              "fillmode": "overlay",
              "size": 10,
              "solidity": 0.2
             }
            },
            "type": "bar"
           }
          ],
          "barpolar": [
           {
            "marker": {
             "line": {
              "color": "#E5ECF6",
              "width": 0.5
             },
             "pattern": {
              "fillmode": "overlay",
              "size": 10,
              "solidity": 0.2
             }
            },
            "type": "barpolar"
           }
          ],
          "carpet": [
           {
            "aaxis": {
             "endlinecolor": "#2a3f5f",
             "gridcolor": "white",
             "linecolor": "white",
             "minorgridcolor": "white",
             "startlinecolor": "#2a3f5f"
            },
            "baxis": {
             "endlinecolor": "#2a3f5f",
             "gridcolor": "white",
             "linecolor": "white",
             "minorgridcolor": "white",
             "startlinecolor": "#2a3f5f"
            },
            "type": "carpet"
           }
          ],
          "choropleth": [
           {
            "colorbar": {
             "outlinewidth": 0,
             "ticks": ""
            },
            "type": "choropleth"
           }
          ],
          "contour": [
           {
            "colorbar": {
             "outlinewidth": 0,
             "ticks": ""
            },
            "colorscale": [
             [
              0,
              "#0d0887"
             ],
             [
              0.1111111111111111,
              "#46039f"
             ],
             [
              0.2222222222222222,
              "#7201a8"
             ],
             [
              0.3333333333333333,
              "#9c179e"
             ],
             [
              0.4444444444444444,
              "#bd3786"
             ],
             [
              0.5555555555555556,
              "#d8576b"
             ],
             [
              0.6666666666666666,
              "#ed7953"
             ],
             [
              0.7777777777777778,
              "#fb9f3a"
             ],
             [
              0.8888888888888888,
              "#fdca26"
             ],
             [
              1,
              "#f0f921"
             ]
            ],
            "type": "contour"
           }
          ],
          "contourcarpet": [
           {
            "colorbar": {
             "outlinewidth": 0,
             "ticks": ""
            },
            "type": "contourcarpet"
           }
          ],
          "heatmap": [
           {
            "colorbar": {
             "outlinewidth": 0,
             "ticks": ""
            },
            "colorscale": [
             [
              0,
              "#0d0887"
             ],
             [
              0.1111111111111111,
              "#46039f"
             ],
             [
              0.2222222222222222,
              "#7201a8"
             ],
             [
              0.3333333333333333,
              "#9c179e"
             ],
             [
              0.4444444444444444,
              "#bd3786"
             ],
             [
              0.5555555555555556,
              "#d8576b"
             ],
             [
              0.6666666666666666,
              "#ed7953"
             ],
             [
              0.7777777777777778,
              "#fb9f3a"
             ],
             [
              0.8888888888888888,
              "#fdca26"
             ],
             [
              1,
              "#f0f921"
             ]
            ],
            "type": "heatmap"
           }
          ],
          "heatmapgl": [
           {
            "colorbar": {
             "outlinewidth": 0,
             "ticks": ""
            },
            "colorscale": [
             [
              0,
              "#0d0887"
             ],
             [
              0.1111111111111111,
              "#46039f"
             ],
             [
              0.2222222222222222,
              "#7201a8"
             ],
             [
              0.3333333333333333,
              "#9c179e"
             ],
             [
              0.4444444444444444,
              "#bd3786"
             ],
             [
              0.5555555555555556,
              "#d8576b"
             ],
             [
              0.6666666666666666,
              "#ed7953"
             ],
             [
              0.7777777777777778,
              "#fb9f3a"
             ],
             [
              0.8888888888888888,
              "#fdca26"
             ],
             [
              1,
              "#f0f921"
             ]
            ],
            "type": "heatmapgl"
           }
          ],
          "histogram": [
           {
            "marker": {
             "pattern": {
              "fillmode": "overlay",
              "size": 10,
              "solidity": 0.2
             }
            },
            "type": "histogram"
           }
          ],
          "histogram2d": [
           {
            "colorbar": {
             "outlinewidth": 0,
             "ticks": ""
            },
            "colorscale": [
             [
              0,
              "#0d0887"
             ],
             [
              0.1111111111111111,
              "#46039f"
             ],
             [
              0.2222222222222222,
              "#7201a8"
             ],
             [
              0.3333333333333333,
              "#9c179e"
             ],
             [
              0.4444444444444444,
              "#bd3786"
             ],
             [
              0.5555555555555556,
              "#d8576b"
             ],
             [
              0.6666666666666666,
              "#ed7953"
             ],
             [
              0.7777777777777778,
              "#fb9f3a"
             ],
             [
              0.8888888888888888,
              "#fdca26"
             ],
             [
              1,
              "#f0f921"
             ]
            ],
            "type": "histogram2d"
           }
          ],
          "histogram2dcontour": [
           {
            "colorbar": {
             "outlinewidth": 0,
             "ticks": ""
            },
            "colorscale": [
             [
              0,
              "#0d0887"
             ],
             [
              0.1111111111111111,
              "#46039f"
             ],
             [
              0.2222222222222222,
              "#7201a8"
             ],
             [
              0.3333333333333333,
              "#9c179e"
             ],
             [
              0.4444444444444444,
              "#bd3786"
             ],
             [
              0.5555555555555556,
              "#d8576b"
             ],
             [
              0.6666666666666666,
              "#ed7953"
             ],
             [
              0.7777777777777778,
              "#fb9f3a"
             ],
             [
              0.8888888888888888,
              "#fdca26"
             ],
             [
              1,
              "#f0f921"
             ]
            ],
            "type": "histogram2dcontour"
           }
          ],
          "mesh3d": [
           {
            "colorbar": {
             "outlinewidth": 0,
             "ticks": ""
            },
            "type": "mesh3d"
           }
          ],
          "parcoords": [
           {
            "line": {
             "colorbar": {
              "outlinewidth": 0,
              "ticks": ""
             }
            },
            "type": "parcoords"
           }
          ],
          "pie": [
           {
            "automargin": true,
            "type": "pie"
           }
          ],
          "scatter": [
           {
            "fillpattern": {
             "fillmode": "overlay",
             "size": 10,
             "solidity": 0.2
            },
            "type": "scatter"
           }
          ],
          "scatter3d": [
           {
            "line": {
             "colorbar": {
              "outlinewidth": 0,
              "ticks": ""
             }
            },
            "marker": {
             "colorbar": {
              "outlinewidth": 0,
              "ticks": ""
             }
            },
            "type": "scatter3d"
           }
          ],
          "scattercarpet": [
           {
            "marker": {
             "colorbar": {
              "outlinewidth": 0,
              "ticks": ""
             }
            },
            "type": "scattercarpet"
           }
          ],
          "scattergeo": [
           {
            "marker": {
             "colorbar": {
              "outlinewidth": 0,
              "ticks": ""
             }
            },
            "type": "scattergeo"
           }
          ],
          "scattergl": [
           {
            "marker": {
             "colorbar": {
              "outlinewidth": 0,
              "ticks": ""
             }
            },
            "type": "scattergl"
           }
          ],
          "scattermapbox": [
           {
            "marker": {
             "colorbar": {
              "outlinewidth": 0,
              "ticks": ""
             }
            },
            "type": "scattermapbox"
           }
          ],
          "scatterpolar": [
           {
            "marker": {
             "colorbar": {
              "outlinewidth": 0,
              "ticks": ""
             }
            },
            "type": "scatterpolar"
           }
          ],
          "scatterpolargl": [
           {
            "marker": {
             "colorbar": {
              "outlinewidth": 0,
              "ticks": ""
             }
            },
            "type": "scatterpolargl"
           }
          ],
          "scatterternary": [
           {
            "marker": {
             "colorbar": {
              "outlinewidth": 0,
              "ticks": ""
             }
            },
            "type": "scatterternary"
           }
          ],
          "surface": [
           {
            "colorbar": {
             "outlinewidth": 0,
             "ticks": ""
            },
            "colorscale": [
             [
              0,
              "#0d0887"
             ],
             [
              0.1111111111111111,
              "#46039f"
             ],
             [
              0.2222222222222222,
              "#7201a8"
             ],
             [
              0.3333333333333333,
              "#9c179e"
             ],
             [
              0.4444444444444444,
              "#bd3786"
             ],
             [
              0.5555555555555556,
              "#d8576b"
             ],
             [
              0.6666666666666666,
              "#ed7953"
             ],
             [
              0.7777777777777778,
              "#fb9f3a"
             ],
             [
              0.8888888888888888,
              "#fdca26"
             ],
             [
              1,
              "#f0f921"
             ]
            ],
            "type": "surface"
           }
          ],
          "table": [
           {
            "cells": {
             "fill": {
              "color": "#EBF0F8"
             },
             "line": {
              "color": "white"
             }
            },
            "header": {
             "fill": {
              "color": "#C8D4E3"
             },
             "line": {
              "color": "white"
             }
            },
            "type": "table"
           }
          ]
         },
         "layout": {
          "annotationdefaults": {
           "arrowcolor": "#2a3f5f",
           "arrowhead": 0,
           "arrowwidth": 1
          },
          "autotypenumbers": "strict",
          "coloraxis": {
           "colorbar": {
            "outlinewidth": 0,
            "ticks": ""
           }
          },
          "colorscale": {
           "diverging": [
            [
             0,
             "#8e0152"
            ],
            [
             0.1,
             "#c51b7d"
            ],
            [
             0.2,
             "#de77ae"
            ],
            [
             0.3,
             "#f1b6da"
            ],
            [
             0.4,
             "#fde0ef"
            ],
            [
             0.5,
             "#f7f7f7"
            ],
            [
             0.6,
             "#e6f5d0"
            ],
            [
             0.7,
             "#b8e186"
            ],
            [
             0.8,
             "#7fbc41"
            ],
            [
             0.9,
             "#4d9221"
            ],
            [
             1,
             "#276419"
            ]
           ],
           "sequential": [
            [
             0,
             "#0d0887"
            ],
            [
             0.1111111111111111,
             "#46039f"
            ],
            [
             0.2222222222222222,
             "#7201a8"
            ],
            [
             0.3333333333333333,
             "#9c179e"
            ],
            [
             0.4444444444444444,
             "#bd3786"
            ],
            [
             0.5555555555555556,
             "#d8576b"
            ],
            [
             0.6666666666666666,
             "#ed7953"
            ],
            [
             0.7777777777777778,
             "#fb9f3a"
            ],
            [
             0.8888888888888888,
             "#fdca26"
            ],
            [
             1,
             "#f0f921"
            ]
           ],
           "sequentialminus": [
            [
             0,
             "#0d0887"
            ],
            [
             0.1111111111111111,
             "#46039f"
            ],
            [
             0.2222222222222222,
             "#7201a8"
            ],
            [
             0.3333333333333333,
             "#9c179e"
            ],
            [
             0.4444444444444444,
             "#bd3786"
            ],
            [
             0.5555555555555556,
             "#d8576b"
            ],
            [
             0.6666666666666666,
             "#ed7953"
            ],
            [
             0.7777777777777778,
             "#fb9f3a"
            ],
            [
             0.8888888888888888,
             "#fdca26"
            ],
            [
             1,
             "#f0f921"
            ]
           ]
          },
          "colorway": [
           "#636efa",
           "#EF553B",
           "#00cc96",
           "#ab63fa",
           "#FFA15A",
           "#19d3f3",
           "#FF6692",
           "#B6E880",
           "#FF97FF",
           "#FECB52"
          ],
          "font": {
           "color": "#2a3f5f"
          },
          "geo": {
           "bgcolor": "white",
           "lakecolor": "white",
           "landcolor": "#E5ECF6",
           "showlakes": true,
           "showland": true,
           "subunitcolor": "white"
          },
          "hoverlabel": {
           "align": "left"
          },
          "hovermode": "closest",
          "mapbox": {
           "style": "light"
          },
          "paper_bgcolor": "white",
          "plot_bgcolor": "#E5ECF6",
          "polar": {
           "angularaxis": {
            "gridcolor": "white",
            "linecolor": "white",
            "ticks": ""
           },
           "bgcolor": "#E5ECF6",
           "radialaxis": {
            "gridcolor": "white",
            "linecolor": "white",
            "ticks": ""
           }
          },
          "scene": {
           "xaxis": {
            "backgroundcolor": "#E5ECF6",
            "gridcolor": "white",
            "gridwidth": 2,
            "linecolor": "white",
            "showbackground": true,
            "ticks": "",
            "zerolinecolor": "white"
           },
           "yaxis": {
            "backgroundcolor": "#E5ECF6",
            "gridcolor": "white",
            "gridwidth": 2,
            "linecolor": "white",
            "showbackground": true,
            "ticks": "",
            "zerolinecolor": "white"
           },
           "zaxis": {
            "backgroundcolor": "#E5ECF6",
            "gridcolor": "white",
            "gridwidth": 2,
            "linecolor": "white",
            "showbackground": true,
            "ticks": "",
            "zerolinecolor": "white"
           }
          },
          "shapedefaults": {
           "line": {
            "color": "#2a3f5f"
           }
          },
          "ternary": {
           "aaxis": {
            "gridcolor": "white",
            "linecolor": "white",
            "ticks": ""
           },
           "baxis": {
            "gridcolor": "white",
            "linecolor": "white",
            "ticks": ""
           },
           "bgcolor": "#E5ECF6",
           "caxis": {
            "gridcolor": "white",
            "linecolor": "white",
            "ticks": ""
           }
          },
          "title": {
           "x": 0.05
          },
          "xaxis": {
           "automargin": true,
           "gridcolor": "white",
           "linecolor": "white",
           "ticks": "",
           "title": {
            "standoff": 15
           },
           "zerolinecolor": "white",
           "zerolinewidth": 2
          },
          "yaxis": {
           "automargin": true,
           "gridcolor": "white",
           "linecolor": "white",
           "ticks": "",
           "title": {
            "standoff": 15
           },
           "zerolinecolor": "white",
           "zerolinewidth": 2
          }
         }
        },
        "title": {
         "text": "Yearly Trend of Total Encounters by Demographic"
        },
        "xaxis": {
         "anchor": "y",
         "domain": [
          0,
          1
         ],
         "title": {
          "text": "Fiscal Year FY21-FY24"
         }
        },
        "yaxis": {
         "anchor": "x",
         "domain": [
          0,
          1
         ],
         "title": {
          "text": "Total Encounters"
         }
        }
       }
      }
     },
     "metadata": {},
     "output_type": "display_data"
    },
    {
     "data": {
      "application/vnd.plotly.v1+json": {
       "config": {
        "plotlyServerURL": "https://plot.ly"
       },
       "data": [
        {
         "cells": {
          "align": "left",
          "fill": {
           "color": "lavender"
          },
          "values": [
           [
            2021,
            2022,
            2023,
            2024
           ],
           [
            "Accompanied Minors",
            "FMUA",
            "Single Adults",
            "UC / Single Minors",
            "Mean",
            "Median",
            "Standard Deviation",
            "Variance",
            "Max",
            "Min"
           ],
           [
            3024,
            5985,
            7482,
            5906
           ],
           [
            489129.75,
            691645.5,
            800286,
            725285.5
           ],
           [
            315910.5,
            383451.5,
            565969.5,
            553373
           ],
           [
            590435.77,
            905861.31,
            947962.62,
            836458.18
           ],
           [
            348614403284.25,
            820584711369.67,
            898633137580.67,
            699662279985
           ],
           [
            1321674,
            1993694,
            2061723,
            1788490
           ],
           [
            3024,
            5985,
            7482,
            5906
           ]
          ]
         },
         "header": {
          "align": "left",
          "fill": {
           "color": "paleturquoise"
          },
          "values": [
           "Fiscal Year",
           "Demographic",
           "Sum",
           "Mean",
           "Median",
           "Standard Deviation",
           "Variance",
           "Max",
           "Min"
          ]
         },
         "type": "table"
        }
       ],
       "layout": {
        "template": {
         "data": {
          "bar": [
           {
            "error_x": {
             "color": "#2a3f5f"
            },
            "error_y": {
             "color": "#2a3f5f"
            },
            "marker": {
             "line": {
              "color": "#E5ECF6",
              "width": 0.5
             },
             "pattern": {
              "fillmode": "overlay",
              "size": 10,
              "solidity": 0.2
             }
            },
            "type": "bar"
           }
          ],
          "barpolar": [
           {
            "marker": {
             "line": {
              "color": "#E5ECF6",
              "width": 0.5
             },
             "pattern": {
              "fillmode": "overlay",
              "size": 10,
              "solidity": 0.2
             }
            },
            "type": "barpolar"
           }
          ],
          "carpet": [
           {
            "aaxis": {
             "endlinecolor": "#2a3f5f",
             "gridcolor": "white",
             "linecolor": "white",
             "minorgridcolor": "white",
             "startlinecolor": "#2a3f5f"
            },
            "baxis": {
             "endlinecolor": "#2a3f5f",
             "gridcolor": "white",
             "linecolor": "white",
             "minorgridcolor": "white",
             "startlinecolor": "#2a3f5f"
            },
            "type": "carpet"
           }
          ],
          "choropleth": [
           {
            "colorbar": {
             "outlinewidth": 0,
             "ticks": ""
            },
            "type": "choropleth"
           }
          ],
          "contour": [
           {
            "colorbar": {
             "outlinewidth": 0,
             "ticks": ""
            },
            "colorscale": [
             [
              0,
              "#0d0887"
             ],
             [
              0.1111111111111111,
              "#46039f"
             ],
             [
              0.2222222222222222,
              "#7201a8"
             ],
             [
              0.3333333333333333,
              "#9c179e"
             ],
             [
              0.4444444444444444,
              "#bd3786"
             ],
             [
              0.5555555555555556,
              "#d8576b"
             ],
             [
              0.6666666666666666,
              "#ed7953"
             ],
             [
              0.7777777777777778,
              "#fb9f3a"
             ],
             [
              0.8888888888888888,
              "#fdca26"
             ],
             [
              1,
              "#f0f921"
             ]
            ],
            "type": "contour"
           }
          ],
          "contourcarpet": [
           {
            "colorbar": {
             "outlinewidth": 0,
             "ticks": ""
            },
            "type": "contourcarpet"
           }
          ],
          "heatmap": [
           {
            "colorbar": {
             "outlinewidth": 0,
             "ticks": ""
            },
            "colorscale": [
             [
              0,
              "#0d0887"
             ],
             [
              0.1111111111111111,
              "#46039f"
             ],
             [
              0.2222222222222222,
              "#7201a8"
             ],
             [
              0.3333333333333333,
              "#9c179e"
             ],
             [
              0.4444444444444444,
              "#bd3786"
             ],
             [
              0.5555555555555556,
              "#d8576b"
             ],
             [
              0.6666666666666666,
              "#ed7953"
             ],
             [
              0.7777777777777778,
              "#fb9f3a"
             ],
             [
              0.8888888888888888,
              "#fdca26"
             ],
             [
              1,
              "#f0f921"
             ]
            ],
            "type": "heatmap"
           }
          ],
          "heatmapgl": [
           {
            "colorbar": {
             "outlinewidth": 0,
             "ticks": ""
            },
            "colorscale": [
             [
              0,
              "#0d0887"
             ],
             [
              0.1111111111111111,
              "#46039f"
             ],
             [
              0.2222222222222222,
              "#7201a8"
             ],
             [
              0.3333333333333333,
              "#9c179e"
             ],
             [
              0.4444444444444444,
              "#bd3786"
             ],
             [
              0.5555555555555556,
              "#d8576b"
             ],
             [
              0.6666666666666666,
              "#ed7953"
             ],
             [
              0.7777777777777778,
              "#fb9f3a"
             ],
             [
              0.8888888888888888,
              "#fdca26"
             ],
             [
              1,
              "#f0f921"
             ]
            ],
            "type": "heatmapgl"
           }
          ],
          "histogram": [
           {
            "marker": {
             "pattern": {
              "fillmode": "overlay",
              "size": 10,
              "solidity": 0.2
             }
            },
            "type": "histogram"
           }
          ],
          "histogram2d": [
           {
            "colorbar": {
             "outlinewidth": 0,
             "ticks": ""
            },
            "colorscale": [
             [
              0,
              "#0d0887"
             ],
             [
              0.1111111111111111,
              "#46039f"
             ],
             [
              0.2222222222222222,
              "#7201a8"
             ],
             [
              0.3333333333333333,
              "#9c179e"
             ],
             [
              0.4444444444444444,
              "#bd3786"
             ],
             [
              0.5555555555555556,
              "#d8576b"
             ],
             [
              0.6666666666666666,
              "#ed7953"
             ],
             [
              0.7777777777777778,
              "#fb9f3a"
             ],
             [
              0.8888888888888888,
              "#fdca26"
             ],
             [
              1,
              "#f0f921"
             ]
            ],
            "type": "histogram2d"
           }
          ],
          "histogram2dcontour": [
           {
            "colorbar": {
             "outlinewidth": 0,
             "ticks": ""
            },
            "colorscale": [
             [
              0,
              "#0d0887"
             ],
             [
              0.1111111111111111,
              "#46039f"
             ],
             [
              0.2222222222222222,
              "#7201a8"
             ],
             [
              0.3333333333333333,
              "#9c179e"
             ],
             [
              0.4444444444444444,
              "#bd3786"
             ],
             [
              0.5555555555555556,
              "#d8576b"
             ],
             [
              0.6666666666666666,
              "#ed7953"
             ],
             [
              0.7777777777777778,
              "#fb9f3a"
             ],
             [
              0.8888888888888888,
              "#fdca26"
             ],
             [
              1,
              "#f0f921"
             ]
            ],
            "type": "histogram2dcontour"
           }
          ],
          "mesh3d": [
           {
            "colorbar": {
             "outlinewidth": 0,
             "ticks": ""
            },
            "type": "mesh3d"
           }
          ],
          "parcoords": [
           {
            "line": {
             "colorbar": {
              "outlinewidth": 0,
              "ticks": ""
             }
            },
            "type": "parcoords"
           }
          ],
          "pie": [
           {
            "automargin": true,
            "type": "pie"
           }
          ],
          "scatter": [
           {
            "fillpattern": {
             "fillmode": "overlay",
             "size": 10,
             "solidity": 0.2
            },
            "type": "scatter"
           }
          ],
          "scatter3d": [
           {
            "line": {
             "colorbar": {
              "outlinewidth": 0,
              "ticks": ""
             }
            },
            "marker": {
             "colorbar": {
              "outlinewidth": 0,
              "ticks": ""
             }
            },
            "type": "scatter3d"
           }
          ],
          "scattercarpet": [
           {
            "marker": {
             "colorbar": {
              "outlinewidth": 0,
              "ticks": ""
             }
            },
            "type": "scattercarpet"
           }
          ],
          "scattergeo": [
           {
            "marker": {
             "colorbar": {
              "outlinewidth": 0,
              "ticks": ""
             }
            },
            "type": "scattergeo"
           }
          ],
          "scattergl": [
           {
            "marker": {
             "colorbar": {
              "outlinewidth": 0,
              "ticks": ""
             }
            },
            "type": "scattergl"
           }
          ],
          "scattermapbox": [
           {
            "marker": {
             "colorbar": {
              "outlinewidth": 0,
              "ticks": ""
             }
            },
            "type": "scattermapbox"
           }
          ],
          "scatterpolar": [
           {
            "marker": {
             "colorbar": {
              "outlinewidth": 0,
              "ticks": ""
             }
            },
            "type": "scatterpolar"
           }
          ],
          "scatterpolargl": [
           {
            "marker": {
             "colorbar": {
              "outlinewidth": 0,
              "ticks": ""
             }
            },
            "type": "scatterpolargl"
           }
          ],
          "scatterternary": [
           {
            "marker": {
             "colorbar": {
              "outlinewidth": 0,
              "ticks": ""
             }
            },
            "type": "scatterternary"
           }
          ],
          "surface": [
           {
            "colorbar": {
             "outlinewidth": 0,
             "ticks": ""
            },
            "colorscale": [
             [
              0,
              "#0d0887"
             ],
             [
              0.1111111111111111,
              "#46039f"
             ],
             [
              0.2222222222222222,
              "#7201a8"
             ],
             [
              0.3333333333333333,
              "#9c179e"
             ],
             [
              0.4444444444444444,
              "#bd3786"
             ],
             [
              0.5555555555555556,
              "#d8576b"
             ],
             [
              0.6666666666666666,
              "#ed7953"
             ],
             [
              0.7777777777777778,
              "#fb9f3a"
             ],
             [
              0.8888888888888888,
              "#fdca26"
             ],
             [
              1,
              "#f0f921"
             ]
            ],
            "type": "surface"
           }
          ],
          "table": [
           {
            "cells": {
             "fill": {
              "color": "#EBF0F8"
             },
             "line": {
              "color": "white"
             }
            },
            "header": {
             "fill": {
              "color": "#C8D4E3"
             },
             "line": {
              "color": "white"
             }
            },
            "type": "table"
           }
          ]
         },
         "layout": {
          "annotationdefaults": {
           "arrowcolor": "#2a3f5f",
           "arrowhead": 0,
           "arrowwidth": 1
          },
          "autotypenumbers": "strict",
          "coloraxis": {
           "colorbar": {
            "outlinewidth": 0,
            "ticks": ""
           }
          },
          "colorscale": {
           "diverging": [
            [
             0,
             "#8e0152"
            ],
            [
             0.1,
             "#c51b7d"
            ],
            [
             0.2,
             "#de77ae"
            ],
            [
             0.3,
             "#f1b6da"
            ],
            [
             0.4,
             "#fde0ef"
            ],
            [
             0.5,
             "#f7f7f7"
            ],
            [
             0.6,
             "#e6f5d0"
            ],
            [
             0.7,
             "#b8e186"
            ],
            [
             0.8,
             "#7fbc41"
            ],
            [
             0.9,
             "#4d9221"
            ],
            [
             1,
             "#276419"
            ]
           ],
           "sequential": [
            [
             0,
             "#0d0887"
            ],
            [
             0.1111111111111111,
             "#46039f"
            ],
            [
             0.2222222222222222,
             "#7201a8"
            ],
            [
             0.3333333333333333,
             "#9c179e"
            ],
            [
             0.4444444444444444,
             "#bd3786"
            ],
            [
             0.5555555555555556,
             "#d8576b"
            ],
            [
             0.6666666666666666,
             "#ed7953"
            ],
            [
             0.7777777777777778,
             "#fb9f3a"
            ],
            [
             0.8888888888888888,
             "#fdca26"
            ],
            [
             1,
             "#f0f921"
            ]
           ],
           "sequentialminus": [
            [
             0,
             "#0d0887"
            ],
            [
             0.1111111111111111,
             "#46039f"
            ],
            [
             0.2222222222222222,
             "#7201a8"
            ],
            [
             0.3333333333333333,
             "#9c179e"
            ],
            [
             0.4444444444444444,
             "#bd3786"
            ],
            [
             0.5555555555555556,
             "#d8576b"
            ],
            [
             0.6666666666666666,
             "#ed7953"
            ],
            [
             0.7777777777777778,
             "#fb9f3a"
            ],
            [
             0.8888888888888888,
             "#fdca26"
            ],
            [
             1,
             "#f0f921"
            ]
           ]
          },
          "colorway": [
           "#636efa",
           "#EF553B",
           "#00cc96",
           "#ab63fa",
           "#FFA15A",
           "#19d3f3",
           "#FF6692",
           "#B6E880",
           "#FF97FF",
           "#FECB52"
          ],
          "font": {
           "color": "#2a3f5f"
          },
          "geo": {
           "bgcolor": "white",
           "lakecolor": "white",
           "landcolor": "#E5ECF6",
           "showlakes": true,
           "showland": true,
           "subunitcolor": "white"
          },
          "hoverlabel": {
           "align": "left"
          },
          "hovermode": "closest",
          "mapbox": {
           "style": "light"
          },
          "paper_bgcolor": "white",
          "plot_bgcolor": "#E5ECF6",
          "polar": {
           "angularaxis": {
            "gridcolor": "white",
            "linecolor": "white",
            "ticks": ""
           },
           "bgcolor": "#E5ECF6",
           "radialaxis": {
            "gridcolor": "white",
            "linecolor": "white",
            "ticks": ""
           }
          },
          "scene": {
           "xaxis": {
            "backgroundcolor": "#E5ECF6",
            "gridcolor": "white",
            "gridwidth": 2,
            "linecolor": "white",
            "showbackground": true,
            "ticks": "",
            "zerolinecolor": "white"
           },
           "yaxis": {
            "backgroundcolor": "#E5ECF6",
            "gridcolor": "white",
            "gridwidth": 2,
            "linecolor": "white",
            "showbackground": true,
            "ticks": "",
            "zerolinecolor": "white"
           },
           "zaxis": {
            "backgroundcolor": "#E5ECF6",
            "gridcolor": "white",
            "gridwidth": 2,
            "linecolor": "white",
            "showbackground": true,
            "ticks": "",
            "zerolinecolor": "white"
           }
          },
          "shapedefaults": {
           "line": {
            "color": "#2a3f5f"
           }
          },
          "ternary": {
           "aaxis": {
            "gridcolor": "white",
            "linecolor": "white",
            "ticks": ""
           },
           "baxis": {
            "gridcolor": "white",
            "linecolor": "white",
            "ticks": ""
           },
           "bgcolor": "#E5ECF6",
           "caxis": {
            "gridcolor": "white",
            "linecolor": "white",
            "ticks": ""
           }
          },
          "title": {
           "x": 0.05
          },
          "xaxis": {
           "automargin": true,
           "gridcolor": "white",
           "linecolor": "white",
           "ticks": "",
           "title": {
            "standoff": 15
           },
           "zerolinecolor": "white",
           "zerolinewidth": 2
          },
          "yaxis": {
           "automargin": true,
           "gridcolor": "white",
           "linecolor": "white",
           "ticks": "",
           "title": {
            "standoff": 15
           },
           "zerolinecolor": "white",
           "zerolinewidth": 2
          }
         }
        },
        "title": {
         "text": "Encounter Count Statistics by Fiscal Year and Demographic"
        }
       }
      }
     },
     "metadata": {},
     "output_type": "display_data"
    }
   ],
   "source": [
    "# Crate a chart with the yearly trend line for the sum of encounter count by fiscal year and demographic. Add the sum of encounter count to the table.\n",
    "yearly_trend = encounters_aor_df.groupby(['Fiscal Year', 'Demographic'])['Encounter Count'].sum().unstack(fill_value=0)\n",
    "fig = px.line(yearly_trend.reset_index().melt(id_vars='Fiscal Year', var_name='Demographic', value_name='Encounter Count'),\n",
    "              x='Fiscal Year', y='Encounter Count', color='Demographic',\n",
    "              title='Yearly Trend of Total Encounters by Demographic',\n",
    "              labels={'Encounter Count': 'Total Encounters', 'Fiscal Year': 'Fiscal Year'})\n",
    "fig.update_traces(mode='lines+markers')\n",
    "fig.update_layout(yaxis_title='Total Encounters', xaxis_title='Fiscal Year FY21-FY24')\n",
    "fig.show()\n",
    "# Create a statistics table for the sum of encounter count by fiscal year and demographic. Add mean, median, standard deviation, variance, max, min to the table.\n",
    "yearly_trend_stats = yearly_trend.copy()\n",
    "yearly_trend_stats['Mean'] = yearly_trend.mean(axis=1)\n",
    "yearly_trend_stats['Median'] = yearly_trend.median(axis=1)\n",
    "yearly_trend_stats['Standard Deviation'] = yearly_trend.std(axis=1)\n",
    "yearly_trend_stats['Variance'] = yearly_trend.var(axis=1)\n",
    "yearly_trend_stats['Max'] = yearly_trend.max(axis=1)\n",
    "yearly_trend_stats['Min'] = yearly_trend.min(axis=1)\n",
    "import plotly.graph_objects as go\n",
    "# Prepare data for the table\n",
    "table = go.Figure(data=[go.Table(\n",
    "    header=dict(values=[\"Fiscal Year\", \"Demographic\", \"Sum\", \"Mean\", \"Median\", \"Standard Deviation\", \"Variance\", \"Max\", \"Min\"],\n",
    "                fill_color='paleturquoise',\n",
    "                align='left'),\n",
    "    cells=dict(values=[\n",
    "        yearly_trend_stats.index,  # Fiscal Year\n",
    "        yearly_trend_stats.columns,  # Demographic\n",
    "        yearly_trend_stats.values[:, 0],  # Sum\n",
    "        yearly_trend_stats['Mean'].round(2),  # Mean\n",
    "        yearly_trend_stats['Median'].round(2),  # Median\n",
    "        yearly_trend_stats['Standard Deviation'].round(2),  # Standard Deviation\n",
    "        yearly_trend_stats['Variance'].round(2),  # Variance\n",
    "        yearly_trend_stats['Max'],  # Max\n",
    "        yearly_trend_stats['Min']  # Min\n",
    "    ],\n",
    "    fill_color='lavender',\n",
    "    align='left'))\n",
    "])\n",
    "table.update_layout(title='Encounter Count Statistics by Fiscal Year and Demographic')\n",
    "table.show()\n"
   ]
  }
 ],
 "metadata": {
  "kernelspec": {
   "display_name": "base",
   "language": "python",
   "name": "python3"
  },
  "language_info": {
   "codemirror_mode": {
    "name": "ipython",
    "version": 3
   },
   "file_extension": ".py",
   "mimetype": "text/x-python",
   "name": "python",
   "nbconvert_exporter": "python",
   "pygments_lexer": "ipython3",
   "version": "3.8.8"
  }
 },
 "nbformat": 4,
 "nbformat_minor": 5
}
